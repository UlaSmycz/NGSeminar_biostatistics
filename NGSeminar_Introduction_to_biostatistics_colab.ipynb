{
  "nbformat": 4,
  "nbformat_minor": 0,
  "metadata": {
    "kernelspec": {
      "name": "python3",
      "display_name": "Python 3"
    },
    "toc": {
      "base_numbering": 1,
      "nav_menu": {},
      "number_sections": true,
      "sideBar": true,
      "skip_h1_title": false,
      "title_cell": "Table of Contents",
      "title_sidebar": "Contents",
      "toc_cell": false,
      "toc_position": {
        "height": "calc(100% - 180px)",
        "left": "10px",
        "top": "150px",
        "width": "241.55px"
      },
      "toc_section_display": true,
      "toc_window_display": true
    },
    "colab": {
      "name": "NGSeminar - Introduction to biostatistics - colab.ipynb",
      "provenance": [],
      "collapsed_sections": [],
      "include_colab_link": true
    }
  },
  "cells": [
    {
      "cell_type": "markdown",
      "metadata": {
        "id": "view-in-github",
        "colab_type": "text"
      },
      "source": [
        "<a href=\"https://colab.research.google.com/github/UlaSmycz/NGSeminar_biostatistics/blob/master/NGSeminar_Introduction_to_biostatistics_colab.ipynb\" target=\"_parent\"><img src=\"https://colab.research.google.com/assets/colab-badge.svg\" alt=\"Open In Colab\"/></a>"
      ]
    },
    {
      "cell_type": "markdown",
      "metadata": {
        "id": "306CpsU-wEvp",
        "colab_type": "text"
      },
      "source": [
        "# NGSeminar: Introduction to biostatistics (with Python)\n",
        "\n",
        "**Urszula Smyczyńska**\n",
        "\n",
        "**30.07.2020**"
      ]
    },
    {
      "cell_type": "markdown",
      "metadata": {
        "id": "GwISTg6ZwEvq",
        "colab_type": "text"
      },
      "source": [
        "# Import needed modules"
      ]
    },
    {
      "cell_type": "code",
      "metadata": {
        "id": "_WImfBGjwxUM",
        "colab_type": "code",
        "colab": {
          "base_uri": "https://localhost:8080/",
          "height": 336
        },
        "outputId": "8115cf1c-89db-4b08-96c1-48dd9006321d"
      },
      "source": [
        "!pip install scikit-posthocs\n",
        "!pip install --upgrade scipy"
      ],
      "execution_count": 1,
      "outputs": [
        {
          "output_type": "stream",
          "text": [
            "Requirement already satisfied: scikit-posthocs in /usr/local/lib/python3.6/dist-packages (0.6.4)\n",
            "Requirement already satisfied: seaborn in /usr/local/lib/python3.6/dist-packages (from scikit-posthocs) (0.10.1)\n",
            "Requirement already satisfied: scipy in /usr/local/lib/python3.6/dist-packages (from scikit-posthocs) (1.5.2)\n",
            "Requirement already satisfied: numpy in /usr/local/lib/python3.6/dist-packages (from scikit-posthocs) (1.18.5)\n",
            "Requirement already satisfied: statsmodels in /usr/local/lib/python3.6/dist-packages (from scikit-posthocs) (0.10.2)\n",
            "Requirement already satisfied: pandas>=0.20.0 in /usr/local/lib/python3.6/dist-packages (from scikit-posthocs) (1.0.5)\n",
            "Requirement already satisfied: matplotlib in /usr/local/lib/python3.6/dist-packages (from scikit-posthocs) (3.2.2)\n",
            "Requirement already satisfied: patsy>=0.4.0 in /usr/local/lib/python3.6/dist-packages (from statsmodels->scikit-posthocs) (0.5.1)\n",
            "Requirement already satisfied: pytz>=2017.2 in /usr/local/lib/python3.6/dist-packages (from pandas>=0.20.0->scikit-posthocs) (2018.9)\n",
            "Requirement already satisfied: python-dateutil>=2.6.1 in /usr/local/lib/python3.6/dist-packages (from pandas>=0.20.0->scikit-posthocs) (2.8.1)\n",
            "Requirement already satisfied: pyparsing!=2.0.4,!=2.1.2,!=2.1.6,>=2.0.1 in /usr/local/lib/python3.6/dist-packages (from matplotlib->scikit-posthocs) (2.4.7)\n",
            "Requirement already satisfied: kiwisolver>=1.0.1 in /usr/local/lib/python3.6/dist-packages (from matplotlib->scikit-posthocs) (1.2.0)\n",
            "Requirement already satisfied: cycler>=0.10 in /usr/local/lib/python3.6/dist-packages (from matplotlib->scikit-posthocs) (0.10.0)\n",
            "Requirement already satisfied: six in /usr/local/lib/python3.6/dist-packages (from patsy>=0.4.0->statsmodels->scikit-posthocs) (1.15.0)\n",
            "Requirement already up-to-date: scipy in /usr/local/lib/python3.6/dist-packages (1.5.2)\n",
            "Requirement already satisfied, skipping upgrade: numpy>=1.14.5 in /usr/local/lib/python3.6/dist-packages (from scipy) (1.18.5)\n"
          ],
          "name": "stdout"
        }
      ]
    },
    {
      "cell_type": "code",
      "metadata": {
        "id": "epnAGTjywEvs",
        "colab_type": "code",
        "colab": {
          "base_uri": "https://localhost:8080/",
          "height": 74
        },
        "outputId": "1d05176a-16db-4f75-f8e7-51cc55bfe809"
      },
      "source": [
        "%matplotlib inline\n",
        "import numpy as np\n",
        "import pandas as pd\n",
        "pd.options.display.float_format = '{:,.4f}'.format\n",
        "import matplotlib.pyplot as plt\n",
        "from scipy import stats\n",
        "import scikit_posthocs as posthocs\n",
        "from statsmodels.stats.anova import AnovaRM\n",
        "from statsmodels.stats.multicomp import pairwise_tukeyhsd\n",
        "from statsmodels.stats.multitest import multipletests\n",
        "import itertools\n",
        "import seaborn as sns"
      ],
      "execution_count": 2,
      "outputs": [
        {
          "output_type": "stream",
          "text": [
            "/usr/local/lib/python3.6/dist-packages/statsmodels/tools/_testing.py:19: FutureWarning: pandas.util.testing is deprecated. Use the functions in the public API at pandas.testing instead.\n",
            "  import pandas.util.testing as tm\n"
          ],
          "name": "stderr"
        }
      ]
    },
    {
      "cell_type": "markdown",
      "metadata": {
        "id": "ixvQoBHVwEv1",
        "colab_type": "text"
      },
      "source": [
        "# Read *HCV_Data_Germany_ngseminar* dataset"
      ]
    },
    {
      "cell_type": "markdown",
      "metadata": {
        "id": "ehUIb8kiwEv3",
        "colab_type": "text"
      },
      "source": [
        "It contains data of patients with HCV and healthy people (blood donor).\n",
        "\n",
        "[Dataset](http://archive.ics.uci.edu/ml/datasets/HCV+data) was downloaded from UCI [Machine Learning Repository](http://archive.ics.uci.edu/ml/datasets/HCV+data).\n",
        "\n",
        "It was slightly modified by me for this seminar :).\n",
        "\n",
        "It contains following variables:\n",
        "* **Category** (nominal): \n",
        "    * Blood Donor\n",
        "    * Fibrosis\n",
        "    * Cirrhosis - very advanced, late fibrosis\n",
        "    * Hepatitis - inflamation of liver tissue.\n",
        "* **Healthy** (nominal, that's what I added to have nominal variables with 2 groups):\n",
        "    * YES - for Category: Blood Donor\n",
        "    * NO - for all other case\n",
        "* **Age** (continous, but here it is rounded to integers)\n",
        "* **Sex** (nominal): \n",
        "    * m - man\n",
        "    * f - woman\n",
        "* **ALB** (continous) - albumin. Albumins are globular, water-soluble proteins, commonly found in blood plasma.\n",
        "* **ALP** (continous) - alkaline phosphatase; dephosphorylating enzyme, elevated levels of ALP are often found in patients with liver disease.\n",
        "* **ALT** (continous) - alanine amino-transferase, alanine transaminase; enzyme involved in amino acids metabolism. Elevated ALT indicates health problems, often with liver (hepatitis, liver damage, bile duct problems).\n",
        "* **AST** (continous) - aspartate amino-transferase, aspartate transaminase; enzyme involved in amino acids metabolism. Used to assess liver function, also together with ALT as AST/ALT ratio.\n",
        "* **BIL** (continous) - bilirubin; metabolite produced as a result of breakdown of aged or abnormal red blood cells. It is responsible for yellow discoloration in jaundice. Elevated in patients with hepatitis.\n",
        "* **CHE** (continous) - choline esterase; an enzyme. One of its types is produced mainly in liver and it may be lower in patients liver disease.\n",
        "* **CHOL** (continous) - cholesterol.\n",
        "* **CREA** (continous) - creatinine; metabolite, produced by muscle metabolism, used as marker of kindney function.\n",
        "* **GGT** (continous) – gamma-glutamyl transferase; an enzyme involed, among the others, in xenobiotic detoxification. GGT is elevated in patients with liver disease (or after excess alcohol consumption).\n",
        "* **PROT** (continous) – total protein.\n",
        "\n",
        "We will use only some of them, but explanation for all doesn't harm."
      ]
    },
    {
      "cell_type": "code",
      "metadata": {
        "id": "ys7ds3pIwEv4",
        "colab_type": "code",
        "colab": {
          "base_uri": "https://localhost:8080/",
          "height": 562
        },
        "outputId": "4a076182-6f1a-47a6-ae49-0ae3e5bed234"
      },
      "source": [
        "# hcvDataG = pd.read_csv('HCV_Data_Germany_ngseminar.csv', header = 0, index_col = 0)\n",
        "# display(hcvDataG)\n",
        "\n",
        "url = 'https://raw.githubusercontent.com/UlaSmycz/NGSeminar_biostatistics/master/HCV_Data_Germany_ngseminar.csv'\n",
        "hcvDataG = pd.read_csv(url, header = 0, index_col = 0)\n",
        "display(hcvDataG)"
      ],
      "execution_count": 8,
      "outputs": [
        {
          "output_type": "display_data",
          "data": {
            "text/html": [
              "<div>\n",
              "<style scoped>\n",
              "    .dataframe tbody tr th:only-of-type {\n",
              "        vertical-align: middle;\n",
              "    }\n",
              "\n",
              "    .dataframe tbody tr th {\n",
              "        vertical-align: top;\n",
              "    }\n",
              "\n",
              "    .dataframe thead th {\n",
              "        text-align: right;\n",
              "    }\n",
              "</style>\n",
              "<table border=\"1\" class=\"dataframe\">\n",
              "  <thead>\n",
              "    <tr style=\"text-align: right;\">\n",
              "      <th></th>\n",
              "      <th>Category</th>\n",
              "      <th>Healthy</th>\n",
              "      <th>Age</th>\n",
              "      <th>Sex</th>\n",
              "      <th>ALB</th>\n",
              "      <th>ALP</th>\n",
              "      <th>ALT</th>\n",
              "      <th>AST</th>\n",
              "      <th>BIL</th>\n",
              "      <th>CHE</th>\n",
              "      <th>CHOL</th>\n",
              "      <th>CREA</th>\n",
              "      <th>GGT</th>\n",
              "      <th>PROT</th>\n",
              "    </tr>\n",
              "    <tr>\n",
              "      <th>ID</th>\n",
              "      <th></th>\n",
              "      <th></th>\n",
              "      <th></th>\n",
              "      <th></th>\n",
              "      <th></th>\n",
              "      <th></th>\n",
              "      <th></th>\n",
              "      <th></th>\n",
              "      <th></th>\n",
              "      <th></th>\n",
              "      <th></th>\n",
              "      <th></th>\n",
              "      <th></th>\n",
              "      <th></th>\n",
              "    </tr>\n",
              "  </thead>\n",
              "  <tbody>\n",
              "    <tr>\n",
              "      <th>1</th>\n",
              "      <td>Blood Donor</td>\n",
              "      <td>YES</td>\n",
              "      <td>32</td>\n",
              "      <td>m</td>\n",
              "      <td>38.5000</td>\n",
              "      <td>52.5000</td>\n",
              "      <td>7.7000</td>\n",
              "      <td>22.1000</td>\n",
              "      <td>7.5000</td>\n",
              "      <td>6.9300</td>\n",
              "      <td>3.2300</td>\n",
              "      <td>106.0000</td>\n",
              "      <td>12.1000</td>\n",
              "      <td>69.0000</td>\n",
              "    </tr>\n",
              "    <tr>\n",
              "      <th>2</th>\n",
              "      <td>Blood Donor</td>\n",
              "      <td>YES</td>\n",
              "      <td>32</td>\n",
              "      <td>m</td>\n",
              "      <td>38.5000</td>\n",
              "      <td>70.3000</td>\n",
              "      <td>18.0000</td>\n",
              "      <td>24.7000</td>\n",
              "      <td>3.9000</td>\n",
              "      <td>11.1700</td>\n",
              "      <td>4.8000</td>\n",
              "      <td>74.0000</td>\n",
              "      <td>15.6000</td>\n",
              "      <td>76.5000</td>\n",
              "    </tr>\n",
              "    <tr>\n",
              "      <th>3</th>\n",
              "      <td>Blood Donor</td>\n",
              "      <td>YES</td>\n",
              "      <td>32</td>\n",
              "      <td>m</td>\n",
              "      <td>46.9000</td>\n",
              "      <td>74.7000</td>\n",
              "      <td>36.2000</td>\n",
              "      <td>52.6000</td>\n",
              "      <td>6.1000</td>\n",
              "      <td>8.8400</td>\n",
              "      <td>5.2000</td>\n",
              "      <td>86.0000</td>\n",
              "      <td>33.2000</td>\n",
              "      <td>79.3000</td>\n",
              "    </tr>\n",
              "    <tr>\n",
              "      <th>4</th>\n",
              "      <td>Blood Donor</td>\n",
              "      <td>YES</td>\n",
              "      <td>32</td>\n",
              "      <td>m</td>\n",
              "      <td>43.2000</td>\n",
              "      <td>52.0000</td>\n",
              "      <td>30.6000</td>\n",
              "      <td>22.6000</td>\n",
              "      <td>18.9000</td>\n",
              "      <td>7.3300</td>\n",
              "      <td>4.7400</td>\n",
              "      <td>80.0000</td>\n",
              "      <td>33.8000</td>\n",
              "      <td>75.7000</td>\n",
              "    </tr>\n",
              "    <tr>\n",
              "      <th>5</th>\n",
              "      <td>Blood Donor</td>\n",
              "      <td>YES</td>\n",
              "      <td>32</td>\n",
              "      <td>m</td>\n",
              "      <td>39.2000</td>\n",
              "      <td>74.1000</td>\n",
              "      <td>32.6000</td>\n",
              "      <td>24.8000</td>\n",
              "      <td>9.6000</td>\n",
              "      <td>9.1500</td>\n",
              "      <td>4.3200</td>\n",
              "      <td>76.0000</td>\n",
              "      <td>29.9000</td>\n",
              "      <td>68.7000</td>\n",
              "    </tr>\n",
              "    <tr>\n",
              "      <th>...</th>\n",
              "      <td>...</td>\n",
              "      <td>...</td>\n",
              "      <td>...</td>\n",
              "      <td>...</td>\n",
              "      <td>...</td>\n",
              "      <td>...</td>\n",
              "      <td>...</td>\n",
              "      <td>...</td>\n",
              "      <td>...</td>\n",
              "      <td>...</td>\n",
              "      <td>...</td>\n",
              "      <td>...</td>\n",
              "      <td>...</td>\n",
              "      <td>...</td>\n",
              "    </tr>\n",
              "    <tr>\n",
              "      <th>610</th>\n",
              "      <td>Cirrhosis</td>\n",
              "      <td>NO</td>\n",
              "      <td>59</td>\n",
              "      <td>f</td>\n",
              "      <td>39.0000</td>\n",
              "      <td>51.3000</td>\n",
              "      <td>19.6000</td>\n",
              "      <td>285.8000</td>\n",
              "      <td>40.0000</td>\n",
              "      <td>5.7700</td>\n",
              "      <td>4.5100</td>\n",
              "      <td>136.1000</td>\n",
              "      <td>101.1000</td>\n",
              "      <td>70.5000</td>\n",
              "    </tr>\n",
              "    <tr>\n",
              "      <th>612</th>\n",
              "      <td>Cirrhosis</td>\n",
              "      <td>NO</td>\n",
              "      <td>64</td>\n",
              "      <td>f</td>\n",
              "      <td>24.0000</td>\n",
              "      <td>102.8000</td>\n",
              "      <td>2.9000</td>\n",
              "      <td>44.4000</td>\n",
              "      <td>20.0000</td>\n",
              "      <td>1.5400</td>\n",
              "      <td>3.0200</td>\n",
              "      <td>63.0000</td>\n",
              "      <td>35.9000</td>\n",
              "      <td>71.3000</td>\n",
              "    </tr>\n",
              "    <tr>\n",
              "      <th>613</th>\n",
              "      <td>Cirrhosis</td>\n",
              "      <td>NO</td>\n",
              "      <td>64</td>\n",
              "      <td>f</td>\n",
              "      <td>29.0000</td>\n",
              "      <td>87.3000</td>\n",
              "      <td>3.5000</td>\n",
              "      <td>99.0000</td>\n",
              "      <td>48.0000</td>\n",
              "      <td>1.6600</td>\n",
              "      <td>3.6300</td>\n",
              "      <td>66.7000</td>\n",
              "      <td>64.2000</td>\n",
              "      <td>82.0000</td>\n",
              "    </tr>\n",
              "    <tr>\n",
              "      <th>614</th>\n",
              "      <td>Cirrhosis</td>\n",
              "      <td>NO</td>\n",
              "      <td>46</td>\n",
              "      <td>f</td>\n",
              "      <td>33.0000</td>\n",
              "      <td>nan</td>\n",
              "      <td>39.0000</td>\n",
              "      <td>62.0000</td>\n",
              "      <td>20.0000</td>\n",
              "      <td>3.5600</td>\n",
              "      <td>4.2000</td>\n",
              "      <td>52.0000</td>\n",
              "      <td>50.0000</td>\n",
              "      <td>71.0000</td>\n",
              "    </tr>\n",
              "    <tr>\n",
              "      <th>615</th>\n",
              "      <td>Cirrhosis</td>\n",
              "      <td>NO</td>\n",
              "      <td>59</td>\n",
              "      <td>f</td>\n",
              "      <td>36.0000</td>\n",
              "      <td>nan</td>\n",
              "      <td>100.0000</td>\n",
              "      <td>80.0000</td>\n",
              "      <td>12.0000</td>\n",
              "      <td>9.0700</td>\n",
              "      <td>5.3000</td>\n",
              "      <td>67.0000</td>\n",
              "      <td>34.0000</td>\n",
              "      <td>68.0000</td>\n",
              "    </tr>\n",
              "  </tbody>\n",
              "</table>\n",
              "<p>614 rows × 14 columns</p>\n",
              "</div>"
            ],
            "text/plain": [
              "        Category Healthy  Age Sex  ...   CHOL     CREA      GGT    PROT\n",
              "ID                                 ...                                 \n",
              "1    Blood Donor     YES   32   m  ... 3.2300 106.0000  12.1000 69.0000\n",
              "2    Blood Donor     YES   32   m  ... 4.8000  74.0000  15.6000 76.5000\n",
              "3    Blood Donor     YES   32   m  ... 5.2000  86.0000  33.2000 79.3000\n",
              "4    Blood Donor     YES   32   m  ... 4.7400  80.0000  33.8000 75.7000\n",
              "5    Blood Donor     YES   32   m  ... 4.3200  76.0000  29.9000 68.7000\n",
              "..           ...     ...  ...  ..  ...    ...      ...      ...     ...\n",
              "610    Cirrhosis      NO   59   f  ... 4.5100 136.1000 101.1000 70.5000\n",
              "612    Cirrhosis      NO   64   f  ... 3.0200  63.0000  35.9000 71.3000\n",
              "613    Cirrhosis      NO   64   f  ... 3.6300  66.7000  64.2000 82.0000\n",
              "614    Cirrhosis      NO   46   f  ... 4.2000  52.0000  50.0000 71.0000\n",
              "615    Cirrhosis      NO   59   f  ... 5.3000  67.0000  34.0000 68.0000\n",
              "\n",
              "[614 rows x 14 columns]"
            ]
          },
          "metadata": {
            "tags": []
          }
        }
      ]
    },
    {
      "cell_type": "markdown",
      "metadata": {
        "id": "f07sXxQRwEv-",
        "colab_type": "text"
      },
      "source": [
        "**Print unique categories**"
      ]
    },
    {
      "cell_type": "code",
      "metadata": {
        "id": "Oo1y-jFmwEv_",
        "colab_type": "code",
        "colab": {
          "base_uri": "https://localhost:8080/",
          "height": 92
        },
        "outputId": "6a5ae176-f528-4ab7-db40-6dcf3165f00b"
      },
      "source": [
        "for el in np.unique(hcvDataG.loc[:, 'Category']):\n",
        "    print(el)"
      ],
      "execution_count": 9,
      "outputs": [
        {
          "output_type": "stream",
          "text": [
            "Blood Donor\n",
            "Cirrhosis\n",
            "Fibrosis\n",
            "Hepatitis\n"
          ],
          "name": "stdout"
        }
      ]
    },
    {
      "cell_type": "markdown",
      "metadata": {
        "id": "bi_MfB7dwEwD",
        "colab_type": "text"
      },
      "source": [
        "**Print columns' names and check if variables are correctly listed above**"
      ]
    },
    {
      "cell_type": "code",
      "metadata": {
        "id": "b4A5ncpwwEwF",
        "colab_type": "code",
        "colab": {
          "base_uri": "https://localhost:8080/",
          "height": 279
        },
        "outputId": "dccc1450-bfc7-4049-fce1-2459c85afe2a"
      },
      "source": [
        "for colname in hcvDataG.columns:\n",
        "    print(colname)"
      ],
      "execution_count": 10,
      "outputs": [
        {
          "output_type": "stream",
          "text": [
            "Category\n",
            "Healthy\n",
            "Age\n",
            "Sex\n",
            "ALB\n",
            "ALP\n",
            "ALT\n",
            "AST\n",
            "BIL\n",
            "CHE\n",
            "CHOL\n",
            "CREA\n",
            "GGT\n",
            "PROT\n"
          ],
          "name": "stdout"
        }
      ]
    },
    {
      "cell_type": "markdown",
      "metadata": {
        "id": "RbZUlub6wEwL",
        "colab_type": "text"
      },
      "source": [
        "# Read another dataset: *HCV_Data_Egypt_ngseminar*"
      ]
    },
    {
      "cell_type": "markdown",
      "metadata": {
        "id": "xmbkk8uowEwM",
        "colab_type": "text"
      },
      "source": [
        "It contains data of patients with HCV from Egypt.\n",
        "\n",
        "[This dataset](http://archive.ics.uci.edu/ml/datasets/Hepatitis+C+Virus+%28HCV%29+for+Egyptian+patients) was downloaded from UCI [Machine Learning Repository](http://archive.ics.uci.edu/ml/datasets/HCV+data).\n",
        "\n",
        "And it was also somehow modified by me for this seminar, so please use provided version rahter than original one :).\n",
        "\n",
        "It contains more variables than the first (German) dataset:\n",
        "* **Age** (continous, but here it is again rounded to integers)\n",
        "* **Gender** (nominal, and yes, it is the same as Sex in previous example, but in medicine you're lucky, when one thing has only 2 names): \n",
        "    * M - man\n",
        "    * F - woman\n",
        "* **Fever** - just prescence (YES) or absence (NO) of fever. (Originally, it was coded as 1 for NO and 2 for YES, buy I've thought is too much for introduction to statistics ;).\n",
        "* **Nausea/Vomiting** - works like fever variable and the same applies to a few next variables.\n",
        "* **Headache**\n",
        "* **Diarrhea**\n",
        "* **Fatigue & generalized bone ache**\n",
        "* **Jaundice**\n",
        "* **Epigastric pain**\n",
        "* **WBS** - white blood cells.\n",
        "* **RBC** - red blood cells.\n",
        "* **Plat** - platlets.\n",
        "* **AST 1** - aspartate transaminase, measured at week 1.\n",
        "* **ALT** -  alanine amino-transferase:\n",
        "    * **ALT 1** - measured in week 1 (probably some time around the beginning of treatment).\n",
        "    * **ALT 4** - at week 4.\n",
        "    * **ALT 12** - at week 12.\n",
        "    * **ALT 24** - at week 24.\n",
        "    * **ALT 36** - at week 36.\n",
        "    * **ALT 48** - at week 48.\n",
        "* **RNA** - amount of viral RNA from HCV:\n",
        "    * **RNA Base** - at baseline, before treatment.\n",
        "    * **RNA 4** - at week 4.\n",
        "    * **RNA 12** - at week 12.\n",
        "    * **RNA EOT** - at the end of treatment.\n",
        "* **RNA EF** - RNA Elongation Factor; a protein that plays important role in translation and has also some other function. It can be also exploited by viruses for their replication.\n",
        "* **Baseline histological Grading** - there are a few systems of histologic grading for hepatitis; they can produce scores in ranges like 0-22 or 0-18. They are complex and pathologist needs to assess many features of tissue, like presence of inflammation, necrosis and fibrosis.\n",
        "* **Baseline histological staging** - it describes level of liver fibrosis, the higher the score the more advanced fibrosis:\n",
        "    * **0** - no fibsosis, but also no such case in our dataset.\n",
        "    * **1** - mild fibrosis.\n",
        "    * **2** - moderate fibrosis.\n",
        "    * **3** - severe fibrosis.\n",
        "    * **4** - cirrhosis (very advanced fibrosis)."
      ]
    },
    {
      "cell_type": "code",
      "metadata": {
        "id": "Kab0_WtCwEwN",
        "colab_type": "code",
        "colab": {
          "base_uri": "https://localhost:8080/",
          "height": 510
        },
        "outputId": "52d8b278-bb07-4e49-85fe-3689063b3199"
      },
      "source": [
        "url = 'https://raw.githubusercontent.com/UlaSmycz/NGSeminar_biostatistics/master/HCV_Data_Egypt_ngseminar.csv'\n",
        "hcvDataE = pd.read_csv(url, header = 0, index_col = 0)\n",
        "hcvDataE"
      ],
      "execution_count": 11,
      "outputs": [
        {
          "output_type": "execute_result",
          "data": {
            "text/html": [
              "<div>\n",
              "<style scoped>\n",
              "    .dataframe tbody tr th:only-of-type {\n",
              "        vertical-align: middle;\n",
              "    }\n",
              "\n",
              "    .dataframe tbody tr th {\n",
              "        vertical-align: top;\n",
              "    }\n",
              "\n",
              "    .dataframe thead th {\n",
              "        text-align: right;\n",
              "    }\n",
              "</style>\n",
              "<table border=\"1\" class=\"dataframe\">\n",
              "  <thead>\n",
              "    <tr style=\"text-align: right;\">\n",
              "      <th></th>\n",
              "      <th>Age</th>\n",
              "      <th>Gender</th>\n",
              "      <th>BMI</th>\n",
              "      <th>Fever</th>\n",
              "      <th>Nausea/Vomiting</th>\n",
              "      <th>Headache</th>\n",
              "      <th>Diarrhea</th>\n",
              "      <th>Fatigue &amp; generalized bone ache</th>\n",
              "      <th>Jaundice</th>\n",
              "      <th>Epigastric pain</th>\n",
              "      <th>WBC</th>\n",
              "      <th>RBC</th>\n",
              "      <th>HGB</th>\n",
              "      <th>Plat</th>\n",
              "      <th>AST 1</th>\n",
              "      <th>ALT 1</th>\n",
              "      <th>ALT 4</th>\n",
              "      <th>ALT 12</th>\n",
              "      <th>ALT 24</th>\n",
              "      <th>ALT 36</th>\n",
              "      <th>ALT 48</th>\n",
              "      <th>RNA Base</th>\n",
              "      <th>RNA 4</th>\n",
              "      <th>RNA 12</th>\n",
              "      <th>RNA EOT</th>\n",
              "      <th>RNA EF</th>\n",
              "      <th>Baseline histological Grading</th>\n",
              "      <th>Baseline histological staging</th>\n",
              "    </tr>\n",
              "    <tr>\n",
              "      <th>ID</th>\n",
              "      <th></th>\n",
              "      <th></th>\n",
              "      <th></th>\n",
              "      <th></th>\n",
              "      <th></th>\n",
              "      <th></th>\n",
              "      <th></th>\n",
              "      <th></th>\n",
              "      <th></th>\n",
              "      <th></th>\n",
              "      <th></th>\n",
              "      <th></th>\n",
              "      <th></th>\n",
              "      <th></th>\n",
              "      <th></th>\n",
              "      <th></th>\n",
              "      <th></th>\n",
              "      <th></th>\n",
              "      <th></th>\n",
              "      <th></th>\n",
              "      <th></th>\n",
              "      <th></th>\n",
              "      <th></th>\n",
              "      <th></th>\n",
              "      <th></th>\n",
              "      <th></th>\n",
              "      <th></th>\n",
              "      <th></th>\n",
              "    </tr>\n",
              "  </thead>\n",
              "  <tbody>\n",
              "    <tr>\n",
              "      <th>1</th>\n",
              "      <td>56</td>\n",
              "      <td>M</td>\n",
              "      <td>35</td>\n",
              "      <td>YES</td>\n",
              "      <td>NO</td>\n",
              "      <td>NO</td>\n",
              "      <td>NO</td>\n",
              "      <td>YES</td>\n",
              "      <td>YES</td>\n",
              "      <td>YES</td>\n",
              "      <td>7425</td>\n",
              "      <td>4,248,807.0000</td>\n",
              "      <td>14</td>\n",
              "      <td>112,132.0000</td>\n",
              "      <td>99</td>\n",
              "      <td>84</td>\n",
              "      <td>52.0000</td>\n",
              "      <td>109</td>\n",
              "      <td>81</td>\n",
              "      <td>5</td>\n",
              "      <td>5</td>\n",
              "      <td>655330</td>\n",
              "      <td>634536</td>\n",
              "      <td>288194</td>\n",
              "      <td>5</td>\n",
              "      <td>5</td>\n",
              "      <td>13</td>\n",
              "      <td>2</td>\n",
              "    </tr>\n",
              "    <tr>\n",
              "      <th>2</th>\n",
              "      <td>46</td>\n",
              "      <td>M</td>\n",
              "      <td>29</td>\n",
              "      <td>NO</td>\n",
              "      <td>YES</td>\n",
              "      <td>YES</td>\n",
              "      <td>NO</td>\n",
              "      <td>YES</td>\n",
              "      <td>YES</td>\n",
              "      <td>NO</td>\n",
              "      <td>12101</td>\n",
              "      <td>4,429,425.0000</td>\n",
              "      <td>10</td>\n",
              "      <td>129,367.0000</td>\n",
              "      <td>91</td>\n",
              "      <td>123</td>\n",
              "      <td>95.0000</td>\n",
              "      <td>75</td>\n",
              "      <td>113</td>\n",
              "      <td>57</td>\n",
              "      <td>123</td>\n",
              "      <td>40620</td>\n",
              "      <td>538635</td>\n",
              "      <td>637056</td>\n",
              "      <td>336804</td>\n",
              "      <td>31085</td>\n",
              "      <td>4</td>\n",
              "      <td>2</td>\n",
              "    </tr>\n",
              "    <tr>\n",
              "      <th>3</th>\n",
              "      <td>57</td>\n",
              "      <td>M</td>\n",
              "      <td>33</td>\n",
              "      <td>YES</td>\n",
              "      <td>YES</td>\n",
              "      <td>YES</td>\n",
              "      <td>YES</td>\n",
              "      <td>NO</td>\n",
              "      <td>NO</td>\n",
              "      <td>NO</td>\n",
              "      <td>4178</td>\n",
              "      <td>4,621,191.0000</td>\n",
              "      <td>12</td>\n",
              "      <td>151,522.0000</td>\n",
              "      <td>113</td>\n",
              "      <td>49</td>\n",
              "      <td>95.0000</td>\n",
              "      <td>107</td>\n",
              "      <td>116</td>\n",
              "      <td>5</td>\n",
              "      <td>5</td>\n",
              "      <td>571148</td>\n",
              "      <td>661346</td>\n",
              "      <td>5</td>\n",
              "      <td>735945</td>\n",
              "      <td>558829</td>\n",
              "      <td>4</td>\n",
              "      <td>4</td>\n",
              "    </tr>\n",
              "    <tr>\n",
              "      <th>4</th>\n",
              "      <td>49</td>\n",
              "      <td>F</td>\n",
              "      <td>33</td>\n",
              "      <td>NO</td>\n",
              "      <td>YES</td>\n",
              "      <td>NO</td>\n",
              "      <td>YES</td>\n",
              "      <td>NO</td>\n",
              "      <td>YES</td>\n",
              "      <td>NO</td>\n",
              "      <td>6490</td>\n",
              "      <td>4,794,631.0000</td>\n",
              "      <td>10</td>\n",
              "      <td>146,457.0000</td>\n",
              "      <td>43</td>\n",
              "      <td>64</td>\n",
              "      <td>109.0000</td>\n",
              "      <td>80</td>\n",
              "      <td>88</td>\n",
              "      <td>48</td>\n",
              "      <td>77</td>\n",
              "      <td>1041941</td>\n",
              "      <td>449939</td>\n",
              "      <td>585688</td>\n",
              "      <td>744463</td>\n",
              "      <td>582301</td>\n",
              "      <td>10</td>\n",
              "      <td>3</td>\n",
              "    </tr>\n",
              "    <tr>\n",
              "      <th>5</th>\n",
              "      <td>59</td>\n",
              "      <td>M</td>\n",
              "      <td>32</td>\n",
              "      <td>NO</td>\n",
              "      <td>NO</td>\n",
              "      <td>YES</td>\n",
              "      <td>NO</td>\n",
              "      <td>YES</td>\n",
              "      <td>YES</td>\n",
              "      <td>YES</td>\n",
              "      <td>3661</td>\n",
              "      <td>4,606,375.0000</td>\n",
              "      <td>11</td>\n",
              "      <td>187,684.0000</td>\n",
              "      <td>99</td>\n",
              "      <td>104</td>\n",
              "      <td>67.0000</td>\n",
              "      <td>48</td>\n",
              "      <td>120</td>\n",
              "      <td>94</td>\n",
              "      <td>90</td>\n",
              "      <td>660410</td>\n",
              "      <td>738756</td>\n",
              "      <td>3731527</td>\n",
              "      <td>338946</td>\n",
              "      <td>242861</td>\n",
              "      <td>11</td>\n",
              "      <td>1</td>\n",
              "    </tr>\n",
              "    <tr>\n",
              "      <th>...</th>\n",
              "      <td>...</td>\n",
              "      <td>...</td>\n",
              "      <td>...</td>\n",
              "      <td>...</td>\n",
              "      <td>...</td>\n",
              "      <td>...</td>\n",
              "      <td>...</td>\n",
              "      <td>...</td>\n",
              "      <td>...</td>\n",
              "      <td>...</td>\n",
              "      <td>...</td>\n",
              "      <td>...</td>\n",
              "      <td>...</td>\n",
              "      <td>...</td>\n",
              "      <td>...</td>\n",
              "      <td>...</td>\n",
              "      <td>...</td>\n",
              "      <td>...</td>\n",
              "      <td>...</td>\n",
              "      <td>...</td>\n",
              "      <td>...</td>\n",
              "      <td>...</td>\n",
              "      <td>...</td>\n",
              "      <td>...</td>\n",
              "      <td>...</td>\n",
              "      <td>...</td>\n",
              "      <td>...</td>\n",
              "      <td>...</td>\n",
              "    </tr>\n",
              "    <tr>\n",
              "      <th>1381</th>\n",
              "      <td>44</td>\n",
              "      <td>M</td>\n",
              "      <td>29</td>\n",
              "      <td>NO</td>\n",
              "      <td>YES</td>\n",
              "      <td>YES</td>\n",
              "      <td>YES</td>\n",
              "      <td>NO</td>\n",
              "      <td>NO</td>\n",
              "      <td>NO</td>\n",
              "      <td>7044</td>\n",
              "      <td>4,957,174.0000</td>\n",
              "      <td>15</td>\n",
              "      <td>202,520.0000</td>\n",
              "      <td>122</td>\n",
              "      <td>59</td>\n",
              "      <td>78.0000</td>\n",
              "      <td>106</td>\n",
              "      <td>127</td>\n",
              "      <td>63</td>\n",
              "      <td>44</td>\n",
              "      <td>387795</td>\n",
              "      <td>55938</td>\n",
              "      <td>5</td>\n",
              "      <td>5</td>\n",
              "      <td>5</td>\n",
              "      <td>15</td>\n",
              "      <td>4</td>\n",
              "    </tr>\n",
              "    <tr>\n",
              "      <th>1382</th>\n",
              "      <td>55</td>\n",
              "      <td>M</td>\n",
              "      <td>34</td>\n",
              "      <td>NO</td>\n",
              "      <td>YES</td>\n",
              "      <td>YES</td>\n",
              "      <td>NO</td>\n",
              "      <td>NO</td>\n",
              "      <td>NO</td>\n",
              "      <td>NO</td>\n",
              "      <td>6207</td>\n",
              "      <td>4,636,951.0000</td>\n",
              "      <td>10</td>\n",
              "      <td>115,776.0000</td>\n",
              "      <td>128</td>\n",
              "      <td>102</td>\n",
              "      <td>65.0000</td>\n",
              "      <td>99</td>\n",
              "      <td>108</td>\n",
              "      <td>97</td>\n",
              "      <td>64</td>\n",
              "      <td>481378</td>\n",
              "      <td>152961</td>\n",
              "      <td>393339</td>\n",
              "      <td>73574</td>\n",
              "      <td>236273</td>\n",
              "      <td>10</td>\n",
              "      <td>2</td>\n",
              "    </tr>\n",
              "    <tr>\n",
              "      <th>1383</th>\n",
              "      <td>42</td>\n",
              "      <td>M</td>\n",
              "      <td>26</td>\n",
              "      <td>YES</td>\n",
              "      <td>YES</td>\n",
              "      <td>NO</td>\n",
              "      <td>NO</td>\n",
              "      <td>NO</td>\n",
              "      <td>YES</td>\n",
              "      <td>NO</td>\n",
              "      <td>4913</td>\n",
              "      <td>4,122,038.0000</td>\n",
              "      <td>14</td>\n",
              "      <td>128,354.0000</td>\n",
              "      <td>61</td>\n",
              "      <td>93</td>\n",
              "      <td>123.0000</td>\n",
              "      <td>61</td>\n",
              "      <td>116</td>\n",
              "      <td>87</td>\n",
              "      <td>39</td>\n",
              "      <td>612664</td>\n",
              "      <td>572756</td>\n",
              "      <td>806109</td>\n",
              "      <td>343719</td>\n",
              "      <td>160457</td>\n",
              "      <td>6</td>\n",
              "      <td>2</td>\n",
              "    </tr>\n",
              "    <tr>\n",
              "      <th>1384</th>\n",
              "      <td>52</td>\n",
              "      <td>M</td>\n",
              "      <td>29</td>\n",
              "      <td>YES</td>\n",
              "      <td>NO</td>\n",
              "      <td>NO</td>\n",
              "      <td>YES</td>\n",
              "      <td>YES</td>\n",
              "      <td>YES</td>\n",
              "      <td>NO</td>\n",
              "      <td>7257</td>\n",
              "      <td>4,241,990.0000</td>\n",
              "      <td>10</td>\n",
              "      <td>205,908.0000</td>\n",
              "      <td>70</td>\n",
              "      <td>97</td>\n",
              "      <td>104.0000</td>\n",
              "      <td>74</td>\n",
              "      <td>47</td>\n",
              "      <td>48</td>\n",
              "      <td>81</td>\n",
              "      <td>139872</td>\n",
              "      <td>76161</td>\n",
              "      <td>515730</td>\n",
              "      <td>2460</td>\n",
              "      <td>696074</td>\n",
              "      <td>15</td>\n",
              "      <td>3</td>\n",
              "    </tr>\n",
              "    <tr>\n",
              "      <th>1385</th>\n",
              "      <td>55</td>\n",
              "      <td>F</td>\n",
              "      <td>26</td>\n",
              "      <td>NO</td>\n",
              "      <td>YES</td>\n",
              "      <td>YES</td>\n",
              "      <td>YES</td>\n",
              "      <td>NO</td>\n",
              "      <td>YES</td>\n",
              "      <td>NO</td>\n",
              "      <td>11832</td>\n",
              "      <td>4,059,176.0000</td>\n",
              "      <td>14</td>\n",
              "      <td>136,615.0000</td>\n",
              "      <td>51</td>\n",
              "      <td>126</td>\n",
              "      <td>39.0000</td>\n",
              "      <td>68</td>\n",
              "      <td>115</td>\n",
              "      <td>64</td>\n",
              "      <td>71</td>\n",
              "      <td>1190577</td>\n",
              "      <td>628730</td>\n",
              "      <td>5</td>\n",
              "      <td>5</td>\n",
              "      <td>5</td>\n",
              "      <td>13</td>\n",
              "      <td>3</td>\n",
              "    </tr>\n",
              "  </tbody>\n",
              "</table>\n",
              "<p>1385 rows × 28 columns</p>\n",
              "</div>"
            ],
            "text/plain": [
              "      Age Gender  ...  Baseline histological Grading Baseline histological staging\n",
              "ID                ...                                                             \n",
              "1      56      M  ...                             13                             2\n",
              "2      46      M  ...                              4                             2\n",
              "3      57      M  ...                              4                             4\n",
              "4      49      F  ...                             10                             3\n",
              "5      59      M  ...                             11                             1\n",
              "...   ...    ...  ...                            ...                           ...\n",
              "1381   44      M  ...                             15                             4\n",
              "1382   55      M  ...                             10                             2\n",
              "1383   42      M  ...                              6                             2\n",
              "1384   52      M  ...                             15                             3\n",
              "1385   55      F  ...                             13                             3\n",
              "\n",
              "[1385 rows x 28 columns]"
            ]
          },
          "metadata": {
            "tags": []
          },
          "execution_count": 11
        }
      ]
    },
    {
      "cell_type": "markdown",
      "metadata": {
        "id": "JjrWGhvzwEwS",
        "colab_type": "text"
      },
      "source": [
        "**Try to list columns**"
      ]
    },
    {
      "cell_type": "code",
      "metadata": {
        "id": "QC4D-35rwEwT",
        "colab_type": "code",
        "colab": {
          "base_uri": "https://localhost:8080/",
          "height": 541
        },
        "outputId": "452b912a-18bb-450a-d947-8ba0f01ad073"
      },
      "source": [
        "for colname in hcvDataE.columns:\n",
        "    print(colname)"
      ],
      "execution_count": 12,
      "outputs": [
        {
          "output_type": "stream",
          "text": [
            "Age\n",
            "Gender\n",
            "BMI\n",
            "Fever\n",
            "Nausea/Vomiting\n",
            "Headache\n",
            "Diarrhea\n",
            "Fatigue & generalized bone ache\n",
            "Jaundice\n",
            "Epigastric pain\n",
            "WBC\n",
            "RBC\n",
            "HGB\n",
            "Plat\n",
            "AST 1\n",
            "ALT 1\n",
            "ALT 4\n",
            "ALT 12\n",
            "ALT 24\n",
            "ALT 36\n",
            "ALT 48\n",
            "RNA Base\n",
            "RNA 4\n",
            "RNA 12\n",
            "RNA EOT\n",
            "RNA EF\n",
            "Baseline histological Grading\n",
            "Baseline histological staging\n"
          ],
          "name": "stdout"
        }
      ]
    },
    {
      "cell_type": "markdown",
      "metadata": {
        "id": "RzumUuVSwEwX",
        "colab_type": "text"
      },
      "source": [
        "# Descriptive statistics"
      ]
    },
    {
      "cell_type": "markdown",
      "metadata": {
        "id": "QQr-1pFXwEwY",
        "colab_type": "text"
      },
      "source": [
        "**We'll start with Germany dataset**\n",
        "\n",
        "**Check how many cases and variables are in our dataset**"
      ]
    },
    {
      "cell_type": "code",
      "metadata": {
        "id": "eNUmeYiMwEwZ",
        "colab_type": "code",
        "colab": {
          "base_uri": "https://localhost:8080/",
          "height": 54
        },
        "outputId": "239eefbe-66a5-42fb-c9c5-4c881a96c385"
      },
      "source": [
        "nrows, ncolumns = hcvDataG.shape\n",
        "print('Number of cases (rows): {0:d}'.format(nrows))\n",
        "print('Number of variables (columns): {0:d}'.format(ncolumns))"
      ],
      "execution_count": 13,
      "outputs": [
        {
          "output_type": "stream",
          "text": [
            "Number of cases (rows): 614\n",
            "Number of variables (columns): 14\n"
          ],
          "name": "stdout"
        }
      ]
    },
    {
      "cell_type": "markdown",
      "metadata": {
        "id": "5hWAMGsvwEwd",
        "colab_type": "text"
      },
      "source": [
        "**Calculate descriptive statistics for age**"
      ]
    },
    {
      "cell_type": "code",
      "metadata": {
        "id": "9I7ToMPRwEwd",
        "colab_type": "code",
        "colab": {
          "base_uri": "https://localhost:8080/",
          "height": 185
        },
        "outputId": "772f0b55-f337-4006-974e-fefe2d2db89f"
      },
      "source": [
        "hcvDataG.loc[:, 'Age'].describe()"
      ],
      "execution_count": 14,
      "outputs": [
        {
          "output_type": "execute_result",
          "data": {
            "text/plain": [
              "count   614.0000\n",
              "mean     47.3844\n",
              "std      10.0460\n",
              "min      19.0000\n",
              "25%      39.0000\n",
              "50%      47.0000\n",
              "75%      54.0000\n",
              "max      77.0000\n",
              "Name: Age, dtype: float64"
            ]
          },
          "metadata": {
            "tags": []
          },
          "execution_count": 14
        }
      ]
    },
    {
      "cell_type": "markdown",
      "metadata": {
        "id": "b5IwW6bKwEwi",
        "colab_type": "text"
      },
      "source": [
        "**Reapeat calculation dividing patients by Sex**"
      ]
    },
    {
      "cell_type": "code",
      "metadata": {
        "id": "CVkafFJvwEwj",
        "colab_type": "code",
        "colab": {
          "base_uri": "https://localhost:8080/",
          "height": 143
        },
        "outputId": "c5967e22-2c0f-4934-cf28-7a7e4f71a4e5"
      },
      "source": [
        "hcvDataG.loc[:, 'Age'].groupby(hcvDataG.loc[:, 'Sex']).describe()"
      ],
      "execution_count": 15,
      "outputs": [
        {
          "output_type": "execute_result",
          "data": {
            "text/html": [
              "<div>\n",
              "<style scoped>\n",
              "    .dataframe tbody tr th:only-of-type {\n",
              "        vertical-align: middle;\n",
              "    }\n",
              "\n",
              "    .dataframe tbody tr th {\n",
              "        vertical-align: top;\n",
              "    }\n",
              "\n",
              "    .dataframe thead th {\n",
              "        text-align: right;\n",
              "    }\n",
              "</style>\n",
              "<table border=\"1\" class=\"dataframe\">\n",
              "  <thead>\n",
              "    <tr style=\"text-align: right;\">\n",
              "      <th></th>\n",
              "      <th>count</th>\n",
              "      <th>mean</th>\n",
              "      <th>std</th>\n",
              "      <th>min</th>\n",
              "      <th>25%</th>\n",
              "      <th>50%</th>\n",
              "      <th>75%</th>\n",
              "      <th>max</th>\n",
              "    </tr>\n",
              "    <tr>\n",
              "      <th>Sex</th>\n",
              "      <th></th>\n",
              "      <th></th>\n",
              "      <th></th>\n",
              "      <th></th>\n",
              "      <th></th>\n",
              "      <th></th>\n",
              "      <th></th>\n",
              "      <th></th>\n",
              "    </tr>\n",
              "  </thead>\n",
              "  <tbody>\n",
              "    <tr>\n",
              "      <th>f</th>\n",
              "      <td>237.0000</td>\n",
              "      <td>47.6582</td>\n",
              "      <td>9.1576</td>\n",
              "      <td>32.0000</td>\n",
              "      <td>41.0000</td>\n",
              "      <td>48.0000</td>\n",
              "      <td>54.0000</td>\n",
              "      <td>75.0000</td>\n",
              "    </tr>\n",
              "    <tr>\n",
              "      <th>m</th>\n",
              "      <td>377.0000</td>\n",
              "      <td>47.2122</td>\n",
              "      <td>10.5746</td>\n",
              "      <td>19.0000</td>\n",
              "      <td>38.0000</td>\n",
              "      <td>47.0000</td>\n",
              "      <td>55.0000</td>\n",
              "      <td>77.0000</td>\n",
              "    </tr>\n",
              "  </tbody>\n",
              "</table>\n",
              "</div>"
            ],
            "text/plain": [
              "       count    mean     std     min     25%     50%     75%     max\n",
              "Sex                                                                 \n",
              "f   237.0000 47.6582  9.1576 32.0000 41.0000 48.0000 54.0000 75.0000\n",
              "m   377.0000 47.2122 10.5746 19.0000 38.0000 47.0000 55.0000 77.0000"
            ]
          },
          "metadata": {
            "tags": []
          },
          "execution_count": 15
        }
      ]
    },
    {
      "cell_type": "markdown",
      "metadata": {
        "id": "71TfyS2TwEwn",
        "colab_type": "text"
      },
      "source": [
        "**Now describe 2 variable at a time: Age and cholesterol (CHOL), divide patients by Sex**"
      ]
    },
    {
      "cell_type": "code",
      "metadata": {
        "id": "vJbCJerJwEwn",
        "colab_type": "code",
        "colab": {
          "base_uri": "https://localhost:8080/",
          "height": 195
        },
        "outputId": "b4901043-1c29-46cf-d547-ea7cef0411fd"
      },
      "source": [
        "hcvDataG.loc[:, ['Age', 'CHOL']].groupby(hcvDataG.loc[:, 'Sex']).describe()"
      ],
      "execution_count": 16,
      "outputs": [
        {
          "output_type": "execute_result",
          "data": {
            "text/html": [
              "<div>\n",
              "<style scoped>\n",
              "    .dataframe tbody tr th:only-of-type {\n",
              "        vertical-align: middle;\n",
              "    }\n",
              "\n",
              "    .dataframe tbody tr th {\n",
              "        vertical-align: top;\n",
              "    }\n",
              "\n",
              "    .dataframe thead tr th {\n",
              "        text-align: left;\n",
              "    }\n",
              "\n",
              "    .dataframe thead tr:last-of-type th {\n",
              "        text-align: right;\n",
              "    }\n",
              "</style>\n",
              "<table border=\"1\" class=\"dataframe\">\n",
              "  <thead>\n",
              "    <tr>\n",
              "      <th></th>\n",
              "      <th colspan=\"8\" halign=\"left\">Age</th>\n",
              "      <th colspan=\"8\" halign=\"left\">CHOL</th>\n",
              "    </tr>\n",
              "    <tr>\n",
              "      <th></th>\n",
              "      <th>count</th>\n",
              "      <th>mean</th>\n",
              "      <th>std</th>\n",
              "      <th>min</th>\n",
              "      <th>25%</th>\n",
              "      <th>50%</th>\n",
              "      <th>75%</th>\n",
              "      <th>max</th>\n",
              "      <th>count</th>\n",
              "      <th>mean</th>\n",
              "      <th>std</th>\n",
              "      <th>min</th>\n",
              "      <th>25%</th>\n",
              "      <th>50%</th>\n",
              "      <th>75%</th>\n",
              "      <th>max</th>\n",
              "    </tr>\n",
              "    <tr>\n",
              "      <th>Sex</th>\n",
              "      <th></th>\n",
              "      <th></th>\n",
              "      <th></th>\n",
              "      <th></th>\n",
              "      <th></th>\n",
              "      <th></th>\n",
              "      <th></th>\n",
              "      <th></th>\n",
              "      <th></th>\n",
              "      <th></th>\n",
              "      <th></th>\n",
              "      <th></th>\n",
              "      <th></th>\n",
              "      <th></th>\n",
              "      <th></th>\n",
              "      <th></th>\n",
              "    </tr>\n",
              "  </thead>\n",
              "  <tbody>\n",
              "    <tr>\n",
              "      <th>f</th>\n",
              "      <td>237.0000</td>\n",
              "      <td>47.6582</td>\n",
              "      <td>9.1576</td>\n",
              "      <td>32.0000</td>\n",
              "      <td>41.0000</td>\n",
              "      <td>48.0000</td>\n",
              "      <td>54.0000</td>\n",
              "      <td>75.0000</td>\n",
              "      <td>230.0000</td>\n",
              "      <td>5.4077</td>\n",
              "      <td>1.0586</td>\n",
              "      <td>2.8600</td>\n",
              "      <td>4.6475</td>\n",
              "      <td>5.3000</td>\n",
              "      <td>6.0400</td>\n",
              "      <td>9.0300</td>\n",
              "    </tr>\n",
              "    <tr>\n",
              "      <th>m</th>\n",
              "      <td>377.0000</td>\n",
              "      <td>47.2122</td>\n",
              "      <td>10.5746</td>\n",
              "      <td>19.0000</td>\n",
              "      <td>38.0000</td>\n",
              "      <td>47.0000</td>\n",
              "      <td>55.0000</td>\n",
              "      <td>77.0000</td>\n",
              "      <td>374.0000</td>\n",
              "      <td>5.3412</td>\n",
              "      <td>1.1771</td>\n",
              "      <td>1.4300</td>\n",
              "      <td>4.5925</td>\n",
              "      <td>5.2800</td>\n",
              "      <td>6.0900</td>\n",
              "      <td>9.6700</td>\n",
              "    </tr>\n",
              "  </tbody>\n",
              "</table>\n",
              "</div>"
            ],
            "text/plain": [
              "         Age                                  ...   CHOL                            \n",
              "       count    mean     std     min     25%  ...    min    25%    50%    75%    max\n",
              "Sex                                           ...                                   \n",
              "f   237.0000 47.6582  9.1576 32.0000 41.0000  ... 2.8600 4.6475 5.3000 6.0400 9.0300\n",
              "m   377.0000 47.2122 10.5746 19.0000 38.0000  ... 1.4300 4.5925 5.2800 6.0900 9.6700\n",
              "\n",
              "[2 rows x 16 columns]"
            ]
          },
          "metadata": {
            "tags": []
          },
          "execution_count": 16
        }
      ]
    },
    {
      "cell_type": "markdown",
      "metadata": {
        "id": "OvTq8R3PwEwt",
        "colab_type": "text"
      },
      "source": [
        "**Now caluculate geometric mean of age and cholesterol.**\n",
        "\n",
        "Let's try with built in scipy.stats.gmean function."
      ]
    },
    {
      "cell_type": "code",
      "metadata": {
        "id": "PGQT8c_9wEwt",
        "colab_type": "code",
        "colab": {
          "base_uri": "https://localhost:8080/",
          "height": 92
        },
        "outputId": "5a75cdf1-b8dd-4c3d-cee4-43bf1be47ba5"
      },
      "source": [
        "hcvDataG.loc[:, ['Age', 'CHOL']].groupby(hcvDataG.loc[:, 'Sex']).apply(stats.gmean)"
      ],
      "execution_count": 17,
      "outputs": [
        {
          "output_type": "execute_result",
          "data": {
            "text/plain": [
              "Sex\n",
              "f    [46.76394696503558, nan]\n",
              "m    [46.03123147501657, nan]\n",
              "dtype: object"
            ]
          },
          "metadata": {
            "tags": []
          },
          "execution_count": 17
        }
      ]
    },
    {
      "cell_type": "markdown",
      "metadata": {
        "id": "92zbRUaswEww",
        "colab_type": "text"
      },
      "source": [
        "Why it works only for age and not for cholesterol?\n",
        "\n",
        "Let's make it work."
      ]
    },
    {
      "cell_type": "code",
      "metadata": {
        "id": "cYEnZkS8wEwx",
        "colab_type": "code",
        "colab": {
          "base_uri": "https://localhost:8080/",
          "height": 143
        },
        "outputId": "97ddd2df-5fa6-408a-ee3c-65f4ca0edab1"
      },
      "source": [
        "np.log(hcvDataG.loc[:, ['Age', 'CHOL']]).groupby(hcvDataG.loc[:, 'Sex']).apply(np.mean).apply(np.exp)"
      ],
      "execution_count": 18,
      "outputs": [
        {
          "output_type": "execute_result",
          "data": {
            "text/html": [
              "<div>\n",
              "<style scoped>\n",
              "    .dataframe tbody tr th:only-of-type {\n",
              "        vertical-align: middle;\n",
              "    }\n",
              "\n",
              "    .dataframe tbody tr th {\n",
              "        vertical-align: top;\n",
              "    }\n",
              "\n",
              "    .dataframe thead th {\n",
              "        text-align: right;\n",
              "    }\n",
              "</style>\n",
              "<table border=\"1\" class=\"dataframe\">\n",
              "  <thead>\n",
              "    <tr style=\"text-align: right;\">\n",
              "      <th></th>\n",
              "      <th>Age</th>\n",
              "      <th>CHOL</th>\n",
              "    </tr>\n",
              "    <tr>\n",
              "      <th>Sex</th>\n",
              "      <th></th>\n",
              "      <th></th>\n",
              "    </tr>\n",
              "  </thead>\n",
              "  <tbody>\n",
              "    <tr>\n",
              "      <th>f</th>\n",
              "      <td>46.7639</td>\n",
              "      <td>5.3044</td>\n",
              "    </tr>\n",
              "    <tr>\n",
              "      <th>m</th>\n",
              "      <td>46.0312</td>\n",
              "      <td>5.2086</td>\n",
              "    </tr>\n",
              "  </tbody>\n",
              "</table>\n",
              "</div>"
            ],
            "text/plain": [
              "        Age   CHOL\n",
              "Sex               \n",
              "f   46.7639 5.3044\n",
              "m   46.0312 5.2086"
            ]
          },
          "metadata": {
            "tags": []
          },
          "execution_count": 18
        }
      ]
    },
    {
      "cell_type": "markdown",
      "metadata": {
        "id": "eAeBYLNfwEw1",
        "colab_type": "text"
      },
      "source": [
        "## Distributions"
      ]
    },
    {
      "cell_type": "markdown",
      "metadata": {
        "id": "lbXCrnGhwEw3",
        "colab_type": "text"
      },
      "source": [
        "**Examine visually distribution of cholesterol (CHOL)**"
      ]
    },
    {
      "cell_type": "code",
      "metadata": {
        "id": "JmFLJBnFwEw4",
        "colab_type": "code",
        "colab": {
          "base_uri": "https://localhost:8080/",
          "height": 336
        },
        "outputId": "0eb2ee56-cfe7-4efc-e4ce-ee03568694cc"
      },
      "source": [
        "fig = plt.figure(figsize=(7,5))\n",
        "ax = fig.add_subplot(111)\n",
        "pd.DataFrame.hist(data = hcvDataG, column = 'CHOL', ax = ax, width=0.6)\n",
        "ax.grid(False)"
      ],
      "execution_count": 19,
      "outputs": [
        {
          "output_type": "display_data",
          "data": {
            "image/png": "[encoded data removed]",
            "text/plain": [
              "<Figure size 504x360 with 1 Axes>"
            ]
          },
          "metadata": {
            "tags": [],
            "needs_background": "light"
          }
        }
      ]
    },
    {
      "cell_type": "markdown",
      "metadata": {
        "id": "BX6T1wlWwEw7",
        "colab_type": "text"
      },
      "source": [
        "Now divide patients by sex"
      ]
    },
    {
      "cell_type": "code",
      "metadata": {
        "id": "W46VOFD8wEw7",
        "colab_type": "code",
        "colab": {
          "base_uri": "https://localhost:8080/",
          "height": 337
        },
        "outputId": "e88d2e0e-9f53-41bb-e282-c871cab12a96"
      },
      "source": [
        "_ = pd.DataFrame.hist(data = hcvDataG, column = 'CHOL', by='Sex', figsize=(14,5))"
      ],
      "execution_count": 20,
      "outputs": [
        {
          "output_type": "display_data",
          "data": {
            "image/png": "[encoded data removed]",
            "text/plain": [
              "<Figure size 1008x360 with 2 Axes>"
            ]
          },
          "metadata": {
            "tags": [],
            "needs_background": "light"
          }
        }
      ]
    },
    {
      "cell_type": "markdown",
      "metadata": {
        "id": "7kG-KuODwExA",
        "colab_type": "text"
      },
      "source": [
        "**Let's repeat the same with bilirubin (BIL)**"
      ]
    },
    {
      "cell_type": "code",
      "metadata": {
        "id": "d5Ms7XrswExA",
        "colab_type": "code",
        "colab": {
          "base_uri": "https://localhost:8080/",
          "height": 336
        },
        "outputId": "a1868c25-97c4-408c-9484-d93c81e7a625"
      },
      "source": [
        "fig = plt.figure(figsize=(7,5))\n",
        "ax = fig.add_subplot(111)\n",
        "pd.DataFrame.hist(data = hcvDataG, column = 'BIL', ax = ax)\n",
        "ax.grid(False)"
      ],
      "execution_count": 21,
      "outputs": [
        {
          "output_type": "display_data",
          "data": {
            "image/png": "[encoded data removed]",
            "text/plain": [
              "<Figure size 504x360 with 1 Axes>"
            ]
          },
          "metadata": {
            "tags": [],
            "needs_background": "light"
          }
        }
      ]
    },
    {
      "cell_type": "markdown",
      "metadata": {
        "id": "kzCckC2kwExD",
        "colab_type": "text"
      },
      "source": [
        "**And now divide patients by Sex.**"
      ]
    },
    {
      "cell_type": "code",
      "metadata": {
        "id": "OOFKST73wExF",
        "colab_type": "code",
        "colab": {
          "base_uri": "https://localhost:8080/",
          "height": 342
        },
        "outputId": "b4e60072-b93c-4036-ea18-e172b2fa0ef9"
      },
      "source": [
        "_ = pd.DataFrame.hist(data = hcvDataG, column = 'BIL', by='Sex', figsize=(14,5))"
      ],
      "execution_count": 23,
      "outputs": [
        {
          "output_type": "display_data",
          "data": {
            "image/png": "[encoded data removed]",
            "text/plain": [
              "<Figure size 1008x360 with 2 Axes>"
            ]
          },
          "metadata": {
            "tags": [],
            "needs_background": "light"
          }
        }
      ]
    },
    {
      "cell_type": "markdown",
      "metadata": {
        "id": "dI9k64pvwExJ",
        "colab_type": "text"
      },
      "source": [
        "**Try to do the same wit ALB dividing patients by Category**"
      ]
    },
    {
      "cell_type": "code",
      "metadata": {
        "id": "Ue0orw7xwExJ",
        "colab_type": "code",
        "colab": {
          "base_uri": "https://localhost:8080/",
          "height": 607
        },
        "outputId": "8ca371b5-872e-434f-e8cd-1cc2f226a436"
      },
      "source": [
        "_ = pd.DataFrame.hist(data = hcvDataG, column = 'ALB', by='Category', layout=(2,2), figsize=(10,10))"
      ],
      "execution_count": 24,
      "outputs": [
        {
          "output_type": "display_data",
          "data": {
            "image/png": "[encoded data removed]",
            "text/plain": [
              "<Figure size 720x720 with 4 Axes>"
            ]
          },
          "metadata": {
            "tags": [],
            "needs_background": "light"
          }
        }
      ]
    },
    {
      "cell_type": "markdown",
      "metadata": {
        "id": "HeSzn1s0wExM",
        "colab_type": "text"
      },
      "source": [
        "# Statistical tests for continous variables"
      ]
    },
    {
      "cell_type": "markdown",
      "metadata": {
        "id": "TkIFSX2nwExM",
        "colab_type": "text"
      },
      "source": [
        "## Normality of distribution"
      ]
    },
    {
      "cell_type": "markdown",
      "metadata": {
        "id": "pwWOht-_wExO",
        "colab_type": "text"
      },
      "source": [
        "**Check if age of patients is normally distributed in our dataset**"
      ]
    },
    {
      "cell_type": "code",
      "metadata": {
        "id": "R1uS9j4JwExO",
        "colab_type": "code",
        "colab": {
          "base_uri": "https://localhost:8080/",
          "height": 54
        },
        "outputId": "76b7cfc3-25a1-4c5e-9d75-12214cf1755f"
      },
      "source": [
        "s, p = stats.shapiro(hcvDataG.loc[:, 'Age'])\n",
        "print('test statistics: {0:.4f}'.format(s))\n",
        "print('p-value: {0:.4f}'.format(p))"
      ],
      "execution_count": 25,
      "outputs": [
        {
          "output_type": "stream",
          "text": [
            "test statistics: 0.9841\n",
            "p-value: 0.0000\n"
          ],
          "name": "stdout"
        }
      ]
    },
    {
      "cell_type": "markdown",
      "metadata": {
        "id": "U0VnQxXOwExS",
        "colab_type": "text"
      },
      "source": [
        "**Repeat the test grouping patients by gender**"
      ]
    },
    {
      "cell_type": "code",
      "metadata": {
        "id": "jDFQZtiDwExT",
        "colab_type": "code",
        "colab": {
          "base_uri": "https://localhost:8080/",
          "height": 167
        },
        "outputId": "c4d0472a-02e2-41a3-f9f3-99bec6760afd"
      },
      "source": [
        "hcvDataG_by_gender = hcvDataG.groupby('Sex')\n",
        "\n",
        "for group in hcvDataG_by_gender:\n",
        "    groupName = group[0]\n",
        "    groupData = hcvDataG_by_gender.get_group(groupName)\n",
        "    \n",
        "    s, p = stats.shapiro(groupData.loc[:, 'Age'])\n",
        "    \n",
        "    print('Group: {0:s}'.format(groupName))\n",
        "    print('  test statistics: {0:.4f}'.format(s))\n",
        "    print('  tp-value: {0:.4f}'.format(p))\n",
        "    print()"
      ],
      "execution_count": 26,
      "outputs": [
        {
          "output_type": "stream",
          "text": [
            "Group: f\n",
            "  test statistics: 0.9758\n",
            "  tp-value: 0.0004\n",
            "\n",
            "Group: m\n",
            "  test statistics: 0.9820\n",
            "  tp-value: 0.0001\n",
            "\n"
          ],
          "name": "stdout"
        }
      ]
    },
    {
      "cell_type": "markdown",
      "metadata": {
        "id": "HJtVOHSOwExW",
        "colab_type": "text"
      },
      "source": [
        "**Now let's check albumin (ALB), alkaline phosphatase (ALP) and cholesterol (CHOL), dividing patients by sex**"
      ]
    },
    {
      "cell_type": "code",
      "metadata": {
        "id": "wB6TBh4HwExX",
        "colab_type": "code",
        "colab": {
          "base_uri": "https://localhost:8080/",
          "height": 615
        },
        "outputId": "e5921e4f-ba30-439b-9877-7096bb387866"
      },
      "source": [
        "hcvDataG_by_sex = hcvDataG.groupby('Sex')\n",
        "variablesForAnalysis = ['ALB', 'ALP', 'CHOL', 'CREA']\n",
        "\n",
        "for variable in variablesForAnalysis:\n",
        "    print(variable)\n",
        "    for group in hcvDataG_by_sex:\n",
        "        groupName = group[0]\n",
        "        groupData = hcvDataG_by_sex.get_group(groupName)\n",
        "\n",
        "        s, p = stats.shapiro(groupData.loc[:, variable].dropna())\n",
        "\n",
        "        print('  Group: {0:s}'.format(str(groupName)))\n",
        "        print('    test statistics: {0:.4f}'.format(s))\n",
        "        print('    p-value: {0:.4f}'.format(p))\n",
        "        \n",
        "    print()"
      ],
      "execution_count": 28,
      "outputs": [
        {
          "output_type": "stream",
          "text": [
            "ALB\n",
            "  Group: f\n",
            "    test statistics: 0.9629\n",
            "    p-value: 0.0000\n",
            "  Group: m\n",
            "    test statistics: 0.8885\n",
            "    p-value: 0.0000\n",
            "\n",
            "ALP\n",
            "  Group: f\n",
            "    test statistics: 0.8840\n",
            "    p-value: 0.0000\n",
            "  Group: m\n",
            "    test statistics: 0.9835\n",
            "    p-value: 0.0003\n",
            "\n",
            "CHOL\n",
            "  Group: f\n",
            "    test statistics: 0.9899\n",
            "    p-value: 0.1069\n",
            "  Group: m\n",
            "    test statistics: 0.9873\n",
            "    p-value: 0.0024\n",
            "\n",
            "CREA\n",
            "  Group: f\n",
            "    test statistics: 0.3197\n",
            "    p-value: 0.0000\n",
            "  Group: m\n",
            "    test statistics: 0.2070\n",
            "    p-value: 0.0000\n",
            "\n"
          ],
          "name": "stdout"
        }
      ]
    },
    {
      "cell_type": "markdown",
      "metadata": {
        "id": "wBQPIivbwExa",
        "colab_type": "text"
      },
      "source": [
        "**Can you repeat it for creatinin (CREA) and total protein (PROT), grouping patients by Category?**\n",
        "\n",
        "Try also counting how many values you have in each group."
      ]
    },
    {
      "cell_type": "code",
      "metadata": {
        "id": "HsP5m4X8wExa",
        "colab_type": "code",
        "colab": {
          "base_uri": "https://localhost:8080/",
          "height": 690
        },
        "outputId": "0f02be40-90df-44a2-cff5-00ddd0aadda7"
      },
      "source": [
        "hcvDataG_by_cat = hcvDataG.groupby('Category')\n",
        "variablesForAnalysis = ['CREA', 'PROT']\n",
        "\n",
        "for variable in variablesForAnalysis:\n",
        "    print(variable)\n",
        "    for group in hcvDataG_by_cat:\n",
        "        groupName = group[0]\n",
        "        groupData = hcvDataG_by_cat.get_group(groupName)\n",
        "        \n",
        "        dataNoNa = groupData.loc[:, variable].dropna()\n",
        "        s, p = stats.shapiro(dataNoNa)\n",
        "\n",
        "        print('  Group: {0:s}'.format(str(groupName)))\n",
        "        print('    Number of cases {0:d}'.format(dataNoNa.shape[0]))\n",
        "        print('    test statistics: {0:.4f}'.format(s))\n",
        "        print('    p-value: {0:.4f}'.format(p))\n",
        "        \n",
        "    print()"
      ],
      "execution_count": 29,
      "outputs": [
        {
          "output_type": "stream",
          "text": [
            "CREA\n",
            "  Group: Blood Donor\n",
            "    Number of cases 540\n",
            "    test statistics: 0.9687\n",
            "    p-value: 0.0000\n",
            "  Group: Cirrhosis\n",
            "    Number of cases 29\n",
            "    test statistics: 0.4432\n",
            "    p-value: 0.0000\n",
            "  Group: Fibrosis\n",
            "    Number of cases 21\n",
            "    test statistics: 0.9102\n",
            "    p-value: 0.0553\n",
            "  Group: Hepatitis\n",
            "    Number of cases 24\n",
            "    test statistics: 0.8030\n",
            "    p-value: 0.0003\n",
            "\n",
            "PROT\n",
            "  Group: Blood Donor\n",
            "    Number of cases 540\n",
            "    test statistics: 0.9291\n",
            "    p-value: 0.0000\n",
            "  Group: Cirrhosis\n",
            "    Number of cases 28\n",
            "    test statistics: 0.9581\n",
            "    p-value: 0.3147\n",
            "  Group: Fibrosis\n",
            "    Number of cases 21\n",
            "    test statistics: 0.9550\n",
            "    p-value: 0.4215\n",
            "  Group: Hepatitis\n",
            "    Number of cases 24\n",
            "    test statistics: 0.9517\n",
            "    p-value: 0.2948\n",
            "\n"
          ],
          "name": "stdout"
        }
      ]
    },
    {
      "cell_type": "markdown",
      "metadata": {
        "id": "f1KapBs-wExe",
        "colab_type": "text"
      },
      "source": [
        "## Difference between 2 independent groups"
      ]
    },
    {
      "cell_type": "markdown",
      "metadata": {
        "id": "uFO3VOajwExe",
        "colab_type": "text"
      },
      "source": [
        "**Compare ALP between healthy and ill people. Who has higher ALP?**"
      ]
    },
    {
      "cell_type": "markdown",
      "metadata": {
        "id": "K-CVzfhYwExf",
        "colab_type": "text"
      },
      "source": [
        "First, check the assumption for t-test:\n",
        "* normality of distribution in both groups\n",
        "* homogeneity of variance (basically equal varience in both groups)"
      ]
    },
    {
      "cell_type": "code",
      "metadata": {
        "id": "y1n_grEBwExf",
        "colab_type": "code",
        "colab": {
          "base_uri": "https://localhost:8080/",
          "height": 167
        },
        "outputId": "5ee4154c-f56c-4e49-da23-87452c985775"
      },
      "source": [
        "hcvDataG_by_health = hcvDataG.groupby('Healthy')\n",
        "\n",
        "for group in hcvDataG_by_health:\n",
        "    groupName = group[0]\n",
        "    groupData = hcvDataG_by_health.get_group(groupName)\n",
        "    \n",
        "    s, p = stats.shapiro(groupData.loc[:, 'ALP'].dropna())\n",
        "    \n",
        "    print('Group: {0:s}'.format(groupName))\n",
        "    print('  test statistics: {0:.4f}'.format(s))\n",
        "    print('  p-value: {0:.4f}'.format(p))\n",
        "    print()"
      ],
      "execution_count": 30,
      "outputs": [
        {
          "output_type": "stream",
          "text": [
            "Group: NO\n",
            "  test statistics: 0.8271\n",
            "  p-value: 0.0000\n",
            "\n",
            "Group: YES\n",
            "  test statistics: 0.9443\n",
            "  p-value: 0.0000\n",
            "\n"
          ],
          "name": "stdout"
        }
      ]
    },
    {
      "cell_type": "markdown",
      "metadata": {
        "id": "s08Od90DwExj",
        "colab_type": "text"
      },
      "source": [
        "Let's try logarithm of ALP"
      ]
    },
    {
      "cell_type": "code",
      "metadata": {
        "id": "miW1e_FTwExk",
        "colab_type": "code",
        "colab": {
          "base_uri": "https://localhost:8080/",
          "height": 167
        },
        "outputId": "efe96acd-15c0-4980-c73a-6b3d3136db33"
      },
      "source": [
        "hcvDataG_by_health = hcvDataG.groupby('Healthy')\n",
        "\n",
        "for group in hcvDataG_by_health:\n",
        "    groupName = group[0]\n",
        "    groupData = hcvDataG_by_health.get_group(groupName)\n",
        "    \n",
        "    s, p = stats.shapiro(np.log(groupData.loc[:, 'ALP'].dropna()))\n",
        "    \n",
        "    print('Group: {0:s}'.format(groupName))\n",
        "    print('  test statistics: {0:.4f}'.format(s))\n",
        "    print('  p-value: {0:.4f}'.format(p))\n",
        "    print()"
      ],
      "execution_count": 31,
      "outputs": [
        {
          "output_type": "stream",
          "text": [
            "Group: NO\n",
            "  test statistics: 0.9625\n",
            "  p-value: 0.0794\n",
            "\n",
            "Group: YES\n",
            "  test statistics: 0.9958\n",
            "  p-value: 0.1571\n",
            "\n"
          ],
          "name": "stdout"
        }
      ]
    },
    {
      "cell_type": "markdown",
      "metadata": {
        "id": "AQ3CNrZ2wExn",
        "colab_type": "text"
      },
      "source": [
        "Now, it's fine, we cen move to the next assumption - equal variances.\n",
        "\n",
        "But before, let's add log ALP as a new variable to our data frame, we will need it."
      ]
    },
    {
      "cell_type": "code",
      "metadata": {
        "id": "-vnIuM1twExn",
        "colab_type": "code",
        "colab": {}
      },
      "source": [
        "hcvDataG.loc[:, 'log ALP'] = np.log(hcvDataG.loc[:, 'ALP'] )"
      ],
      "execution_count": 32,
      "outputs": []
    },
    {
      "cell_type": "code",
      "metadata": {
        "id": "Bfmq2NM1wExp",
        "colab_type": "code",
        "colab": {
          "base_uri": "https://localhost:8080/",
          "height": 73
        },
        "outputId": "1ab7ddcd-7a9d-4658-f326-65718d9b8898"
      },
      "source": [
        "hcvDataG_by_health = hcvDataG.groupby('Healthy')\n",
        "  \n",
        "hcvDataG_healthy_ALP = hcvDataG_by_health.get_group('YES').loc[:, 'log ALP'].dropna()\n",
        "hcvDataG_ill_ALP = hcvDataG_by_health.get_group('NO').loc[:, 'log ALP'].dropna()\n",
        "\n",
        "s, p = stats.bartlett(hcvDataG_healthy_ALP, hcvDataG_ill_ALP)\n",
        "\n",
        "print('test statistics: {0:.4f}'.format(s))\n",
        "print('p-value: {0:.4f}'.format(p))\n",
        "print()"
      ],
      "execution_count": 34,
      "outputs": [
        {
          "output_type": "stream",
          "text": [
            "test statistics: 74.6121\n",
            "p-value: 0.0000\n",
            "\n"
          ],
          "name": "stdout"
        }
      ]
    },
    {
      "cell_type": "markdown",
      "metadata": {
        "id": "TKC-uzbGwExs",
        "colab_type": "text"
      },
      "source": [
        "Second assumption is not met, so let's check the difference with Mann-Whithey test."
      ]
    },
    {
      "cell_type": "code",
      "metadata": {
        "id": "XVld0t3lwExt",
        "colab_type": "code",
        "colab": {
          "base_uri": "https://localhost:8080/",
          "height": 73
        },
        "outputId": "e83f1d6f-ecba-4ac4-ff02-dccee7d5c582"
      },
      "source": [
        "s, p = stats.mannwhitneyu(hcvDataG_healthy_ALP, hcvDataG_ill_ALP, use_continuity = True, alternative='two-sided')\n",
        "\n",
        "print('Mann-Whitney test for ALP in healthy and ill people')\n",
        "print('  test statistics: {0:.4f}'.format(s))\n",
        "print('  p-value: {0:.4f}'.format(p))"
      ],
      "execution_count": 35,
      "outputs": [
        {
          "output_type": "stream",
          "text": [
            "Mann-Whitney test for ALP in healthy and ill people\n",
            "  test statistics: 21435.5000\n",
            "  p-value: 0.0000\n"
          ],
          "name": "stdout"
        }
      ]
    },
    {
      "cell_type": "markdown",
      "metadata": {
        "id": "lqoIHVuswExv",
        "colab_type": "text"
      },
      "source": [
        "Would the conclusion change if we didn't use log-transform?"
      ]
    },
    {
      "cell_type": "code",
      "metadata": {
        "id": "J8n8FBzawExv",
        "colab_type": "code",
        "colab": {
          "base_uri": "https://localhost:8080/",
          "height": 73
        },
        "outputId": "ac287216-07c1-4f45-a4ef-77fe9d7a41a9"
      },
      "source": [
        "hcvDataG_healthy_ALP_noLog = hcvDataG_by_health.get_group('YES').loc[:, 'ALP'].dropna()\n",
        "hcvDataG_ill_ALP_noLog = hcvDataG_by_health.get_group('NO').loc[:, 'ALP'].dropna()\n",
        "\n",
        "s, p = stats.mannwhitneyu(hcvDataG_healthy_ALP_noLog, hcvDataG_ill_ALP_noLog, \n",
        "        use_continuity = True, alternative='two-sided')\n",
        "\n",
        "print('Mann-Whitney test for ALP in healthy and ill people')\n",
        "print('  test statistics: {0:.4f}'.format(s))\n",
        "print('  p-value: {0:.4f}'.format(p))"
      ],
      "execution_count": 36,
      "outputs": [
        {
          "output_type": "stream",
          "text": [
            "Mann-Whitney test for ALP in healthy and ill people\n",
            "  test statistics: 21435.5000\n",
            "  p-value: 0.0000\n"
          ],
          "name": "stdout"
        }
      ]
    },
    {
      "cell_type": "markdown",
      "metadata": {
        "id": "hIb_3ZRuwExx",
        "colab_type": "text"
      },
      "source": [
        "**It's exactly the same. Why?**\n",
        "\n",
        "**And finally, let's see who has higher ALP.**"
      ]
    },
    {
      "cell_type": "code",
      "metadata": {
        "id": "QqWZfj_MwEx8",
        "colab_type": "code",
        "colab": {
          "base_uri": "https://localhost:8080/",
          "height": 380
        },
        "outputId": "3d2adc15-691b-4f14-b37f-8581ab358e45"
      },
      "source": [
        "fig = plt.figure(figsize=(7,5))\n",
        "ax = fig.add_subplot(111)\n",
        "hcvDataG.boxplot(column = 'ALP', by='Healthy', ax=ax, grid=False)"
      ],
      "execution_count": 37,
      "outputs": [
        {
          "output_type": "execute_result",
          "data": {
            "text/plain": [
              "<matplotlib.axes._subplots.AxesSubplot at 0x7f4ed2a814e0>"
            ]
          },
          "metadata": {
            "tags": []
          },
          "execution_count": 37
        },
        {
          "output_type": "display_data",
          "data": {
            "image/png": "[encoded data removed]",
            "text/plain": [
              "<Figure size 504x360 with 1 Axes>"
            ]
          },
          "metadata": {
            "tags": [],
            "needs_background": "light"
          }
        }
      ]
    },
    {
      "cell_type": "markdown",
      "metadata": {
        "id": "_MYilpDQwEx-",
        "colab_type": "text"
      },
      "source": [
        "**Would the conclusion change if we used t-test instead?**"
      ]
    },
    {
      "cell_type": "code",
      "metadata": {
        "id": "AK1PywIgwEx_",
        "colab_type": "code",
        "colab": {
          "base_uri": "https://localhost:8080/",
          "height": 73
        },
        "outputId": "c3ae4596-34e9-4798-d1c8-3362c876385c"
      },
      "source": [
        "s, p = stats.ttest_ind(hcvDataG_healthy_ALP, hcvDataG_ill_ALP, nan_policy='omit')\n",
        "\n",
        "print('t-test for ALP in healthy and ill people')\n",
        "print('  test statistics: {0:.4f}'.format(s))\n",
        "print('  p-value: {0:.4f}'.format(p))"
      ],
      "execution_count": 38,
      "outputs": [
        {
          "output_type": "stream",
          "text": [
            "t-test for ALP in healthy and ill people\n",
            "  test statistics: 7.3932\n",
            "  p-value: 0.0000\n"
          ],
          "name": "stdout"
        }
      ]
    },
    {
      "cell_type": "code",
      "metadata": {
        "id": "uUz7IsO4wEyB",
        "colab_type": "code",
        "colab": {
          "base_uri": "https://localhost:8080/",
          "height": 73
        },
        "outputId": "5d550975-e2c7-4203-8c74-236b5d219ace"
      },
      "source": [
        "s, p = stats.ttest_ind(hcvDataG_healthy_ALP_noLog, hcvDataG_ill_ALP_noLog, nan_policy='omit')\n",
        "\n",
        "print('t-test for log(ALP) in healthy and ill people')\n",
        "print('  test statistics: {0:.4f}'.format(s))\n",
        "print('  p-value: {0:.4f}'.format(p))"
      ],
      "execution_count": 39,
      "outputs": [
        {
          "output_type": "stream",
          "text": [
            "t-test for log(ALP) in healthy and ill people\n",
            "  test statistics: 4.1281\n",
            "  p-value: 0.0000\n"
          ],
          "name": "stdout"
        }
      ]
    },
    {
      "cell_type": "markdown",
      "metadata": {
        "id": "2XlbPq6LwEyE",
        "colab_type": "text"
      },
      "source": [
        "**More correct option would be to use Welch test, which is just t-test modified so that it can accomodate unequal variances**\n",
        "\n",
        "Let's do it on log-transformed data."
      ]
    },
    {
      "cell_type": "code",
      "metadata": {
        "id": "J2eOTFZgwEyE",
        "colab_type": "code",
        "colab": {
          "base_uri": "https://localhost:8080/",
          "height": 73
        },
        "outputId": "f92d7e2f-bcde-498a-ac53-9981522d2007"
      },
      "source": [
        "s, p = stats.ttest_ind(hcvDataG_healthy_ALP, hcvDataG_ill_ALP, nan_policy='omit', equal_var=False)\n",
        "\n",
        "print('t-test for ALP in healthy and ill people')\n",
        "print('  test statistics: {0:.4f}'.format(s))\n",
        "print('  p-value: {0:.4f}'.format(p))"
      ],
      "execution_count": 40,
      "outputs": [
        {
          "output_type": "stream",
          "text": [
            "t-test for ALP in healthy and ill people\n",
            "  test statistics: 4.2645\n",
            "  p-value: 0.0001\n"
          ],
          "name": "stdout"
        }
      ]
    },
    {
      "cell_type": "markdown",
      "metadata": {
        "id": "R-CsnzvowEyF",
        "colab_type": "text"
      },
      "source": [
        "**Try to modify the code above to:**\n",
        "* Compare bilirubin between men and women\n",
        "* Compare white blood cells between healthy and ill people"
      ]
    },
    {
      "cell_type": "markdown",
      "metadata": {
        "id": "NTuyk6eXwEyG",
        "colab_type": "text"
      },
      "source": [
        "## Differences between 3 or more independent groups"
      ]
    },
    {
      "cell_type": "markdown",
      "metadata": {
        "id": "9upbxvz5wEyG",
        "colab_type": "text"
      },
      "source": [
        "**Check if patients in different groups (Category) have differnt albumin (ALB)**"
      ]
    },
    {
      "cell_type": "markdown",
      "metadata": {
        "id": "qZagYcrIwEyG",
        "colab_type": "text"
      },
      "source": [
        "Start by verification of assumptions for ANOVA"
      ]
    },
    {
      "cell_type": "code",
      "metadata": {
        "id": "NX-u520UwEyH",
        "colab_type": "code",
        "colab": {
          "base_uri": "https://localhost:8080/",
          "height": 316
        },
        "outputId": "d6a7ab31-5751-4a47-e9c2-9ca19684f0a8"
      },
      "source": [
        "hcvDataG_by_cat = hcvDataG.groupby('Category')\n",
        "varName = 'ALP'\n",
        "\n",
        "for group in hcvDataG_by_cat:\n",
        "    groupName = group[0]\n",
        "    groupData = hcvDataG_by_cat.get_group(groupName)\n",
        "    \n",
        "    s, p = stats.shapiro(groupData.loc[:, varName].dropna())\n",
        "    \n",
        "    print('Group: {0:s}'.format(groupName))\n",
        "    print('  test statistics: {0:.4f}'.format(s))\n",
        "    print('  p-value: {0:.4f}'.format(p))\n",
        "    print()"
      ],
      "execution_count": 41,
      "outputs": [
        {
          "output_type": "stream",
          "text": [
            "Group: Blood Donor\n",
            "  test statistics: 0.9443\n",
            "  p-value: 0.0000\n",
            "\n",
            "Group: Cirrhosis\n",
            "  test statistics: 0.9548\n",
            "  p-value: 0.3663\n",
            "\n",
            "Group: Fibrosis\n",
            "  test statistics: 0.9713\n",
            "  p-value: 0.9243\n",
            "\n",
            "Group: Hepatitis\n",
            "  test statistics: 0.7014\n",
            "  p-value: 0.0000\n",
            "\n"
          ],
          "name": "stdout"
        }
      ]
    },
    {
      "cell_type": "markdown",
      "metadata": {
        "id": "XmqWKZfawEyJ",
        "colab_type": "text"
      },
      "source": [
        "Normality assumption is not met, so let's use Kruskal-Wallis test to compare the groups."
      ]
    },
    {
      "cell_type": "code",
      "metadata": {
        "id": "mgpwEl0twEyJ",
        "colab_type": "code",
        "colab": {
          "base_uri": "https://localhost:8080/",
          "height": 54
        },
        "outputId": "24243843-c7e9-4d90-9df8-10f6d321939a"
      },
      "source": [
        "hcvDonors = hcvDataG_by_cat.get_group('Blood Donor').loc[:, varName]\n",
        "hcvCirrhosis = hcvDataG_by_cat.get_group('Cirrhosis').loc[:, varName]\n",
        "hcvFibrosis = hcvDataG_by_cat.get_group('Fibrosis').loc[:, varName]\n",
        "hcvHepatitis = hcvDataG_by_cat.get_group('Hepatitis').loc[:, varName]\n",
        "\n",
        "s, p = stats.kruskal(hcvDonors, hcvCirrhosis, hcvFibrosis, hcvHepatitis, nan_policy = 'omit')\n",
        "\n",
        "print('test statistics: {0:.4f}'.format(s))\n",
        "print('p-value: {0:.4f}'.format(p))"
      ],
      "execution_count": 42,
      "outputs": [
        {
          "output_type": "stream",
          "text": [
            "test statistics: 60.2319\n",
            "p-value: 0.0000\n"
          ],
          "name": "stdout"
        }
      ]
    },
    {
      "cell_type": "markdown",
      "metadata": {
        "id": "t9rkGXJbwEyL",
        "colab_type": "text"
      },
      "source": [
        "Which pairs of groups differ?"
      ]
    },
    {
      "cell_type": "code",
      "metadata": {
        "id": "TBp9_iOqwEyM",
        "colab_type": "code",
        "colab": {
          "base_uri": "https://localhost:8080/",
          "height": 175
        },
        "outputId": "85b34493-bc95-4842-efca-c3120fa428cd"
      },
      "source": [
        "post_hoc_results = posthocs.posthoc_dunn(hcvDataG, val_col = varName, group_col = 'Category')\n",
        "post_hoc_results"
      ],
      "execution_count": 43,
      "outputs": [
        {
          "output_type": "execute_result",
          "data": {
            "text/html": [
              "<div>\n",
              "<style scoped>\n",
              "    .dataframe tbody tr th:only-of-type {\n",
              "        vertical-align: middle;\n",
              "    }\n",
              "\n",
              "    .dataframe tbody tr th {\n",
              "        vertical-align: top;\n",
              "    }\n",
              "\n",
              "    .dataframe thead th {\n",
              "        text-align: right;\n",
              "    }\n",
              "</style>\n",
              "<table border=\"1\" class=\"dataframe\">\n",
              "  <thead>\n",
              "    <tr style=\"text-align: right;\">\n",
              "      <th></th>\n",
              "      <th>Blood Donor</th>\n",
              "      <th>Cirrhosis</th>\n",
              "      <th>Fibrosis</th>\n",
              "      <th>Hepatitis</th>\n",
              "    </tr>\n",
              "  </thead>\n",
              "  <tbody>\n",
              "    <tr>\n",
              "      <th>Blood Donor</th>\n",
              "      <td>-1.0000</td>\n",
              "      <td>0.3625</td>\n",
              "      <td>0.0000</td>\n",
              "      <td>0.0000</td>\n",
              "    </tr>\n",
              "    <tr>\n",
              "      <th>Cirrhosis</th>\n",
              "      <td>0.3625</td>\n",
              "      <td>-1.0000</td>\n",
              "      <td>0.0000</td>\n",
              "      <td>0.0000</td>\n",
              "    </tr>\n",
              "    <tr>\n",
              "      <th>Fibrosis</th>\n",
              "      <td>0.0000</td>\n",
              "      <td>0.0000</td>\n",
              "      <td>-1.0000</td>\n",
              "      <td>0.4931</td>\n",
              "    </tr>\n",
              "    <tr>\n",
              "      <th>Hepatitis</th>\n",
              "      <td>0.0000</td>\n",
              "      <td>0.0000</td>\n",
              "      <td>0.4931</td>\n",
              "      <td>-1.0000</td>\n",
              "    </tr>\n",
              "  </tbody>\n",
              "</table>\n",
              "</div>"
            ],
            "text/plain": [
              "             Blood Donor  Cirrhosis  Fibrosis  Hepatitis\n",
              "Blood Donor      -1.0000     0.3625    0.0000     0.0000\n",
              "Cirrhosis         0.3625    -1.0000    0.0000     0.0000\n",
              "Fibrosis          0.0000     0.0000   -1.0000     0.4931\n",
              "Hepatitis         0.0000     0.0000    0.4931    -1.0000"
            ]
          },
          "metadata": {
            "tags": []
          },
          "execution_count": 43
        }
      ]
    },
    {
      "cell_type": "code",
      "metadata": {
        "id": "RCUmcpWdwEyO",
        "colab_type": "code",
        "colab": {
          "base_uri": "https://localhost:8080/",
          "height": 129
        },
        "outputId": "17770aef-8f57-4001-eee7-b877ccf05c6f"
      },
      "source": [
        "group_names = list(np.unique(hcvDataG.loc[:, 'Category']))\n",
        "\n",
        "for comb in itertools.combinations(group_names, r=2):\n",
        "    names = list(comb)\n",
        "    print('{0:s} vs {1:s}: p={2:.4f}'.format(names[0], names[1], post_hoc_results.loc[names[0], names[1]]))"
      ],
      "execution_count": 44,
      "outputs": [
        {
          "output_type": "stream",
          "text": [
            "Blood Donor vs Cirrhosis: p=0.3625\n",
            "Blood Donor vs Fibrosis: p=0.0000\n",
            "Blood Donor vs Hepatitis: p=0.0000\n",
            "Cirrhosis vs Fibrosis: p=0.0000\n",
            "Cirrhosis vs Hepatitis: p=0.0000\n",
            "Fibrosis vs Hepatitis: p=0.4931\n"
          ],
          "name": "stdout"
        }
      ]
    },
    {
      "cell_type": "markdown",
      "metadata": {
        "id": "bm8e_RNCwEyQ",
        "colab_type": "text"
      },
      "source": [
        "Finally, let's look at the differences"
      ]
    },
    {
      "cell_type": "code",
      "metadata": {
        "id": "xzjbOAK9wEyQ",
        "colab_type": "code",
        "colab": {
          "base_uri": "https://localhost:8080/",
          "height": 361
        },
        "outputId": "3de334ab-4470-4083-a858-9de00db0129d"
      },
      "source": [
        "fig = plt.figure(figsize=(7,5))\n",
        "ax = fig.add_subplot(111)\n",
        "_ = hcvDataG.boxplot(column = varName, by='Category', ax=ax, grid=False)\n",
        "# ax.set_ylim(15,65)"
      ],
      "execution_count": 45,
      "outputs": [
        {
          "output_type": "display_data",
          "data": {
            "image/png": "[encoded data removed]",
            "text/plain": [
              "<Figure size 504x360 with 1 Axes>"
            ]
          },
          "metadata": {
            "tags": [],
            "needs_background": "light"
          }
        }
      ]
    },
    {
      "cell_type": "markdown",
      "metadata": {
        "id": "szqGo13twEyU",
        "colab_type": "text"
      },
      "source": [
        "**What would happen with ANOVA applied to the task?**"
      ]
    },
    {
      "cell_type": "code",
      "metadata": {
        "id": "Fvgfxam-wEyU",
        "colab_type": "code",
        "colab": {
          "base_uri": "https://localhost:8080/",
          "height": 54
        },
        "outputId": "56ff6b9d-8004-4755-dd65-a1716964f1ba"
      },
      "source": [
        "s, p = stats.f_oneway(\n",
        "    hcvDonors.dropna(),\n",
        "    hcvCirrhosis.dropna(),\n",
        "    hcvFibrosis.dropna(),\n",
        "    hcvHepatitis.dropna(),\n",
        ")\n",
        "\n",
        "print('test statistics: {0:.4f}'.format(s))\n",
        "print('p-value: {0:.4f}'.format(p))"
      ],
      "execution_count": 46,
      "outputs": [
        {
          "output_type": "stream",
          "text": [
            "test statistics: 21.9094\n",
            "p-value: 0.0000\n"
          ],
          "name": "stdout"
        }
      ]
    },
    {
      "cell_type": "code",
      "metadata": {
        "id": "Nm_FrdyfwEyW",
        "colab_type": "code",
        "colab": {
          "base_uri": "https://localhost:8080/",
          "height": 175
        },
        "outputId": "50ce06ef-728b-4c74-a32e-c91de62a8e85"
      },
      "source": [
        "post_hoc_results = posthocs.posthoc_tukey(hcvDataG, val_col=varName, group_col='Category')\n",
        "post_hoc_results"
      ],
      "execution_count": 47,
      "outputs": [
        {
          "output_type": "execute_result",
          "data": {
            "text/html": [
              "<div>\n",
              "<style scoped>\n",
              "    .dataframe tbody tr th:only-of-type {\n",
              "        vertical-align: middle;\n",
              "    }\n",
              "\n",
              "    .dataframe tbody tr th {\n",
              "        vertical-align: top;\n",
              "    }\n",
              "\n",
              "    .dataframe thead th {\n",
              "        text-align: right;\n",
              "    }\n",
              "</style>\n",
              "<table border=\"1\" class=\"dataframe\">\n",
              "  <thead>\n",
              "    <tr style=\"text-align: right;\">\n",
              "      <th></th>\n",
              "      <th>Blood Donor</th>\n",
              "      <th>Hepatitis</th>\n",
              "      <th>Fibrosis</th>\n",
              "      <th>Cirrhosis</th>\n",
              "    </tr>\n",
              "  </thead>\n",
              "  <tbody>\n",
              "    <tr>\n",
              "      <th>Blood Donor</th>\n",
              "      <td>-1.0000</td>\n",
              "      <td>0.0010</td>\n",
              "      <td>0.0010</td>\n",
              "      <td>0.0916</td>\n",
              "    </tr>\n",
              "    <tr>\n",
              "      <th>Hepatitis</th>\n",
              "      <td>0.0010</td>\n",
              "      <td>-1.0000</td>\n",
              "      <td>0.9000</td>\n",
              "      <td>0.0010</td>\n",
              "    </tr>\n",
              "    <tr>\n",
              "      <th>Fibrosis</th>\n",
              "      <td>0.0010</td>\n",
              "      <td>0.9000</td>\n",
              "      <td>-1.0000</td>\n",
              "      <td>0.0010</td>\n",
              "    </tr>\n",
              "    <tr>\n",
              "      <th>Cirrhosis</th>\n",
              "      <td>0.0916</td>\n",
              "      <td>0.0010</td>\n",
              "      <td>0.0010</td>\n",
              "      <td>-1.0000</td>\n",
              "    </tr>\n",
              "  </tbody>\n",
              "</table>\n",
              "</div>"
            ],
            "text/plain": [
              "             Blood Donor  Hepatitis  Fibrosis  Cirrhosis\n",
              "Blood Donor      -1.0000     0.0010    0.0010     0.0916\n",
              "Hepatitis         0.0010    -1.0000    0.9000     0.0010\n",
              "Fibrosis          0.0010     0.9000   -1.0000     0.0010\n",
              "Cirrhosis         0.0916     0.0010    0.0010    -1.0000"
            ]
          },
          "metadata": {
            "tags": []
          },
          "execution_count": 47
        }
      ]
    },
    {
      "cell_type": "code",
      "metadata": {
        "id": "--BKyHohwEyZ",
        "colab_type": "code",
        "colab": {
          "base_uri": "https://localhost:8080/",
          "height": 129
        },
        "outputId": "71ed555e-219c-47a1-a6bb-860ebd09687f"
      },
      "source": [
        "group_names = list(np.unique(hcvDataG.loc[:, 'Category']))\n",
        "\n",
        "for comb in itertools.combinations(group_names, r=2):\n",
        "    names = list(comb)\n",
        "    print('{0:s} vs {1:s}: p={2:.4f}'.format(names[0], names[1], post_hoc_results.loc[names[0], names[1]]))"
      ],
      "execution_count": 48,
      "outputs": [
        {
          "output_type": "stream",
          "text": [
            "Blood Donor vs Cirrhosis: p=0.0916\n",
            "Blood Donor vs Fibrosis: p=0.0010\n",
            "Blood Donor vs Hepatitis: p=0.0010\n",
            "Cirrhosis vs Fibrosis: p=0.0010\n",
            "Cirrhosis vs Hepatitis: p=0.0010\n",
            "Fibrosis vs Hepatitis: p=0.9000\n"
          ],
          "name": "stdout"
        }
      ]
    },
    {
      "cell_type": "markdown",
      "metadata": {
        "id": "KS9zaPvtwEya",
        "colab_type": "text"
      },
      "source": [
        "**If you want to practice more:**\n",
        "* Repeat the analysis for red blood cells (RBC).\n",
        "* Try modifing the code so that you can get analysis for more than one variable at the same time."
      ]
    },
    {
      "cell_type": "markdown",
      "metadata": {
        "id": "eCus-eD3wEyb",
        "colab_type": "text"
      },
      "source": [
        "## Differences between 2 dependent groups"
      ]
    },
    {
      "cell_type": "markdown",
      "metadata": {
        "id": "kL0nkRX1wEyc",
        "colab_type": "text"
      },
      "source": [
        "**Now, we will move to the segond (Egyptian) dataset.**\n",
        "\n",
        "**Check is amount of viral RNA changed between the baseline (RNA Base) and end of treatment (RNA EOT)**"
      ]
    },
    {
      "cell_type": "markdown",
      "metadata": {
        "id": "ud2D-CTuwEyc",
        "colab_type": "text"
      },
      "source": [
        "Start checking assumptions of parametric (t-test for related/dependant)."
      ]
    },
    {
      "cell_type": "code",
      "metadata": {
        "id": "qDx3uMPjwEyd",
        "colab_type": "code",
        "colab": {}
      },
      "source": [
        "varNames = ['RNA Base', 'RNA EOT']\n",
        "hcvRNA = hcvDataE.loc[:, varNames].dropna(axis='index', how='any')"
      ],
      "execution_count": 49,
      "outputs": []
    },
    {
      "cell_type": "code",
      "metadata": {
        "id": "IfLLEXdrwEyf",
        "colab_type": "code",
        "colab": {
          "base_uri": "https://localhost:8080/",
          "height": 167
        },
        "outputId": "90ec2975-5a78-4fe5-942a-f13ffa7746a8"
      },
      "source": [
        "for varName in varNames:\n",
        "    s, p = stats.shapiro(hcvRNA.loc[:, varName])\n",
        "\n",
        "    print('Group: {0:s}'.format(varName))\n",
        "    print('  test statistics: {0:.4f}'.format(s))\n",
        "    print('  p-value: {0:.4f}'.format(p))\n",
        "    print()"
      ],
      "execution_count": 50,
      "outputs": [
        {
          "output_type": "stream",
          "text": [
            "Group: RNA Base\n",
            "  test statistics: 0.9511\n",
            "  p-value: 0.0000\n",
            "\n",
            "Group: RNA EOT\n",
            "  test statistics: 0.8839\n",
            "  p-value: 0.0000\n",
            "\n"
          ],
          "name": "stdout"
        }
      ]
    },
    {
      "cell_type": "markdown",
      "metadata": {
        "id": "mdstA7BkwEyh",
        "colab_type": "text"
      },
      "source": [
        "At this point, you can check if logarithmic transformation of values makes distribution normal (buyt here it doesn't).\n",
        "\n",
        "To analyze the changes in viral RNA, we will use non-parametric test: Wilcoxon test."
      ]
    },
    {
      "cell_type": "code",
      "metadata": {
        "id": "Ml5DsUZKwEyh",
        "colab_type": "code",
        "colab": {
          "base_uri": "https://localhost:8080/",
          "height": 54
        },
        "outputId": "8b3feb1f-2bbf-4d19-96ad-17401c098715"
      },
      "source": [
        "s, p = stats.wilcoxon(hcvRNA.loc[:, 'RNA Base'], hcvRNA.loc[:, 'RNA EOT'])\n",
        "\n",
        "print('test statistics: {0:.4f}'.format(s))\n",
        "print('p-value: {0:.4f}'.format(p))"
      ],
      "execution_count": 51,
      "outputs": [
        {
          "output_type": "stream",
          "text": [
            "test statistics: 163353.0000\n",
            "p-value: 0.0000\n"
          ],
          "name": "stdout"
        }
      ]
    },
    {
      "cell_type": "markdown",
      "metadata": {
        "id": "VDwaiq8SwEyl",
        "colab_type": "text"
      },
      "source": [
        "Amount of viral DNA changes during treatment, so try to visualize it."
      ]
    },
    {
      "cell_type": "code",
      "metadata": {
        "id": "I6HGpGWfwEyl",
        "colab_type": "code",
        "colab": {
          "base_uri": "https://localhost:8080/",
          "height": 331
        },
        "outputId": "9b364d29-9146-4741-8e01-873345b3d173"
      },
      "source": [
        "fig = plt.figure(figsize=(7,5))\n",
        "ax = fig.add_subplot(111)\n",
        "_ = hcvRNA.boxplot(column = varNames, ax=ax, grid=False)"
      ],
      "execution_count": 52,
      "outputs": [
        {
          "output_type": "display_data",
          "data": {
            "image/png": "[encoded data removed]",
            "text/plain": [
              "<Figure size 504x360 with 1 Axes>"
            ]
          },
          "metadata": {
            "tags": [],
            "needs_background": "light"
          }
        }
      ]
    },
    {
      "cell_type": "markdown",
      "metadata": {
        "id": "Wm5q8_XEwEyn",
        "colab_type": "text"
      },
      "source": [
        "**What if we used t-test instead?**"
      ]
    },
    {
      "cell_type": "code",
      "metadata": {
        "id": "gKK5RXI8wEyn",
        "colab_type": "code",
        "colab": {
          "base_uri": "https://localhost:8080/",
          "height": 54
        },
        "outputId": "f0a5bcce-2d1e-4b87-9b7c-90358b0196fd"
      },
      "source": [
        "s, p = stats.ttest_rel(hcvRNA.loc[:, 'RNA Base'], hcvRNA.loc[:, 'RNA EOT'])\n",
        "\n",
        "print('test statistics: {0:.4f}'.format(s))\n",
        "print('p-value: {0:.4f}'.format(p))"
      ],
      "execution_count": 53,
      "outputs": [
        {
          "output_type": "stream",
          "text": [
            "test statistics: 25.6865\n",
            "p-value: 0.0000\n"
          ],
          "name": "stdout"
        }
      ]
    },
    {
      "cell_type": "markdown",
      "metadata": {
        "id": "rm7oGfoqwEyp",
        "colab_type": "text"
      },
      "source": [
        "## Differences between 3 or more related measurments"
      ]
    },
    {
      "cell_type": "markdown",
      "metadata": {
        "id": "oXd1JGtZwEyr",
        "colab_type": "text"
      },
      "source": [
        "**Analyse changes in amounts viral RNA along the treatment**\n",
        "\n",
        "We check normality of distribution at baseline at and at the end of treatment, so we know that assumptions for ANOVA are not met. We can move directly to Friedman test."
      ]
    },
    {
      "cell_type": "code",
      "metadata": {
        "id": "JWao91vSwEyr",
        "colab_type": "code",
        "colab": {}
      },
      "source": [
        "varNames = ['RNA Base', 'RNA 4', 'RNA 12', 'RNA EOT']\n",
        "hcvRNA = hcvDataE.loc[:, varNames].dropna(axis='index', how='any')"
      ],
      "execution_count": 54,
      "outputs": []
    },
    {
      "cell_type": "code",
      "metadata": {
        "id": "F3q931mKwEys",
        "colab_type": "code",
        "colab": {
          "base_uri": "https://localhost:8080/",
          "height": 54
        },
        "outputId": "949d08d1-3a12-4873-f02e-2c54b3093294"
      },
      "source": [
        "s, p = stats.friedmanchisquare(\n",
        "    hcvRNA.loc[:, 'RNA Base'],\n",
        "    hcvRNA.loc[:, 'RNA 4'],\n",
        "    hcvRNA.loc[:, 'RNA 12'],\n",
        "    hcvRNA.loc[:, 'RNA EOT'],\n",
        ")\n",
        "\n",
        "print('test statistics: {0:.4f}'.format(s))\n",
        "print('p-value: {0:.4f}'.format(p))"
      ],
      "execution_count": 55,
      "outputs": [
        {
          "output_type": "stream",
          "text": [
            "test statistics: 897.3445\n",
            "p-value: 0.0000\n"
          ],
          "name": "stdout"
        }
      ]
    },
    {
      "cell_type": "code",
      "metadata": {
        "id": "W8ODcvAHwEyv",
        "colab_type": "code",
        "colab": {
          "base_uri": "https://localhost:8080/",
          "height": 175
        },
        "outputId": "8354422e-3af3-4775-c05f-ab43659df2d1"
      },
      "source": [
        "post_hoc_results = posthocs.posthoc_nemenyi_friedman(hcvRNA, y_col=varNames)\n",
        "post_hoc_results.loc[varNames, varNames]"
      ],
      "execution_count": 56,
      "outputs": [
        {
          "output_type": "execute_result",
          "data": {
            "text/html": [
              "<div>\n",
              "<style scoped>\n",
              "    .dataframe tbody tr th:only-of-type {\n",
              "        vertical-align: middle;\n",
              "    }\n",
              "\n",
              "    .dataframe tbody tr th {\n",
              "        vertical-align: top;\n",
              "    }\n",
              "\n",
              "    .dataframe thead th {\n",
              "        text-align: right;\n",
              "    }\n",
              "</style>\n",
              "<table border=\"1\" class=\"dataframe\">\n",
              "  <thead>\n",
              "    <tr style=\"text-align: right;\">\n",
              "      <th></th>\n",
              "      <th>RNA Base</th>\n",
              "      <th>RNA 4</th>\n",
              "      <th>RNA 12</th>\n",
              "      <th>RNA EOT</th>\n",
              "    </tr>\n",
              "  </thead>\n",
              "  <tbody>\n",
              "    <tr>\n",
              "      <th>RNA Base</th>\n",
              "      <td>-1.0000</td>\n",
              "      <td>0.9000</td>\n",
              "      <td>0.0010</td>\n",
              "      <td>0.0010</td>\n",
              "    </tr>\n",
              "    <tr>\n",
              "      <th>RNA 4</th>\n",
              "      <td>0.9000</td>\n",
              "      <td>-1.0000</td>\n",
              "      <td>0.0010</td>\n",
              "      <td>0.0010</td>\n",
              "    </tr>\n",
              "    <tr>\n",
              "      <th>RNA 12</th>\n",
              "      <td>0.0010</td>\n",
              "      <td>0.0010</td>\n",
              "      <td>-1.0000</td>\n",
              "      <td>0.9000</td>\n",
              "    </tr>\n",
              "    <tr>\n",
              "      <th>RNA EOT</th>\n",
              "      <td>0.0010</td>\n",
              "      <td>0.0010</td>\n",
              "      <td>0.9000</td>\n",
              "      <td>-1.0000</td>\n",
              "    </tr>\n",
              "  </tbody>\n",
              "</table>\n",
              "</div>"
            ],
            "text/plain": [
              "          RNA Base   RNA 4  RNA 12  RNA EOT\n",
              "RNA Base   -1.0000  0.9000  0.0010   0.0010\n",
              "RNA 4       0.9000 -1.0000  0.0010   0.0010\n",
              "RNA 12      0.0010  0.0010 -1.0000   0.9000\n",
              "RNA EOT     0.0010  0.0010  0.9000  -1.0000"
            ]
          },
          "metadata": {
            "tags": []
          },
          "execution_count": 56
        }
      ]
    },
    {
      "cell_type": "code",
      "metadata": {
        "id": "YZqFG8mdwEyw",
        "colab_type": "code",
        "colab": {
          "base_uri": "https://localhost:8080/",
          "height": 331
        },
        "outputId": "4382d73f-0aac-4336-9f1f-1e622c274a91"
      },
      "source": [
        "fig = plt.figure(figsize=(7,5))\n",
        "ax = fig.add_subplot(111)\n",
        "_ = hcvRNA.boxplot(column = varNames, ax=ax, grid=False)\n",
        "_ = ax.set_ylim(top=15*10**5)"
      ],
      "execution_count": 57,
      "outputs": [
        {
          "output_type": "display_data",
          "data": {
            "image/png": "[encoded data removed]",
            "text/plain": [
              "<Figure size 504x360 with 1 Axes>"
            ]
          },
          "metadata": {
            "tags": [],
            "needs_background": "light"
          }
        }
      ]
    },
    {
      "cell_type": "markdown",
      "metadata": {
        "id": "iuGXcpZSwEyx",
        "colab_type": "text"
      },
      "source": [
        "**Let's try another option of visualization, so calle cases' profiles**\n",
        "\n",
        "First, we transform our array, so that one column contains patient's IDs, other timepoints and the last amount of RNA."
      ]
    },
    {
      "cell_type": "code",
      "metadata": {
        "id": "gkWAK6-hwEyy",
        "colab_type": "code",
        "colab": {
          "base_uri": "https://localhost:8080/",
          "height": 423
        },
        "outputId": "2821ced9-47da-43e9-f33a-76f40af581e4"
      },
      "source": [
        "hcvRNA.loc[:, 'Patient'] = hcvRNA.index\n",
        "hcvRNAmelted = pd.melt(hcvRNA, id_vars = 'Patient', value_vars = varNames, var_name = 'Timepoint', value_name = 'RNA')\n",
        "hcvRNAmelted"
      ],
      "execution_count": 58,
      "outputs": [
        {
          "output_type": "execute_result",
          "data": {
            "text/html": [
              "<div>\n",
              "<style scoped>\n",
              "    .dataframe tbody tr th:only-of-type {\n",
              "        vertical-align: middle;\n",
              "    }\n",
              "\n",
              "    .dataframe tbody tr th {\n",
              "        vertical-align: top;\n",
              "    }\n",
              "\n",
              "    .dataframe thead th {\n",
              "        text-align: right;\n",
              "    }\n",
              "</style>\n",
              "<table border=\"1\" class=\"dataframe\">\n",
              "  <thead>\n",
              "    <tr style=\"text-align: right;\">\n",
              "      <th></th>\n",
              "      <th>Patient</th>\n",
              "      <th>Timepoint</th>\n",
              "      <th>RNA</th>\n",
              "    </tr>\n",
              "  </thead>\n",
              "  <tbody>\n",
              "    <tr>\n",
              "      <th>0</th>\n",
              "      <td>1</td>\n",
              "      <td>RNA Base</td>\n",
              "      <td>655330</td>\n",
              "    </tr>\n",
              "    <tr>\n",
              "      <th>1</th>\n",
              "      <td>2</td>\n",
              "      <td>RNA Base</td>\n",
              "      <td>40620</td>\n",
              "    </tr>\n",
              "    <tr>\n",
              "      <th>2</th>\n",
              "      <td>3</td>\n",
              "      <td>RNA Base</td>\n",
              "      <td>571148</td>\n",
              "    </tr>\n",
              "    <tr>\n",
              "      <th>3</th>\n",
              "      <td>4</td>\n",
              "      <td>RNA Base</td>\n",
              "      <td>1041941</td>\n",
              "    </tr>\n",
              "    <tr>\n",
              "      <th>4</th>\n",
              "      <td>5</td>\n",
              "      <td>RNA Base</td>\n",
              "      <td>660410</td>\n",
              "    </tr>\n",
              "    <tr>\n",
              "      <th>...</th>\n",
              "      <td>...</td>\n",
              "      <td>...</td>\n",
              "      <td>...</td>\n",
              "    </tr>\n",
              "    <tr>\n",
              "      <th>5535</th>\n",
              "      <td>1381</td>\n",
              "      <td>RNA EOT</td>\n",
              "      <td>5</td>\n",
              "    </tr>\n",
              "    <tr>\n",
              "      <th>5536</th>\n",
              "      <td>1382</td>\n",
              "      <td>RNA EOT</td>\n",
              "      <td>73574</td>\n",
              "    </tr>\n",
              "    <tr>\n",
              "      <th>5537</th>\n",
              "      <td>1383</td>\n",
              "      <td>RNA EOT</td>\n",
              "      <td>343719</td>\n",
              "    </tr>\n",
              "    <tr>\n",
              "      <th>5538</th>\n",
              "      <td>1384</td>\n",
              "      <td>RNA EOT</td>\n",
              "      <td>2460</td>\n",
              "    </tr>\n",
              "    <tr>\n",
              "      <th>5539</th>\n",
              "      <td>1385</td>\n",
              "      <td>RNA EOT</td>\n",
              "      <td>5</td>\n",
              "    </tr>\n",
              "  </tbody>\n",
              "</table>\n",
              "<p>5540 rows × 3 columns</p>\n",
              "</div>"
            ],
            "text/plain": [
              "      Patient Timepoint      RNA\n",
              "0           1  RNA Base   655330\n",
              "1           2  RNA Base    40620\n",
              "2           3  RNA Base   571148\n",
              "3           4  RNA Base  1041941\n",
              "4           5  RNA Base   660410\n",
              "...       ...       ...      ...\n",
              "5535     1381   RNA EOT        5\n",
              "5536     1382   RNA EOT    73574\n",
              "5537     1383   RNA EOT   343719\n",
              "5538     1384   RNA EOT     2460\n",
              "5539     1385   RNA EOT        5\n",
              "\n",
              "[5540 rows x 3 columns]"
            ]
          },
          "metadata": {
            "tags": []
          },
          "execution_count": 58
        }
      ]
    },
    {
      "cell_type": "markdown",
      "metadata": {
        "id": "aflkswFTwEy0",
        "colab_type": "text"
      },
      "source": [
        "Let's plot the profiles for 10 random patients."
      ]
    },
    {
      "cell_type": "code",
      "metadata": {
        "id": "6gUxOj_QwEy1",
        "colab_type": "code",
        "colab": {
          "base_uri": "https://localhost:8080/",
          "height": 290
        },
        "outputId": "ba5dce84-20e6-490d-e049-39a3e68469f3"
      },
      "source": [
        "nPatients = 10\n",
        "patientIDs = np.unique(hcvRNAmelted['Patient'])\n",
        "selectedPatientIds = np.random.choice(patientIDs, size=nPatients, replace=False)\n",
        "\n",
        "selectedRows = [id in list(selectedPatientIds) for id in hcvRNAmelted['Patient']]\n",
        "\n",
        "hcvRNAmelted_some_patients = hcvRNAmelted.loc[selectedRows,:]\n",
        "hcvRNAmelted_some_patients\n",
        "\n",
        "ax = sns.pointplot(data=hcvRNAmelted_some_patients, x='Timepoint', y='RNA', hue='Patient', palette='colorblind',\n",
        "                  legend=False)\n",
        "ax.get_legend().remove()"
      ],
      "execution_count": 60,
      "outputs": [
        {
          "output_type": "display_data",
          "data": {
            "image/png": "[encoded data removed]",
            "text/plain": [
              "<Figure size 432x288 with 1 Axes>"
            ]
          },
          "metadata": {
            "tags": [],
            "needs_background": "light"
          }
        }
      ]
    },
    {
      "cell_type": "markdown",
      "metadata": {
        "id": "UgwYDBLdwEy3",
        "colab_type": "text"
      },
      "source": [
        "**Would the conclusion change if we applied ANOVA for repeated measurments?**"
      ]
    },
    {
      "cell_type": "code",
      "metadata": {
        "id": "NOVkcz2iwEy3",
        "colab_type": "code",
        "colab": {
          "base_uri": "https://localhost:8080/",
          "height": 148
        },
        "outputId": "72c4bbe9-f248-46e4-e0ef-85cd4c9210e0"
      },
      "source": [
        "anova_rm_rna = AnovaRM(hcvRNAmelted, depvar = 'RNA', subject = 'Patient', within = ['Timepoint'])\n",
        "anova_rm_rna_res = anova_rm_rna.fit()\n",
        "\n",
        "print(anova_rm_rna_res)"
      ],
      "execution_count": 61,
      "outputs": [
        {
          "output_type": "stream",
          "text": [
            "                  Anova\n",
            "==========================================\n",
            "          F Value  Num DF   Den DF  Pr > F\n",
            "------------------------------------------\n",
            "Timepoint 452.2417 3.0000 4152.0000 0.0000\n",
            "==========================================\n",
            "\n"
          ],
          "name": "stdout"
        }
      ]
    },
    {
      "cell_type": "code",
      "metadata": {
        "id": "FvZmjtaNwEy5",
        "colab_type": "code",
        "colab": {
          "base_uri": "https://localhost:8080/",
          "height": 186
        },
        "outputId": "816aa2c3-d88e-4016-9f89-d6e8351c0130"
      },
      "source": [
        "post_hoc_res = pairwise_tukeyhsd(hcvRNAmelted.loc[:, 'RNA'], groups = hcvRNAmelted.loc[:, 'Timepoint'])\n",
        "post_hoc_res.summary()"
      ],
      "execution_count": 62,
      "outputs": [
        {
          "output_type": "execute_result",
          "data": {
            "text/html": [
              "<table class=\"simpletable\">\n",
              "<caption>Multiple Comparison of Means - Tukey HSD, FWER=0.05</caption>\n",
              "<tr>\n",
              "   <th>group1</th>   <th>group2</th>    <th>meandiff</th>    <th>p-adj</th>     <th>lower</th>        <th>upper</th>    <th>reject</th>\n",
              "</tr>\n",
              "<tr>\n",
              "   <td>RNA 12</td>    <td>RNA 4</td>   <td>312142.0375</td>  <td>0.001</td>  <td>280955.4111</td>  <td>343328.664</td>   <td>True</td> \n",
              "</tr>\n",
              "<tr>\n",
              "   <td>RNA 12</td>  <td>RNA Base</td>  <td>302197.6065</td>  <td>0.001</td>  <td>271010.9801</td>  <td>333384.2329</td>  <td>True</td> \n",
              "</tr>\n",
              "<tr>\n",
              "   <td>RNA 12</td>   <td>RNA EOT</td>  <td>-1093.2758</td>    <td>0.9</td>   <td>-32279.9022</td>  <td>30093.3506</td>   <td>False</td>\n",
              "</tr>\n",
              "<tr>\n",
              "    <td>RNA 4</td>  <td>RNA Base</td>   <td>-9944.431</td>  <td>0.8252</td>  <td>-41131.0575</td>  <td>21242.1954</td>   <td>False</td>\n",
              "</tr>\n",
              "<tr>\n",
              "    <td>RNA 4</td>   <td>RNA EOT</td> <td>-313235.3134</td>  <td>0.001</td> <td>-344421.9398</td> <td>-282048.6869</td>  <td>True</td> \n",
              "</tr>\n",
              "<tr>\n",
              "  <td>RNA Base</td>  <td>RNA EOT</td> <td>-303290.8823</td>  <td>0.001</td> <td>-334477.5087</td> <td>-272104.2559</td>  <td>True</td> \n",
              "</tr>\n",
              "</table>"
            ],
            "text/plain": [
              "<class 'statsmodels.iolib.table.SimpleTable'>"
            ]
          },
          "metadata": {
            "tags": []
          },
          "execution_count": 62
        }
      ]
    },
    {
      "cell_type": "markdown",
      "metadata": {
        "id": "Z_kgkNOqwEy7",
        "colab_type": "text"
      },
      "source": [
        "# Correlations"
      ]
    },
    {
      "cell_type": "markdown",
      "metadata": {
        "id": "ahQRG_YjwEy7",
        "colab_type": "text"
      },
      "source": [
        "**Go back to German data set.**\n",
        "**Check if following laboratory measurments are correlated:**\n",
        "* ALB\n",
        "* ALP\n",
        "* BIL\n",
        "* PROT"
      ]
    },
    {
      "cell_type": "code",
      "metadata": {
        "id": "Kx0mvcUYwEy7",
        "colab_type": "code",
        "colab": {
          "base_uri": "https://localhost:8080/",
          "height": 455
        },
        "outputId": "c7fbcd90-5c9d-4669-d924-2a8b93cd37d9"
      },
      "source": [
        "varNames = ['ALB', 'ALP', 'BIL', 'PROT']\n",
        "hcvLab = hcvDataG.loc[:, varNames]\n",
        "display(hcvLab)"
      ],
      "execution_count": 63,
      "outputs": [
        {
          "output_type": "display_data",
          "data": {
            "text/html": [
              "<div>\n",
              "<style scoped>\n",
              "    .dataframe tbody tr th:only-of-type {\n",
              "        vertical-align: middle;\n",
              "    }\n",
              "\n",
              "    .dataframe tbody tr th {\n",
              "        vertical-align: top;\n",
              "    }\n",
              "\n",
              "    .dataframe thead th {\n",
              "        text-align: right;\n",
              "    }\n",
              "</style>\n",
              "<table border=\"1\" class=\"dataframe\">\n",
              "  <thead>\n",
              "    <tr style=\"text-align: right;\">\n",
              "      <th></th>\n",
              "      <th>ALB</th>\n",
              "      <th>ALP</th>\n",
              "      <th>BIL</th>\n",
              "      <th>PROT</th>\n",
              "    </tr>\n",
              "    <tr>\n",
              "      <th>ID</th>\n",
              "      <th></th>\n",
              "      <th></th>\n",
              "      <th></th>\n",
              "      <th></th>\n",
              "    </tr>\n",
              "  </thead>\n",
              "  <tbody>\n",
              "    <tr>\n",
              "      <th>1</th>\n",
              "      <td>38.5000</td>\n",
              "      <td>52.5000</td>\n",
              "      <td>7.5000</td>\n",
              "      <td>69.0000</td>\n",
              "    </tr>\n",
              "    <tr>\n",
              "      <th>2</th>\n",
              "      <td>38.5000</td>\n",
              "      <td>70.3000</td>\n",
              "      <td>3.9000</td>\n",
              "      <td>76.5000</td>\n",
              "    </tr>\n",
              "    <tr>\n",
              "      <th>3</th>\n",
              "      <td>46.9000</td>\n",
              "      <td>74.7000</td>\n",
              "      <td>6.1000</td>\n",
              "      <td>79.3000</td>\n",
              "    </tr>\n",
              "    <tr>\n",
              "      <th>4</th>\n",
              "      <td>43.2000</td>\n",
              "      <td>52.0000</td>\n",
              "      <td>18.9000</td>\n",
              "      <td>75.7000</td>\n",
              "    </tr>\n",
              "    <tr>\n",
              "      <th>5</th>\n",
              "      <td>39.2000</td>\n",
              "      <td>74.1000</td>\n",
              "      <td>9.6000</td>\n",
              "      <td>68.7000</td>\n",
              "    </tr>\n",
              "    <tr>\n",
              "      <th>...</th>\n",
              "      <td>...</td>\n",
              "      <td>...</td>\n",
              "      <td>...</td>\n",
              "      <td>...</td>\n",
              "    </tr>\n",
              "    <tr>\n",
              "      <th>610</th>\n",
              "      <td>39.0000</td>\n",
              "      <td>51.3000</td>\n",
              "      <td>40.0000</td>\n",
              "      <td>70.5000</td>\n",
              "    </tr>\n",
              "    <tr>\n",
              "      <th>612</th>\n",
              "      <td>24.0000</td>\n",
              "      <td>102.8000</td>\n",
              "      <td>20.0000</td>\n",
              "      <td>71.3000</td>\n",
              "    </tr>\n",
              "    <tr>\n",
              "      <th>613</th>\n",
              "      <td>29.0000</td>\n",
              "      <td>87.3000</td>\n",
              "      <td>48.0000</td>\n",
              "      <td>82.0000</td>\n",
              "    </tr>\n",
              "    <tr>\n",
              "      <th>614</th>\n",
              "      <td>33.0000</td>\n",
              "      <td>nan</td>\n",
              "      <td>20.0000</td>\n",
              "      <td>71.0000</td>\n",
              "    </tr>\n",
              "    <tr>\n",
              "      <th>615</th>\n",
              "      <td>36.0000</td>\n",
              "      <td>nan</td>\n",
              "      <td>12.0000</td>\n",
              "      <td>68.0000</td>\n",
              "    </tr>\n",
              "  </tbody>\n",
              "</table>\n",
              "<p>614 rows × 4 columns</p>\n",
              "</div>"
            ],
            "text/plain": [
              "        ALB      ALP     BIL    PROT\n",
              "ID                                  \n",
              "1   38.5000  52.5000  7.5000 69.0000\n",
              "2   38.5000  70.3000  3.9000 76.5000\n",
              "3   46.9000  74.7000  6.1000 79.3000\n",
              "4   43.2000  52.0000 18.9000 75.7000\n",
              "5   39.2000  74.1000  9.6000 68.7000\n",
              "..      ...      ...     ...     ...\n",
              "610 39.0000  51.3000 40.0000 70.5000\n",
              "612 24.0000 102.8000 20.0000 71.3000\n",
              "613 29.0000  87.3000 48.0000 82.0000\n",
              "614 33.0000      nan 20.0000 71.0000\n",
              "615 36.0000      nan 12.0000 68.0000\n",
              "\n",
              "[614 rows x 4 columns]"
            ]
          },
          "metadata": {
            "tags": []
          }
        }
      ]
    },
    {
      "cell_type": "code",
      "metadata": {
        "id": "Qx-hIpI3wEy9",
        "colab_type": "code",
        "colab": {
          "base_uri": "https://localhost:8080/",
          "height": 175
        },
        "outputId": "9a48db07-af19-419c-ba02-a0a3a6b52980"
      },
      "source": [
        "hcvLab.corr(method='spearman')"
      ],
      "execution_count": 64,
      "outputs": [
        {
          "output_type": "execute_result",
          "data": {
            "text/html": [
              "<div>\n",
              "<style scoped>\n",
              "    .dataframe tbody tr th:only-of-type {\n",
              "        vertical-align: middle;\n",
              "    }\n",
              "\n",
              "    .dataframe tbody tr th {\n",
              "        vertical-align: top;\n",
              "    }\n",
              "\n",
              "    .dataframe thead th {\n",
              "        text-align: right;\n",
              "    }\n",
              "</style>\n",
              "<table border=\"1\" class=\"dataframe\">\n",
              "  <thead>\n",
              "    <tr style=\"text-align: right;\">\n",
              "      <th></th>\n",
              "      <th>ALB</th>\n",
              "      <th>ALP</th>\n",
              "      <th>BIL</th>\n",
              "      <th>PROT</th>\n",
              "    </tr>\n",
              "  </thead>\n",
              "  <tbody>\n",
              "    <tr>\n",
              "      <th>ALB</th>\n",
              "      <td>1.0000</td>\n",
              "      <td>-0.0497</td>\n",
              "      <td>0.1075</td>\n",
              "      <td>0.5130</td>\n",
              "    </tr>\n",
              "    <tr>\n",
              "      <th>ALP</th>\n",
              "      <td>-0.0497</td>\n",
              "      <td>1.0000</td>\n",
              "      <td>-0.0860</td>\n",
              "      <td>0.0243</td>\n",
              "    </tr>\n",
              "    <tr>\n",
              "      <th>BIL</th>\n",
              "      <td>0.1075</td>\n",
              "      <td>-0.0860</td>\n",
              "      <td>1.0000</td>\n",
              "      <td>0.1476</td>\n",
              "    </tr>\n",
              "    <tr>\n",
              "      <th>PROT</th>\n",
              "      <td>0.5130</td>\n",
              "      <td>0.0243</td>\n",
              "      <td>0.1476</td>\n",
              "      <td>1.0000</td>\n",
              "    </tr>\n",
              "  </tbody>\n",
              "</table>\n",
              "</div>"
            ],
            "text/plain": [
              "         ALB     ALP     BIL   PROT\n",
              "ALB   1.0000 -0.0497  0.1075 0.5130\n",
              "ALP  -0.0497  1.0000 -0.0860 0.0243\n",
              "BIL   0.1075 -0.0860  1.0000 0.1476\n",
              "PROT  0.5130  0.0243  0.1476 1.0000"
            ]
          },
          "metadata": {
            "tags": []
          },
          "execution_count": 64
        }
      ]
    },
    {
      "cell_type": "code",
      "metadata": {
        "id": "q8Ydoot-wEy_",
        "colab_type": "code",
        "colab": {
          "base_uri": "https://localhost:8080/",
          "height": 175
        },
        "outputId": "d94545ac-7ad0-4cf3-fcf5-3753e18c2e32"
      },
      "source": [
        "hcvLab.corr(method='pearson')"
      ],
      "execution_count": 65,
      "outputs": [
        {
          "output_type": "execute_result",
          "data": {
            "text/html": [
              "<div>\n",
              "<style scoped>\n",
              "    .dataframe tbody tr th:only-of-type {\n",
              "        vertical-align: middle;\n",
              "    }\n",
              "\n",
              "    .dataframe tbody tr th {\n",
              "        vertical-align: top;\n",
              "    }\n",
              "\n",
              "    .dataframe thead th {\n",
              "        text-align: right;\n",
              "    }\n",
              "</style>\n",
              "<table border=\"1\" class=\"dataframe\">\n",
              "  <thead>\n",
              "    <tr style=\"text-align: right;\">\n",
              "      <th></th>\n",
              "      <th>ALB</th>\n",
              "      <th>ALP</th>\n",
              "      <th>BIL</th>\n",
              "      <th>PROT</th>\n",
              "    </tr>\n",
              "  </thead>\n",
              "  <tbody>\n",
              "    <tr>\n",
              "      <th>ALB</th>\n",
              "      <td>1.0000</td>\n",
              "      <td>-0.1243</td>\n",
              "      <td>-0.2175</td>\n",
              "      <td>0.5569</td>\n",
              "    </tr>\n",
              "    <tr>\n",
              "      <th>ALP</th>\n",
              "      <td>-0.1243</td>\n",
              "      <td>1.0000</td>\n",
              "      <td>0.0064</td>\n",
              "      <td>-0.0488</td>\n",
              "    </tr>\n",
              "    <tr>\n",
              "      <th>BIL</th>\n",
              "      <td>-0.2175</td>\n",
              "      <td>0.0064</td>\n",
              "      <td>1.0000</td>\n",
              "      <td>-0.0454</td>\n",
              "    </tr>\n",
              "    <tr>\n",
              "      <th>PROT</th>\n",
              "      <td>0.5569</td>\n",
              "      <td>-0.0488</td>\n",
              "      <td>-0.0454</td>\n",
              "      <td>1.0000</td>\n",
              "    </tr>\n",
              "  </tbody>\n",
              "</table>\n",
              "</div>"
            ],
            "text/plain": [
              "         ALB     ALP     BIL    PROT\n",
              "ALB   1.0000 -0.1243 -0.2175  0.5569\n",
              "ALP  -0.1243  1.0000  0.0064 -0.0488\n",
              "BIL  -0.2175  0.0064  1.0000 -0.0454\n",
              "PROT  0.5569 -0.0488 -0.0454  1.0000"
            ]
          },
          "metadata": {
            "tags": []
          },
          "execution_count": 65
        }
      ]
    },
    {
      "cell_type": "markdown",
      "metadata": {
        "id": "tfkzuTaPwEzB",
        "colab_type": "text"
      },
      "source": [
        "**If you want also p-values, you need scipy**"
      ]
    },
    {
      "cell_type": "code",
      "metadata": {
        "id": "D3MrAPSewEzB",
        "colab_type": "code",
        "colab": {
          "base_uri": "https://localhost:8080/",
          "height": 332
        },
        "outputId": "bf427f9d-3fbd-4d77-f275-e0dbf7eaeda3"
      },
      "source": [
        "r, p = stats.spearmanr(hcvLab, nan_policy='omit')\n",
        "\n",
        "display(pd.DataFrame(r, index=varNames, columns=varNames))\n",
        "\n",
        "display(pd.DataFrame(p, index=varNames, columns=varNames))"
      ],
      "execution_count": 66,
      "outputs": [
        {
          "output_type": "display_data",
          "data": {
            "text/html": [
              "<div>\n",
              "<style scoped>\n",
              "    .dataframe tbody tr th:only-of-type {\n",
              "        vertical-align: middle;\n",
              "    }\n",
              "\n",
              "    .dataframe tbody tr th {\n",
              "        vertical-align: top;\n",
              "    }\n",
              "\n",
              "    .dataframe thead th {\n",
              "        text-align: right;\n",
              "    }\n",
              "</style>\n",
              "<table border=\"1\" class=\"dataframe\">\n",
              "  <thead>\n",
              "    <tr style=\"text-align: right;\">\n",
              "      <th></th>\n",
              "      <th>ALB</th>\n",
              "      <th>ALP</th>\n",
              "      <th>BIL</th>\n",
              "      <th>PROT</th>\n",
              "    </tr>\n",
              "  </thead>\n",
              "  <tbody>\n",
              "    <tr>\n",
              "      <th>ALB</th>\n",
              "      <td>1.0000</td>\n",
              "      <td>-0.0497</td>\n",
              "      <td>0.1075</td>\n",
              "      <td>0.5130</td>\n",
              "    </tr>\n",
              "    <tr>\n",
              "      <th>ALP</th>\n",
              "      <td>-0.0497</td>\n",
              "      <td>1.0000</td>\n",
              "      <td>-0.0860</td>\n",
              "      <td>0.0243</td>\n",
              "    </tr>\n",
              "    <tr>\n",
              "      <th>BIL</th>\n",
              "      <td>0.1075</td>\n",
              "      <td>-0.0860</td>\n",
              "      <td>1.0000</td>\n",
              "      <td>0.1476</td>\n",
              "    </tr>\n",
              "    <tr>\n",
              "      <th>PROT</th>\n",
              "      <td>0.5130</td>\n",
              "      <td>0.0243</td>\n",
              "      <td>0.1476</td>\n",
              "      <td>1.0000</td>\n",
              "    </tr>\n",
              "  </tbody>\n",
              "</table>\n",
              "</div>"
            ],
            "text/plain": [
              "         ALB     ALP     BIL   PROT\n",
              "ALB   1.0000 -0.0497  0.1075 0.5130\n",
              "ALP  -0.0497  1.0000 -0.0860 0.0243\n",
              "BIL   0.1075 -0.0860  1.0000 0.1476\n",
              "PROT  0.5130  0.0243  0.1476 1.0000"
            ]
          },
          "metadata": {
            "tags": []
          }
        },
        {
          "output_type": "display_data",
          "data": {
            "text/html": [
              "<div>\n",
              "<style scoped>\n",
              "    .dataframe tbody tr th:only-of-type {\n",
              "        vertical-align: middle;\n",
              "    }\n",
              "\n",
              "    .dataframe tbody tr th {\n",
              "        vertical-align: top;\n",
              "    }\n",
              "\n",
              "    .dataframe thead th {\n",
              "        text-align: right;\n",
              "    }\n",
              "</style>\n",
              "<table border=\"1\" class=\"dataframe\">\n",
              "  <thead>\n",
              "    <tr style=\"text-align: right;\">\n",
              "      <th></th>\n",
              "      <th>ALB</th>\n",
              "      <th>ALP</th>\n",
              "      <th>BIL</th>\n",
              "      <th>PROT</th>\n",
              "    </tr>\n",
              "  </thead>\n",
              "  <tbody>\n",
              "    <tr>\n",
              "      <th>ALB</th>\n",
              "      <td>0.0000</td>\n",
              "      <td>0.2255</td>\n",
              "      <td>0.0077</td>\n",
              "      <td>0.0000</td>\n",
              "    </tr>\n",
              "    <tr>\n",
              "      <th>ALP</th>\n",
              "      <td>0.2255</td>\n",
              "      <td>0.0000</td>\n",
              "      <td>0.0358</td>\n",
              "      <td>0.5544</td>\n",
              "    </tr>\n",
              "    <tr>\n",
              "      <th>BIL</th>\n",
              "      <td>0.0077</td>\n",
              "      <td>0.0358</td>\n",
              "      <td>0.0000</td>\n",
              "      <td>0.0002</td>\n",
              "    </tr>\n",
              "    <tr>\n",
              "      <th>PROT</th>\n",
              "      <td>0.0000</td>\n",
              "      <td>0.5544</td>\n",
              "      <td>0.0002</td>\n",
              "      <td>0.0000</td>\n",
              "    </tr>\n",
              "  </tbody>\n",
              "</table>\n",
              "</div>"
            ],
            "text/plain": [
              "        ALB    ALP    BIL   PROT\n",
              "ALB  0.0000 0.2255 0.0077 0.0000\n",
              "ALP  0.2255 0.0000 0.0358 0.5544\n",
              "BIL  0.0077 0.0358 0.0000 0.0002\n",
              "PROT 0.0000 0.5544 0.0002 0.0000"
            ]
          },
          "metadata": {
            "tags": []
          }
        }
      ]
    },
    {
      "cell_type": "markdown",
      "metadata": {
        "id": "MlXkALnpwEzD",
        "colab_type": "text"
      },
      "source": [
        "But the same doesn't work with Pearson correlation, because it doesn't take 2D array and neither it has omit_nan :(."
      ]
    },
    {
      "cell_type": "code",
      "metadata": {
        "id": "ief_cI83wEzE",
        "colab_type": "code",
        "colab": {
          "base_uri": "https://localhost:8080/",
          "height": 332
        },
        "outputId": "fcea90d7-07eb-4a6c-e148-c2945d3903c6"
      },
      "source": [
        "r = pd.DataFrame(np.zeros([len(varNames),len(varNames)]), columns=varNames, index=varNames)\n",
        "p = pd.DataFrame(np.zeros([len(varNames),len(varNames)]), columns=varNames, index=varNames)\n",
        "\n",
        "for comb in itertools.combinations(varNames, r=2):\n",
        "    names = list(comb)\n",
        "    name1 = names[0]\n",
        "    name2 = names[1]\n",
        "    hcvLabCurrent = hcvLab.loc[:, [name1, name2]].dropna()\n",
        "    cr, cp = stats.pearsonr(hcvLabCurrent.loc[:, name1], hcvLabCurrent.loc[:, name2])\n",
        "    r.loc[name1, name2] = r.loc[name2, name1] = cr\n",
        "    p.loc[name1, name2] = p.loc[name2, name1] = cp\n",
        "\n",
        "display(r)\n",
        "\n",
        "display(p)"
      ],
      "execution_count": 67,
      "outputs": [
        {
          "output_type": "display_data",
          "data": {
            "text/html": [
              "<div>\n",
              "<style scoped>\n",
              "    .dataframe tbody tr th:only-of-type {\n",
              "        vertical-align: middle;\n",
              "    }\n",
              "\n",
              "    .dataframe tbody tr th {\n",
              "        vertical-align: top;\n",
              "    }\n",
              "\n",
              "    .dataframe thead th {\n",
              "        text-align: right;\n",
              "    }\n",
              "</style>\n",
              "<table border=\"1\" class=\"dataframe\">\n",
              "  <thead>\n",
              "    <tr style=\"text-align: right;\">\n",
              "      <th></th>\n",
              "      <th>ALB</th>\n",
              "      <th>ALP</th>\n",
              "      <th>BIL</th>\n",
              "      <th>PROT</th>\n",
              "    </tr>\n",
              "  </thead>\n",
              "  <tbody>\n",
              "    <tr>\n",
              "      <th>ALB</th>\n",
              "      <td>0.0000</td>\n",
              "      <td>-0.1243</td>\n",
              "      <td>-0.2175</td>\n",
              "      <td>0.5569</td>\n",
              "    </tr>\n",
              "    <tr>\n",
              "      <th>ALP</th>\n",
              "      <td>-0.1243</td>\n",
              "      <td>0.0000</td>\n",
              "      <td>0.0064</td>\n",
              "      <td>-0.0488</td>\n",
              "    </tr>\n",
              "    <tr>\n",
              "      <th>BIL</th>\n",
              "      <td>-0.2175</td>\n",
              "      <td>0.0064</td>\n",
              "      <td>0.0000</td>\n",
              "      <td>-0.0454</td>\n",
              "    </tr>\n",
              "    <tr>\n",
              "      <th>PROT</th>\n",
              "      <td>0.5569</td>\n",
              "      <td>-0.0488</td>\n",
              "      <td>-0.0454</td>\n",
              "      <td>0.0000</td>\n",
              "    </tr>\n",
              "  </tbody>\n",
              "</table>\n",
              "</div>"
            ],
            "text/plain": [
              "         ALB     ALP     BIL    PROT\n",
              "ALB   0.0000 -0.1243 -0.2175  0.5569\n",
              "ALP  -0.1243  0.0000  0.0064 -0.0488\n",
              "BIL  -0.2175  0.0064  0.0000 -0.0454\n",
              "PROT  0.5569 -0.0488 -0.0454  0.0000"
            ]
          },
          "metadata": {
            "tags": []
          }
        },
        {
          "output_type": "display_data",
          "data": {
            "text/html": [
              "<div>\n",
              "<style scoped>\n",
              "    .dataframe tbody tr th:only-of-type {\n",
              "        vertical-align: middle;\n",
              "    }\n",
              "\n",
              "    .dataframe tbody tr th {\n",
              "        vertical-align: top;\n",
              "    }\n",
              "\n",
              "    .dataframe thead th {\n",
              "        text-align: right;\n",
              "    }\n",
              "</style>\n",
              "<table border=\"1\" class=\"dataframe\">\n",
              "  <thead>\n",
              "    <tr style=\"text-align: right;\">\n",
              "      <th></th>\n",
              "      <th>ALB</th>\n",
              "      <th>ALP</th>\n",
              "      <th>BIL</th>\n",
              "      <th>PROT</th>\n",
              "    </tr>\n",
              "  </thead>\n",
              "  <tbody>\n",
              "    <tr>\n",
              "      <th>ALB</th>\n",
              "      <td>0.0000</td>\n",
              "      <td>0.0024</td>\n",
              "      <td>0.0000</td>\n",
              "      <td>0.0000</td>\n",
              "    </tr>\n",
              "    <tr>\n",
              "      <th>ALP</th>\n",
              "      <td>0.0024</td>\n",
              "      <td>0.0000</td>\n",
              "      <td>0.8763</td>\n",
              "      <td>0.2340</td>\n",
              "    </tr>\n",
              "    <tr>\n",
              "      <th>BIL</th>\n",
              "      <td>0.0000</td>\n",
              "      <td>0.8763</td>\n",
              "      <td>0.0000</td>\n",
              "      <td>0.2617</td>\n",
              "    </tr>\n",
              "    <tr>\n",
              "      <th>PROT</th>\n",
              "      <td>0.0000</td>\n",
              "      <td>0.2340</td>\n",
              "      <td>0.2617</td>\n",
              "      <td>0.0000</td>\n",
              "    </tr>\n",
              "  </tbody>\n",
              "</table>\n",
              "</div>"
            ],
            "text/plain": [
              "        ALB    ALP    BIL   PROT\n",
              "ALB  0.0000 0.0024 0.0000 0.0000\n",
              "ALP  0.0024 0.0000 0.8763 0.2340\n",
              "BIL  0.0000 0.8763 0.0000 0.2617\n",
              "PROT 0.0000 0.2340 0.2617 0.0000"
            ]
          },
          "metadata": {
            "tags": []
          }
        }
      ]
    },
    {
      "cell_type": "markdown",
      "metadata": {
        "id": "m-FZN9hZwEzF",
        "colab_type": "text"
      },
      "source": [
        "Let's visualize the correlation ALB and ALP"
      ]
    },
    {
      "cell_type": "code",
      "metadata": {
        "id": "BdrnFISbwEzI",
        "colab_type": "code",
        "colab": {
          "base_uri": "https://localhost:8080/",
          "height": 279
        },
        "outputId": "24557dcf-1585-4564-90b8-ae816aebc4d9"
      },
      "source": [
        "_ = hcvLab.plot.scatter(x='ALB', y='PROT')"
      ],
      "execution_count": 69,
      "outputs": [
        {
          "output_type": "display_data",
          "data": {
            "image/png": "[encoded data removed]",
            "text/plain": [
              "<Figure size 432x288 with 1 Axes>"
            ]
          },
          "metadata": {
            "tags": [],
            "needs_background": "light"
          }
        }
      ]
    },
    {
      "cell_type": "markdown",
      "metadata": {
        "id": "kFiAc_70wEzK",
        "colab_type": "text"
      },
      "source": [
        "Let's look at all correlations at once"
      ]
    },
    {
      "cell_type": "code",
      "metadata": {
        "scrolled": false,
        "id": "MNImcsYCwEzK",
        "colab_type": "code",
        "colab": {
          "base_uri": "https://localhost:8080/",
          "height": 747
        },
        "outputId": "52d13824-e08f-4258-9e57-95efda3103ab"
      },
      "source": [
        "_ = sns.pairplot(hcvLab)"
      ],
      "execution_count": 70,
      "outputs": [
        {
          "output_type": "display_data",
          "data": {
            "image/png": "[encoded data removed]",
            "text/plain": [
              "<Figure size 720x720 with 20 Axes>"
            ]
          },
          "metadata": {
            "tags": [],
            "needs_background": "light"
          }
        }
      ]
    },
    {
      "cell_type": "markdown",
      "metadata": {
        "id": "0dlxI50vwEzM",
        "colab_type": "text"
      },
      "source": [
        "For training, repeat this type of analysis for viral RNA variables in Egyptian dataset. Don't forget the plots.\n",
        "\n",
        "Can you tell what is wrong in that analysis? (Hint: beware of outliers)."
      ]
    },
    {
      "cell_type": "markdown",
      "metadata": {
        "id": "bTyF8GgHwEzM",
        "colab_type": "text"
      },
      "source": [
        "# Statistical tests for nominal variables"
      ]
    },
    {
      "cell_type": "markdown",
      "metadata": {
        "id": "VM4v2CmHwEzM",
        "colab_type": "text"
      },
      "source": [
        "**Using Egyptian dataset, check if Nausea/Vomiting is equaly common in patients with and without Epigastric pain**\n",
        "\n",
        "We start creating contingency table."
      ]
    },
    {
      "cell_type": "code",
      "metadata": {
        "id": "he7ws_6FwEzN",
        "colab_type": "code",
        "colab": {
          "base_uri": "https://localhost:8080/",
          "height": 143
        },
        "outputId": "3d506b17-b549-4145-8d8a-1927b55d9b7e"
      },
      "source": [
        "table1 = pd.crosstab(hcvDataE['Epigastric pain'], hcvDataE['Nausea/Vomiting'])\n",
        "table1"
      ],
      "execution_count": 71,
      "outputs": [
        {
          "output_type": "execute_result",
          "data": {
            "text/html": [
              "<div>\n",
              "<style scoped>\n",
              "    .dataframe tbody tr th:only-of-type {\n",
              "        vertical-align: middle;\n",
              "    }\n",
              "\n",
              "    .dataframe tbody tr th {\n",
              "        vertical-align: top;\n",
              "    }\n",
              "\n",
              "    .dataframe thead th {\n",
              "        text-align: right;\n",
              "    }\n",
              "</style>\n",
              "<table border=\"1\" class=\"dataframe\">\n",
              "  <thead>\n",
              "    <tr style=\"text-align: right;\">\n",
              "      <th>Nausea/Vomiting</th>\n",
              "      <th>NO</th>\n",
              "      <th>YES</th>\n",
              "    </tr>\n",
              "    <tr>\n",
              "      <th>Epigastric pain</th>\n",
              "      <th></th>\n",
              "      <th></th>\n",
              "    </tr>\n",
              "  </thead>\n",
              "  <tbody>\n",
              "    <tr>\n",
              "      <th>NO</th>\n",
              "      <td>324</td>\n",
              "      <td>363</td>\n",
              "    </tr>\n",
              "    <tr>\n",
              "      <th>YES</th>\n",
              "      <td>365</td>\n",
              "      <td>333</td>\n",
              "    </tr>\n",
              "  </tbody>\n",
              "</table>\n",
              "</div>"
            ],
            "text/plain": [
              "Nausea/Vomiting   NO  YES\n",
              "Epigastric pain          \n",
              "NO               324  363\n",
              "YES              365  333"
            ]
          },
          "metadata": {
            "tags": []
          },
          "execution_count": 71
        }
      ]
    },
    {
      "cell_type": "markdown",
      "metadata": {
        "id": "E0bGh4JiwEzO",
        "colab_type": "text"
      },
      "source": [
        "For readability, we can calculate percentages in rows and columns (but the tests won't need them)."
      ]
    },
    {
      "cell_type": "code",
      "metadata": {
        "id": "AQeE5eJNwEzP",
        "colab_type": "code",
        "colab": {
          "base_uri": "https://localhost:8080/",
          "height": 143
        },
        "outputId": "6c84e066-5ed0-422e-b7c7-742746efa8e6"
      },
      "source": [
        "table1_percent_rows = table1.apply(lambda r: r/r.sum()*100, axis=1)\n",
        "table1_percent_rows"
      ],
      "execution_count": 72,
      "outputs": [
        {
          "output_type": "execute_result",
          "data": {
            "text/html": [
              "<div>\n",
              "<style scoped>\n",
              "    .dataframe tbody tr th:only-of-type {\n",
              "        vertical-align: middle;\n",
              "    }\n",
              "\n",
              "    .dataframe tbody tr th {\n",
              "        vertical-align: top;\n",
              "    }\n",
              "\n",
              "    .dataframe thead th {\n",
              "        text-align: right;\n",
              "    }\n",
              "</style>\n",
              "<table border=\"1\" class=\"dataframe\">\n",
              "  <thead>\n",
              "    <tr style=\"text-align: right;\">\n",
              "      <th>Nausea/Vomiting</th>\n",
              "      <th>NO</th>\n",
              "      <th>YES</th>\n",
              "    </tr>\n",
              "    <tr>\n",
              "      <th>Epigastric pain</th>\n",
              "      <th></th>\n",
              "      <th></th>\n",
              "    </tr>\n",
              "  </thead>\n",
              "  <tbody>\n",
              "    <tr>\n",
              "      <th>NO</th>\n",
              "      <td>47.1616</td>\n",
              "      <td>52.8384</td>\n",
              "    </tr>\n",
              "    <tr>\n",
              "      <th>YES</th>\n",
              "      <td>52.2923</td>\n",
              "      <td>47.7077</td>\n",
              "    </tr>\n",
              "  </tbody>\n",
              "</table>\n",
              "</div>"
            ],
            "text/plain": [
              "Nausea/Vomiting      NO     YES\n",
              "Epigastric pain                \n",
              "NO              47.1616 52.8384\n",
              "YES             52.2923 47.7077"
            ]
          },
          "metadata": {
            "tags": []
          },
          "execution_count": 72
        }
      ]
    },
    {
      "cell_type": "code",
      "metadata": {
        "id": "KHAlXRMcwEzR",
        "colab_type": "code",
        "colab": {
          "base_uri": "https://localhost:8080/",
          "height": 143
        },
        "outputId": "446511d7-ecc1-4f31-dba0-baa7f740135e"
      },
      "source": [
        "table1_percent_cols = table1.apply(lambda r: r/r.sum()*100, axis=0)\n",
        "table1_percent_cols"
      ],
      "execution_count": 73,
      "outputs": [
        {
          "output_type": "execute_result",
          "data": {
            "text/html": [
              "<div>\n",
              "<style scoped>\n",
              "    .dataframe tbody tr th:only-of-type {\n",
              "        vertical-align: middle;\n",
              "    }\n",
              "\n",
              "    .dataframe tbody tr th {\n",
              "        vertical-align: top;\n",
              "    }\n",
              "\n",
              "    .dataframe thead th {\n",
              "        text-align: right;\n",
              "    }\n",
              "</style>\n",
              "<table border=\"1\" class=\"dataframe\">\n",
              "  <thead>\n",
              "    <tr style=\"text-align: right;\">\n",
              "      <th>Nausea/Vomiting</th>\n",
              "      <th>NO</th>\n",
              "      <th>YES</th>\n",
              "    </tr>\n",
              "    <tr>\n",
              "      <th>Epigastric pain</th>\n",
              "      <th></th>\n",
              "      <th></th>\n",
              "    </tr>\n",
              "  </thead>\n",
              "  <tbody>\n",
              "    <tr>\n",
              "      <th>NO</th>\n",
              "      <td>47.0247</td>\n",
              "      <td>52.1552</td>\n",
              "    </tr>\n",
              "    <tr>\n",
              "      <th>YES</th>\n",
              "      <td>52.9753</td>\n",
              "      <td>47.8448</td>\n",
              "    </tr>\n",
              "  </tbody>\n",
              "</table>\n",
              "</div>"
            ],
            "text/plain": [
              "Nausea/Vomiting      NO     YES\n",
              "Epigastric pain                \n",
              "NO              47.0247 52.1552\n",
              "YES             52.9753 47.8448"
            ]
          },
          "metadata": {
            "tags": []
          },
          "execution_count": 73
        }
      ]
    },
    {
      "cell_type": "code",
      "metadata": {
        "id": "O6GQVv9TwEzS",
        "colab_type": "code",
        "colab": {
          "base_uri": "https://localhost:8080/",
          "height": 54
        },
        "outputId": "f8112892-b800-49eb-e9ae-fe9a93c9afd4"
      },
      "source": [
        "s, p, _, _ = stats.chi2_contingency(table1)\n",
        "OR, pf = stats.fisher_exact(table1)\n",
        "print('p-value from chi-square test: {0:.04f}'.format(p))\n",
        "print('p-value from Fisher exact test: {0:.04f}'.format(pf))"
      ],
      "execution_count": 76,
      "outputs": [
        {
          "output_type": "stream",
          "text": [
            "p-value from chi-square test: 0.0635\n",
            "p-value from Fisher exact test: 0.0600\n"
          ],
          "name": "stdout"
        }
      ]
    },
    {
      "cell_type": "markdown",
      "metadata": {
        "id": "YLN74bXJwEzU",
        "colab_type": "text"
      },
      "source": [
        "**Now, check if presence of Epigastric pain is related to Baseline histological staging**"
      ]
    },
    {
      "cell_type": "code",
      "metadata": {
        "id": "aytC40fUwEzU",
        "colab_type": "code",
        "colab": {
          "base_uri": "https://localhost:8080/",
          "height": 225
        },
        "outputId": "1a5f47a7-d6a0-4c39-d3ca-0887d5d8b703"
      },
      "source": [
        "table2 = pd.crosstab(hcvDataE['Baseline histological staging'], hcvDataE['Epigastric pain'])\n",
        "display(table2)\n",
        "s, p, _, _ = stats.chi2_contingency(table2)\n",
        "print('p-value from chi-square test: {0:.4f}'.format(p))"
      ],
      "execution_count": 77,
      "outputs": [
        {
          "output_type": "display_data",
          "data": {
            "text/html": [
              "<div>\n",
              "<style scoped>\n",
              "    .dataframe tbody tr th:only-of-type {\n",
              "        vertical-align: middle;\n",
              "    }\n",
              "\n",
              "    .dataframe tbody tr th {\n",
              "        vertical-align: top;\n",
              "    }\n",
              "\n",
              "    .dataframe thead th {\n",
              "        text-align: right;\n",
              "    }\n",
              "</style>\n",
              "<table border=\"1\" class=\"dataframe\">\n",
              "  <thead>\n",
              "    <tr style=\"text-align: right;\">\n",
              "      <th>Epigastric pain</th>\n",
              "      <th>NO</th>\n",
              "      <th>YES</th>\n",
              "    </tr>\n",
              "    <tr>\n",
              "      <th>Baseline histological staging</th>\n",
              "      <th></th>\n",
              "      <th></th>\n",
              "    </tr>\n",
              "  </thead>\n",
              "  <tbody>\n",
              "    <tr>\n",
              "      <th>1</th>\n",
              "      <td>147</td>\n",
              "      <td>189</td>\n",
              "    </tr>\n",
              "    <tr>\n",
              "      <th>2</th>\n",
              "      <td>168</td>\n",
              "      <td>164</td>\n",
              "    </tr>\n",
              "    <tr>\n",
              "      <th>3</th>\n",
              "      <td>188</td>\n",
              "      <td>167</td>\n",
              "    </tr>\n",
              "    <tr>\n",
              "      <th>4</th>\n",
              "      <td>184</td>\n",
              "      <td>178</td>\n",
              "    </tr>\n",
              "  </tbody>\n",
              "</table>\n",
              "</div>"
            ],
            "text/plain": [
              "Epigastric pain                 NO  YES\n",
              "Baseline histological staging          \n",
              "1                              147  189\n",
              "2                              168  164\n",
              "3                              188  167\n",
              "4                              184  178"
            ]
          },
          "metadata": {
            "tags": []
          }
        },
        {
          "output_type": "stream",
          "text": [
            "p-value from chi-square test: 0.0876\n"
          ],
          "name": "stdout"
        }
      ]
    },
    {
      "cell_type": "markdown",
      "metadata": {
        "id": "JGPOuQSwwEzV",
        "colab_type": "text"
      },
      "source": [
        "**Can you add percentages on your own?**"
      ]
    },
    {
      "cell_type": "code",
      "metadata": {
        "id": "96XiZHmRwEzV",
        "colab_type": "code",
        "colab": {
          "base_uri": "https://localhost:8080/",
          "height": 206
        },
        "outputId": "0cad9aed-d025-44ac-9f86-6ae02f8db205"
      },
      "source": [
        "table2_percent_rows = table2.apply(lambda r: r/r.sum()*100, axis=1)\n",
        "table2_percent_rows"
      ],
      "execution_count": 78,
      "outputs": [
        {
          "output_type": "execute_result",
          "data": {
            "text/html": [
              "<div>\n",
              "<style scoped>\n",
              "    .dataframe tbody tr th:only-of-type {\n",
              "        vertical-align: middle;\n",
              "    }\n",
              "\n",
              "    .dataframe tbody tr th {\n",
              "        vertical-align: top;\n",
              "    }\n",
              "\n",
              "    .dataframe thead th {\n",
              "        text-align: right;\n",
              "    }\n",
              "</style>\n",
              "<table border=\"1\" class=\"dataframe\">\n",
              "  <thead>\n",
              "    <tr style=\"text-align: right;\">\n",
              "      <th>Epigastric pain</th>\n",
              "      <th>NO</th>\n",
              "      <th>YES</th>\n",
              "    </tr>\n",
              "    <tr>\n",
              "      <th>Baseline histological staging</th>\n",
              "      <th></th>\n",
              "      <th></th>\n",
              "    </tr>\n",
              "  </thead>\n",
              "  <tbody>\n",
              "    <tr>\n",
              "      <th>1</th>\n",
              "      <td>43.7500</td>\n",
              "      <td>56.2500</td>\n",
              "    </tr>\n",
              "    <tr>\n",
              "      <th>2</th>\n",
              "      <td>50.6024</td>\n",
              "      <td>49.3976</td>\n",
              "    </tr>\n",
              "    <tr>\n",
              "      <th>3</th>\n",
              "      <td>52.9577</td>\n",
              "      <td>47.0423</td>\n",
              "    </tr>\n",
              "    <tr>\n",
              "      <th>4</th>\n",
              "      <td>50.8287</td>\n",
              "      <td>49.1713</td>\n",
              "    </tr>\n",
              "  </tbody>\n",
              "</table>\n",
              "</div>"
            ],
            "text/plain": [
              "Epigastric pain                    NO     YES\n",
              "Baseline histological staging                \n",
              "1                             43.7500 56.2500\n",
              "2                             50.6024 49.3976\n",
              "3                             52.9577 47.0423\n",
              "4                             50.8287 49.1713"
            ]
          },
          "metadata": {
            "tags": []
          },
          "execution_count": 78
        }
      ]
    },
    {
      "cell_type": "code",
      "metadata": {
        "id": "sekdxA6pwEzY",
        "colab_type": "code",
        "colab": {
          "base_uri": "https://localhost:8080/",
          "height": 206
        },
        "outputId": "944a43c1-6060-4d74-bad5-d6b3f2b2c68c"
      },
      "source": [
        "table2_percent_cols = table2.apply(lambda r: r/r.sum()*100, axis=0)\n",
        "table2_percent_cols"
      ],
      "execution_count": 79,
      "outputs": [
        {
          "output_type": "execute_result",
          "data": {
            "text/html": [
              "<div>\n",
              "<style scoped>\n",
              "    .dataframe tbody tr th:only-of-type {\n",
              "        vertical-align: middle;\n",
              "    }\n",
              "\n",
              "    .dataframe tbody tr th {\n",
              "        vertical-align: top;\n",
              "    }\n",
              "\n",
              "    .dataframe thead th {\n",
              "        text-align: right;\n",
              "    }\n",
              "</style>\n",
              "<table border=\"1\" class=\"dataframe\">\n",
              "  <thead>\n",
              "    <tr style=\"text-align: right;\">\n",
              "      <th>Epigastric pain</th>\n",
              "      <th>NO</th>\n",
              "      <th>YES</th>\n",
              "    </tr>\n",
              "    <tr>\n",
              "      <th>Baseline histological staging</th>\n",
              "      <th></th>\n",
              "      <th></th>\n",
              "    </tr>\n",
              "  </thead>\n",
              "  <tbody>\n",
              "    <tr>\n",
              "      <th>1</th>\n",
              "      <td>21.3974</td>\n",
              "      <td>27.0774</td>\n",
              "    </tr>\n",
              "    <tr>\n",
              "      <th>2</th>\n",
              "      <td>24.4541</td>\n",
              "      <td>23.4957</td>\n",
              "    </tr>\n",
              "    <tr>\n",
              "      <th>3</th>\n",
              "      <td>27.3654</td>\n",
              "      <td>23.9255</td>\n",
              "    </tr>\n",
              "    <tr>\n",
              "      <th>4</th>\n",
              "      <td>26.7831</td>\n",
              "      <td>25.5014</td>\n",
              "    </tr>\n",
              "  </tbody>\n",
              "</table>\n",
              "</div>"
            ],
            "text/plain": [
              "Epigastric pain                    NO     YES\n",
              "Baseline histological staging                \n",
              "1                             21.3974 27.0774\n",
              "2                             24.4541 23.4957\n",
              "3                             27.3654 23.9255\n",
              "4                             26.7831 25.5014"
            ]
          },
          "metadata": {
            "tags": []
          },
          "execution_count": 79
        }
      ]
    },
    {
      "cell_type": "markdown",
      "metadata": {
        "id": "CjTaA_qpwEzZ",
        "colab_type": "text"
      },
      "source": [
        "# Multiple testing"
      ]
    },
    {
      "cell_type": "markdown",
      "metadata": {
        "id": "yaUf9-3FwEzZ",
        "colab_type": "text"
      },
      "source": [
        "**At the beginning, we need to read the last dataset.**\n",
        "\n",
        "By the way, it comes from our [article](https://www.mdpi.com/2072-6694/12/6/1525/htm).\n",
        "\n",
        "**It is organized in a different way that previous two:**\n",
        "* variables are in rows.\n",
        "* cases in columns.\n",
        "\n",
        "Varibles are expression values for >20k rat's genes. They were measured by hybridization microarray and here are already log-transformed.\n",
        "\n",
        "Cases are 12 rats:\n",
        "* 3 healthy (wild type).\n",
        "* 3 with heterozygous knock-out of TP53 (they have only one correct copy, instead of 2).\n",
        "* 3 with homozygous knock-out of TP53 (they have no normal copy of TP53 gene).\n",
        "* 3 with homozygous knock-out of TP53 that have already developed sarcoma.\n",
        "\n",
        "Our task is to compare expression of all genes between 3 groups. We will perform >20k test, so we really need multiple comparison corrections.\n",
        "\n",
        "Let's look at data!"
      ]
    },
    {
      "cell_type": "code",
      "metadata": {
        "id": "1E0fXCXWwEza",
        "colab_type": "code",
        "colab": {
          "base_uri": "https://localhost:8080/",
          "height": 475
        },
        "outputId": "43819de6-894f-4753-fd4c-b63a7f797b46"
      },
      "source": [
        "url = 'https://raw.githubusercontent.com/UlaSmycz/NGSeminar_biostatistics/master/rats_ngseminar.csv'\n",
        "ratsData = pd.read_csv(url, sep=';', index_col=0, header=[0,1])\n",
        "display(ratsData)\n",
        "# ratsData = pd.read_csv('rats_ngseminar.csv', sep=';', index_col=0, header=[0,1])"
      ],
      "execution_count": 11,
      "outputs": [
        {
          "output_type": "display_data",
          "data": {
            "text/html": [
              "<div>\n",
              "<style scoped>\n",
              "    .dataframe tbody tr th:only-of-type {\n",
              "        vertical-align: middle;\n",
              "    }\n",
              "\n",
              "    .dataframe tbody tr th {\n",
              "        vertical-align: top;\n",
              "    }\n",
              "\n",
              "    .dataframe thead tr th {\n",
              "        text-align: left;\n",
              "    }\n",
              "</style>\n",
              "<table border=\"1\" class=\"dataframe\">\n",
              "  <thead>\n",
              "    <tr>\n",
              "      <th>ID</th>\n",
              "      <th>healthy1</th>\n",
              "      <th>healthy2</th>\n",
              "      <th>healthy3</th>\n",
              "      <th>KO1</th>\n",
              "      <th>KO2</th>\n",
              "      <th>KO3</th>\n",
              "      <th>HET1</th>\n",
              "      <th>HET2</th>\n",
              "      <th>HET3</th>\n",
              "      <th>Sarcoma1</th>\n",
              "      <th>Sarcoma2</th>\n",
              "      <th>Sarcoma3</th>\n",
              "    </tr>\n",
              "    <tr>\n",
              "      <th>Group</th>\n",
              "      <th>healthy</th>\n",
              "      <th>healthy</th>\n",
              "      <th>healthy</th>\n",
              "      <th>ko</th>\n",
              "      <th>ko</th>\n",
              "      <th>ko</th>\n",
              "      <th>het</th>\n",
              "      <th>het</th>\n",
              "      <th>het</th>\n",
              "      <th>sarcoma</th>\n",
              "      <th>sarcoma</th>\n",
              "      <th>sarcoma</th>\n",
              "    </tr>\n",
              "  </thead>\n",
              "  <tbody>\n",
              "    <tr>\n",
              "      <th>1700016D06Rik</th>\n",
              "      <td>1.8790</td>\n",
              "      <td>1.7172</td>\n",
              "      <td>1.6952</td>\n",
              "      <td>1.7642</td>\n",
              "      <td>1.5305</td>\n",
              "      <td>1.6763</td>\n",
              "      <td>1.4656</td>\n",
              "      <td>1.9429</td>\n",
              "      <td>2.2067</td>\n",
              "      <td>2.3327</td>\n",
              "      <td>2.5214</td>\n",
              "      <td>2.3348</td>\n",
              "    </tr>\n",
              "    <tr>\n",
              "      <th>2310003L06Rik</th>\n",
              "      <td>1.2736</td>\n",
              "      <td>1.4688</td>\n",
              "      <td>1.3084</td>\n",
              "      <td>1.2316</td>\n",
              "      <td>1.3412</td>\n",
              "      <td>1.3780</td>\n",
              "      <td>1.0981</td>\n",
              "      <td>1.1020</td>\n",
              "      <td>1.4581</td>\n",
              "      <td>1.2956</td>\n",
              "      <td>1.2950</td>\n",
              "      <td>1.4108</td>\n",
              "    </tr>\n",
              "    <tr>\n",
              "      <th>3100002H09Rik</th>\n",
              "      <td>1.4809</td>\n",
              "      <td>1.4581</td>\n",
              "      <td>1.6102</td>\n",
              "      <td>1.5838</td>\n",
              "      <td>1.6039</td>\n",
              "      <td>1.4140</td>\n",
              "      <td>1.1908</td>\n",
              "      <td>1.3091</td>\n",
              "      <td>1.5157</td>\n",
              "      <td>1.1004</td>\n",
              "      <td>1.3716</td>\n",
              "      <td>1.1029</td>\n",
              "    </tr>\n",
              "    <tr>\n",
              "      <th>4930513O06Rik</th>\n",
              "      <td>1.0668</td>\n",
              "      <td>1.0712</td>\n",
              "      <td>1.1849</td>\n",
              "      <td>1.2200</td>\n",
              "      <td>1.0701</td>\n",
              "      <td>1.1558</td>\n",
              "      <td>1.1400</td>\n",
              "      <td>1.7675</td>\n",
              "      <td>1.1055</td>\n",
              "      <td>1.2958</td>\n",
              "      <td>1.2896</td>\n",
              "      <td>1.1254</td>\n",
              "    </tr>\n",
              "    <tr>\n",
              "      <th>A1bg</th>\n",
              "      <td>1.6433</td>\n",
              "      <td>1.3979</td>\n",
              "      <td>2.0608</td>\n",
              "      <td>2.0007</td>\n",
              "      <td>2.0726</td>\n",
              "      <td>1.7918</td>\n",
              "      <td>1.9064</td>\n",
              "      <td>1.6826</td>\n",
              "      <td>1.8136</td>\n",
              "      <td>1.4766</td>\n",
              "      <td>1.8878</td>\n",
              "      <td>1.6590</td>\n",
              "    </tr>\n",
              "    <tr>\n",
              "      <th>...</th>\n",
              "      <td>...</td>\n",
              "      <td>...</td>\n",
              "      <td>...</td>\n",
              "      <td>...</td>\n",
              "      <td>...</td>\n",
              "      <td>...</td>\n",
              "      <td>...</td>\n",
              "      <td>...</td>\n",
              "      <td>...</td>\n",
              "      <td>...</td>\n",
              "      <td>...</td>\n",
              "      <td>...</td>\n",
              "    </tr>\n",
              "    <tr>\n",
              "      <th>Zyg11a</th>\n",
              "      <td>1.3978</td>\n",
              "      <td>1.4769</td>\n",
              "      <td>1.3731</td>\n",
              "      <td>1.4883</td>\n",
              "      <td>1.7974</td>\n",
              "      <td>1.3870</td>\n",
              "      <td>1.2953</td>\n",
              "      <td>1.2322</td>\n",
              "      <td>1.5306</td>\n",
              "      <td>1.6531</td>\n",
              "      <td>1.2419</td>\n",
              "      <td>1.5963</td>\n",
              "    </tr>\n",
              "    <tr>\n",
              "      <th>Zyg11b</th>\n",
              "      <td>8.8109</td>\n",
              "      <td>8.5008</td>\n",
              "      <td>8.6023</td>\n",
              "      <td>8.7563</td>\n",
              "      <td>8.4042</td>\n",
              "      <td>8.7173</td>\n",
              "      <td>8.7391</td>\n",
              "      <td>8.8345</td>\n",
              "      <td>8.4033</td>\n",
              "      <td>4.8837</td>\n",
              "      <td>6.0576</td>\n",
              "      <td>5.3475</td>\n",
              "    </tr>\n",
              "    <tr>\n",
              "      <th>Zyx</th>\n",
              "      <td>3.1944</td>\n",
              "      <td>2.5035</td>\n",
              "      <td>3.0898</td>\n",
              "      <td>3.4528</td>\n",
              "      <td>3.0730</td>\n",
              "      <td>3.1539</td>\n",
              "      <td>3.2964</td>\n",
              "      <td>2.8927</td>\n",
              "      <td>3.1548</td>\n",
              "      <td>3.7506</td>\n",
              "      <td>5.2061</td>\n",
              "      <td>5.0407</td>\n",
              "    </tr>\n",
              "    <tr>\n",
              "      <th>Zzef1</th>\n",
              "      <td>3.5122</td>\n",
              "      <td>3.1699</td>\n",
              "      <td>3.2266</td>\n",
              "      <td>3.7369</td>\n",
              "      <td>3.3165</td>\n",
              "      <td>3.0692</td>\n",
              "      <td>3.3376</td>\n",
              "      <td>3.1566</td>\n",
              "      <td>2.9069</td>\n",
              "      <td>2.9550</td>\n",
              "      <td>3.3947</td>\n",
              "      <td>3.0491</td>\n",
              "    </tr>\n",
              "    <tr>\n",
              "      <th>Zzz3</th>\n",
              "      <td>3.9735</td>\n",
              "      <td>3.4899</td>\n",
              "      <td>3.3508</td>\n",
              "      <td>3.7601</td>\n",
              "      <td>3.1962</td>\n",
              "      <td>3.5507</td>\n",
              "      <td>3.5866</td>\n",
              "      <td>2.3868</td>\n",
              "      <td>2.9908</td>\n",
              "      <td>2.7987</td>\n",
              "      <td>4.1192</td>\n",
              "      <td>4.6615</td>\n",
              "    </tr>\n",
              "  </tbody>\n",
              "</table>\n",
              "<p>20740 rows × 12 columns</p>\n",
              "</div>"
            ],
            "text/plain": [
              "ID            healthy1 healthy2 healthy3  ... Sarcoma1 Sarcoma2 Sarcoma3\n",
              "Group          healthy  healthy  healthy  ...  sarcoma  sarcoma  sarcoma\n",
              "1700016D06Rik   1.8790   1.7172   1.6952  ...   2.3327   2.5214   2.3348\n",
              "2310003L06Rik   1.2736   1.4688   1.3084  ...   1.2956   1.2950   1.4108\n",
              "3100002H09Rik   1.4809   1.4581   1.6102  ...   1.1004   1.3716   1.1029\n",
              "4930513O06Rik   1.0668   1.0712   1.1849  ...   1.2958   1.2896   1.1254\n",
              "A1bg            1.6433   1.3979   2.0608  ...   1.4766   1.8878   1.6590\n",
              "...                ...      ...      ...  ...      ...      ...      ...\n",
              "Zyg11a          1.3978   1.4769   1.3731  ...   1.6531   1.2419   1.5963\n",
              "Zyg11b          8.8109   8.5008   8.6023  ...   4.8837   6.0576   5.3475\n",
              "Zyx             3.1944   2.5035   3.0898  ...   3.7506   5.2061   5.0407\n",
              "Zzef1           3.5122   3.1699   3.2266  ...   2.9550   3.3947   3.0491\n",
              "Zzz3            3.9735   3.4899   3.3508  ...   2.7987   4.1192   4.6615\n",
              "\n",
              "[20740 rows x 12 columns]"
            ]
          },
          "metadata": {
            "tags": []
          }
        }
      ]
    },
    {
      "cell_type": "markdown",
      "metadata": {
        "id": "Mc6BnQy2wEze",
        "colab_type": "text"
      },
      "source": [
        "**Group the rats and calculate mean expression of each gene per group.**"
      ]
    },
    {
      "cell_type": "code",
      "metadata": {
        "id": "WOw2DgeFwEzf",
        "colab_type": "code",
        "colab": {
          "base_uri": "https://localhost:8080/",
          "height": 423
        },
        "outputId": "fbcc5e58-a383-46ec-abc6-604fda345989"
      },
      "source": [
        "ratsDataGrouped = ratsData.groupby(level=['Group'], axis=1)\n",
        "ratsDataResults = ratsDataGrouped.apply(np.mean, axis=1) \n",
        "display(ratsDataResults)"
      ],
      "execution_count": 4,
      "outputs": [
        {
          "output_type": "display_data",
          "data": {
            "text/html": [
              "<div>\n",
              "<style scoped>\n",
              "    .dataframe tbody tr th:only-of-type {\n",
              "        vertical-align: middle;\n",
              "    }\n",
              "\n",
              "    .dataframe tbody tr th {\n",
              "        vertical-align: top;\n",
              "    }\n",
              "\n",
              "    .dataframe thead th {\n",
              "        text-align: right;\n",
              "    }\n",
              "</style>\n",
              "<table border=\"1\" class=\"dataframe\">\n",
              "  <thead>\n",
              "    <tr style=\"text-align: right;\">\n",
              "      <th>Group</th>\n",
              "      <th>healthy</th>\n",
              "      <th>het</th>\n",
              "      <th>ko</th>\n",
              "      <th>sarcoma</th>\n",
              "    </tr>\n",
              "  </thead>\n",
              "  <tbody>\n",
              "    <tr>\n",
              "      <th>1700016D06Rik</th>\n",
              "      <td>1.7638</td>\n",
              "      <td>1.8717</td>\n",
              "      <td>1.6570</td>\n",
              "      <td>2.3963</td>\n",
              "    </tr>\n",
              "    <tr>\n",
              "      <th>2310003L06Rik</th>\n",
              "      <td>1.3502</td>\n",
              "      <td>1.2194</td>\n",
              "      <td>1.3169</td>\n",
              "      <td>1.3338</td>\n",
              "    </tr>\n",
              "    <tr>\n",
              "      <th>3100002H09Rik</th>\n",
              "      <td>1.5164</td>\n",
              "      <td>1.3385</td>\n",
              "      <td>1.5339</td>\n",
              "      <td>1.1917</td>\n",
              "    </tr>\n",
              "    <tr>\n",
              "      <th>4930513O06Rik</th>\n",
              "      <td>1.1076</td>\n",
              "      <td>1.3377</td>\n",
              "      <td>1.1486</td>\n",
              "      <td>1.2369</td>\n",
              "    </tr>\n",
              "    <tr>\n",
              "      <th>A1bg</th>\n",
              "      <td>1.7006</td>\n",
              "      <td>1.8008</td>\n",
              "      <td>1.9550</td>\n",
              "      <td>1.6745</td>\n",
              "    </tr>\n",
              "    <tr>\n",
              "      <th>...</th>\n",
              "      <td>...</td>\n",
              "      <td>...</td>\n",
              "      <td>...</td>\n",
              "      <td>...</td>\n",
              "    </tr>\n",
              "    <tr>\n",
              "      <th>Zyg11a</th>\n",
              "      <td>1.4159</td>\n",
              "      <td>1.3527</td>\n",
              "      <td>1.5575</td>\n",
              "      <td>1.4971</td>\n",
              "    </tr>\n",
              "    <tr>\n",
              "      <th>Zyg11b</th>\n",
              "      <td>8.6380</td>\n",
              "      <td>8.6590</td>\n",
              "      <td>8.6259</td>\n",
              "      <td>5.4296</td>\n",
              "    </tr>\n",
              "    <tr>\n",
              "      <th>Zyx</th>\n",
              "      <td>2.9292</td>\n",
              "      <td>3.1146</td>\n",
              "      <td>3.2266</td>\n",
              "      <td>4.6658</td>\n",
              "    </tr>\n",
              "    <tr>\n",
              "      <th>Zzef1</th>\n",
              "      <td>3.3029</td>\n",
              "      <td>3.1337</td>\n",
              "      <td>3.3742</td>\n",
              "      <td>3.1329</td>\n",
              "    </tr>\n",
              "    <tr>\n",
              "      <th>Zzz3</th>\n",
              "      <td>3.6047</td>\n",
              "      <td>2.9881</td>\n",
              "      <td>3.5023</td>\n",
              "      <td>3.8598</td>\n",
              "    </tr>\n",
              "  </tbody>\n",
              "</table>\n",
              "<p>20740 rows × 4 columns</p>\n",
              "</div>"
            ],
            "text/plain": [
              "Group          healthy    het     ko  sarcoma\n",
              "1700016D06Rik   1.7638 1.8717 1.6570   2.3963\n",
              "2310003L06Rik   1.3502 1.2194 1.3169   1.3338\n",
              "3100002H09Rik   1.5164 1.3385 1.5339   1.1917\n",
              "4930513O06Rik   1.1076 1.3377 1.1486   1.2369\n",
              "A1bg            1.7006 1.8008 1.9550   1.6745\n",
              "...                ...    ...    ...      ...\n",
              "Zyg11a          1.4159 1.3527 1.5575   1.4971\n",
              "Zyg11b          8.6380 8.6590 8.6259   5.4296\n",
              "Zyx             2.9292 3.1146 3.2266   4.6658\n",
              "Zzef1           3.3029 3.1337 3.3742   3.1329\n",
              "Zzz3            3.6047 2.9881 3.5023   3.8598\n",
              "\n",
              "[20740 rows x 4 columns]"
            ]
          },
          "metadata": {
            "tags": []
          }
        }
      ]
    },
    {
      "cell_type": "markdown",
      "metadata": {
        "id": "V5Uqesx7wEzh",
        "colab_type": "text"
      },
      "source": [
        "**Now compare the groups by ANOVA**\n",
        "\n",
        "Here, we omit assumption verification, because it wouldn't be reliable with 3 samples per group. Additionaly, with so few samples non-parametric test wouldn't be very effective too (but you can easily substitute test and check why)."
      ]
    },
    {
      "cell_type": "code",
      "metadata": {
        "id": "nNu8hNScwEzh",
        "colab_type": "code",
        "colab": {
          "base_uri": "https://localhost:8080/",
          "height": 423
        },
        "outputId": "0dc9468a-cab3-4114-f32c-c7d68bfa2580"
      },
      "source": [
        "healthy = ratsDataGrouped.get_group('healthy')\n",
        "het = ratsDataGrouped.get_group('ko')\n",
        "ko = ratsDataGrouped.get_group('het')\n",
        "sarcoma = ratsDataGrouped.get_group('sarcoma')\n",
        "\n",
        "s, p = stats.f_oneway(healthy, ko, het, sarcoma, axis=1)\n",
        "\n",
        "ratsDataResults.loc[:, 'p'] = p\n",
        "\n",
        "display(ratsDataResults.sort_values(by='p'))"
      ],
      "execution_count": 5,
      "outputs": [
        {
          "output_type": "display_data",
          "data": {
            "text/html": [
              "<div>\n",
              "<style scoped>\n",
              "    .dataframe tbody tr th:only-of-type {\n",
              "        vertical-align: middle;\n",
              "    }\n",
              "\n",
              "    .dataframe tbody tr th {\n",
              "        vertical-align: top;\n",
              "    }\n",
              "\n",
              "    .dataframe thead th {\n",
              "        text-align: right;\n",
              "    }\n",
              "</style>\n",
              "<table border=\"1\" class=\"dataframe\">\n",
              "  <thead>\n",
              "    <tr style=\"text-align: right;\">\n",
              "      <th>Group</th>\n",
              "      <th>healthy</th>\n",
              "      <th>het</th>\n",
              "      <th>ko</th>\n",
              "      <th>sarcoma</th>\n",
              "      <th>p</th>\n",
              "    </tr>\n",
              "  </thead>\n",
              "  <tbody>\n",
              "    <tr>\n",
              "      <th>Klhl33</th>\n",
              "      <td>5.8547</td>\n",
              "      <td>5.2443</td>\n",
              "      <td>5.7417</td>\n",
              "      <td>1.8820</td>\n",
              "      <td>0.0000</td>\n",
              "    </tr>\n",
              "    <tr>\n",
              "      <th>Lpin1</th>\n",
              "      <td>6.6326</td>\n",
              "      <td>6.6936</td>\n",
              "      <td>6.6180</td>\n",
              "      <td>2.5843</td>\n",
              "      <td>0.0000</td>\n",
              "    </tr>\n",
              "    <tr>\n",
              "      <th>Clcn4</th>\n",
              "      <td>4.6121</td>\n",
              "      <td>4.0439</td>\n",
              "      <td>4.4931</td>\n",
              "      <td>1.6499</td>\n",
              "      <td>0.0000</td>\n",
              "    </tr>\n",
              "    <tr>\n",
              "      <th>Arhgap42</th>\n",
              "      <td>2.8088</td>\n",
              "      <td>2.4960</td>\n",
              "      <td>2.9020</td>\n",
              "      <td>5.3558</td>\n",
              "      <td>0.0000</td>\n",
              "    </tr>\n",
              "    <tr>\n",
              "      <th>Slc16a3</th>\n",
              "      <td>7.1093</td>\n",
              "      <td>7.0470</td>\n",
              "      <td>7.0539</td>\n",
              "      <td>2.6419</td>\n",
              "      <td>0.0000</td>\n",
              "    </tr>\n",
              "    <tr>\n",
              "      <th>...</th>\n",
              "      <td>...</td>\n",
              "      <td>...</td>\n",
              "      <td>...</td>\n",
              "      <td>...</td>\n",
              "      <td>...</td>\n",
              "    </tr>\n",
              "    <tr>\n",
              "      <th>Dgat2l6</th>\n",
              "      <td>1.8325</td>\n",
              "      <td>1.8126</td>\n",
              "      <td>1.8190</td>\n",
              "      <td>1.8332</td>\n",
              "      <td>0.9994</td>\n",
              "    </tr>\n",
              "    <tr>\n",
              "      <th>Cfc1</th>\n",
              "      <td>1.8505</td>\n",
              "      <td>1.8229</td>\n",
              "      <td>1.8315</td>\n",
              "      <td>1.8360</td>\n",
              "      <td>0.9994</td>\n",
              "    </tr>\n",
              "    <tr>\n",
              "      <th>Ttc23</th>\n",
              "      <td>3.2753</td>\n",
              "      <td>3.2474</td>\n",
              "      <td>3.2998</td>\n",
              "      <td>3.2695</td>\n",
              "      <td>0.9997</td>\n",
              "    </tr>\n",
              "    <tr>\n",
              "      <th>Olr551</th>\n",
              "      <td>2.0664</td>\n",
              "      <td>2.0559</td>\n",
              "      <td>2.0642</td>\n",
              "      <td>2.0407</td>\n",
              "      <td>0.9998</td>\n",
              "    </tr>\n",
              "    <tr>\n",
              "      <th>Rab11fip2</th>\n",
              "      <td>3.0812</td>\n",
              "      <td>3.0934</td>\n",
              "      <td>3.0898</td>\n",
              "      <td>3.0937</td>\n",
              "      <td>0.9999</td>\n",
              "    </tr>\n",
              "  </tbody>\n",
              "</table>\n",
              "<p>20740 rows × 5 columns</p>\n",
              "</div>"
            ],
            "text/plain": [
              "Group      healthy    het     ko  sarcoma      p\n",
              "Klhl33      5.8547 5.2443 5.7417   1.8820 0.0000\n",
              "Lpin1       6.6326 6.6936 6.6180   2.5843 0.0000\n",
              "Clcn4       4.6121 4.0439 4.4931   1.6499 0.0000\n",
              "Arhgap42    2.8088 2.4960 2.9020   5.3558 0.0000\n",
              "Slc16a3     7.1093 7.0470 7.0539   2.6419 0.0000\n",
              "...            ...    ...    ...      ...    ...\n",
              "Dgat2l6     1.8325 1.8126 1.8190   1.8332 0.9994\n",
              "Cfc1        1.8505 1.8229 1.8315   1.8360 0.9994\n",
              "Ttc23       3.2753 3.2474 3.2998   3.2695 0.9997\n",
              "Olr551      2.0664 2.0559 2.0642   2.0407 0.9998\n",
              "Rab11fip2   3.0812 3.0934 3.0898   3.0937 0.9999\n",
              "\n",
              "[20740 rows x 5 columns]"
            ]
          },
          "metadata": {
            "tags": []
          }
        }
      ]
    },
    {
      "cell_type": "markdown",
      "metadata": {
        "id": "U3eqTzySwEzi",
        "colab_type": "text"
      },
      "source": [
        "**How many p-values below 0.05 do we have?**"
      ]
    },
    {
      "cell_type": "code",
      "metadata": {
        "id": "7Y7yzvM7wEzi",
        "colab_type": "code",
        "colab": {
          "base_uri": "https://localhost:8080/",
          "height": 54
        },
        "outputId": "a6c79c6e-2d3d-4d3b-d07c-95901ec3badb"
      },
      "source": [
        "sigP = (ratsDataResults.loc[:, 'p']<0.05).sum()\n",
        "sigP_percent = sigP/ratsDataResults.shape[0]*100\n",
        "\n",
        "print('Number of p-values below 0.05: {0:d}'.format(sigP))\n",
        "print('It is {0:.1f}% of all genes.'.format(sigP_percent))"
      ],
      "execution_count": 7,
      "outputs": [
        {
          "output_type": "stream",
          "text": [
            "Number of p-values below 0.05: 5331\n",
            "It is 25.7% of all genes.\n"
          ],
          "name": "stdout"
        }
      ]
    },
    {
      "cell_type": "markdown",
      "metadata": {
        "id": "dOjriUCQwEzl",
        "colab_type": "text"
      },
      "source": [
        "**Let's apply FDR and FWER correction**"
      ]
    },
    {
      "cell_type": "code",
      "metadata": {
        "id": "6M6sQjxowEzl",
        "colab_type": "code",
        "colab": {}
      },
      "source": [
        "fdr = multipletests(ratsDataResults.loc[:, 'p'], alpha=0.05, method='fdr_bh')\n",
        "ratsDataResults['FDR'] = fdr[1]"
      ],
      "execution_count": 8,
      "outputs": []
    },
    {
      "cell_type": "code",
      "metadata": {
        "id": "uo7rQUYzwEzn",
        "colab_type": "code",
        "colab": {}
      },
      "source": [
        "fwer = multipletests(ratsDataResults.loc[:, 'p'], alpha=0.05, method='bonferroni')\n",
        "ratsDataResults['FWER'] = fwer[1]"
      ],
      "execution_count": 9,
      "outputs": []
    },
    {
      "cell_type": "code",
      "metadata": {
        "id": "PKOZoVnnwEzy",
        "colab_type": "code",
        "colab": {
          "base_uri": "https://localhost:8080/",
          "height": 111
        },
        "outputId": "c384ea97-1e23-4c40-c22d-c2253c0beaae"
      },
      "source": [
        "sigFDR = (ratsDataResults.loc[:, 'FDR']<0.05).sum()\n",
        "sigFDR_percent = sigFDR/ratsDataResults.shape[0]*100\n",
        "\n",
        "print('Number of FDR-corrected p-values below 0.05: {0:d}'.format(sigFDR))\n",
        "print('It is {0:.1f}% of all genes.'.format(sigFDR_percent))\n",
        "\n",
        "sigFWER = (ratsDataResults.loc[:, 'FWER']<0.05).sum()\n",
        "sigFWER_percent = sigFWER/ratsDataResults.shape[0]*100\n",
        "\n",
        "print()\n",
        "print('Number of FWER-corrected p-values below 0.05: {0:d}'.format(sigFWER))\n",
        "print('It is {0:.1f}% of all genes.'.format(sigFWER_percent))"
      ],
      "execution_count": 10,
      "outputs": [
        {
          "output_type": "stream",
          "text": [
            "Number of FDR-corrected p-values below 0.05: 3052\n",
            "It is 14.7% of all genes.\n",
            "\n",
            "Number of FWER-corrected p-values below 0.05: 167\n",
            "It is 0.8% of all genes.\n"
          ],
          "name": "stdout"
        }
      ]
    }
  ]
}