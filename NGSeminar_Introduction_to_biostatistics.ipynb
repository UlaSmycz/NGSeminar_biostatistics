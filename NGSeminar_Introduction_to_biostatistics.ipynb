{
 "cells": [
  {
   "cell_type": "markdown",
   "metadata": {
    "colab_type": "text",
    "id": "306CpsU-wEvp"
   },
   "source": [
    "# NGSeminar: Introduction to biostatistics (with Python)\n",
    "\n",
    "**Urszula Smyczyńska**\n",
    "\n",
    "**30.07.2020**"
   ]
  },
  {
   "cell_type": "markdown",
   "metadata": {},
   "source": [
    "# Initial settings"
   ]
  },
  {
   "cell_type": "markdown",
   "metadata": {},
   "source": [
    "## Check if working in Colab and install needed modules"
   ]
  },
  {
   "cell_type": "markdown",
   "metadata": {},
   "source": [
    "Shutting kernel down from code may produce a prompt about problem with notebook session in Colab, but don't worry it'll restart and we need it to import new modules properly."
   ]
  },
  {
   "cell_type": "code",
   "execution_count": 1,
   "metadata": {},
   "outputs": [
    {
     "name": "stdout",
     "output_type": "stream",
     "text": [
      "False\n"
     ]
    }
   ],
   "source": [
    "import sys\n",
    "import IPython\n",
    "\n",
    "IN_COLAB = 'google.colab' in sys.modules\n",
    "print(IN_COLAB)\n",
    "\n",
    "if IN_COLAB:\n",
    "    !pip install scikit-posthocs\n",
    "    !pip install --upgrade scipy\n",
    "    IPython.Application.instance().kernel.do_shutdown(True)"
   ]
  },
  {
   "cell_type": "markdown",
   "metadata": {
    "colab_type": "text",
    "id": "GwISTg6ZwEvq"
   },
   "source": [
    "## Import needed modules"
   ]
  },
  {
   "cell_type": "code",
   "execution_count": 2,
   "metadata": {
    "colab": {},
    "colab_type": "code",
    "id": "epnAGTjywEvs"
   },
   "outputs": [],
   "source": [
    "%matplotlib inline\n",
    "import numpy as np\n",
    "import pandas as pd\n",
    "pd.options.display.float_format = '{:.4f}'.format\n",
    "import matplotlib.pyplot as plt\n",
    "from scipy import stats\n",
    "import scikit_posthocs as posthocs\n",
    "from statsmodels.stats.anova import AnovaRM\n",
    "from statsmodels.stats.multicomp import pairwise_tukeyhsd\n",
    "from statsmodels.stats.multitest import multipletests\n",
    "import itertools\n",
    "import seaborn as sns\n",
    "import sys\n",
    "\n",
    "IN_COLAB = 'google.colab' in sys.modules"
   ]
  },
  {
   "cell_type": "markdown",
   "metadata": {
    "colab_type": "text",
    "id": "ixvQoBHVwEv1"
   },
   "source": [
    "# Read *HCV_Data_Germany_ngseminar* dataset"
   ]
  },
  {
   "cell_type": "markdown",
   "metadata": {
    "colab_type": "text",
    "id": "ehUIb8kiwEv3"
   },
   "source": [
    "It contains data of patients with HCV and healthy people (blood donor).\n",
    "\n",
    "[Dataset](http://archive.ics.uci.edu/ml/datasets/HCV+data) was downloaded from UCI [Machine Learning Repository](http://archive.ics.uci.edu/ml/datasets/HCV+data).\n",
    "\n",
    "It was slightly modified by me for this seminar :).\n",
    "\n",
    "It contains following variables:\n",
    "* **Category** (nominal): \n",
    "    * Blood Donor\n",
    "    * Fibrosis\n",
    "    * Cirrhosis - very advanced, late fibrosis\n",
    "    * Hepatitis - inflammation of liver tissue.\n",
    "* **Healthy** (nominal, that's what I added to have nominal variables with 2 groups):\n",
    "    * YES - for Category: Blood Donor\n",
    "    * NO - for all other case\n",
    "* **Age** (continuous, but here it is rounded to integers)\n",
    "* **Sex** (nominal): \n",
    "    * m - man\n",
    "    * f - woman\n",
    "* **ALB** (continuous) - albumin. Albumins are globular, water-soluble proteins, commonly found in blood plasma.\n",
    "* **ALP** (continuous) - alkaline phosphatase; dephosphorylating enzyme, elevated levels of ALP are often found in patients with liver disease.\n",
    "* **ALT** (continuous) - alanine amino-transferase, alanine transaminase; enzyme involved in amino acids metabolism. Elevated ALT indicates health problems, often with liver (hepatitis, liver damage, bile duct problems).\n",
    "* **AST** (continuous) - aspartate amino-transferase, aspartate transaminase; enzyme involved in amino acids metabolism. Used to assess liver function, also together with ALT as AST/ALT ratio.\n",
    "* **BIL** (continuous) - bilirubin; metabolite produced as a result of breakdown of aged or abnormal red blood cells. It is responsible for yellow discoloration in jaundice. Elevated in patients with hepatitis.\n",
    "* **CHE** (continuous) - choline esterase; an enzyme. One of its types is produced mainly in liver and it may be lower in patients liver disease.\n",
    "* **CHOL** (continuous) - cholesterol.\n",
    "* **CREA** (continuous) - creatinine; metabolite, produced by muscle metabolism, used as marker of kidney function.\n",
    "* **GGT** (continuous) - gamma-glutamyl transferase; an enzyme involved, among the others, in xenobiotic detoxification. GGT is elevated in patients with liver disease (or after excess alcohol consumption).\n",
    "* **PROT** (continuous) - total protein.\n",
    "\n",
    "We will use only some of them, but explanation for all doesn't harm."
   ]
  },
  {
   "cell_type": "code",
   "execution_count": 3,
   "metadata": {
    "colab": {},
    "colab_type": "code",
    "id": "ys7ds3pIwEv4",
    "outputId": "689fa819-92f8-4f51-c7ca-5cd50c9e0773"
   },
   "outputs": [
    {
     "data": {
      "text/html": [
       "<div>\n",
       "<style scoped>\n",
       "    .dataframe tbody tr th:only-of-type {\n",
       "        vertical-align: middle;\n",
       "    }\n",
       "\n",
       "    .dataframe tbody tr th {\n",
       "        vertical-align: top;\n",
       "    }\n",
       "\n",
       "    .dataframe thead th {\n",
       "        text-align: right;\n",
       "    }\n",
       "</style>\n",
       "<table border=\"1\" class=\"dataframe\">\n",
       "  <thead>\n",
       "    <tr style=\"text-align: right;\">\n",
       "      <th></th>\n",
       "      <th>Category</th>\n",
       "      <th>Healthy</th>\n",
       "      <th>Age</th>\n",
       "      <th>Sex</th>\n",
       "      <th>ALB</th>\n",
       "      <th>ALP</th>\n",
       "      <th>ALT</th>\n",
       "      <th>AST</th>\n",
       "      <th>BIL</th>\n",
       "      <th>CHE</th>\n",
       "      <th>CHOL</th>\n",
       "      <th>CREA</th>\n",
       "      <th>GGT</th>\n",
       "      <th>PROT</th>\n",
       "    </tr>\n",
       "    <tr>\n",
       "      <th>ID</th>\n",
       "      <th></th>\n",
       "      <th></th>\n",
       "      <th></th>\n",
       "      <th></th>\n",
       "      <th></th>\n",
       "      <th></th>\n",
       "      <th></th>\n",
       "      <th></th>\n",
       "      <th></th>\n",
       "      <th></th>\n",
       "      <th></th>\n",
       "      <th></th>\n",
       "      <th></th>\n",
       "      <th></th>\n",
       "    </tr>\n",
       "  </thead>\n",
       "  <tbody>\n",
       "    <tr>\n",
       "      <th>1</th>\n",
       "      <td>Blood Donor</td>\n",
       "      <td>YES</td>\n",
       "      <td>32</td>\n",
       "      <td>m</td>\n",
       "      <td>38.5000</td>\n",
       "      <td>52.5000</td>\n",
       "      <td>7.7000</td>\n",
       "      <td>22.1000</td>\n",
       "      <td>7.5000</td>\n",
       "      <td>6.9300</td>\n",
       "      <td>3.2300</td>\n",
       "      <td>106.0000</td>\n",
       "      <td>12.1000</td>\n",
       "      <td>69.0000</td>\n",
       "    </tr>\n",
       "    <tr>\n",
       "      <th>2</th>\n",
       "      <td>Blood Donor</td>\n",
       "      <td>YES</td>\n",
       "      <td>32</td>\n",
       "      <td>m</td>\n",
       "      <td>38.5000</td>\n",
       "      <td>70.3000</td>\n",
       "      <td>18.0000</td>\n",
       "      <td>24.7000</td>\n",
       "      <td>3.9000</td>\n",
       "      <td>11.1700</td>\n",
       "      <td>4.8000</td>\n",
       "      <td>74.0000</td>\n",
       "      <td>15.6000</td>\n",
       "      <td>76.5000</td>\n",
       "    </tr>\n",
       "    <tr>\n",
       "      <th>3</th>\n",
       "      <td>Blood Donor</td>\n",
       "      <td>YES</td>\n",
       "      <td>32</td>\n",
       "      <td>m</td>\n",
       "      <td>46.9000</td>\n",
       "      <td>74.7000</td>\n",
       "      <td>36.2000</td>\n",
       "      <td>52.6000</td>\n",
       "      <td>6.1000</td>\n",
       "      <td>8.8400</td>\n",
       "      <td>5.2000</td>\n",
       "      <td>86.0000</td>\n",
       "      <td>33.2000</td>\n",
       "      <td>79.3000</td>\n",
       "    </tr>\n",
       "    <tr>\n",
       "      <th>4</th>\n",
       "      <td>Blood Donor</td>\n",
       "      <td>YES</td>\n",
       "      <td>32</td>\n",
       "      <td>m</td>\n",
       "      <td>43.2000</td>\n",
       "      <td>52.0000</td>\n",
       "      <td>30.6000</td>\n",
       "      <td>22.6000</td>\n",
       "      <td>18.9000</td>\n",
       "      <td>7.3300</td>\n",
       "      <td>4.7400</td>\n",
       "      <td>80.0000</td>\n",
       "      <td>33.8000</td>\n",
       "      <td>75.7000</td>\n",
       "    </tr>\n",
       "    <tr>\n",
       "      <th>5</th>\n",
       "      <td>Blood Donor</td>\n",
       "      <td>YES</td>\n",
       "      <td>32</td>\n",
       "      <td>m</td>\n",
       "      <td>39.2000</td>\n",
       "      <td>74.1000</td>\n",
       "      <td>32.6000</td>\n",
       "      <td>24.8000</td>\n",
       "      <td>9.6000</td>\n",
       "      <td>9.1500</td>\n",
       "      <td>4.3200</td>\n",
       "      <td>76.0000</td>\n",
       "      <td>29.9000</td>\n",
       "      <td>68.7000</td>\n",
       "    </tr>\n",
       "    <tr>\n",
       "      <th>...</th>\n",
       "      <td>...</td>\n",
       "      <td>...</td>\n",
       "      <td>...</td>\n",
       "      <td>...</td>\n",
       "      <td>...</td>\n",
       "      <td>...</td>\n",
       "      <td>...</td>\n",
       "      <td>...</td>\n",
       "      <td>...</td>\n",
       "      <td>...</td>\n",
       "      <td>...</td>\n",
       "      <td>...</td>\n",
       "      <td>...</td>\n",
       "      <td>...</td>\n",
       "    </tr>\n",
       "    <tr>\n",
       "      <th>610</th>\n",
       "      <td>Cirrhosis</td>\n",
       "      <td>NO</td>\n",
       "      <td>59</td>\n",
       "      <td>f</td>\n",
       "      <td>39.0000</td>\n",
       "      <td>51.3000</td>\n",
       "      <td>19.6000</td>\n",
       "      <td>285.8000</td>\n",
       "      <td>40.0000</td>\n",
       "      <td>5.7700</td>\n",
       "      <td>4.5100</td>\n",
       "      <td>136.1000</td>\n",
       "      <td>101.1000</td>\n",
       "      <td>70.5000</td>\n",
       "    </tr>\n",
       "    <tr>\n",
       "      <th>612</th>\n",
       "      <td>Cirrhosis</td>\n",
       "      <td>NO</td>\n",
       "      <td>64</td>\n",
       "      <td>f</td>\n",
       "      <td>24.0000</td>\n",
       "      <td>102.8000</td>\n",
       "      <td>2.9000</td>\n",
       "      <td>44.4000</td>\n",
       "      <td>20.0000</td>\n",
       "      <td>1.5400</td>\n",
       "      <td>3.0200</td>\n",
       "      <td>63.0000</td>\n",
       "      <td>35.9000</td>\n",
       "      <td>71.3000</td>\n",
       "    </tr>\n",
       "    <tr>\n",
       "      <th>613</th>\n",
       "      <td>Cirrhosis</td>\n",
       "      <td>NO</td>\n",
       "      <td>64</td>\n",
       "      <td>f</td>\n",
       "      <td>29.0000</td>\n",
       "      <td>87.3000</td>\n",
       "      <td>3.5000</td>\n",
       "      <td>99.0000</td>\n",
       "      <td>48.0000</td>\n",
       "      <td>1.6600</td>\n",
       "      <td>3.6300</td>\n",
       "      <td>66.7000</td>\n",
       "      <td>64.2000</td>\n",
       "      <td>82.0000</td>\n",
       "    </tr>\n",
       "    <tr>\n",
       "      <th>614</th>\n",
       "      <td>Cirrhosis</td>\n",
       "      <td>NO</td>\n",
       "      <td>46</td>\n",
       "      <td>f</td>\n",
       "      <td>33.0000</td>\n",
       "      <td>nan</td>\n",
       "      <td>39.0000</td>\n",
       "      <td>62.0000</td>\n",
       "      <td>20.0000</td>\n",
       "      <td>3.5600</td>\n",
       "      <td>4.2000</td>\n",
       "      <td>52.0000</td>\n",
       "      <td>50.0000</td>\n",
       "      <td>71.0000</td>\n",
       "    </tr>\n",
       "    <tr>\n",
       "      <th>615</th>\n",
       "      <td>Cirrhosis</td>\n",
       "      <td>NO</td>\n",
       "      <td>59</td>\n",
       "      <td>f</td>\n",
       "      <td>36.0000</td>\n",
       "      <td>nan</td>\n",
       "      <td>100.0000</td>\n",
       "      <td>80.0000</td>\n",
       "      <td>12.0000</td>\n",
       "      <td>9.0700</td>\n",
       "      <td>5.3000</td>\n",
       "      <td>67.0000</td>\n",
       "      <td>34.0000</td>\n",
       "      <td>68.0000</td>\n",
       "    </tr>\n",
       "  </tbody>\n",
       "</table>\n",
       "<p>614 rows × 14 columns</p>\n",
       "</div>"
      ],
      "text/plain": [
       "        Category Healthy  Age Sex     ALB      ALP      ALT      AST     BIL  \\\n",
       "ID                                                                             \n",
       "1    Blood Donor     YES   32   m 38.5000  52.5000   7.7000  22.1000  7.5000   \n",
       "2    Blood Donor     YES   32   m 38.5000  70.3000  18.0000  24.7000  3.9000   \n",
       "3    Blood Donor     YES   32   m 46.9000  74.7000  36.2000  52.6000  6.1000   \n",
       "4    Blood Donor     YES   32   m 43.2000  52.0000  30.6000  22.6000 18.9000   \n",
       "5    Blood Donor     YES   32   m 39.2000  74.1000  32.6000  24.8000  9.6000   \n",
       "..           ...     ...  ...  ..     ...      ...      ...      ...     ...   \n",
       "610    Cirrhosis      NO   59   f 39.0000  51.3000  19.6000 285.8000 40.0000   \n",
       "612    Cirrhosis      NO   64   f 24.0000 102.8000   2.9000  44.4000 20.0000   \n",
       "613    Cirrhosis      NO   64   f 29.0000  87.3000   3.5000  99.0000 48.0000   \n",
       "614    Cirrhosis      NO   46   f 33.0000      nan  39.0000  62.0000 20.0000   \n",
       "615    Cirrhosis      NO   59   f 36.0000      nan 100.0000  80.0000 12.0000   \n",
       "\n",
       "        CHE   CHOL     CREA      GGT    PROT  \n",
       "ID                                            \n",
       "1    6.9300 3.2300 106.0000  12.1000 69.0000  \n",
       "2   11.1700 4.8000  74.0000  15.6000 76.5000  \n",
       "3    8.8400 5.2000  86.0000  33.2000 79.3000  \n",
       "4    7.3300 4.7400  80.0000  33.8000 75.7000  \n",
       "5    9.1500 4.3200  76.0000  29.9000 68.7000  \n",
       "..      ...    ...      ...      ...     ...  \n",
       "610  5.7700 4.5100 136.1000 101.1000 70.5000  \n",
       "612  1.5400 3.0200  63.0000  35.9000 71.3000  \n",
       "613  1.6600 3.6300  66.7000  64.2000 82.0000  \n",
       "614  3.5600 4.2000  52.0000  50.0000 71.0000  \n",
       "615  9.0700 5.3000  67.0000  34.0000 68.0000  \n",
       "\n",
       "[614 rows x 14 columns]"
      ]
     },
     "metadata": {},
     "output_type": "display_data"
    }
   ],
   "source": [
    "if IN_COLAB:\n",
    "    fname = 'https://raw.githubusercontent.com/UlaSmycz/NGSeminar_biostatistics/master/HCV_Data_Germany_ngseminar.csv'\n",
    "else:\n",
    "    fname = 'HCV_Data_Germany_ngseminar.csv'\n",
    "\n",
    "hcvDataG = pd.read_csv(fname, header = 0, index_col = 0)\n",
    "\n",
    "display(hcvDataG)"
   ]
  },
  {
   "cell_type": "markdown",
   "metadata": {
    "colab_type": "text",
    "id": "f07sXxQRwEv-"
   },
   "source": [
    "**Print unique categories**"
   ]
  },
  {
   "cell_type": "code",
   "execution_count": 4,
   "metadata": {
    "colab": {},
    "colab_type": "code",
    "id": "Oo1y-jFmwEv_",
    "outputId": "9777fa61-e07a-460d-c7ec-28cb87e4530f"
   },
   "outputs": [
    {
     "name": "stdout",
     "output_type": "stream",
     "text": [
      "Blood Donor\n",
      "Cirrhosis\n",
      "Fibrosis\n",
      "Hepatitis\n"
     ]
    }
   ],
   "source": [
    "for el in np.unique(hcvDataG.loc[:, 'Category']):\n",
    "    print(el)"
   ]
  },
  {
   "cell_type": "markdown",
   "metadata": {
    "colab_type": "text",
    "id": "bi_MfB7dwEwD"
   },
   "source": [
    "**Print columns' names and check if variables are correctly listed above**"
   ]
  },
  {
   "cell_type": "code",
   "execution_count": 5,
   "metadata": {
    "colab": {},
    "colab_type": "code",
    "id": "b4A5ncpwwEwF",
    "outputId": "bd49fa6f-619d-4f24-9f5b-71af0f770fed"
   },
   "outputs": [
    {
     "name": "stdout",
     "output_type": "stream",
     "text": [
      "Category\n",
      "Healthy\n",
      "Age\n",
      "Sex\n",
      "ALB\n",
      "ALP\n",
      "ALT\n",
      "AST\n",
      "BIL\n",
      "CHE\n",
      "CHOL\n",
      "CREA\n",
      "GGT\n",
      "PROT\n"
     ]
    }
   ],
   "source": [
    "for colname in hcvDataG.columns:\n",
    "    print(colname)"
   ]
  },
  {
   "cell_type": "code",
   "execution_count": 6,
   "metadata": {},
   "outputs": [
    {
     "data": {
      "text/plain": [
       "Index(['Category', 'Healthy', 'Age', 'Sex', 'ALB', 'ALP', 'ALT', 'AST', 'BIL',\n",
       "       'CHE', 'CHOL', 'CREA', 'GGT', 'PROT'],\n",
       "      dtype='object')"
      ]
     },
     "execution_count": 6,
     "metadata": {},
     "output_type": "execute_result"
    }
   ],
   "source": [
    "hcvDataG.columns"
   ]
  },
  {
   "cell_type": "markdown",
   "metadata": {
    "colab_type": "text",
    "id": "RbZUlub6wEwL"
   },
   "source": [
    "# Read another dataset: *HCV_Data_Egypt_ngseminar*"
   ]
  },
  {
   "cell_type": "markdown",
   "metadata": {
    "colab_type": "text",
    "id": "xmbkk8uowEwM"
   },
   "source": [
    "It contains data of patients with HCV from Egypt.\n",
    "\n",
    "[This dataset](http://archive.ics.uci.edu/ml/datasets/Hepatitis+C+Virus+%28HCV%29+for+Egyptian+patients) was downloaded from UCI [Machine Learning Repository](http://archive.ics.uci.edu/ml/datasets/HCV+data).\n",
    "\n",
    "And it was also somehow modified by me for this seminar, so please use provided version rahter than original one :).\n",
    "\n",
    "It contains more variables than the first (German) dataset:\n",
    "* **Age** (continuous, but here it is again rounded to integers)\n",
    "* **Gender** (nominal, and yes, it is the same as Sex in previous example, but in medicine you're lucky, when one thing has only 2 names): \n",
    "    * M - man\n",
    "    * F - woman\n",
    "* **Fever** (nominal) - just presence (YES) or absence (NO) of fever. (Originally, it was coded as 1 for NO and 2 for YES, buy I've thought is too much for introduction to statistics ;).\n",
    "* **Nausea/Vomiting** (nominal) - works like fever variable and the same applies to a few next variables.\n",
    "* **Headache** (nominal)\n",
    "* **Diarrhea** (nominal)\n",
    "* **Fatigue & generalized bone ache** (nominal)\n",
    "* **Jaundice** (nominal)\n",
    "* **Epigastric pain** (nominal)\n",
    "* **WBS** (continuous) - white blood cells.\n",
    "* **RBC** (continuous) - red blood cells.\n",
    "* **Plat** (continuous) - platelets.\n",
    "* **AST 1** (continuous) - aspartate transaminase, measured at week 1.\n",
    "* **ALT** (continuous) -  alanine amino-transferase:\n",
    "    * **ALT 1** - measured in week 1 (probably some time around the beginning of treatment).\n",
    "    * **ALT 4** - at week 4.\n",
    "    * **ALT 12** - at week 12.\n",
    "    * **ALT 24** - at week 24.\n",
    "    * **ALT 36** - at week 36.\n",
    "    * **ALT 48** - at week 48.\n",
    "* **RNA** (continuous) - amount of viral RNA from HCV:\n",
    "    * **RNA Base** - at baseline, before treatment.\n",
    "    * **RNA 4** - at week 4.\n",
    "    * **RNA 12** - at week 12.\n",
    "    * **RNA EOT** - at the end of treatment.\n",
    "* **RNA EF** (continuous) - RNA Elongation Factor; a protein that plays important role in translation and has also some other function. It can be also exploited by viruses for their replication.\n",
    "* **Baseline histological Grading** (ordinal) - there are a few systems of histologic grading for hepatitis; they can produce scores in ranges like 0-22 or 0-18. They are complex and pathologist needs to assess many features of tissue, like presence of inflammation, necrosis and fibrosis.\n",
    "* **Baseline histological staging** (ordinal) - it describes level of liver fibrosis, the higher the score the more advanced fibrosis:\n",
    "    * **0** - no fibsosis, but also no such case in our dataset.\n",
    "    * **1** - mild fibrosis.\n",
    "    * **2** - moderate fibrosis.\n",
    "    * **3** - severe fibrosis.\n",
    "    * **4** - cirrhosis (very advanced fibrosis)."
   ]
  },
  {
   "cell_type": "code",
   "execution_count": 7,
   "metadata": {
    "colab": {},
    "colab_type": "code",
    "id": "Kab0_WtCwEwN",
    "outputId": "9085febd-2086-4260-8653-708d16f70d47"
   },
   "outputs": [
    {
     "data": {
      "text/html": [
       "<div>\n",
       "<style scoped>\n",
       "    .dataframe tbody tr th:only-of-type {\n",
       "        vertical-align: middle;\n",
       "    }\n",
       "\n",
       "    .dataframe tbody tr th {\n",
       "        vertical-align: top;\n",
       "    }\n",
       "\n",
       "    .dataframe thead th {\n",
       "        text-align: right;\n",
       "    }\n",
       "</style>\n",
       "<table border=\"1\" class=\"dataframe\">\n",
       "  <thead>\n",
       "    <tr style=\"text-align: right;\">\n",
       "      <th></th>\n",
       "      <th>Age</th>\n",
       "      <th>Gender</th>\n",
       "      <th>BMI</th>\n",
       "      <th>Fever</th>\n",
       "      <th>Nausea/Vomiting</th>\n",
       "      <th>Headache</th>\n",
       "      <th>Diarrhea</th>\n",
       "      <th>Fatigue &amp; generalized bone ache</th>\n",
       "      <th>Jaundice</th>\n",
       "      <th>Epigastric pain</th>\n",
       "      <th>...</th>\n",
       "      <th>ALT 24</th>\n",
       "      <th>ALT 36</th>\n",
       "      <th>ALT 48</th>\n",
       "      <th>RNA Base</th>\n",
       "      <th>RNA 4</th>\n",
       "      <th>RNA 12</th>\n",
       "      <th>RNA EOT</th>\n",
       "      <th>RNA EF</th>\n",
       "      <th>Baseline histological Grading</th>\n",
       "      <th>Baseline histological staging</th>\n",
       "    </tr>\n",
       "    <tr>\n",
       "      <th>ID</th>\n",
       "      <th></th>\n",
       "      <th></th>\n",
       "      <th></th>\n",
       "      <th></th>\n",
       "      <th></th>\n",
       "      <th></th>\n",
       "      <th></th>\n",
       "      <th></th>\n",
       "      <th></th>\n",
       "      <th></th>\n",
       "      <th></th>\n",
       "      <th></th>\n",
       "      <th></th>\n",
       "      <th></th>\n",
       "      <th></th>\n",
       "      <th></th>\n",
       "      <th></th>\n",
       "      <th></th>\n",
       "      <th></th>\n",
       "      <th></th>\n",
       "      <th></th>\n",
       "    </tr>\n",
       "  </thead>\n",
       "  <tbody>\n",
       "    <tr>\n",
       "      <th>1</th>\n",
       "      <td>56</td>\n",
       "      <td>M</td>\n",
       "      <td>35</td>\n",
       "      <td>YES</td>\n",
       "      <td>NO</td>\n",
       "      <td>NO</td>\n",
       "      <td>NO</td>\n",
       "      <td>YES</td>\n",
       "      <td>YES</td>\n",
       "      <td>YES</td>\n",
       "      <td>...</td>\n",
       "      <td>81</td>\n",
       "      <td>5</td>\n",
       "      <td>5</td>\n",
       "      <td>655330</td>\n",
       "      <td>634536</td>\n",
       "      <td>288194</td>\n",
       "      <td>5</td>\n",
       "      <td>5</td>\n",
       "      <td>13</td>\n",
       "      <td>2</td>\n",
       "    </tr>\n",
       "    <tr>\n",
       "      <th>2</th>\n",
       "      <td>46</td>\n",
       "      <td>M</td>\n",
       "      <td>29</td>\n",
       "      <td>NO</td>\n",
       "      <td>YES</td>\n",
       "      <td>YES</td>\n",
       "      <td>NO</td>\n",
       "      <td>YES</td>\n",
       "      <td>YES</td>\n",
       "      <td>NO</td>\n",
       "      <td>...</td>\n",
       "      <td>113</td>\n",
       "      <td>57</td>\n",
       "      <td>123</td>\n",
       "      <td>40620</td>\n",
       "      <td>538635</td>\n",
       "      <td>637056</td>\n",
       "      <td>336804</td>\n",
       "      <td>31085</td>\n",
       "      <td>4</td>\n",
       "      <td>2</td>\n",
       "    </tr>\n",
       "    <tr>\n",
       "      <th>3</th>\n",
       "      <td>57</td>\n",
       "      <td>M</td>\n",
       "      <td>33</td>\n",
       "      <td>YES</td>\n",
       "      <td>YES</td>\n",
       "      <td>YES</td>\n",
       "      <td>YES</td>\n",
       "      <td>NO</td>\n",
       "      <td>NO</td>\n",
       "      <td>NO</td>\n",
       "      <td>...</td>\n",
       "      <td>116</td>\n",
       "      <td>5</td>\n",
       "      <td>5</td>\n",
       "      <td>571148</td>\n",
       "      <td>661346</td>\n",
       "      <td>5</td>\n",
       "      <td>735945</td>\n",
       "      <td>558829</td>\n",
       "      <td>4</td>\n",
       "      <td>4</td>\n",
       "    </tr>\n",
       "    <tr>\n",
       "      <th>4</th>\n",
       "      <td>49</td>\n",
       "      <td>F</td>\n",
       "      <td>33</td>\n",
       "      <td>NO</td>\n",
       "      <td>YES</td>\n",
       "      <td>NO</td>\n",
       "      <td>YES</td>\n",
       "      <td>NO</td>\n",
       "      <td>YES</td>\n",
       "      <td>NO</td>\n",
       "      <td>...</td>\n",
       "      <td>88</td>\n",
       "      <td>48</td>\n",
       "      <td>77</td>\n",
       "      <td>1041941</td>\n",
       "      <td>449939</td>\n",
       "      <td>585688</td>\n",
       "      <td>744463</td>\n",
       "      <td>582301</td>\n",
       "      <td>10</td>\n",
       "      <td>3</td>\n",
       "    </tr>\n",
       "    <tr>\n",
       "      <th>5</th>\n",
       "      <td>59</td>\n",
       "      <td>M</td>\n",
       "      <td>32</td>\n",
       "      <td>NO</td>\n",
       "      <td>NO</td>\n",
       "      <td>YES</td>\n",
       "      <td>NO</td>\n",
       "      <td>YES</td>\n",
       "      <td>YES</td>\n",
       "      <td>YES</td>\n",
       "      <td>...</td>\n",
       "      <td>120</td>\n",
       "      <td>94</td>\n",
       "      <td>90</td>\n",
       "      <td>660410</td>\n",
       "      <td>738756</td>\n",
       "      <td>3731527</td>\n",
       "      <td>338946</td>\n",
       "      <td>242861</td>\n",
       "      <td>11</td>\n",
       "      <td>1</td>\n",
       "    </tr>\n",
       "    <tr>\n",
       "      <th>...</th>\n",
       "      <td>...</td>\n",
       "      <td>...</td>\n",
       "      <td>...</td>\n",
       "      <td>...</td>\n",
       "      <td>...</td>\n",
       "      <td>...</td>\n",
       "      <td>...</td>\n",
       "      <td>...</td>\n",
       "      <td>...</td>\n",
       "      <td>...</td>\n",
       "      <td>...</td>\n",
       "      <td>...</td>\n",
       "      <td>...</td>\n",
       "      <td>...</td>\n",
       "      <td>...</td>\n",
       "      <td>...</td>\n",
       "      <td>...</td>\n",
       "      <td>...</td>\n",
       "      <td>...</td>\n",
       "      <td>...</td>\n",
       "      <td>...</td>\n",
       "    </tr>\n",
       "    <tr>\n",
       "      <th>1381</th>\n",
       "      <td>44</td>\n",
       "      <td>M</td>\n",
       "      <td>29</td>\n",
       "      <td>NO</td>\n",
       "      <td>YES</td>\n",
       "      <td>YES</td>\n",
       "      <td>YES</td>\n",
       "      <td>NO</td>\n",
       "      <td>NO</td>\n",
       "      <td>NO</td>\n",
       "      <td>...</td>\n",
       "      <td>127</td>\n",
       "      <td>63</td>\n",
       "      <td>44</td>\n",
       "      <td>387795</td>\n",
       "      <td>55938</td>\n",
       "      <td>5</td>\n",
       "      <td>5</td>\n",
       "      <td>5</td>\n",
       "      <td>15</td>\n",
       "      <td>4</td>\n",
       "    </tr>\n",
       "    <tr>\n",
       "      <th>1382</th>\n",
       "      <td>55</td>\n",
       "      <td>M</td>\n",
       "      <td>34</td>\n",
       "      <td>NO</td>\n",
       "      <td>YES</td>\n",
       "      <td>YES</td>\n",
       "      <td>NO</td>\n",
       "      <td>NO</td>\n",
       "      <td>NO</td>\n",
       "      <td>NO</td>\n",
       "      <td>...</td>\n",
       "      <td>108</td>\n",
       "      <td>97</td>\n",
       "      <td>64</td>\n",
       "      <td>481378</td>\n",
       "      <td>152961</td>\n",
       "      <td>393339</td>\n",
       "      <td>73574</td>\n",
       "      <td>236273</td>\n",
       "      <td>10</td>\n",
       "      <td>2</td>\n",
       "    </tr>\n",
       "    <tr>\n",
       "      <th>1383</th>\n",
       "      <td>42</td>\n",
       "      <td>M</td>\n",
       "      <td>26</td>\n",
       "      <td>YES</td>\n",
       "      <td>YES</td>\n",
       "      <td>NO</td>\n",
       "      <td>NO</td>\n",
       "      <td>NO</td>\n",
       "      <td>YES</td>\n",
       "      <td>NO</td>\n",
       "      <td>...</td>\n",
       "      <td>116</td>\n",
       "      <td>87</td>\n",
       "      <td>39</td>\n",
       "      <td>612664</td>\n",
       "      <td>572756</td>\n",
       "      <td>806109</td>\n",
       "      <td>343719</td>\n",
       "      <td>160457</td>\n",
       "      <td>6</td>\n",
       "      <td>2</td>\n",
       "    </tr>\n",
       "    <tr>\n",
       "      <th>1384</th>\n",
       "      <td>52</td>\n",
       "      <td>M</td>\n",
       "      <td>29</td>\n",
       "      <td>YES</td>\n",
       "      <td>NO</td>\n",
       "      <td>NO</td>\n",
       "      <td>YES</td>\n",
       "      <td>YES</td>\n",
       "      <td>YES</td>\n",
       "      <td>NO</td>\n",
       "      <td>...</td>\n",
       "      <td>47</td>\n",
       "      <td>48</td>\n",
       "      <td>81</td>\n",
       "      <td>139872</td>\n",
       "      <td>76161</td>\n",
       "      <td>515730</td>\n",
       "      <td>2460</td>\n",
       "      <td>696074</td>\n",
       "      <td>15</td>\n",
       "      <td>3</td>\n",
       "    </tr>\n",
       "    <tr>\n",
       "      <th>1385</th>\n",
       "      <td>55</td>\n",
       "      <td>F</td>\n",
       "      <td>26</td>\n",
       "      <td>NO</td>\n",
       "      <td>YES</td>\n",
       "      <td>YES</td>\n",
       "      <td>YES</td>\n",
       "      <td>NO</td>\n",
       "      <td>YES</td>\n",
       "      <td>NO</td>\n",
       "      <td>...</td>\n",
       "      <td>115</td>\n",
       "      <td>64</td>\n",
       "      <td>71</td>\n",
       "      <td>1190577</td>\n",
       "      <td>628730</td>\n",
       "      <td>5</td>\n",
       "      <td>5</td>\n",
       "      <td>5</td>\n",
       "      <td>13</td>\n",
       "      <td>3</td>\n",
       "    </tr>\n",
       "  </tbody>\n",
       "</table>\n",
       "<p>1385 rows × 28 columns</p>\n",
       "</div>"
      ],
      "text/plain": [
       "      Age Gender  BMI Fever Nausea/Vomiting Headache Diarrhea  \\\n",
       "ID                                                              \n",
       "1      56      M   35   YES              NO       NO       NO   \n",
       "2      46      M   29    NO             YES      YES       NO   \n",
       "3      57      M   33   YES             YES      YES      YES   \n",
       "4      49      F   33    NO             YES       NO      YES   \n",
       "5      59      M   32    NO              NO      YES       NO   \n",
       "...   ...    ...  ...   ...             ...      ...      ...   \n",
       "1381   44      M   29    NO             YES      YES      YES   \n",
       "1382   55      M   34    NO             YES      YES       NO   \n",
       "1383   42      M   26   YES             YES       NO       NO   \n",
       "1384   52      M   29   YES              NO       NO      YES   \n",
       "1385   55      F   26    NO             YES      YES      YES   \n",
       "\n",
       "     Fatigue & generalized bone ache Jaundice Epigastric pain  ...  ALT 24  \\\n",
       "ID                                                             ...           \n",
       "1                                YES      YES             YES  ...      81   \n",
       "2                                YES      YES              NO  ...     113   \n",
       "3                                 NO       NO              NO  ...     116   \n",
       "4                                 NO      YES              NO  ...      88   \n",
       "5                                YES      YES             YES  ...     120   \n",
       "...                              ...      ...             ...  ...     ...   \n",
       "1381                              NO       NO              NO  ...     127   \n",
       "1382                              NO       NO              NO  ...     108   \n",
       "1383                              NO      YES              NO  ...     116   \n",
       "1384                             YES      YES              NO  ...      47   \n",
       "1385                              NO      YES              NO  ...     115   \n",
       "\n",
       "      ALT 36  ALT 48  RNA Base   RNA 4   RNA 12  RNA EOT  RNA EF  \\\n",
       "ID                                                                 \n",
       "1          5       5    655330  634536   288194        5       5   \n",
       "2         57     123     40620  538635   637056   336804   31085   \n",
       "3          5       5    571148  661346        5   735945  558829   \n",
       "4         48      77   1041941  449939   585688   744463  582301   \n",
       "5         94      90    660410  738756  3731527   338946  242861   \n",
       "...      ...     ...       ...     ...      ...      ...     ...   \n",
       "1381      63      44    387795   55938        5        5       5   \n",
       "1382      97      64    481378  152961   393339    73574  236273   \n",
       "1383      87      39    612664  572756   806109   343719  160457   \n",
       "1384      48      81    139872   76161   515730     2460  696074   \n",
       "1385      64      71   1190577  628730        5        5       5   \n",
       "\n",
       "      Baseline histological Grading  Baseline histological staging  \n",
       "ID                                                                  \n",
       "1                                13                              2  \n",
       "2                                 4                              2  \n",
       "3                                 4                              4  \n",
       "4                                10                              3  \n",
       "5                                11                              1  \n",
       "...                             ...                            ...  \n",
       "1381                             15                              4  \n",
       "1382                             10                              2  \n",
       "1383                              6                              2  \n",
       "1384                             15                              3  \n",
       "1385                             13                              3  \n",
       "\n",
       "[1385 rows x 28 columns]"
      ]
     },
     "metadata": {},
     "output_type": "display_data"
    }
   ],
   "source": [
    "if IN_COLAB:\n",
    "    fname = 'https://raw.githubusercontent.com/UlaSmycz/NGSeminar_biostatistics/master/HCV_Data_Egypt_ngseminar.csv'\n",
    "else:\n",
    "    fname = 'HCV_Data_Egypt_ngseminar.csv'\n",
    "\n",
    "hcvDataE = pd.read_csv(fname, header = 0, index_col = 0)\n",
    "\n",
    "display(hcvDataE)"
   ]
  },
  {
   "cell_type": "markdown",
   "metadata": {
    "colab_type": "text",
    "id": "JjrWGhvzwEwS"
   },
   "source": [
    "**Try to list columns**"
   ]
  },
  {
   "cell_type": "code",
   "execution_count": 8,
   "metadata": {
    "colab": {},
    "colab_type": "code",
    "id": "QC4D-35rwEwT",
    "outputId": "9866b7b9-1cad-4170-b3e3-81338537c041"
   },
   "outputs": [
    {
     "name": "stdout",
     "output_type": "stream",
     "text": [
      "Age\n",
      "Gender\n",
      "BMI\n",
      "Fever\n",
      "Nausea/Vomiting\n",
      "Headache\n",
      "Diarrhea\n",
      "Fatigue & generalized bone ache\n",
      "Jaundice\n",
      "Epigastric pain\n",
      "WBC\n",
      "RBC\n",
      "HGB\n",
      "Plat\n",
      "AST 1\n",
      "ALT 1\n",
      "ALT 4\n",
      "ALT 12\n",
      "ALT 24\n",
      "ALT 36\n",
      "ALT 48\n",
      "RNA Base\n",
      "RNA 4\n",
      "RNA 12\n",
      "RNA EOT\n",
      "RNA EF\n",
      "Baseline histological Grading\n",
      "Baseline histological staging\n"
     ]
    }
   ],
   "source": [
    "for colname in hcvDataE.columns:\n",
    "    print(colname)"
   ]
  },
  {
   "cell_type": "markdown",
   "metadata": {
    "colab_type": "text",
    "id": "RzumUuVSwEwX"
   },
   "source": [
    "# Descriptive statistics"
   ]
  },
  {
   "cell_type": "markdown",
   "metadata": {
    "colab_type": "text",
    "id": "QQr-1pFXwEwY"
   },
   "source": [
    "**We'll start with Germany dataset**\n",
    "\n",
    "**Check how many cases and variables are in our dataset**"
   ]
  },
  {
   "cell_type": "code",
   "execution_count": 9,
   "metadata": {
    "colab": {},
    "colab_type": "code",
    "id": "eNUmeYiMwEwZ",
    "outputId": "3d6877fa-c47d-4ee1-d8b1-af3b7cf422aa"
   },
   "outputs": [
    {
     "name": "stdout",
     "output_type": "stream",
     "text": [
      "Number of cases (rows): 614\n",
      "Number of variables (columns): 14\n"
     ]
    }
   ],
   "source": [
    "nrows, ncolumns = hcvDataG.shape\n",
    "print('Number of cases (rows): {0:d}'.format(nrows))\n",
    "print('Number of variables (columns): {0:d}'.format(ncolumns))"
   ]
  },
  {
   "cell_type": "markdown",
   "metadata": {
    "colab_type": "text",
    "id": "5hWAMGsvwEwd"
   },
   "source": [
    "**Calculate descriptive statistics for age**"
   ]
  },
  {
   "cell_type": "code",
   "execution_count": 10,
   "metadata": {
    "colab": {},
    "colab_type": "code",
    "id": "9I7ToMPRwEwd",
    "outputId": "f0a5fa0b-f909-4504-8901-c811e9e7cdde"
   },
   "outputs": [
    {
     "data": {
      "text/plain": [
       "count   614.0000\n",
       "mean     47.3844\n",
       "std      10.0460\n",
       "min      19.0000\n",
       "25%      39.0000\n",
       "50%      47.0000\n",
       "75%      54.0000\n",
       "max      77.0000\n",
       "Name: Age, dtype: float64"
      ]
     },
     "execution_count": 10,
     "metadata": {},
     "output_type": "execute_result"
    }
   ],
   "source": [
    "hcvDataG.loc[:, 'Age'].describe()"
   ]
  },
  {
   "cell_type": "markdown",
   "metadata": {
    "colab_type": "text",
    "id": "b5IwW6bKwEwi"
   },
   "source": [
    "**Repeat calculation dividing patients by Sex**"
   ]
  },
  {
   "cell_type": "code",
   "execution_count": 11,
   "metadata": {
    "colab": {},
    "colab_type": "code",
    "id": "CVkafFJvwEwj",
    "outputId": "4484462a-6fe1-48cd-fc1c-6ff0f7e53b20"
   },
   "outputs": [
    {
     "data": {
      "text/html": [
       "<div>\n",
       "<style scoped>\n",
       "    .dataframe tbody tr th:only-of-type {\n",
       "        vertical-align: middle;\n",
       "    }\n",
       "\n",
       "    .dataframe tbody tr th {\n",
       "        vertical-align: top;\n",
       "    }\n",
       "\n",
       "    .dataframe thead th {\n",
       "        text-align: right;\n",
       "    }\n",
       "</style>\n",
       "<table border=\"1\" class=\"dataframe\">\n",
       "  <thead>\n",
       "    <tr style=\"text-align: right;\">\n",
       "      <th></th>\n",
       "      <th>count</th>\n",
       "      <th>mean</th>\n",
       "      <th>std</th>\n",
       "      <th>min</th>\n",
       "      <th>25%</th>\n",
       "      <th>50%</th>\n",
       "      <th>75%</th>\n",
       "      <th>max</th>\n",
       "    </tr>\n",
       "    <tr>\n",
       "      <th>Sex</th>\n",
       "      <th></th>\n",
       "      <th></th>\n",
       "      <th></th>\n",
       "      <th></th>\n",
       "      <th></th>\n",
       "      <th></th>\n",
       "      <th></th>\n",
       "      <th></th>\n",
       "    </tr>\n",
       "  </thead>\n",
       "  <tbody>\n",
       "    <tr>\n",
       "      <th>f</th>\n",
       "      <td>237.0000</td>\n",
       "      <td>47.6582</td>\n",
       "      <td>9.1576</td>\n",
       "      <td>32.0000</td>\n",
       "      <td>41.0000</td>\n",
       "      <td>48.0000</td>\n",
       "      <td>54.0000</td>\n",
       "      <td>75.0000</td>\n",
       "    </tr>\n",
       "    <tr>\n",
       "      <th>m</th>\n",
       "      <td>377.0000</td>\n",
       "      <td>47.2122</td>\n",
       "      <td>10.5746</td>\n",
       "      <td>19.0000</td>\n",
       "      <td>38.0000</td>\n",
       "      <td>47.0000</td>\n",
       "      <td>55.0000</td>\n",
       "      <td>77.0000</td>\n",
       "    </tr>\n",
       "  </tbody>\n",
       "</table>\n",
       "</div>"
      ],
      "text/plain": [
       "       count    mean     std     min     25%     50%     75%     max\n",
       "Sex                                                                 \n",
       "f   237.0000 47.6582  9.1576 32.0000 41.0000 48.0000 54.0000 75.0000\n",
       "m   377.0000 47.2122 10.5746 19.0000 38.0000 47.0000 55.0000 77.0000"
      ]
     },
     "execution_count": 11,
     "metadata": {},
     "output_type": "execute_result"
    }
   ],
   "source": [
    "hcvDataG.loc[:, 'Age'].groupby(hcvDataG.loc[:, 'Sex']).describe()"
   ]
  },
  {
   "cell_type": "markdown",
   "metadata": {
    "colab_type": "text",
    "id": "71TfyS2TwEwn"
   },
   "source": [
    "**Now describe 2 variable at a time: Age and cholesterol (CHOL), divide patients by Sex**"
   ]
  },
  {
   "cell_type": "code",
   "execution_count": 12,
   "metadata": {
    "colab": {},
    "colab_type": "code",
    "id": "vJbCJerJwEwn",
    "outputId": "c6447daf-27e0-4f86-a82a-e62e74960549"
   },
   "outputs": [
    {
     "data": {
      "text/html": [
       "<div>\n",
       "<style scoped>\n",
       "    .dataframe tbody tr th:only-of-type {\n",
       "        vertical-align: middle;\n",
       "    }\n",
       "\n",
       "    .dataframe tbody tr th {\n",
       "        vertical-align: top;\n",
       "    }\n",
       "\n",
       "    .dataframe thead tr th {\n",
       "        text-align: left;\n",
       "    }\n",
       "\n",
       "    .dataframe thead tr:last-of-type th {\n",
       "        text-align: right;\n",
       "    }\n",
       "</style>\n",
       "<table border=\"1\" class=\"dataframe\">\n",
       "  <thead>\n",
       "    <tr>\n",
       "      <th></th>\n",
       "      <th colspan=\"8\" halign=\"left\">Age</th>\n",
       "      <th colspan=\"8\" halign=\"left\">CHOL</th>\n",
       "    </tr>\n",
       "    <tr>\n",
       "      <th></th>\n",
       "      <th>count</th>\n",
       "      <th>mean</th>\n",
       "      <th>std</th>\n",
       "      <th>min</th>\n",
       "      <th>25%</th>\n",
       "      <th>50%</th>\n",
       "      <th>75%</th>\n",
       "      <th>max</th>\n",
       "      <th>count</th>\n",
       "      <th>mean</th>\n",
       "      <th>std</th>\n",
       "      <th>min</th>\n",
       "      <th>25%</th>\n",
       "      <th>50%</th>\n",
       "      <th>75%</th>\n",
       "      <th>max</th>\n",
       "    </tr>\n",
       "    <tr>\n",
       "      <th>Sex</th>\n",
       "      <th></th>\n",
       "      <th></th>\n",
       "      <th></th>\n",
       "      <th></th>\n",
       "      <th></th>\n",
       "      <th></th>\n",
       "      <th></th>\n",
       "      <th></th>\n",
       "      <th></th>\n",
       "      <th></th>\n",
       "      <th></th>\n",
       "      <th></th>\n",
       "      <th></th>\n",
       "      <th></th>\n",
       "      <th></th>\n",
       "      <th></th>\n",
       "    </tr>\n",
       "  </thead>\n",
       "  <tbody>\n",
       "    <tr>\n",
       "      <th>f</th>\n",
       "      <td>237.0000</td>\n",
       "      <td>47.6582</td>\n",
       "      <td>9.1576</td>\n",
       "      <td>32.0000</td>\n",
       "      <td>41.0000</td>\n",
       "      <td>48.0000</td>\n",
       "      <td>54.0000</td>\n",
       "      <td>75.0000</td>\n",
       "      <td>230.0000</td>\n",
       "      <td>5.4077</td>\n",
       "      <td>1.0586</td>\n",
       "      <td>2.8600</td>\n",
       "      <td>4.6475</td>\n",
       "      <td>5.3000</td>\n",
       "      <td>6.0400</td>\n",
       "      <td>9.0300</td>\n",
       "    </tr>\n",
       "    <tr>\n",
       "      <th>m</th>\n",
       "      <td>377.0000</td>\n",
       "      <td>47.2122</td>\n",
       "      <td>10.5746</td>\n",
       "      <td>19.0000</td>\n",
       "      <td>38.0000</td>\n",
       "      <td>47.0000</td>\n",
       "      <td>55.0000</td>\n",
       "      <td>77.0000</td>\n",
       "      <td>374.0000</td>\n",
       "      <td>5.3412</td>\n",
       "      <td>1.1771</td>\n",
       "      <td>1.4300</td>\n",
       "      <td>4.5925</td>\n",
       "      <td>5.2800</td>\n",
       "      <td>6.0900</td>\n",
       "      <td>9.6700</td>\n",
       "    </tr>\n",
       "  </tbody>\n",
       "</table>\n",
       "</div>"
      ],
      "text/plain": [
       "         Age                                                             CHOL  \\\n",
       "       count    mean     std     min     25%     50%     75%     max    count   \n",
       "Sex                                                                             \n",
       "f   237.0000 47.6582  9.1576 32.0000 41.0000 48.0000 54.0000 75.0000 230.0000   \n",
       "m   377.0000 47.2122 10.5746 19.0000 38.0000 47.0000 55.0000 77.0000 374.0000   \n",
       "\n",
       "                                                      \n",
       "      mean    std    min    25%    50%    75%    max  \n",
       "Sex                                                   \n",
       "f   5.4077 1.0586 2.8600 4.6475 5.3000 6.0400 9.0300  \n",
       "m   5.3412 1.1771 1.4300 4.5925 5.2800 6.0900 9.6700  "
      ]
     },
     "execution_count": 12,
     "metadata": {},
     "output_type": "execute_result"
    }
   ],
   "source": [
    "hcvDataG.loc[:, ['Age', 'CHOL']].groupby(hcvDataG.loc[:, 'Sex']).describe()"
   ]
  },
  {
   "cell_type": "markdown",
   "metadata": {
    "colab_type": "text",
    "id": "OvTq8R3PwEwt"
   },
   "source": [
    "**Now calculate geometric mean of age and cholesterol.**\n",
    "\n",
    "Let's try with built in scipy.stats.gmean function."
   ]
  },
  {
   "cell_type": "code",
   "execution_count": 13,
   "metadata": {
    "colab": {},
    "colab_type": "code",
    "id": "PGQT8c_9wEwt",
    "outputId": "057c7ae2-88e0-4825-a83b-4488344c30eb"
   },
   "outputs": [
    {
     "data": {
      "text/html": [
       "<div>\n",
       "<style scoped>\n",
       "    .dataframe tbody tr th:only-of-type {\n",
       "        vertical-align: middle;\n",
       "    }\n",
       "\n",
       "    .dataframe tbody tr th {\n",
       "        vertical-align: top;\n",
       "    }\n",
       "\n",
       "    .dataframe thead th {\n",
       "        text-align: right;\n",
       "    }\n",
       "</style>\n",
       "<table border=\"1\" class=\"dataframe\">\n",
       "  <thead>\n",
       "    <tr style=\"text-align: right;\">\n",
       "      <th></th>\n",
       "      <th>Age</th>\n",
       "      <th>CHOL</th>\n",
       "    </tr>\n",
       "    <tr>\n",
       "      <th>Sex</th>\n",
       "      <th></th>\n",
       "      <th></th>\n",
       "    </tr>\n",
       "  </thead>\n",
       "  <tbody>\n",
       "    <tr>\n",
       "      <th>f</th>\n",
       "      <td>46.7639</td>\n",
       "      <td>nan</td>\n",
       "    </tr>\n",
       "    <tr>\n",
       "      <th>m</th>\n",
       "      <td>46.0312</td>\n",
       "      <td>nan</td>\n",
       "    </tr>\n",
       "  </tbody>\n",
       "</table>\n",
       "</div>"
      ],
      "text/plain": [
       "        Age  CHOL\n",
       "Sex              \n",
       "f   46.7639   nan\n",
       "m   46.0312   nan"
      ]
     },
     "execution_count": 13,
     "metadata": {},
     "output_type": "execute_result"
    }
   ],
   "source": [
    "hcvDataG.loc[:, ['Age', 'CHOL']].groupby(hcvDataG.loc[:, 'Sex']).aggregate(stats.gmean, axis=0)"
   ]
  },
  {
   "cell_type": "markdown",
   "metadata": {
    "colab_type": "text",
    "id": "92zbRUaswEww"
   },
   "source": [
    "Why it works only for age and not for cholesterol?\n",
    "\n",
    "Let's make it work."
   ]
  },
  {
   "cell_type": "code",
   "execution_count": 14,
   "metadata": {
    "colab": {},
    "colab_type": "code",
    "id": "cYEnZkS8wEwx",
    "outputId": "a7e72fbd-c396-4b1b-84fd-7c1030be027e"
   },
   "outputs": [
    {
     "data": {
      "text/html": [
       "<div>\n",
       "<style scoped>\n",
       "    .dataframe tbody tr th:only-of-type {\n",
       "        vertical-align: middle;\n",
       "    }\n",
       "\n",
       "    .dataframe tbody tr th {\n",
       "        vertical-align: top;\n",
       "    }\n",
       "\n",
       "    .dataframe thead th {\n",
       "        text-align: right;\n",
       "    }\n",
       "</style>\n",
       "<table border=\"1\" class=\"dataframe\">\n",
       "  <thead>\n",
       "    <tr style=\"text-align: right;\">\n",
       "      <th></th>\n",
       "      <th>Age</th>\n",
       "      <th>CHOL</th>\n",
       "    </tr>\n",
       "    <tr>\n",
       "      <th>Sex</th>\n",
       "      <th></th>\n",
       "      <th></th>\n",
       "    </tr>\n",
       "  </thead>\n",
       "  <tbody>\n",
       "    <tr>\n",
       "      <th>f</th>\n",
       "      <td>46.7639</td>\n",
       "      <td>5.3044</td>\n",
       "    </tr>\n",
       "    <tr>\n",
       "      <th>m</th>\n",
       "      <td>46.0312</td>\n",
       "      <td>5.2086</td>\n",
       "    </tr>\n",
       "  </tbody>\n",
       "</table>\n",
       "</div>"
      ],
      "text/plain": [
       "        Age   CHOL\n",
       "Sex               \n",
       "f   46.7639 5.3044\n",
       "m   46.0312 5.2086"
      ]
     },
     "execution_count": 14,
     "metadata": {},
     "output_type": "execute_result"
    }
   ],
   "source": [
    "np.log(hcvDataG.loc[:, ['Age', 'CHOL']]).groupby(hcvDataG.loc[:, 'Sex']).agg(np.mean).apply(np.exp)"
   ]
  },
  {
   "cell_type": "markdown",
   "metadata": {
    "colab_type": "text",
    "id": "eAeBYLNfwEw1"
   },
   "source": [
    "## Distributions"
   ]
  },
  {
   "cell_type": "markdown",
   "metadata": {
    "colab_type": "text",
    "id": "lbXCrnGhwEw3"
   },
   "source": [
    "**Examine visually distribution of cholesterol (CHOL)**"
   ]
  },
  {
   "cell_type": "code",
   "execution_count": 15,
   "metadata": {
    "colab": {},
    "colab_type": "code",
    "id": "JmFLJBnFwEw4",
    "outputId": "327d46be-b7dc-413e-daa3-4fa609dec9a1"
   },
   "outputs": [
    {
     "data": {
      "image/png": "[encoded data removed]",
      "text/plain": [
       "<Figure size 432x288 with 1 Axes>"
      ]
     },
     "metadata": {
      "needs_background": "light"
     },
     "output_type": "display_data"
    }
   ],
   "source": [
    "_ = pd.DataFrame.hist(data = hcvDataG, column = 'CHOL',  width=0.6, grid=False)"
   ]
  },
  {
   "cell_type": "markdown",
   "metadata": {
    "colab_type": "text",
    "id": "BX6T1wlWwEw7"
   },
   "source": [
    "Now divide patients by sex"
   ]
  },
  {
   "cell_type": "code",
   "execution_count": 18,
   "metadata": {
    "colab": {},
    "colab_type": "code",
    "id": "W46VOFD8wEw7",
    "outputId": "a9c4f217-2f0c-4b74-8538-6c91e9d04b9e"
   },
   "outputs": [
    {
     "data": {
      "image/png": "[encoded data removed]",
      "text/plain": [
       "<Figure size 1008x360 with 2 Axes>"
      ]
     },
     "metadata": {
      "needs_background": "light"
     },
     "output_type": "display_data"
    }
   ],
   "source": [
    "_ = pd.DataFrame.hist(data = hcvDataG, column = 'CHOL', by='Sex', figsize=(14,5), bins=range(1, 10), width=0.6)"
   ]
  },
  {
   "cell_type": "markdown",
   "metadata": {
    "colab_type": "text",
    "id": "7kG-KuODwExA"
   },
   "source": [
    "**Let's repeat the same with bilirubin (BIL)**"
   ]
  },
  {
   "cell_type": "code",
   "execution_count": 19,
   "metadata": {
    "colab": {},
    "colab_type": "code",
    "id": "d5Ms7XrswExA",
    "outputId": "44df6363-f29a-41a0-b40c-e705e2a373e0"
   },
   "outputs": [
    {
     "data": {
      "image/png": "[encoded data removed]",
      "text/plain": [
       "<Figure size 432x288 with 1 Axes>"
      ]
     },
     "metadata": {
      "needs_background": "light"
     },
     "output_type": "display_data"
    }
   ],
   "source": [
    "_ = pd.DataFrame.hist(data = hcvDataG, column = 'BIL', grid = False, width=20)"
   ]
  },
  {
   "cell_type": "markdown",
   "metadata": {
    "colab_type": "text",
    "id": "kzCckC2kwExD"
   },
   "source": [
    "**And now divide patients by Sex.**"
   ]
  },
  {
   "cell_type": "code",
   "execution_count": 20,
   "metadata": {
    "colab": {},
    "colab_type": "code",
    "id": "OOFKST73wExF",
    "outputId": "8261e814-0e75-4832-9462-dcc6e58cc10d"
   },
   "outputs": [
    {
     "data": {
      "image/png": "[encoded data removed]",
      "text/plain": [
       "<Figure size 1008x360 with 2 Axes>"
      ]
     },
     "metadata": {
      "needs_background": "light"
     },
     "output_type": "display_data"
    }
   ],
   "source": [
    "_ = pd.DataFrame.hist(data = hcvDataG, column = 'BIL', by='Sex', figsize=(14,5))"
   ]
  },
  {
   "cell_type": "markdown",
   "metadata": {
    "colab_type": "text",
    "id": "dI9k64pvwExJ"
   },
   "source": [
    "**Try to do the same wit albumin (ALB) dividing patients by Category**"
   ]
  },
  {
   "cell_type": "code",
   "execution_count": 21,
   "metadata": {
    "colab": {},
    "colab_type": "code",
    "id": "Ue0orw7xwExJ",
    "outputId": "3f066593-c175-4ee3-fe50-c5fc551ef2a6"
   },
   "outputs": [
    {
     "data": {
      "image/png": "[encoded data removed]",
      "text/plain": [
       "<Figure size 1008x720 with 4 Axes>"
      ]
     },
     "metadata": {
      "needs_background": "light"
     },
     "output_type": "display_data"
    }
   ],
   "source": [
    "_ = pd.DataFrame.hist(data = hcvDataG, column = 'ALB', by='Category', layout=(2,2), figsize=(14,10))"
   ]
  },
  {
   "cell_type": "markdown",
   "metadata": {
    "colab_type": "text",
    "id": "HeSzn1s0wExM"
   },
   "source": [
    "# Statistical tests for continuous variables"
   ]
  },
  {
   "cell_type": "markdown",
   "metadata": {},
   "source": [
    "![statistical tests](tests_continuous.jpg)"
   ]
  },
  {
   "cell_type": "markdown",
   "metadata": {},
   "source": [
    "**From now on, we will use scipy.stats module a lot, so it is good to take a look at [its documentation](https://docs.scipy.org/doc/scipy/reference/stats.html).**"
   ]
  },
  {
   "cell_type": "markdown",
   "metadata": {
    "colab_type": "text",
    "id": "TkIFSX2nwExM"
   },
   "source": [
    "## Normality of distribution"
   ]
  },
  {
   "cell_type": "markdown",
   "metadata": {
    "colab_type": "text",
    "id": "pwWOht-_wExO"
   },
   "source": [
    "**Check if age of patients is normally distributed in our dataset**\n",
    "\n",
    "H<sub>0</sub> for Shapiro-Wilk test is \"distribution in population is normal\"."
   ]
  },
  {
   "cell_type": "code",
   "execution_count": 23,
   "metadata": {
    "colab": {},
    "colab_type": "code",
    "id": "R1uS9j4JwExO",
    "outputId": "f38d7d31-4a93-4bed-d4a7-538c6225e374"
   },
   "outputs": [
    {
     "name": "stdout",
     "output_type": "stream",
     "text": [
      "test statistics: 0.9841\n",
      "p-value: 0.0000030629\n"
     ]
    }
   ],
   "source": [
    "s, p = stats.shapiro(hcvDataG.loc[:, 'Age'])\n",
    "print('test statistics: {0:.4f}'.format(s))\n",
    "print('p-value: {0:.10f}'.format(p))"
   ]
  },
  {
   "cell_type": "markdown",
   "metadata": {
    "colab_type": "text",
    "id": "U0VnQxXOwExS"
   },
   "source": [
    "**Repeat the test grouping patients by Sex**"
   ]
  },
  {
   "cell_type": "code",
   "execution_count": 24,
   "metadata": {
    "colab": {},
    "colab_type": "code",
    "id": "jDFQZtiDwExT",
    "outputId": "5dad9eb7-d891-48f3-9bf2-f15cd2b1f619"
   },
   "outputs": [
    {
     "name": "stdout",
     "output_type": "stream",
     "text": [
      "Group: f\n",
      "  test statistics: 0.9758\n",
      "  p-value: 0.0004\n",
      "\n",
      "Group: m\n",
      "  test statistics: 0.9820\n",
      "  p-value: 0.0001\n",
      "\n"
     ]
    }
   ],
   "source": [
    "hcvDataG_by_sex = hcvDataG.groupby('Sex')\n",
    "\n",
    "for group in hcvDataG_by_sex:\n",
    "    groupName = group[0]\n",
    "    groupData = hcvDataG_by_sex.get_group(groupName)\n",
    "    \n",
    "    s, p = stats.shapiro(groupData.loc[:, 'Age'])\n",
    "    \n",
    "    print('Group: {0:s}'.format(groupName))\n",
    "    print('  test statistics: {0:.4f}'.format(s))\n",
    "    print('  p-value: {0:.4f}'.format(p))\n",
    "    print()"
   ]
  },
  {
   "cell_type": "markdown",
   "metadata": {
    "colab_type": "text",
    "id": "HJtVOHSOwExW"
   },
   "source": [
    "**Now let's check albumin (ALB), alkaline phosphatase (ALP) and cholesterol (CHOL), dividing patients by Sex**"
   ]
  },
  {
   "cell_type": "code",
   "execution_count": 25,
   "metadata": {
    "colab": {},
    "colab_type": "code",
    "id": "wB6TBh4HwExX",
    "outputId": "09b9df06-e819-4e36-bf85-1050768e3321"
   },
   "outputs": [
    {
     "name": "stdout",
     "output_type": "stream",
     "text": [
      "ALB\n",
      "  Group: f\n",
      "    test statistics: 0.9629\n",
      "    p-value: 0.0000\n",
      "  Group: m\n",
      "    test statistics: 0.8885\n",
      "    p-value: 0.0000\n",
      "\n",
      "ALP\n",
      "  Group: f\n",
      "    test statistics: 0.8840\n",
      "    p-value: 0.0000\n",
      "  Group: m\n",
      "    test statistics: 0.9835\n",
      "    p-value: 0.0003\n",
      "\n",
      "CHOL\n",
      "  Group: f\n",
      "    test statistics: 0.9899\n",
      "    p-value: 0.1069\n",
      "  Group: m\n",
      "    test statistics: 0.9873\n",
      "    p-value: 0.0024\n",
      "\n",
      "CREA\n",
      "  Group: f\n",
      "    test statistics: 0.3197\n",
      "    p-value: 0.0000\n",
      "  Group: m\n",
      "    test statistics: 0.2070\n",
      "    p-value: 0.0000\n",
      "\n"
     ]
    }
   ],
   "source": [
    "hcvDataG_by_sex = hcvDataG.groupby('Sex')\n",
    "variablesForAnalysis = ['ALB', 'ALP', 'CHOL', 'CREA']\n",
    "\n",
    "for variable in variablesForAnalysis:\n",
    "    print(variable)\n",
    "    for group in hcvDataG_by_sex:\n",
    "        groupName = group[0]\n",
    "        groupData = hcvDataG_by_sex.get_group(groupName)\n",
    "\n",
    "        s, p = stats.shapiro(groupData.loc[:, variable].dropna())\n",
    "\n",
    "        print('  Group: {0:s}'.format(str(groupName)))\n",
    "        print('    test statistics: {0:.4f}'.format(s))\n",
    "        print('    p-value: {0:.4f}'.format(p))\n",
    "        \n",
    "    print()"
   ]
  },
  {
   "cell_type": "markdown",
   "metadata": {
    "colab_type": "text",
    "id": "wBQPIivbwExa"
   },
   "source": [
    "**Can you repeat it for creatinine (CREA) and total protein (PROT), grouping patients by Category?**\n",
    "\n",
    "Try also counting how many values (remember to exclude missing data!) you have in each group."
   ]
  },
  {
   "cell_type": "code",
   "execution_count": 26,
   "metadata": {
    "colab": {},
    "colab_type": "code",
    "id": "HsP5m4X8wExa",
    "outputId": "26859adb-952c-4f3a-ad08-e4c7aed78c20"
   },
   "outputs": [
    {
     "name": "stdout",
     "output_type": "stream",
     "text": [
      "CREA\n",
      "  Group: Blood Donor\n",
      "    Number of cases 540\n",
      "    test statistics: 0.9687\n",
      "    p-value: 0.0000\n",
      "\n",
      "  Group: Cirrhosis\n",
      "    Number of cases 29\n",
      "    test statistics: 0.4432\n",
      "    p-value: 0.0000\n",
      "\n",
      "  Group: Fibrosis\n",
      "    Number of cases 21\n",
      "    test statistics: 0.9102\n",
      "    p-value: 0.0553\n",
      "\n",
      "  Group: Hepatitis\n",
      "    Number of cases 24\n",
      "    test statistics: 0.8030\n",
      "    p-value: 0.0003\n",
      "\n",
      "\n",
      "PROT\n",
      "  Group: Blood Donor\n",
      "    Number of cases 540\n",
      "    test statistics: 0.9291\n",
      "    p-value: 0.0000\n",
      "\n",
      "  Group: Cirrhosis\n",
      "    Number of cases 28\n",
      "    test statistics: 0.9581\n",
      "    p-value: 0.3147\n",
      "\n",
      "  Group: Fibrosis\n",
      "    Number of cases 21\n",
      "    test statistics: 0.9550\n",
      "    p-value: 0.4215\n",
      "\n",
      "  Group: Hepatitis\n",
      "    Number of cases 24\n",
      "    test statistics: 0.9517\n",
      "    p-value: 0.2948\n",
      "\n",
      "\n"
     ]
    }
   ],
   "source": [
    "hcvDataG_by_cat = hcvDataG.groupby('Category')\n",
    "variablesForAnalysis = ['CREA', 'PROT']\n",
    "\n",
    "for variable in variablesForAnalysis:\n",
    "    print(variable)\n",
    "    for group in hcvDataG_by_cat:\n",
    "        groupName = group[0]\n",
    "        groupData = hcvDataG_by_cat.get_group(groupName)\n",
    "        \n",
    "        dataNoNa = groupData.loc[:, variable].dropna()\n",
    "        s, p = stats.shapiro(dataNoNa)\n",
    "\n",
    "        print('  Group: {0:s}'.format(str(groupName)))\n",
    "        print('    Number of cases {0:d}'.format(dataNoNa.shape[0]))\n",
    "        print('    test statistics: {0:.4f}'.format(s))\n",
    "        print('    p-value: {0:.4f}'.format(p))\n",
    "        print()\n",
    "        \n",
    "    print()\n"
   ]
  },
  {
   "cell_type": "markdown",
   "metadata": {
    "colab_type": "text",
    "id": "f1KapBs-wExe"
   },
   "source": [
    "## Difference between 2 independent groups"
   ]
  },
  {
   "cell_type": "markdown",
   "metadata": {
    "colab_type": "text",
    "id": "uFO3VOajwExe"
   },
   "source": [
    "**Compare ALP between healthy and ill people. Who has higher ALP?**\n",
    "\n",
    "Let's first calculate descriptive statistics."
   ]
  },
  {
   "cell_type": "code",
   "execution_count": 27,
   "metadata": {},
   "outputs": [
    {
     "data": {
      "text/html": [
       "<div>\n",
       "<style scoped>\n",
       "    .dataframe tbody tr th:only-of-type {\n",
       "        vertical-align: middle;\n",
       "    }\n",
       "\n",
       "    .dataframe tbody tr th {\n",
       "        vertical-align: top;\n",
       "    }\n",
       "\n",
       "    .dataframe thead tr th {\n",
       "        text-align: left;\n",
       "    }\n",
       "\n",
       "    .dataframe thead tr:last-of-type th {\n",
       "        text-align: right;\n",
       "    }\n",
       "</style>\n",
       "<table border=\"1\" class=\"dataframe\">\n",
       "  <thead>\n",
       "    <tr>\n",
       "      <th></th>\n",
       "      <th colspan=\"8\" halign=\"left\">ALP</th>\n",
       "    </tr>\n",
       "    <tr>\n",
       "      <th></th>\n",
       "      <th>count</th>\n",
       "      <th>mean</th>\n",
       "      <th>std</th>\n",
       "      <th>min</th>\n",
       "      <th>25%</th>\n",
       "      <th>50%</th>\n",
       "      <th>75%</th>\n",
       "      <th>max</th>\n",
       "    </tr>\n",
       "    <tr>\n",
       "      <th>Healthy</th>\n",
       "      <th></th>\n",
       "      <th></th>\n",
       "      <th></th>\n",
       "      <th></th>\n",
       "      <th></th>\n",
       "      <th></th>\n",
       "      <th></th>\n",
       "      <th></th>\n",
       "    </tr>\n",
       "  </thead>\n",
       "  <tbody>\n",
       "    <tr>\n",
       "      <th>NO</th>\n",
       "      <td>56.0000</td>\n",
       "      <td>56.4143</td>\n",
       "      <td>35.7802</td>\n",
       "      <td>11.3000</td>\n",
       "      <td>34.3250</td>\n",
       "      <td>41.0000</td>\n",
       "      <td>75.1000</td>\n",
       "      <td>190.7000</td>\n",
       "    </tr>\n",
       "    <tr>\n",
       "      <th>YES</th>\n",
       "      <td>540.0000</td>\n",
       "      <td>68.8698</td>\n",
       "      <td>19.4527</td>\n",
       "      <td>27.0000</td>\n",
       "      <td>55.3000</td>\n",
       "      <td>66.9500</td>\n",
       "      <td>80.1250</td>\n",
       "      <td>208.2000</td>\n",
       "    </tr>\n",
       "  </tbody>\n",
       "</table>\n",
       "</div>"
      ],
      "text/plain": [
       "             ALP                                                         \n",
       "           count    mean     std     min     25%     50%     75%      max\n",
       "Healthy                                                                  \n",
       "NO       56.0000 56.4143 35.7802 11.3000 34.3250 41.0000 75.1000 190.7000\n",
       "YES     540.0000 68.8698 19.4527 27.0000 55.3000 66.9500 80.1250 208.2000"
      ]
     },
     "execution_count": 27,
     "metadata": {},
     "output_type": "execute_result"
    }
   ],
   "source": [
    "hcvDataG.loc[:, ['ALP', 'Healthy']].groupby('Healthy').describe()"
   ]
  },
  {
   "cell_type": "markdown",
   "metadata": {
    "colab_type": "text",
    "id": "K-CVzfhYwExf"
   },
   "source": [
    "Now, check the assumption for t-test:\n",
    "* normality of distribution in both groups\n",
    "* homogeneity of variance (basically equal variance in both groups)\n",
    "\n",
    "We'll start with normality of distribution."
   ]
  },
  {
   "cell_type": "code",
   "execution_count": 28,
   "metadata": {
    "colab": {},
    "colab_type": "code",
    "id": "y1n_grEBwExf",
    "outputId": "1f3fedb9-43c2-4c1e-aa0a-c34ea2d0c7d5"
   },
   "outputs": [
    {
     "name": "stdout",
     "output_type": "stream",
     "text": [
      "Group: NO\n",
      "  test statistics: 0.8271\n",
      "  p-value: 0.0000\n",
      "\n",
      "Group: YES\n",
      "  test statistics: 0.9443\n",
      "  p-value: 0.0000\n",
      "\n"
     ]
    }
   ],
   "source": [
    "hcvDataG_by_health = hcvDataG.groupby('Healthy')\n",
    "\n",
    "for group in hcvDataG_by_health:\n",
    "    groupName = group[0]\n",
    "    groupData = hcvDataG_by_health.get_group(groupName)\n",
    "    \n",
    "    s, p = stats.shapiro(groupData.loc[:, 'ALP'].dropna())\n",
    "    \n",
    "    print('Group: {0:s}'.format(groupName))\n",
    "    print('  test statistics: {0:.4f}'.format(s))\n",
    "    print('  p-value: {0:.4f}'.format(p))\n",
    "    print()"
   ]
  },
  {
   "cell_type": "markdown",
   "metadata": {
    "colab_type": "text",
    "id": "s08Od90DwExj"
   },
   "source": [
    "Let's try logarithm of ALP"
   ]
  },
  {
   "cell_type": "code",
   "execution_count": 29,
   "metadata": {
    "colab": {},
    "colab_type": "code",
    "id": "miW1e_FTwExk",
    "outputId": "8de77c07-1ac1-4a13-eb89-96da86ef0577"
   },
   "outputs": [
    {
     "name": "stdout",
     "output_type": "stream",
     "text": [
      "Group: NO\n",
      "  test statistics: 0.9625\n",
      "  p-value: 0.0794\n",
      "\n",
      "Group: YES\n",
      "  test statistics: 0.9958\n",
      "  p-value: 0.1571\n",
      "\n"
     ]
    }
   ],
   "source": [
    "hcvDataG_by_health = hcvDataG.groupby('Healthy')\n",
    "\n",
    "for group in hcvDataG_by_health:\n",
    "    groupName = group[0]\n",
    "    groupData = hcvDataG_by_health.get_group(groupName)\n",
    "    \n",
    "    s, p = stats.shapiro(np.log(groupData.loc[:, 'ALP'].dropna()))\n",
    "    \n",
    "    print('Group: {0:s}'.format(groupName))\n",
    "    print('  test statistics: {0:.4f}'.format(s))\n",
    "    print('  p-value: {0:.4f}'.format(p))\n",
    "    print()"
   ]
  },
  {
   "cell_type": "markdown",
   "metadata": {
    "colab_type": "text",
    "id": "AQ3CNrZ2wExn"
   },
   "source": [
    "Now, it's fine, we can move to the next assumption - equal variances.\n",
    "\n",
    "But before, let's add log ALP as a new variable to our data frame, we will need it."
   ]
  },
  {
   "cell_type": "code",
   "execution_count": 30,
   "metadata": {
    "colab": {},
    "colab_type": "code",
    "id": "-vnIuM1twExn"
   },
   "outputs": [],
   "source": [
    "hcvDataG.loc[:, 'log ALP'] = np.log(hcvDataG.loc[:, 'ALP'] )"
   ]
  },
  {
   "cell_type": "code",
   "execution_count": 31,
   "metadata": {
    "colab": {},
    "colab_type": "code",
    "id": "Bfmq2NM1wExp",
    "outputId": "21d1cd6a-936f-4f50-aabd-597747c0e34c"
   },
   "outputs": [
    {
     "name": "stdout",
     "output_type": "stream",
     "text": [
      "test statistics: 74.6121\n",
      "p-value: 0.0000\n",
      "\n"
     ]
    }
   ],
   "source": [
    "hcvDataG_by_health = hcvDataG.groupby('Healthy')\n",
    "  \n",
    "hcvDataG_healthy_ALP = hcvDataG_by_health.get_group('YES').loc[:, 'log ALP'].dropna()\n",
    "hcvDataG_ill_ALP = hcvDataG_by_health.get_group('NO').loc[:, 'log ALP'].dropna()\n",
    "\n",
    "s, p = stats.bartlett(hcvDataG_healthy_ALP, hcvDataG_ill_ALP)\n",
    "\n",
    "print('test statistics: {0:.4f}'.format(s))\n",
    "print('p-value: {0:.4f}'.format(p))\n",
    "print()"
   ]
  },
  {
   "cell_type": "markdown",
   "metadata": {
    "colab_type": "text",
    "id": "TKC-uzbGwExs"
   },
   "source": [
    "Second assumption is not met, so let's check the difference with Mann-Whitney test."
   ]
  },
  {
   "cell_type": "code",
   "execution_count": 32,
   "metadata": {
    "colab": {},
    "colab_type": "code",
    "id": "XVld0t3lwExt",
    "outputId": "605b14b3-a14d-435a-c753-32314629bb7c"
   },
   "outputs": [
    {
     "name": "stdout",
     "output_type": "stream",
     "text": [
      "Mann-Whitney test for ALP in healthy and ill people\n",
      "  test statistics: 21435.5000\n",
      "  p-value: 0.0000\n"
     ]
    }
   ],
   "source": [
    "s, p = stats.mannwhitneyu(hcvDataG_healthy_ALP, hcvDataG_ill_ALP, use_continuity = True, alternative='two-sided')\n",
    "\n",
    "print('Mann-Whitney test for ALP in healthy and ill people')\n",
    "print('  test statistics: {0:.4f}'.format(s))\n",
    "print('  p-value: {0:.4f}'.format(p))"
   ]
  },
  {
   "cell_type": "markdown",
   "metadata": {
    "colab_type": "text",
    "id": "lqoIHVuswExv"
   },
   "source": [
    "Would the conclusion change if we didn't use log-transform?"
   ]
  },
  {
   "cell_type": "code",
   "execution_count": 33,
   "metadata": {
    "colab": {},
    "colab_type": "code",
    "id": "J8n8FBzawExv",
    "outputId": "f9aceb6c-6353-46b0-d7d8-6b4885ffd41d"
   },
   "outputs": [
    {
     "name": "stdout",
     "output_type": "stream",
     "text": [
      "Mann-Whitney test for ALP in healthy and ill people\n",
      "  test statistics: 21435.5000\n",
      "  p-value: 0.0000\n"
     ]
    }
   ],
   "source": [
    "hcvDataG_healthy_ALP_noLog = hcvDataG_by_health.get_group('YES').loc[:, 'ALP'].dropna()\n",
    "hcvDataG_ill_ALP_noLog = hcvDataG_by_health.get_group('NO').loc[:, 'ALP'].dropna()\n",
    "\n",
    "s, p = stats.mannwhitneyu(hcvDataG_healthy_ALP_noLog, hcvDataG_ill_ALP_noLog, \n",
    "        use_continuity = True, alternative='two-sided')\n",
    "\n",
    "print('Mann-Whitney test for ALP in healthy and ill people')\n",
    "print('  test statistics: {0:.4f}'.format(s))\n",
    "print('  p-value: {0:.4f}'.format(p))"
   ]
  },
  {
   "cell_type": "markdown",
   "metadata": {
    "colab_type": "text",
    "id": "hIb_3ZRuwExx"
   },
   "source": [
    "**It's exactly the same. Why?**\n",
    "\n",
    "**And finally, let's see who has higher ALP.**"
   ]
  },
  {
   "cell_type": "code",
   "execution_count": 34,
   "metadata": {
    "colab": {},
    "colab_type": "code",
    "id": "QqWZfj_MwEx8",
    "outputId": "60f18171-991c-42eb-fab8-191e07e69d04"
   },
   "outputs": [
    {
     "data": {
      "image/png": "[encoded data removed]",
      "text/plain": [
       "<Figure size 504x360 with 1 Axes>"
      ]
     },
     "metadata": {
      "needs_background": "light"
     },
     "output_type": "display_data"
    }
   ],
   "source": [
    "_ = hcvDataG.boxplot(column = 'ALP', by='Healthy', figsize=(7,5), grid=False)"
   ]
  },
  {
   "cell_type": "markdown",
   "metadata": {
    "colab_type": "text",
    "id": "_MYilpDQwEx-"
   },
   "source": [
    "**Would the conclusion change if we used t-test instead?**"
   ]
  },
  {
   "cell_type": "code",
   "execution_count": 36,
   "metadata": {
    "colab": {},
    "colab_type": "code",
    "id": "AK1PywIgwEx_",
    "outputId": "86cdb5e3-e283-4641-c807-61ce2e05ea55"
   },
   "outputs": [
    {
     "name": "stdout",
     "output_type": "stream",
     "text": [
      "t-test for ALP in healthy and ill people\n",
      "  test statistics: 7.3932\n",
      "  p-value: 0.0000\n"
     ]
    }
   ],
   "source": [
    "s, p = stats.ttest_ind(hcvDataG_healthy_ALP, hcvDataG_ill_ALP, nan_policy='omit')\n",
    "\n",
    "print('t-test for ALP in healthy and ill people')\n",
    "print('  test statistics: {0:.4f}'.format(s))\n",
    "print('  p-value: {0:.4f}'.format(p))"
   ]
  },
  {
   "cell_type": "code",
   "execution_count": 37,
   "metadata": {
    "colab": {},
    "colab_type": "code",
    "id": "uUz7IsO4wEyB",
    "outputId": "d2cdedc6-5680-4c79-94a5-6de9f008dde0"
   },
   "outputs": [
    {
     "name": "stdout",
     "output_type": "stream",
     "text": [
      "t-test for log(ALP) in healthy and ill people\n",
      "  test statistics: 4.1281\n",
      "  p-value: 0.0000\n"
     ]
    }
   ],
   "source": [
    "s, p = stats.ttest_ind(hcvDataG_healthy_ALP_noLog, hcvDataG_ill_ALP_noLog, nan_policy='omit')\n",
    "\n",
    "print('t-test for log(ALP) in healthy and ill people')\n",
    "print('  test statistics: {0:.4f}'.format(s))\n",
    "print('  p-value: {0:.4f}'.format(p))"
   ]
  },
  {
   "cell_type": "markdown",
   "metadata": {
    "colab_type": "text",
    "id": "2XlbPq6LwEyE"
   },
   "source": [
    "**More correct option would be to use Welch test, which is just t-test modified so that it can accommodate unequal variances**\n",
    "\n",
    "Let's do it on log-transformed data."
   ]
  },
  {
   "cell_type": "code",
   "execution_count": 38,
   "metadata": {
    "colab": {},
    "colab_type": "code",
    "id": "J2eOTFZgwEyE",
    "outputId": "258cd03e-2397-49f8-f06e-70543acb78b3"
   },
   "outputs": [
    {
     "name": "stdout",
     "output_type": "stream",
     "text": [
      "t-test for ALP in healthy and ill people\n",
      "  test statistics: 4.2645\n",
      "  p-value: 0.0001\n"
     ]
    }
   ],
   "source": [
    "s, p = stats.ttest_ind(hcvDataG_healthy_ALP, hcvDataG_ill_ALP, nan_policy='omit', equal_var=False)\n",
    "\n",
    "print('t-test for ALP in healthy and ill people')\n",
    "print('  test statistics: {0:.4f}'.format(s))\n",
    "print('  p-value: {0:.4f}'.format(p))"
   ]
  },
  {
   "cell_type": "markdown",
   "metadata": {
    "colab_type": "text",
    "id": "R-CsnzvowEyF"
   },
   "source": [
    "**Try to modify the code above to:**\n",
    "* Compare bilirubin between men and women\n",
    "* Compare white blood cells between healthy and ill people"
   ]
  },
  {
   "cell_type": "markdown",
   "metadata": {
    "colab_type": "text",
    "id": "NTuyk6eXwEyG"
   },
   "source": [
    "## Differences between 3 or more independent groups"
   ]
  },
  {
   "cell_type": "markdown",
   "metadata": {
    "colab_type": "text",
    "id": "9upbxvz5wEyG"
   },
   "source": [
    "**Check if patients in different groups (Category) have different albumin (ALB)**"
   ]
  },
  {
   "cell_type": "markdown",
   "metadata": {
    "colab_type": "text",
    "id": "qZagYcrIwEyG"
   },
   "source": [
    "Start by verification of assumptions for ANOVA"
   ]
  },
  {
   "cell_type": "code",
   "execution_count": 39,
   "metadata": {
    "colab": {},
    "colab_type": "code",
    "id": "NX-u520UwEyH",
    "outputId": "e2d8f6ce-8933-4a44-e1d7-dbf336e3bdea"
   },
   "outputs": [
    {
     "name": "stdout",
     "output_type": "stream",
     "text": [
      "Group: Blood Donor\n",
      "  test statistics: 0.9192\n",
      "  p-value: 0.0000\n",
      "\n",
      "Group: Cirrhosis\n",
      "  test statistics: 0.9795\n",
      "  p-value: 0.8386\n",
      "\n",
      "Group: Fibrosis\n",
      "  test statistics: 0.9532\n",
      "  p-value: 0.3901\n",
      "\n",
      "Group: Hepatitis\n",
      "  test statistics: 0.9689\n",
      "  p-value: 0.6398\n",
      "\n"
     ]
    }
   ],
   "source": [
    "hcvDataG_by_cat = hcvDataG.groupby('Category')\n",
    "varName = 'ALB'\n",
    "\n",
    "for group in hcvDataG_by_cat:\n",
    "    groupName = group[0]\n",
    "    groupData = hcvDataG_by_cat.get_group(groupName)\n",
    "    \n",
    "    s, p = stats.shapiro(groupData.loc[:, varName].dropna())\n",
    "    \n",
    "    print('Group: {0:s}'.format(groupName))\n",
    "    print('  test statistics: {0:.4f}'.format(s))\n",
    "    print('  p-value: {0:.4f}'.format(p))\n",
    "    print()"
   ]
  },
  {
   "cell_type": "markdown",
   "metadata": {
    "colab_type": "text",
    "id": "XmqWKZfawEyJ"
   },
   "source": [
    "Normality assumption is not met, so let's use Kruskal-Wallis test to compare the groups."
   ]
  },
  {
   "cell_type": "code",
   "execution_count": 40,
   "metadata": {
    "colab": {},
    "colab_type": "code",
    "id": "mgpwEl0twEyJ",
    "outputId": "e1cad7ca-d35d-4a7e-9e01-6f87cd68f1d9"
   },
   "outputs": [
    {
     "name": "stdout",
     "output_type": "stream",
     "text": [
      "test statistics: 55.2929\n",
      "p-value: 0.0000\n"
     ]
    }
   ],
   "source": [
    "hcvDonors = hcvDataG_by_cat.get_group('Blood Donor').loc[:, varName]\n",
    "hcvCirrhosis = hcvDataG_by_cat.get_group('Cirrhosis').loc[:, varName]\n",
    "hcvFibrosis = hcvDataG_by_cat.get_group('Fibrosis').loc[:, varName]\n",
    "hcvHepatitis = hcvDataG_by_cat.get_group('Hepatitis').loc[:, varName]\n",
    "\n",
    "s, p = stats.kruskal(hcvDonors, hcvCirrhosis, hcvFibrosis, hcvHepatitis, nan_policy = 'omit')\n",
    "\n",
    "print('test statistics: {0:.4f}'.format(s))\n",
    "print('p-value: {0:.4f}'.format(p))"
   ]
  },
  {
   "cell_type": "markdown",
   "metadata": {
    "colab_type": "text",
    "id": "t9rkGXJbwEyL"
   },
   "source": [
    "**Which pairs of groups differ?**"
   ]
  },
  {
   "cell_type": "code",
   "execution_count": 41,
   "metadata": {
    "colab": {},
    "colab_type": "code",
    "id": "TBp9_iOqwEyM",
    "outputId": "91741d6f-48b5-4aa0-8cff-64bae714d7df"
   },
   "outputs": [
    {
     "data": {
      "text/html": [
       "<div>\n",
       "<style scoped>\n",
       "    .dataframe tbody tr th:only-of-type {\n",
       "        vertical-align: middle;\n",
       "    }\n",
       "\n",
       "    .dataframe tbody tr th {\n",
       "        vertical-align: top;\n",
       "    }\n",
       "\n",
       "    .dataframe thead th {\n",
       "        text-align: right;\n",
       "    }\n",
       "</style>\n",
       "<table border=\"1\" class=\"dataframe\">\n",
       "  <thead>\n",
       "    <tr style=\"text-align: right;\">\n",
       "      <th></th>\n",
       "      <th>Blood Donor</th>\n",
       "      <th>Cirrhosis</th>\n",
       "      <th>Fibrosis</th>\n",
       "      <th>Hepatitis</th>\n",
       "    </tr>\n",
       "  </thead>\n",
       "  <tbody>\n",
       "    <tr>\n",
       "      <th>Blood Donor</th>\n",
       "      <td>-1.0000</td>\n",
       "      <td>0.0000</td>\n",
       "      <td>0.6473</td>\n",
       "      <td>0.0528</td>\n",
       "    </tr>\n",
       "    <tr>\n",
       "      <th>Cirrhosis</th>\n",
       "      <td>0.0000</td>\n",
       "      <td>-1.0000</td>\n",
       "      <td>0.0000</td>\n",
       "      <td>0.0000</td>\n",
       "    </tr>\n",
       "    <tr>\n",
       "      <th>Fibrosis</th>\n",
       "      <td>0.6473</td>\n",
       "      <td>0.0000</td>\n",
       "      <td>-1.0000</td>\n",
       "      <td>0.0905</td>\n",
       "    </tr>\n",
       "    <tr>\n",
       "      <th>Hepatitis</th>\n",
       "      <td>0.0528</td>\n",
       "      <td>0.0000</td>\n",
       "      <td>0.0905</td>\n",
       "      <td>-1.0000</td>\n",
       "    </tr>\n",
       "  </tbody>\n",
       "</table>\n",
       "</div>"
      ],
      "text/plain": [
       "             Blood Donor  Cirrhosis  Fibrosis  Hepatitis\n",
       "Blood Donor      -1.0000     0.0000    0.6473     0.0528\n",
       "Cirrhosis         0.0000    -1.0000    0.0000     0.0000\n",
       "Fibrosis          0.6473     0.0000   -1.0000     0.0905\n",
       "Hepatitis         0.0528     0.0000    0.0905    -1.0000"
      ]
     },
     "execution_count": 41,
     "metadata": {},
     "output_type": "execute_result"
    }
   ],
   "source": [
    "post_hoc_results = posthocs.posthoc_dunn(hcvDataG, val_col = varName, group_col = 'Category')\n",
    "post_hoc_results"
   ]
  },
  {
   "cell_type": "markdown",
   "metadata": {
    "colab_type": "text",
    "id": "bm8e_RNCwEyQ"
   },
   "source": [
    "Finally, let's look at the differences"
   ]
  },
  {
   "cell_type": "code",
   "execution_count": 42,
   "metadata": {
    "colab": {},
    "colab_type": "code",
    "id": "xzjbOAK9wEyQ",
    "outputId": "0395a6a2-0d49-4788-b303-c0990a614a06"
   },
   "outputs": [
    {
     "data": {
      "image/png": "[encoded data removed]",
      "text/plain": [
       "<Figure size 504x432 with 1 Axes>"
      ]
     },
     "metadata": {
      "needs_background": "light"
     },
     "output_type": "display_data"
    }
   ],
   "source": [
    "_ = hcvDataG.boxplot(column = varName, by='Category', figsize=(7,6), grid=False)"
   ]
  },
  {
   "cell_type": "markdown",
   "metadata": {
    "colab_type": "text",
    "id": "szqGo13twEyU"
   },
   "source": [
    "**What would happen with ANOVA applied to the task?**"
   ]
  },
  {
   "cell_type": "code",
   "execution_count": 43,
   "metadata": {
    "colab": {},
    "colab_type": "code",
    "id": "Fvgfxam-wEyU",
    "outputId": "672401d2-4ba7-4453-8fc8-e4ffb1469160"
   },
   "outputs": [
    {
     "name": "stdout",
     "output_type": "stream",
     "text": [
      "test statistics: 28.7237\n",
      "p-value: 0.0000\n"
     ]
    }
   ],
   "source": [
    "s, p = stats.f_oneway(\n",
    "    hcvDonors.dropna(),\n",
    "    hcvCirrhosis.dropna(),\n",
    "    hcvFibrosis.dropna(),\n",
    "    hcvHepatitis.dropna(),\n",
    ")\n",
    "\n",
    "print('test statistics: {0:.4f}'.format(s))\n",
    "print('p-value: {0:.4f}'.format(p))"
   ]
  },
  {
   "cell_type": "code",
   "execution_count": 44,
   "metadata": {
    "colab": {},
    "colab_type": "code",
    "id": "Nm_FrdyfwEyW",
    "outputId": "35666fe5-c9a1-4061-844c-5a79a236eb83"
   },
   "outputs": [
    {
     "data": {
      "text/html": [
       "<div>\n",
       "<style scoped>\n",
       "    .dataframe tbody tr th:only-of-type {\n",
       "        vertical-align: middle;\n",
       "    }\n",
       "\n",
       "    .dataframe tbody tr th {\n",
       "        vertical-align: top;\n",
       "    }\n",
       "\n",
       "    .dataframe thead th {\n",
       "        text-align: right;\n",
       "    }\n",
       "</style>\n",
       "<table border=\"1\" class=\"dataframe\">\n",
       "  <thead>\n",
       "    <tr style=\"text-align: right;\">\n",
       "      <th></th>\n",
       "      <th>Blood Donor</th>\n",
       "      <th>Hepatitis</th>\n",
       "      <th>Fibrosis</th>\n",
       "      <th>Cirrhosis</th>\n",
       "    </tr>\n",
       "  </thead>\n",
       "  <tbody>\n",
       "    <tr>\n",
       "      <th>Blood Donor</th>\n",
       "      <td>-1.0000</td>\n",
       "      <td>0.3709</td>\n",
       "      <td>0.9000</td>\n",
       "      <td>0.0010</td>\n",
       "    </tr>\n",
       "    <tr>\n",
       "      <th>Hepatitis</th>\n",
       "      <td>0.3709</td>\n",
       "      <td>-1.0000</td>\n",
       "      <td>0.5670</td>\n",
       "      <td>0.0010</td>\n",
       "    </tr>\n",
       "    <tr>\n",
       "      <th>Fibrosis</th>\n",
       "      <td>0.9000</td>\n",
       "      <td>0.5670</td>\n",
       "      <td>-1.0000</td>\n",
       "      <td>0.0010</td>\n",
       "    </tr>\n",
       "    <tr>\n",
       "      <th>Cirrhosis</th>\n",
       "      <td>0.0010</td>\n",
       "      <td>0.0010</td>\n",
       "      <td>0.0010</td>\n",
       "      <td>-1.0000</td>\n",
       "    </tr>\n",
       "  </tbody>\n",
       "</table>\n",
       "</div>"
      ],
      "text/plain": [
       "             Blood Donor  Hepatitis  Fibrosis  Cirrhosis\n",
       "Blood Donor      -1.0000     0.3709    0.9000     0.0010\n",
       "Hepatitis         0.3709    -1.0000    0.5670     0.0010\n",
       "Fibrosis          0.9000     0.5670   -1.0000     0.0010\n",
       "Cirrhosis         0.0010     0.0010    0.0010    -1.0000"
      ]
     },
     "execution_count": 44,
     "metadata": {},
     "output_type": "execute_result"
    }
   ],
   "source": [
    "post_hoc_results = posthocs.posthoc_tukey(hcvDataG, val_col=varName, group_col='Category')\n",
    "post_hoc_results"
   ]
  },
  {
   "cell_type": "markdown",
   "metadata": {
    "colab_type": "text",
    "id": "KS9zaPvtwEya"
   },
   "source": [
    "**If you want to practice more:**\n",
    "* Repeat the analysis for red blood cells (RBC).\n",
    "* Try modifying the code so that you can get analysis for more than one variable at the same time."
   ]
  },
  {
   "cell_type": "markdown",
   "metadata": {
    "colab_type": "text",
    "id": "eCus-eD3wEyb"
   },
   "source": [
    "## Differences between 2 dependent groups"
   ]
  },
  {
   "cell_type": "markdown",
   "metadata": {
    "colab_type": "text",
    "id": "kL0nkRX1wEyc"
   },
   "source": [
    "**Now, we will move to the second (Egyptian) dataset.**\n",
    "\n",
    "**Check is amount of viral RNA changed between the baseline (RNA Base) and end of treatment (RNA EOT)**"
   ]
  },
  {
   "cell_type": "markdown",
   "metadata": {
    "colab_type": "text",
    "id": "ud2D-CTuwEyc"
   },
   "source": [
    "Start checking assumptions of parametric (t-test for related/dependent)."
   ]
  },
  {
   "cell_type": "code",
   "execution_count": null,
   "metadata": {
    "colab": {},
    "colab_type": "code",
    "id": "qDx3uMPjwEyd"
   },
   "outputs": [],
   "source": [
    "varNames = ['RNA Base', 'RNA EOT']\n",
    "hcvRNA = hcvDataE.loc[:, varNames].dropna(axis='index', how='any')"
   ]
  },
  {
   "cell_type": "code",
   "execution_count": null,
   "metadata": {
    "colab": {},
    "colab_type": "code",
    "id": "IfLLEXdrwEyf",
    "outputId": "ad549109-3cf0-4f38-ec15-de50cb1267b1"
   },
   "outputs": [],
   "source": [
    "for varName in varNames:\n",
    "    s, p = stats.shapiro(hcvRNA.loc[:, varName])\n",
    "\n",
    "    print('Group: {0:s}'.format(varName))\n",
    "    print('  test statistics: {0:.4f}'.format(s))\n",
    "    print('  p-value: {0:.4f}'.format(p))\n",
    "    print()"
   ]
  },
  {
   "cell_type": "markdown",
   "metadata": {
    "colab_type": "text",
    "id": "mdstA7BkwEyh"
   },
   "source": [
    "At this point, you can check if logarithmic transformation of values makes distribution normal (but here it doesn't).\n",
    "\n",
    "To analyze the changes in viral RNA, we will use non-parametric test: Wilcoxon test."
   ]
  },
  {
   "cell_type": "code",
   "execution_count": null,
   "metadata": {
    "colab": {},
    "colab_type": "code",
    "id": "Ml5DsUZKwEyh",
    "outputId": "5dbcd546-2513-4c0a-aa10-bea81ec81f2c"
   },
   "outputs": [],
   "source": [
    "s, p = stats.wilcoxon(hcvRNA.loc[:, 'RNA Base'], hcvRNA.loc[:, 'RNA EOT'])\n",
    "\n",
    "print('test statistics: {0:.4f}'.format(s))\n",
    "print('p-value: {0:.4f}'.format(p))"
   ]
  },
  {
   "cell_type": "markdown",
   "metadata": {
    "colab_type": "text",
    "id": "VDwaiq8SwEyl"
   },
   "source": [
    "Amount of viral DNA changes during treatment, so try to visualize it."
   ]
  },
  {
   "cell_type": "code",
   "execution_count": null,
   "metadata": {
    "colab": {},
    "colab_type": "code",
    "id": "I6HGpGWfwEyl",
    "outputId": "51ee985e-510a-4c57-b95b-4404011e2808"
   },
   "outputs": [],
   "source": [
    "_ = hcvRNA.boxplot(column = varNames, figsize=(7,5), grid=False)"
   ]
  },
  {
   "cell_type": "markdown",
   "metadata": {
    "colab_type": "text",
    "id": "Wm5q8_XEwEyn"
   },
   "source": [
    "**What if we used t-test instead?**"
   ]
  },
  {
   "cell_type": "code",
   "execution_count": null,
   "metadata": {
    "colab": {},
    "colab_type": "code",
    "id": "gKK5RXI8wEyn",
    "outputId": "5bef380b-da5b-4403-d81e-df992b54fb97"
   },
   "outputs": [],
   "source": [
    "s, p = stats.ttest_rel(hcvRNA.loc[:, 'RNA Base'], hcvRNA.loc[:, 'RNA EOT'])\n",
    "\n",
    "print('test statistics: {0:.4f}'.format(s))\n",
    "print('p-value: {0:.4f}'.format(p))"
   ]
  },
  {
   "cell_type": "markdown",
   "metadata": {
    "colab_type": "text",
    "id": "rm7oGfoqwEyp"
   },
   "source": [
    "## Differences between 3 or more related measurements"
   ]
  },
  {
   "cell_type": "markdown",
   "metadata": {
    "colab_type": "text",
    "id": "oXd1JGtZwEyr"
   },
   "source": [
    "**Analyze changes in amounts viral RNA along the treatment**\n",
    "\n",
    "We check normality of distribution at baseline at and at the end of treatment, so we know that assumptions for ANOVA are not met. We can move directly to Friedman test."
   ]
  },
  {
   "cell_type": "code",
   "execution_count": null,
   "metadata": {
    "colab": {},
    "colab_type": "code",
    "id": "JWao91vSwEyr"
   },
   "outputs": [],
   "source": [
    "varNames = ['RNA Base', 'RNA 4', 'RNA 12', 'RNA EOT']\n",
    "hcvRNA = hcvDataE.loc[:, varNames].dropna(axis='index', how='any')"
   ]
  },
  {
   "cell_type": "code",
   "execution_count": null,
   "metadata": {
    "colab": {},
    "colab_type": "code",
    "id": "F3q931mKwEys",
    "outputId": "ffa3f21e-bd6c-4f7f-ff77-90808c7dd979"
   },
   "outputs": [],
   "source": [
    "s, p = stats.friedmanchisquare(\n",
    "    hcvRNA.loc[:, 'RNA Base'],\n",
    "    hcvRNA.loc[:, 'RNA 4'],\n",
    "    hcvRNA.loc[:, 'RNA 12'],\n",
    "    hcvRNA.loc[:, 'RNA EOT'],\n",
    ")\n",
    "\n",
    "print('test statistics: {0:.4f}'.format(s))\n",
    "print('p-value: {0:.4f}'.format(p))"
   ]
  },
  {
   "cell_type": "code",
   "execution_count": null,
   "metadata": {
    "colab": {},
    "colab_type": "code",
    "id": "W8ODcvAHwEyv",
    "outputId": "f318d557-c77d-4ed0-f016-5c701177a473"
   },
   "outputs": [],
   "source": [
    "post_hoc_results = posthocs.posthoc_nemenyi_friedman(hcvRNA, y_col=varNames)\n",
    "post_hoc_results.loc[varNames, varNames]"
   ]
  },
  {
   "cell_type": "code",
   "execution_count": null,
   "metadata": {
    "colab": {},
    "colab_type": "code",
    "id": "YZqFG8mdwEyw",
    "outputId": "8a1bcdc7-48b5-40aa-ba5d-9148e90f036d"
   },
   "outputs": [],
   "source": [
    "fig = plt.figure(figsize=(7,5))\n",
    "ax = fig.add_subplot(111)\n",
    "_ = hcvRNA.boxplot(column = varNames, ax=ax, grid=False)\n",
    "_ = ax.set_ylim(top=15*10**5)"
   ]
  },
  {
   "cell_type": "markdown",
   "metadata": {
    "colab_type": "text",
    "id": "iuGXcpZSwEyx"
   },
   "source": [
    "**Let's try another option of visualization, so calles cases' profiles**\n",
    "\n",
    "First, we transform our array, so that one column contains patient's IDs, other timepoints and the last amount of RNA."
   ]
  },
  {
   "cell_type": "code",
   "execution_count": null,
   "metadata": {
    "colab": {},
    "colab_type": "code",
    "id": "gkWAK6-hwEyy",
    "outputId": "c0fac5bd-146a-472a-d9ac-8eca6eb1bd60"
   },
   "outputs": [],
   "source": [
    "hcvRNA.loc[:, 'Patient'] = hcvRNA.index\n",
    "hcvRNAmelted = pd.melt(hcvRNA, id_vars = 'Patient', value_vars = varNames, var_name = 'Timepoint', value_name = 'RNA')\n",
    "hcvRNAmelted"
   ]
  },
  {
   "cell_type": "markdown",
   "metadata": {
    "colab_type": "text",
    "id": "aflkswFTwEy0"
   },
   "source": [
    "Let's plot the profiles for 10 random patients."
   ]
  },
  {
   "cell_type": "code",
   "execution_count": null,
   "metadata": {
    "colab": {},
    "colab_type": "code",
    "id": "6gUxOj_QwEy1",
    "outputId": "a7d03772-8cc8-4053-b5c8-2f42276f8600"
   },
   "outputs": [],
   "source": [
    "nPatients = 10\n",
    "patientIDs = np.unique(hcvRNAmelted['Patient'])\n",
    "selectedPatientIds = np.random.choice(patientIDs, size=nPatients, replace=False)\n",
    "\n",
    "selectedRows = [id in list(selectedPatientIds) for id in hcvRNAmelted['Patient']]\n",
    "\n",
    "hcvRNAmelted_some_patients = hcvRNAmelted.loc[selectedRows,:]\n",
    "hcvRNAmelted_some_patients\n",
    "\n",
    "ax = sns.pointplot(data=hcvRNAmelted_some_patients, x='Timepoint', y='RNA', hue='Patient', palette='colorblind',\n",
    "                  legend=False)\n",
    "ax.get_legend().remove()"
   ]
  },
  {
   "cell_type": "markdown",
   "metadata": {
    "colab_type": "text",
    "id": "UgwYDBLdwEy3"
   },
   "source": [
    "**Would the conclusion change if we applied ANOVA for repeated measurements?**"
   ]
  },
  {
   "cell_type": "code",
   "execution_count": null,
   "metadata": {
    "colab": {},
    "colab_type": "code",
    "id": "NOVkcz2iwEy3",
    "outputId": "ae5d193a-8125-4649-f597-48f45b88010a"
   },
   "outputs": [],
   "source": [
    "anova_rm_rna = AnovaRM(hcvRNAmelted, depvar = 'RNA', subject = 'Patient', within = ['Timepoint'])\n",
    "anova_rm_rna_res = anova_rm_rna.fit()\n",
    "\n",
    "print(anova_rm_rna_res)"
   ]
  },
  {
   "cell_type": "code",
   "execution_count": null,
   "metadata": {
    "colab": {},
    "colab_type": "code",
    "id": "FvZmjtaNwEy5",
    "outputId": "1a05aa13-f6a5-4af1-8627-f9812e058fca"
   },
   "outputs": [],
   "source": [
    "post_hoc_res = pairwise_tukeyhsd(hcvRNAmelted.loc[:, 'RNA'], groups = hcvRNAmelted.loc[:, 'Timepoint'])\n",
    "post_hoc_res.summary()"
   ]
  },
  {
   "cell_type": "markdown",
   "metadata": {
    "colab_type": "text",
    "id": "Z_kgkNOqwEy7"
   },
   "source": [
    "# Correlations"
   ]
  },
  {
   "cell_type": "markdown",
   "metadata": {
    "colab_type": "text",
    "id": "ahQRG_YjwEy7"
   },
   "source": [
    "**Go back to German data set.**\n",
    "**Check if following laboratory measurements are correlated:**\n",
    "* ALB\n",
    "* ALP\n",
    "* BIL\n",
    "* PROT"
   ]
  },
  {
   "cell_type": "code",
   "execution_count": null,
   "metadata": {
    "colab": {},
    "colab_type": "code",
    "id": "Kx0mvcUYwEy7",
    "outputId": "f8eeb69c-0010-4b5b-b316-0aae5699ee73"
   },
   "outputs": [],
   "source": [
    "varNames = ['ALB', 'ALP', 'BIL', 'PROT']\n",
    "hcvLab = hcvDataG.loc[:, varNames]\n",
    "display(hcvLab)"
   ]
  },
  {
   "cell_type": "code",
   "execution_count": null,
   "metadata": {
    "colab": {},
    "colab_type": "code",
    "id": "Qx-hIpI3wEy9",
    "outputId": "9fb857fa-9b8b-4c4e-9605-9a71a616087c"
   },
   "outputs": [],
   "source": [
    "hcvLab.corr(method='spearman')"
   ]
  },
  {
   "cell_type": "code",
   "execution_count": null,
   "metadata": {
    "colab": {},
    "colab_type": "code",
    "id": "q8Ydoot-wEy_",
    "outputId": "f325b688-e3f5-485f-b79d-7aaeffd5aa69"
   },
   "outputs": [],
   "source": [
    "hcvLab.corr(method='pearson')"
   ]
  },
  {
   "cell_type": "markdown",
   "metadata": {
    "colab_type": "text",
    "id": "tfkzuTaPwEzB"
   },
   "source": [
    "**If you want also p-values, you need scipy**"
   ]
  },
  {
   "cell_type": "code",
   "execution_count": null,
   "metadata": {
    "colab": {},
    "colab_type": "code",
    "id": "D3MrAPSewEzB",
    "outputId": "154330dc-4ff7-4d63-b15f-8b7ae6eabfd6"
   },
   "outputs": [],
   "source": [
    "r, p = stats.spearmanr(hcvLab, nan_policy='omit')\n",
    "\n",
    "display(pd.DataFrame(r, index=varNames, columns=varNames))\n",
    "\n",
    "display(pd.DataFrame(p, index=varNames, columns=varNames))"
   ]
  },
  {
   "cell_type": "markdown",
   "metadata": {
    "colab_type": "text",
    "id": "MlXkALnpwEzD"
   },
   "source": [
    "But the same doesn't work with Pearson correlation, because it doesn't take 2D array and neither it has omit_nan :(."
   ]
  },
  {
   "cell_type": "code",
   "execution_count": null,
   "metadata": {
    "colab": {},
    "colab_type": "code",
    "id": "ief_cI83wEzE",
    "outputId": "157ee68d-ade1-4d12-b14d-6e8ffc7a33d6"
   },
   "outputs": [],
   "source": [
    "r = pd.DataFrame(np.zeros([len(varNames),len(varNames)]), columns=varNames, index=varNames)\n",
    "p = pd.DataFrame(np.zeros([len(varNames),len(varNames)]), columns=varNames, index=varNames)\n",
    "\n",
    "for comb in itertools.combinations(varNames, r=2):\n",
    "    names = list(comb)\n",
    "    name1 = names[0]\n",
    "    name2 = names[1]\n",
    "    hcvLabCurrent = hcvLab.loc[:, [name1, name2]].dropna()\n",
    "    cr, cp = stats.pearsonr(hcvLabCurrent.loc[:, name1], hcvLabCurrent.loc[:, name2])\n",
    "    r.loc[name1, name2] = r.loc[name2, name1] = cr\n",
    "    p.loc[name1, name2] = p.loc[name2, name1] = cp\n",
    "\n",
    "display(r)\n",
    "\n",
    "display(p)"
   ]
  },
  {
   "cell_type": "markdown",
   "metadata": {
    "colab_type": "text",
    "id": "m-FZN9hZwEzF"
   },
   "source": [
    "Let's visualize the correlation ALB and ALP"
   ]
  },
  {
   "cell_type": "code",
   "execution_count": null,
   "metadata": {
    "colab": {},
    "colab_type": "code",
    "id": "BdrnFISbwEzI",
    "outputId": "e5c490cd-b52e-40ef-d78d-6f10864a2914"
   },
   "outputs": [],
   "source": [
    "_ = hcvLab.plot.scatter(x='ALB', y='PROT')"
   ]
  },
  {
   "cell_type": "markdown",
   "metadata": {
    "colab_type": "text",
    "id": "kFiAc_70wEzK"
   },
   "source": [
    "Let's look at all correlations at once"
   ]
  },
  {
   "cell_type": "code",
   "execution_count": null,
   "metadata": {
    "colab": {},
    "colab_type": "code",
    "id": "MNImcsYCwEzK",
    "outputId": "3752f228-4b5a-4d05-ca9d-6d23f2b92aac",
    "scrolled": false
   },
   "outputs": [],
   "source": [
    "_ = sns.pairplot(hcvLab)"
   ]
  },
  {
   "cell_type": "markdown",
   "metadata": {
    "colab_type": "text",
    "id": "0dlxI50vwEzM"
   },
   "source": [
    "For training, repeat this type of analysis for viral RNA variables in Egyptian dataset. Don't forget the plots.\n",
    "\n",
    "Can you tell what is wrong in that analysis? (Hint: beware of outliers)."
   ]
  },
  {
   "cell_type": "markdown",
   "metadata": {
    "colab_type": "text",
    "id": "bTyF8GgHwEzM"
   },
   "source": [
    "# Statistical tests for nominal variables"
   ]
  },
  {
   "cell_type": "markdown",
   "metadata": {
    "colab_type": "text",
    "id": "VM4v2CmHwEzM"
   },
   "source": [
    "**Using Egyptian dataset, check if Nausea/Vomiting is equally common in patients with and without Epigastric pain**\n",
    "\n",
    "We start creating contingency table."
   ]
  },
  {
   "cell_type": "code",
   "execution_count": null,
   "metadata": {
    "colab": {},
    "colab_type": "code",
    "id": "he7ws_6FwEzN",
    "outputId": "9a0be21e-658a-4cb7-fd94-4e584fd4a332"
   },
   "outputs": [],
   "source": [
    "table1 = pd.crosstab(hcvDataE['Epigastric pain'], hcvDataE['Nausea/Vomiting'])\n",
    "table1"
   ]
  },
  {
   "cell_type": "markdown",
   "metadata": {
    "colab_type": "text",
    "id": "E0bGh4JiwEzO"
   },
   "source": [
    "For readability, we can calculate percentages in rows and columns (but the tests won't need them)."
   ]
  },
  {
   "cell_type": "code",
   "execution_count": null,
   "metadata": {
    "colab": {},
    "colab_type": "code",
    "id": "AQeE5eJNwEzP",
    "outputId": "ba81e353-b402-437d-bcb9-8b0017cd5f34"
   },
   "outputs": [],
   "source": [
    "table1_percent_rows = table1.apply(lambda r: r/r.sum()*100, axis=1)\n",
    "table1_percent_rows"
   ]
  },
  {
   "cell_type": "code",
   "execution_count": null,
   "metadata": {
    "colab": {},
    "colab_type": "code",
    "id": "KHAlXRMcwEzR",
    "outputId": "16d465aa-b591-4ac2-8353-26ddcf374313"
   },
   "outputs": [],
   "source": [
    "table1_percent_cols = table1.apply(lambda r: r/r.sum()*100, axis=0)\n",
    "table1_percent_cols"
   ]
  },
  {
   "cell_type": "code",
   "execution_count": null,
   "metadata": {
    "colab": {},
    "colab_type": "code",
    "id": "O6GQVv9TwEzS",
    "outputId": "3d7c644a-edc0-46e5-cdfd-6154a02030f1"
   },
   "outputs": [],
   "source": [
    "s, p, _, _ = stats.chi2_contingency(table1, correction=False)\n",
    "OR, pf = stats.fisher_exact(table1)\n",
    "print('p-value from chi-square test: {0:.04f}:'.format(p))\n",
    "print('p-value from Fisher exact test: {0:.04f}'.format(pf))"
   ]
  },
  {
   "cell_type": "markdown",
   "metadata": {
    "colab_type": "text",
    "id": "YLN74bXJwEzU"
   },
   "source": [
    "**Now, check if presence of Epigastric pain is related to Baseline histological staging**"
   ]
  },
  {
   "cell_type": "code",
   "execution_count": null,
   "metadata": {
    "colab": {},
    "colab_type": "code",
    "id": "aytC40fUwEzU",
    "outputId": "46b8064a-ff94-4da4-8f0b-2644564781c4"
   },
   "outputs": [],
   "source": [
    "table2 = pd.crosstab(hcvDataE['Baseline histological staging'], hcvDataE['Epigastric pain'])\n",
    "display(table2)\n",
    "s, p, _, _ = stats.chi2_contingency(table2)\n",
    "print('p-value from chi-square test: {0:.4f}'.format(p))"
   ]
  },
  {
   "cell_type": "markdown",
   "metadata": {
    "colab_type": "text",
    "id": "JGPOuQSwwEzV"
   },
   "source": [
    "**Can you add percentages on your own?**"
   ]
  },
  {
   "cell_type": "code",
   "execution_count": null,
   "metadata": {
    "colab": {},
    "colab_type": "code",
    "id": "96XiZHmRwEzV",
    "outputId": "9be033b3-6baa-4d6f-eaef-b536d16e60b8"
   },
   "outputs": [],
   "source": [
    "table2_percent_rows = table2.apply(lambda r: r/r.sum()*100, axis=1)\n",
    "table2_percent_rows"
   ]
  },
  {
   "cell_type": "code",
   "execution_count": null,
   "metadata": {
    "colab": {},
    "colab_type": "code",
    "id": "sekdxA6pwEzY",
    "outputId": "4d295607-3a33-4345-c71d-660522440e45"
   },
   "outputs": [],
   "source": [
    "table2_percent_cols = table2.apply(lambda r: r/r.sum()*100, axis=0)\n",
    "table2_percent_cols"
   ]
  },
  {
   "cell_type": "markdown",
   "metadata": {
    "colab_type": "text",
    "id": "CjTaA_qpwEzZ"
   },
   "source": [
    "# Multiple testing"
   ]
  },
  {
   "cell_type": "markdown",
   "metadata": {
    "colab_type": "text",
    "id": "yaUf9-3FwEzZ"
   },
   "source": [
    "**At the beginning, we need to read the last dataset.**\n",
    "\n",
    "By the way, it comes from our [article](https://www.mdpi.com/2072-6694/12/6/1525/htm).\n",
    "\n",
    "**It is organized in a different way that previous two:**\n",
    "* variables are in rows.\n",
    "* cases in columns.\n",
    "\n",
    "Variables are expression values for >20k rat's genes. They were measured by hybridization microarrays and here are already log-transformed.\n",
    "\n",
    "Cases are 12 rats:\n",
    "* 3 healthy (wild type).\n",
    "* 3 with heterozygous knock-out of TP53 (they have only one correct copy, instead of 2).\n",
    "* 3 with homozygous knock-out of TP53 (they have no normal copy of TP53 gene).\n",
    "* 3 with homozygous knock-out of TP53 that have already developed sarcoma.\n",
    "\n",
    "Our task is to compare expression of all genes between 3 groups. We will perform >20k test, so we really need multiple comparison corrections.\n",
    "\n",
    "Let's look at data!"
   ]
  },
  {
   "cell_type": "code",
   "execution_count": null,
   "metadata": {
    "colab": {},
    "colab_type": "code",
    "id": "1E0fXCXWwEza"
   },
   "outputs": [],
   "source": [
    "if IN_COLAB:\n",
    "    fname = 'https://raw.githubusercontent.com/UlaSmycz/NGSeminar_biostatistics/master/rats_ngseminar.csv'\n",
    "else:\n",
    "    fname = 'rats_ngseminar.csv'\n",
    "\n",
    "ratsData = pd.read_csv(fname, sep=';', index_col=0, header=[0,1])"
   ]
  },
  {
   "cell_type": "code",
   "execution_count": null,
   "metadata": {
    "colab": {},
    "colab_type": "code",
    "id": "GOelTDR6wEzd",
    "outputId": "9201bed0-d540-4111-b9ec-42a4e2a60fd3"
   },
   "outputs": [],
   "source": [
    "display(ratsData)"
   ]
  },
  {
   "cell_type": "markdown",
   "metadata": {
    "colab_type": "text",
    "id": "Mc6BnQy2wEze"
   },
   "source": [
    "**Group the rats and calculate mean expression of each gene per group.**"
   ]
  },
  {
   "cell_type": "code",
   "execution_count": null,
   "metadata": {
    "colab": {},
    "colab_type": "code",
    "id": "WOw2DgeFwEzf",
    "outputId": "1ae8f417-6bb0-4a46-9b94-8aa1b4338485"
   },
   "outputs": [],
   "source": [
    "ratsDataGrouped = ratsData.groupby(level=['Group'], axis=1)\n",
    "ratsDataResults = ratsDataGrouped.apply(np.mean, axis=1) \n",
    "display(ratsDataResults)"
   ]
  },
  {
   "cell_type": "markdown",
   "metadata": {
    "colab_type": "text",
    "id": "V5Uqesx7wEzh"
   },
   "source": [
    "**Now compare the groups by ANOVA**\n",
    "\n",
    "Here, we omit assumption verification, because it wouldn't be reliable with 3 samples per group. Additionally, with so few samples non-parametric test wouldn't be very effective too (but you can easily substitute test and check why)."
   ]
  },
  {
   "cell_type": "code",
   "execution_count": null,
   "metadata": {
    "colab": {},
    "colab_type": "code",
    "id": "nNu8hNScwEzh",
    "outputId": "ffcd32f2-efa3-40c8-844b-b63ef13c3bd6"
   },
   "outputs": [],
   "source": [
    "healthy = ratsDataGrouped.get_group('healthy')\n",
    "het = ratsDataGrouped.get_group('ko')\n",
    "ko = ratsDataGrouped.get_group('het')\n",
    "sarcoma = ratsDataGrouped.get_group('sarcoma')\n",
    "\n",
    "s, p = stats.f_oneway(healthy, ko, het, sarcoma, axis=1)\n",
    "\n",
    "ratsDataResults.loc[:, 'p'] = p\n",
    "\n",
    "display(ratsDataResults.sort_values(by='p'))"
   ]
  },
  {
   "cell_type": "markdown",
   "metadata": {
    "colab_type": "text",
    "id": "U3eqTzySwEzi"
   },
   "source": [
    "**How many p-values below 0.05 do we have?**"
   ]
  },
  {
   "cell_type": "code",
   "execution_count": null,
   "metadata": {
    "colab": {},
    "colab_type": "code",
    "id": "7Y7yzvM7wEzi",
    "outputId": "c56dc452-d9f1-4f9b-afca-ed1cf3dfb34d"
   },
   "outputs": [],
   "source": [
    "sigP = (ratsDataResults.loc[:, 'p']<0.05).sum()\n",
    "sigP_percent = sigP/ratsDataResults.shape[0]*100\n",
    "\n",
    "print('Number of p-values below 0.05: {0:d}'.format(sigP))\n",
    "print('It is {0:.1f}% of all genes.'.format(sigP_percent))"
   ]
  },
  {
   "cell_type": "markdown",
   "metadata": {
    "colab_type": "text",
    "id": "dOjriUCQwEzl"
   },
   "source": [
    "**Let's apply FDR and FWER correction**"
   ]
  },
  {
   "cell_type": "code",
   "execution_count": null,
   "metadata": {
    "colab": {},
    "colab_type": "code",
    "id": "6M6sQjxowEzl"
   },
   "outputs": [],
   "source": [
    "fdr = multipletests(ratsDataResults.loc[:, 'p'], alpha=0.05, method='fdr_bh')\n",
    "ratsDataResults['FDR'] = fdr[1]"
   ]
  },
  {
   "cell_type": "code",
   "execution_count": null,
   "metadata": {
    "colab": {},
    "colab_type": "code",
    "id": "uo7rQUYzwEzn"
   },
   "outputs": [],
   "source": [
    "fwer = multipletests(ratsDataResults.loc[:, 'p'], alpha=0.05, method='bonferroni')\n",
    "ratsDataResults['FWER'] = fwer[1]"
   ]
  },
  {
   "cell_type": "code",
   "execution_count": null,
   "metadata": {},
   "outputs": [],
   "source": [
    "display(ratsDataResults)"
   ]
  },
  {
   "cell_type": "code",
   "execution_count": null,
   "metadata": {
    "colab": {},
    "colab_type": "code",
    "id": "PKOZoVnnwEzy",
    "outputId": "7b9a1dd1-682e-4279-edc6-98c143096d18"
   },
   "outputs": [],
   "source": [
    "sigFDR = (ratsDataResults.loc[:, 'FDR']<0.05).sum()\n",
    "sigFDR_percent = sigFDR/ratsDataResults.shape[0]*100\n",
    "\n",
    "print('Number of FDR-corrected p-values below 0.05: {0:d}'.format(sigFDR))\n",
    "print('It is {0:.1f}% of all genes.'.format(sigFDR_percent))\n",
    "\n",
    "sigFWER = (ratsDataResults.loc[:, 'FWER']<0.05).sum()\n",
    "sigFWER_percent = sigFWER/ratsDataResults.shape[0]*100\n",
    "\n",
    "print()\n",
    "print('Number of FWER-corrected p-values below 0.05: {0:d}'.format(sigFWER))\n",
    "print('It is {0:.1f}% of all genes.'.format(sigFWER_percent))"
   ]
  }
 ],
 "metadata": {
  "colab": {
   "name": "NGSeminar - Introduction to biostatistics.ipynb",
   "provenance": [],
   "toc_visible": true
  },
  "kernelspec": {
   "display_name": "ngseminar",
   "language": "python",
   "name": "ngseminar"
  },
  "language_info": {
   "codemirror_mode": {
    "name": "ipython",
    "version": 3
   },
   "file_extension": ".py",
   "mimetype": "text/x-python",
   "name": "python",
   "nbconvert_exporter": "python",
   "pygments_lexer": "ipython3",
   "version": "3.7.4"
  },
  "toc": {
   "base_numbering": 1,
   "nav_menu": {},
   "number_sections": true,
   "sideBar": true,
   "skip_h1_title": false,
   "title_cell": "Table of Contents",
   "title_sidebar": "Contents",
   "toc_cell": false,
   "toc_position": {
    "height": "calc(100% - 180px)",
    "left": "10px",
    "top": "150px",
    "width": "270.05px"
   },
   "toc_section_display": true,
   "toc_window_display": true
  }
 },
 "nbformat": 4,
 "nbformat_minor": 1
}
