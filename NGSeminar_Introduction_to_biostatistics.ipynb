{
 "cells": [
  {
   "cell_type": "markdown",
   "metadata": {
    "colab_type": "text",
    "id": "306CpsU-wEvp"
   },
   "source": [
    "# NGSeminar: Introduction to biostatistics (with Python)\n",
    "\n",
    "**Urszula Smyczyńska**\n",
    "\n",
    "**30.07.2020**"
   ]
  },
  {
   "cell_type": "markdown",
   "metadata": {},
   "source": [
    "# Initial settings"
   ]
  },
  {
   "cell_type": "markdown",
   "metadata": {},
   "source": [
    "## Check if working in Colab and install needed modules"
   ]
  },
  {
   "cell_type": "markdown",
   "metadata": {},
   "source": [
    "Shutting kernel down from code may produce a prompt about problem with notebook session in Colab, but don't worry it'll restart and we need it to import new modules properly."
   ]
  },
  {
   "cell_type": "code",
   "execution_count": null,
   "metadata": {},
   "outputs": [],
   "source": [
    "import sys\n",
    "import IPython\n",
    "\n",
    "IN_COLAB = 'google.colab' in sys.modules\n",
    "print(IN_COLAB)\n",
    "\n",
    "if IN_COLAB:\n",
    "    !pip install scikit-posthocs\n",
    "    !pip install --upgrade scipy\n",
    "    IPython.Application.instance().kernel.do_shutdown(True)"
   ]
  },
  {
   "cell_type": "markdown",
   "metadata": {
    "colab_type": "text",
    "id": "GwISTg6ZwEvq"
   },
   "source": [
    "## Import needed modules"
   ]
  },
  {
   "cell_type": "code",
   "execution_count": null,
   "metadata": {
    "colab": {},
    "colab_type": "code",
    "id": "epnAGTjywEvs"
   },
   "outputs": [],
   "source": [
    "%matplotlib inline\n",
    "import numpy as np\n",
    "import pandas as pd\n",
    "pd.options.display.float_format = '{:.4f}'.format\n",
    "import matplotlib.pyplot as plt\n",
    "from scipy import stats\n",
    "import scikit_posthocs as posthocs\n",
    "from statsmodels.stats.anova import AnovaRM\n",
    "from statsmodels.stats.multicomp import pairwise_tukeyhsd\n",
    "from statsmodels.stats.multitest import multipletests\n",
    "import itertools\n",
    "import seaborn as sns\n",
    "import sys\n",
    "\n",
    "IN_COLAB = 'google.colab' in sys.modules"
   ]
  },
  {
   "cell_type": "markdown",
   "metadata": {
    "colab_type": "text",
    "id": "ixvQoBHVwEv1"
   },
   "source": [
    "# Read *HCV_Data_Germany_ngseminar* dataset"
   ]
  },
  {
   "cell_type": "markdown",
   "metadata": {
    "colab_type": "text",
    "id": "ehUIb8kiwEv3"
   },
   "source": [
    "It contains data of patients with HCV and healthy people (blood donor).\n",
    "\n",
    "[Dataset](http://archive.ics.uci.edu/ml/datasets/HCV+data) was downloaded from UCI [Machine Learning Repository](http://archive.ics.uci.edu/ml/datasets/HCV+data).\n",
    "\n",
    "It was slightly modified by me for this seminar :).\n",
    "\n",
    "It contains following variables:\n",
    "* **Category** (nominal): \n",
    "    * Blood Donor\n",
    "    * Fibrosis\n",
    "    * Cirrhosis - very advanced, late fibrosis\n",
    "    * Hepatitis - inflammation of liver tissue.\n",
    "* **Healthy** (nominal, that's what I added to have nominal variables with 2 groups):\n",
    "    * YES - for Category: Blood Donor\n",
    "    * NO - for all other case\n",
    "* **Age** (continuous, but here it is rounded to integers)\n",
    "* **Sex** (nominal): \n",
    "    * m - man\n",
    "    * f - woman\n",
    "* **ALB** (continuous) - albumin. Albumins are globular, water-soluble proteins, commonly found in blood plasma.\n",
    "* **ALP** (continuous) - alkaline phosphatase; dephosphorylating enzyme, elevated levels of ALP are often found in patients with liver disease.\n",
    "* **ALT** (continuous) - alanine amino-transferase, alanine transaminase; enzyme involved in amino acids metabolism. Elevated ALT indicates health problems, often with liver (hepatitis, liver damage, bile duct problems).\n",
    "* **AST** (continuous) - aspartate amino-transferase, aspartate transaminase; enzyme involved in amino acids metabolism. Used to assess liver function, also together with ALT as AST/ALT ratio.\n",
    "* **BIL** (continuous) - bilirubin; metabolite produced as a result of breakdown of aged or abnormal red blood cells. It is responsible for yellow discoloration in jaundice. Elevated in patients with hepatitis.\n",
    "* **CHE** (continuous) - choline esterase; an enzyme. One of its types is produced mainly in liver and it may be lower in patients liver disease.\n",
    "* **CHOL** (continuous) - cholesterol.\n",
    "* **CREA** (continuous) - creatinine; metabolite, produced by muscle metabolism, used as marker of kidney function.\n",
    "* **GGT** (continuous) - gamma-glutamyl transferase; an enzyme involved, among the others, in xenobiotic detoxification. GGT is elevated in patients with liver disease (or after excess alcohol consumption).\n",
    "* **PROT** (continuous) - total protein.\n",
    "\n",
    "We will use only some of them, but explanation for all doesn't harm."
   ]
  },
  {
   "cell_type": "code",
   "execution_count": null,
   "metadata": {
    "colab": {},
    "colab_type": "code",
    "id": "ys7ds3pIwEv4",
    "outputId": "689fa819-92f8-4f51-c7ca-5cd50c9e0773"
   },
   "outputs": [],
   "source": [
    "if IN_COLAB:\n",
    "    fname = 'https://raw.githubusercontent.com/UlaSmycz/NGSeminar_biostatistics/master/HCV_Data_Germany_ngseminar.csv'\n",
    "else:\n",
    "    fname = 'HCV_Data_Germany_ngseminar.csv'\n",
    "\n",
    "hcvDataG = pd.read_csv(fname, header = 0, index_col = 0)\n",
    "\n",
    "display(hcvDataG)"
   ]
  },
  {
   "cell_type": "markdown",
   "metadata": {
    "colab_type": "text",
    "id": "f07sXxQRwEv-"
   },
   "source": [
    "**Print unique categories**"
   ]
  },
  {
   "cell_type": "code",
   "execution_count": null,
   "metadata": {
    "colab": {},
    "colab_type": "code",
    "id": "Oo1y-jFmwEv_",
    "outputId": "9777fa61-e07a-460d-c7ec-28cb87e4530f"
   },
   "outputs": [],
   "source": [
    "for el in np.unique(hcvDataG.loc[:, 'Category']):\n",
    "    print(el)"
   ]
  },
  {
   "cell_type": "markdown",
   "metadata": {
    "colab_type": "text",
    "id": "bi_MfB7dwEwD"
   },
   "source": [
    "**Print columns' names and check if variables are correctly listed above**"
   ]
  },
  {
   "cell_type": "code",
   "execution_count": null,
   "metadata": {
    "colab": {},
    "colab_type": "code",
    "id": "b4A5ncpwwEwF",
    "outputId": "bd49fa6f-619d-4f24-9f5b-71af0f770fed"
   },
   "outputs": [],
   "source": [
    "for colname in hcvDataG.columns:\n",
    "    print(colname)"
   ]
  },
  {
   "cell_type": "markdown",
   "metadata": {
    "colab_type": "text",
    "id": "RbZUlub6wEwL"
   },
   "source": [
    "# Read another dataset: *HCV_Data_Egypt_ngseminar*"
   ]
  },
  {
   "cell_type": "markdown",
   "metadata": {
    "colab_type": "text",
    "id": "xmbkk8uowEwM"
   },
   "source": [
    "It contains data of patients with HCV from Egypt.\n",
    "\n",
    "[This dataset](http://archive.ics.uci.edu/ml/datasets/Hepatitis+C+Virus+%28HCV%29+for+Egyptian+patients) was downloaded from UCI [Machine Learning Repository](http://archive.ics.uci.edu/ml/datasets/HCV+data).\n",
    "\n",
    "And it was also somehow modified by me for this seminar, so please use provided version rahter than original one :).\n",
    "\n",
    "It contains more variables than the first (German) dataset:\n",
    "* **Age** (continuous, but here it is again rounded to integers)\n",
    "* **Gender** (nominal, and yes, it is the same as Sex in previous example, but in medicine you're lucky, when one thing has only 2 names): \n",
    "    * M - man\n",
    "    * F - woman\n",
    "* **Fever** (nominal) - just presence (YES) or absence (NO) of fever. (Originally, it was coded as 1 for NO and 2 for YES, buy I've thought is too much for introduction to statistics ;).\n",
    "* **Nausea/Vomiting** (nominal) - works like fever variable and the same applies to a few next variables.\n",
    "* **Headache** (nominal)\n",
    "* **Diarrhea** (nominal)\n",
    "* **Fatigue & generalized bone ache** (nominal)\n",
    "* **Jaundice** (nominal)\n",
    "* **Epigastric pain** (nominal)\n",
    "* **WBS** (continuous) - white blood cells.\n",
    "* **RBC** (continuous) - red blood cells.\n",
    "* **Plat** (continuous) - platelets.\n",
    "* **AST 1** (continuous) - aspartate transaminase, measured at week 1.\n",
    "* **ALT** (continuous) -  alanine amino-transferase:\n",
    "    * **ALT 1** - measured in week 1 (probably some time around the beginning of treatment).\n",
    "    * **ALT 4** - at week 4.\n",
    "    * **ALT 12** - at week 12.\n",
    "    * **ALT 24** - at week 24.\n",
    "    * **ALT 36** - at week 36.\n",
    "    * **ALT 48** - at week 48.\n",
    "* **RNA** (continuous) - amount of viral RNA from HCV:\n",
    "    * **RNA Base** - at baseline, before treatment.\n",
    "    * **RNA 4** - at week 4.\n",
    "    * **RNA 12** - at week 12.\n",
    "    * **RNA EOT** - at the end of treatment.\n",
    "* **RNA EF** (continuous) - RNA Elongation Factor; a protein that plays important role in translation and has also some other function. It can be also exploited by viruses for their replication.\n",
    "* **Baseline histological Grading** (ordinal) - there are a few systems of histologic grading for hepatitis; they can produce scores in ranges like 0-22 or 0-18. They are complex and pathologist needs to assess many features of tissue, like presence of inflammation, necrosis and fibrosis.\n",
    "* **Baseline histological staging** (ordinal) - it describes level of liver fibrosis, the higher the score the more advanced fibrosis:\n",
    "    * **0** - no fibsosis, but also no such case in our dataset.\n",
    "    * **1** - mild fibrosis.\n",
    "    * **2** - moderate fibrosis.\n",
    "    * **3** - severe fibrosis.\n",
    "    * **4** - cirrhosis (very advanced fibrosis)."
   ]
  },
  {
   "cell_type": "code",
   "execution_count": null,
   "metadata": {
    "colab": {},
    "colab_type": "code",
    "id": "Kab0_WtCwEwN",
    "outputId": "9085febd-2086-4260-8653-708d16f70d47"
   },
   "outputs": [],
   "source": [
    "if IN_COLAB:\n",
    "    fname = 'https://raw.githubusercontent.com/UlaSmycz/NGSeminar_biostatistics/master/HCV_Data_Egypt_ngseminar.csv'\n",
    "else:\n",
    "    fname = 'HCV_Data_Egypt_ngseminar.csv'\n",
    "\n",
    "hcvDataE = pd.read_csv(fname, header = 0, index_col = 0)\n",
    "\n",
    "display(hcvDataE)"
   ]
  },
  {
   "cell_type": "markdown",
   "metadata": {
    "colab_type": "text",
    "id": "JjrWGhvzwEwS"
   },
   "source": [
    "**Try to list columns**"
   ]
  },
  {
   "cell_type": "code",
   "execution_count": null,
   "metadata": {
    "colab": {},
    "colab_type": "code",
    "id": "QC4D-35rwEwT",
    "outputId": "9866b7b9-1cad-4170-b3e3-81338537c041"
   },
   "outputs": [],
   "source": [
    "for colname in hcvDataE.columns:\n",
    "    print(colname)"
   ]
  },
  {
   "cell_type": "markdown",
   "metadata": {
    "colab_type": "text",
    "id": "RzumUuVSwEwX"
   },
   "source": [
    "# Descriptive statistics"
   ]
  },
  {
   "cell_type": "markdown",
   "metadata": {
    "colab_type": "text",
    "id": "QQr-1pFXwEwY"
   },
   "source": [
    "**We'll start with Germany dataset**\n",
    "\n",
    "**Check how many cases and variables are in our dataset**"
   ]
  },
  {
   "cell_type": "code",
   "execution_count": null,
   "metadata": {
    "colab": {},
    "colab_type": "code",
    "id": "eNUmeYiMwEwZ",
    "outputId": "3d6877fa-c47d-4ee1-d8b1-af3b7cf422aa"
   },
   "outputs": [],
   "source": [
    "nrows, ncolumns = hcvDataG.shape\n",
    "print('Number of cases (rows): {0:d}'.format(nrows))\n",
    "print('Number of variables (columns): {0:d}'.format(ncolumns))"
   ]
  },
  {
   "cell_type": "markdown",
   "metadata": {
    "colab_type": "text",
    "id": "5hWAMGsvwEwd"
   },
   "source": [
    "**Calculate descriptive statistics for age**"
   ]
  },
  {
   "cell_type": "code",
   "execution_count": null,
   "metadata": {
    "colab": {},
    "colab_type": "code",
    "id": "9I7ToMPRwEwd",
    "outputId": "f0a5fa0b-f909-4504-8901-c811e9e7cdde"
   },
   "outputs": [],
   "source": [
    "hcvDataG.loc[:, 'Age'].describe()"
   ]
  },
  {
   "cell_type": "markdown",
   "metadata": {
    "colab_type": "text",
    "id": "b5IwW6bKwEwi"
   },
   "source": [
    "**Repeat calculation dividing patients by Sex**"
   ]
  },
  {
   "cell_type": "code",
   "execution_count": null,
   "metadata": {
    "colab": {},
    "colab_type": "code",
    "id": "CVkafFJvwEwj",
    "outputId": "4484462a-6fe1-48cd-fc1c-6ff0f7e53b20"
   },
   "outputs": [],
   "source": [
    "hcvDataG.loc[:, 'Age'].groupby(hcvDataG.loc[:, 'Sex']).describe()"
   ]
  },
  {
   "cell_type": "markdown",
   "metadata": {
    "colab_type": "text",
    "id": "71TfyS2TwEwn"
   },
   "source": [
    "**Now describe 2 variable at a time: Age and cholesterol (CHOL), divide patients by Sex**"
   ]
  },
  {
   "cell_type": "code",
   "execution_count": null,
   "metadata": {
    "colab": {},
    "colab_type": "code",
    "id": "vJbCJerJwEwn",
    "outputId": "c6447daf-27e0-4f86-a82a-e62e74960549"
   },
   "outputs": [],
   "source": [
    "hcvDataG.loc[:, ['Age', 'CHOL']].groupby(hcvDataG.loc[:, 'Sex']).describe()"
   ]
  },
  {
   "cell_type": "markdown",
   "metadata": {
    "colab_type": "text",
    "id": "OvTq8R3PwEwt"
   },
   "source": [
    "**Now calculate geometric mean of age and cholesterol.**\n",
    "\n",
    "Let's try with built in scipy.stats.gmean function."
   ]
  },
  {
   "cell_type": "code",
   "execution_count": null,
   "metadata": {
    "colab": {},
    "colab_type": "code",
    "id": "PGQT8c_9wEwt",
    "outputId": "057c7ae2-88e0-4825-a83b-4488344c30eb"
   },
   "outputs": [],
   "source": [
    "hcvDataG.loc[:, ['Age', 'CHOL']].groupby(hcvDataG.loc[:, 'Sex']).aggregate(stats.gmean, axis=0)"
   ]
  },
  {
   "cell_type": "markdown",
   "metadata": {
    "colab_type": "text",
    "id": "92zbRUaswEww"
   },
   "source": [
    "Why it works only for age and not for cholesterol?\n",
    "\n",
    "Let's make it work."
   ]
  },
  {
   "cell_type": "code",
   "execution_count": null,
   "metadata": {
    "colab": {},
    "colab_type": "code",
    "id": "cYEnZkS8wEwx",
    "outputId": "a7e72fbd-c396-4b1b-84fd-7c1030be027e"
   },
   "outputs": [],
   "source": [
    "np.log(hcvDataG.loc[:, ['Age', 'CHOL']]).groupby(hcvDataG.loc[:, 'Sex']).agg(np.mean).apply(np.exp)"
   ]
  },
  {
   "cell_type": "markdown",
   "metadata": {
    "colab_type": "text",
    "id": "eAeBYLNfwEw1"
   },
   "source": [
    "## Distributions"
   ]
  },
  {
   "cell_type": "markdown",
   "metadata": {
    "colab_type": "text",
    "id": "lbXCrnGhwEw3"
   },
   "source": [
    "**Examine visually distribution of cholesterol (CHOL)**"
   ]
  },
  {
   "cell_type": "code",
   "execution_count": null,
   "metadata": {
    "colab": {},
    "colab_type": "code",
    "id": "JmFLJBnFwEw4",
    "outputId": "327d46be-b7dc-413e-daa3-4fa609dec9a1"
   },
   "outputs": [],
   "source": [
    "_ = pd.DataFrame.hist(data = hcvDataG, column = 'CHOL',  width=0.6, grid=False)"
   ]
  },
  {
   "cell_type": "markdown",
   "metadata": {
    "colab_type": "text",
    "id": "BX6T1wlWwEw7"
   },
   "source": [
    "Now divide patients by sex"
   ]
  },
  {
   "cell_type": "code",
   "execution_count": null,
   "metadata": {
    "colab": {},
    "colab_type": "code",
    "id": "W46VOFD8wEw7",
    "outputId": "a9c4f217-2f0c-4b74-8538-6c91e9d04b9e"
   },
   "outputs": [],
   "source": [
    "_ = pd.DataFrame.hist(data = hcvDataG, column = 'CHOL', by='Sex', figsize=(14,5), bins=range(1, 10), width=0.6)"
   ]
  },
  {
   "cell_type": "markdown",
   "metadata": {
    "colab_type": "text",
    "id": "7kG-KuODwExA"
   },
   "source": [
    "**Let's repeat the same with bilirubin (BIL)**"
   ]
  },
  {
   "cell_type": "code",
   "execution_count": null,
   "metadata": {
    "colab": {},
    "colab_type": "code",
    "id": "d5Ms7XrswExA",
    "outputId": "44df6363-f29a-41a0-b40c-e705e2a373e0"
   },
   "outputs": [],
   "source": [
    "_ = pd.DataFrame.hist(data = hcvDataG, column = 'BIL', grid = False, width=20)"
   ]
  },
  {
   "cell_type": "markdown",
   "metadata": {
    "colab_type": "text",
    "id": "kzCckC2kwExD"
   },
   "source": [
    "**And now divide patients by Sex.**"
   ]
  },
  {
   "cell_type": "code",
   "execution_count": null,
   "metadata": {
    "colab": {},
    "colab_type": "code",
    "id": "OOFKST73wExF",
    "outputId": "8261e814-0e75-4832-9462-dcc6e58cc10d"
   },
   "outputs": [],
   "source": [
    "_ = pd.DataFrame.hist(data = hcvDataG, column = 'BIL', by='Sex', figsize=(14,5))"
   ]
  },
  {
   "cell_type": "markdown",
   "metadata": {
    "colab_type": "text",
    "id": "dI9k64pvwExJ"
   },
   "source": [
    "**Try to do the same wit albumin (ALB) dividing patients by Category**"
   ]
  },
  {
   "cell_type": "code",
   "execution_count": null,
   "metadata": {
    "colab": {},
    "colab_type": "code",
    "id": "Ue0orw7xwExJ",
    "outputId": "3f066593-c175-4ee3-fe50-c5fc551ef2a6"
   },
   "outputs": [],
   "source": [
    "_ = pd.DataFrame.hist(data = hcvDataG, column = 'ALB', by='Category', layout=(2,2), figsize=(14,10))"
   ]
  },
  {
   "cell_type": "markdown",
   "metadata": {
    "colab_type": "text",
    "id": "HeSzn1s0wExM"
   },
   "source": [
    "# Statistical tests for continuous variables"
   ]
  },
  {
   "cell_type": "markdown",
   "metadata": {},
   "source": [
    "![statistical tests](tests_continuous.jpg)"
   ]
  },
  {
   "cell_type": "markdown",
   "metadata": {},
   "source": [
    "**From now on, we will use scipy.stats module a lot, so it is good to take a look at [its documentation](https://docs.scipy.org/doc/scipy/reference/stats.html).**"
   ]
  },
  {
   "cell_type": "markdown",
   "metadata": {
    "colab_type": "text",
    "id": "TkIFSX2nwExM"
   },
   "source": [
    "## Normality of distribution"
   ]
  },
  {
   "cell_type": "markdown",
   "metadata": {
    "colab_type": "text",
    "id": "pwWOht-_wExO"
   },
   "source": [
    "**Check if age of patients is normally distributed in our dataset**\n",
    "\n",
    "H<sub>0</sub> for Shapiro-Wilk test is \"distribution in population is normal\"."
   ]
  },
  {
   "cell_type": "code",
   "execution_count": null,
   "metadata": {
    "colab": {},
    "colab_type": "code",
    "id": "R1uS9j4JwExO",
    "outputId": "f38d7d31-4a93-4bed-d4a7-538c6225e374"
   },
   "outputs": [],
   "source": [
    "s, p = stats.shapiro(hcvDataG.loc[:, 'Age'])\n",
    "print('test statistics: {0:.4f}'.format(s))\n",
    "print('p-value: {0:.4f}'.format(p))"
   ]
  },
  {
   "cell_type": "markdown",
   "metadata": {
    "colab_type": "text",
    "id": "U0VnQxXOwExS"
   },
   "source": [
    "**Repeat the test grouping patients by Sex**"
   ]
  },
  {
   "cell_type": "code",
   "execution_count": null,
   "metadata": {
    "colab": {},
    "colab_type": "code",
    "id": "jDFQZtiDwExT",
    "outputId": "5dad9eb7-d891-48f3-9bf2-f15cd2b1f619"
   },
   "outputs": [],
   "source": [
    "hcvDataG_by_sex = hcvDataG.groupby('Sex')\n",
    "\n",
    "for group in hcvDataG_by_sex:\n",
    "    groupName = group[0]\n",
    "    groupData = hcvDataG_by_sex.get_group(groupName)\n",
    "    \n",
    "    s, p = stats.shapiro(groupData.loc[:, 'Age'])\n",
    "    \n",
    "    print('Group: {0:s}'.format(groupName))\n",
    "    print('  test statistics: {0:.4f}'.format(s))\n",
    "    print('  p-value: {0:.4f}'.format(p))\n",
    "    print()"
   ]
  },
  {
   "cell_type": "markdown",
   "metadata": {
    "colab_type": "text",
    "id": "HJtVOHSOwExW"
   },
   "source": [
    "**Now let's check albumin (ALB), alkaline phosphatase (ALP) and cholesterol (CHOL), dividing patients by Sex**"
   ]
  },
  {
   "cell_type": "code",
   "execution_count": null,
   "metadata": {
    "colab": {},
    "colab_type": "code",
    "id": "wB6TBh4HwExX",
    "outputId": "09b9df06-e819-4e36-bf85-1050768e3321"
   },
   "outputs": [],
   "source": [
    "hcvDataG_by_sex = hcvDataG.groupby('Sex')\n",
    "variablesForAnalysis = ['ALB', 'ALP', 'CHOL', 'CREA']\n",
    "\n",
    "for variable in variablesForAnalysis:\n",
    "    print(variable)\n",
    "    for group in hcvDataG_by_sex:\n",
    "        groupName = group[0]\n",
    "        groupData = hcvDataG_by_sex.get_group(groupName)\n",
    "\n",
    "        s, p = stats.shapiro(groupData.loc[:, variable].dropna())\n",
    "\n",
    "        print('  Group: {0:s}'.format(str(groupName)))\n",
    "        print('    test statistics: {0:.4f}'.format(s))\n",
    "        print('    p-value: {0:.4f}'.format(p))\n",
    "        \n",
    "    print()"
   ]
  },
  {
   "cell_type": "markdown",
   "metadata": {
    "colab_type": "text",
    "id": "wBQPIivbwExa"
   },
   "source": [
    "**Can you repeat it for creatinine (CREA) and total protein (PROT), grouping patients by Category?**\n",
    "\n",
    "Try also counting how many values (remember to exclude missing data!) you have in each group."
   ]
  },
  {
   "cell_type": "code",
   "execution_count": null,
   "metadata": {
    "colab": {},
    "colab_type": "code",
    "id": "HsP5m4X8wExa",
    "outputId": "26859adb-952c-4f3a-ad08-e4c7aed78c20"
   },
   "outputs": [],
   "source": [
    "hcvDataG_by_cat = hcvDataG.groupby('Category')\n",
    "variablesForAnalysis = ['CREA', 'PROT']\n",
    "\n",
    "for variable in variablesForAnalysis:\n",
    "    print(variable)\n",
    "    for group in hcvDataG_by_cat:\n",
    "        groupName = group[0]\n",
    "        groupData = hcvDataG_by_cat.get_group(groupName)\n",
    "        \n",
    "        dataNoNa = groupData.loc[:, variable].dropna()\n",
    "        s, p = stats.shapiro(dataNoNa)\n",
    "\n",
    "        print('  Group: {0:s}'.format(str(groupName)))\n",
    "        print('    Number of cases {0:d}'.format(dataNoNa.shape[0]))\n",
    "        print('    test statistics: {0:.4f}'.format(s))\n",
    "        print('    p-value: {0:.4f}'.format(p))\n",
    "        print()\n",
    "        \n",
    "    print()\n"
   ]
  },
  {
   "cell_type": "markdown",
   "metadata": {
    "colab_type": "text",
    "id": "f1KapBs-wExe"
   },
   "source": [
    "## Difference between 2 independent groups"
   ]
  },
  {
   "cell_type": "markdown",
   "metadata": {
    "colab_type": "text",
    "id": "uFO3VOajwExe"
   },
   "source": [
    "**Compare ALP between healthy and ill people. Who has higher ALP?**\n",
    "\n",
    "Let's first calculate descriptive statistics."
   ]
  },
  {
   "cell_type": "code",
   "execution_count": null,
   "metadata": {},
   "outputs": [],
   "source": [
    "hcvDataG.loc[:, ['ALP', 'Healthy']].groupby('Healthy').describe()"
   ]
  },
  {
   "cell_type": "markdown",
   "metadata": {
    "colab_type": "text",
    "id": "K-CVzfhYwExf"
   },
   "source": [
    "Now, check the assumption for t-test:\n",
    "* normality of distribution in both groups\n",
    "* homogeneity of variance (basically equal variance in both groups)\n",
    "\n",
    "We'll start with normality of distribution."
   ]
  },
  {
   "cell_type": "code",
   "execution_count": null,
   "metadata": {
    "colab": {},
    "colab_type": "code",
    "id": "y1n_grEBwExf",
    "outputId": "1f3fedb9-43c2-4c1e-aa0a-c34ea2d0c7d5"
   },
   "outputs": [],
   "source": [
    "hcvDataG_by_health = hcvDataG.groupby('Healthy')\n",
    "\n",
    "for group in hcvDataG_by_health:\n",
    "    groupName = group[0]\n",
    "    groupData = hcvDataG_by_health.get_group(groupName)\n",
    "    \n",
    "    s, p = stats.shapiro(groupData.loc[:, 'ALP'].dropna())\n",
    "    \n",
    "    print('Group: {0:s}'.format(groupName))\n",
    "    print('  test statistics: {0:.4f}'.format(s))\n",
    "    print('  p-value: {0:.4f}'.format(p))\n",
    "    print()"
   ]
  },
  {
   "cell_type": "markdown",
   "metadata": {
    "colab_type": "text",
    "id": "s08Od90DwExj"
   },
   "source": [
    "Let's try logarithm of ALP"
   ]
  },
  {
   "cell_type": "code",
   "execution_count": null,
   "metadata": {
    "colab": {},
    "colab_type": "code",
    "id": "miW1e_FTwExk",
    "outputId": "8de77c07-1ac1-4a13-eb89-96da86ef0577"
   },
   "outputs": [],
   "source": [
    "hcvDataG_by_health = hcvDataG.groupby('Healthy')\n",
    "\n",
    "for group in hcvDataG_by_health:\n",
    "    groupName = group[0]\n",
    "    groupData = hcvDataG_by_health.get_group(groupName)\n",
    "    \n",
    "    s, p = stats.shapiro(np.log(groupData.loc[:, 'ALP'].dropna()))\n",
    "    \n",
    "    print('Group: {0:s}'.format(groupName))\n",
    "    print('  test statistics: {0:.4f}'.format(s))\n",
    "    print('  p-value: {0:.4f}'.format(p))\n",
    "    print()"
   ]
  },
  {
   "cell_type": "markdown",
   "metadata": {
    "colab_type": "text",
    "id": "AQ3CNrZ2wExn"
   },
   "source": [
    "Now, it's fine, we can move to the next assumption - equal variances.\n",
    "\n",
    "But before, let's add log ALP as a new variable to our data frame, we will need it."
   ]
  },
  {
   "cell_type": "code",
   "execution_count": null,
   "metadata": {
    "colab": {},
    "colab_type": "code",
    "id": "-vnIuM1twExn"
   },
   "outputs": [],
   "source": [
    "hcvDataG.loc[:, 'log ALP'] = np.log(hcvDataG.loc[:, 'ALP'] )"
   ]
  },
  {
   "cell_type": "code",
   "execution_count": null,
   "metadata": {
    "colab": {},
    "colab_type": "code",
    "id": "Bfmq2NM1wExp",
    "outputId": "21d1cd6a-936f-4f50-aabd-597747c0e34c"
   },
   "outputs": [],
   "source": [
    "hcvDataG_by_health = hcvDataG.groupby('Healthy')\n",
    "  \n",
    "hcvDataG_healthy_ALP = hcvDataG_by_health.get_group('YES').loc[:, 'log ALP'].dropna()\n",
    "hcvDataG_ill_ALP = hcvDataG_by_health.get_group('NO').loc[:, 'log ALP'].dropna()\n",
    "\n",
    "s, p = stats.bartlett(hcvDataG_healthy_ALP, hcvDataG_ill_ALP)\n",
    "\n",
    "print('test statistics: {0:.4f}'.format(s))\n",
    "print('p-value: {0:.4f}'.format(p))\n",
    "print()"
   ]
  },
  {
   "cell_type": "markdown",
   "metadata": {
    "colab_type": "text",
    "id": "TKC-uzbGwExs"
   },
   "source": [
    "Second assumption is not met, so let's check the difference with Mann-Whitney test."
   ]
  },
  {
   "cell_type": "code",
   "execution_count": null,
   "metadata": {
    "colab": {},
    "colab_type": "code",
    "id": "XVld0t3lwExt",
    "outputId": "605b14b3-a14d-435a-c753-32314629bb7c"
   },
   "outputs": [],
   "source": [
    "s, p = stats.mannwhitneyu(hcvDataG_healthy_ALP, hcvDataG_ill_ALP, use_continuity = True, alternative='two-sided')\n",
    "\n",
    "print('Mann-Whitney test for ALP in healthy and ill people')\n",
    "print('  test statistics: {0:.4f}'.format(s))\n",
    "print('  p-value: {0:.4f}'.format(p))"
   ]
  },
  {
   "cell_type": "markdown",
   "metadata": {
    "colab_type": "text",
    "id": "lqoIHVuswExv"
   },
   "source": [
    "Would the conclusion change if we didn't use log-transform?"
   ]
  },
  {
   "cell_type": "code",
   "execution_count": null,
   "metadata": {
    "colab": {},
    "colab_type": "code",
    "id": "J8n8FBzawExv",
    "outputId": "f9aceb6c-6353-46b0-d7d8-6b4885ffd41d"
   },
   "outputs": [],
   "source": [
    "hcvDataG_healthy_ALP_noLog = hcvDataG_by_health.get_group('YES').loc[:, 'ALP'].dropna()\n",
    "hcvDataG_ill_ALP_noLog = hcvDataG_by_health.get_group('NO').loc[:, 'ALP'].dropna()\n",
    "\n",
    "s, p = stats.mannwhitneyu(hcvDataG_healthy_ALP_noLog, hcvDataG_ill_ALP_noLog, \n",
    "        use_continuity = True, alternative='two-sided')\n",
    "\n",
    "print('Mann-Whitney test for ALP in healthy and ill people')\n",
    "print('  test statistics: {0:.4f}'.format(s))\n",
    "print('  p-value: {0:.4f}'.format(p))"
   ]
  },
  {
   "cell_type": "markdown",
   "metadata": {
    "colab_type": "text",
    "id": "hIb_3ZRuwExx"
   },
   "source": [
    "**It's exactly the same. Why?**\n",
    "\n",
    "**And finally, let's see who has higher ALP.**"
   ]
  },
  {
   "cell_type": "code",
   "execution_count": null,
   "metadata": {
    "colab": {},
    "colab_type": "code",
    "id": "QqWZfj_MwEx8",
    "outputId": "60f18171-991c-42eb-fab8-191e07e69d04"
   },
   "outputs": [],
   "source": [
    "_ = hcvDataG.boxplot(column = 'ALP', by='Healthy', figsize=(7,5), grid=False)"
   ]
  },
  {
   "cell_type": "markdown",
   "metadata": {
    "colab_type": "text",
    "id": "_MYilpDQwEx-"
   },
   "source": [
    "**Would the conclusion change if we used t-test instead?**"
   ]
  },
  {
   "cell_type": "code",
   "execution_count": null,
   "metadata": {
    "colab": {},
    "colab_type": "code",
    "id": "AK1PywIgwEx_",
    "outputId": "86cdb5e3-e283-4641-c807-61ce2e05ea55"
   },
   "outputs": [],
   "source": [
    "s, p = stats.ttest_ind(hcvDataG_healthy_ALP, hcvDataG_ill_ALP, nan_policy='omit')\n",
    "\n",
    "print('t-test for ALP in healthy and ill people')\n",
    "print('  test statistics: {0:.4f}'.format(s))\n",
    "print('  p-value: {0:.4f}'.format(p))"
   ]
  },
  {
   "cell_type": "code",
   "execution_count": null,
   "metadata": {
    "colab": {},
    "colab_type": "code",
    "id": "uUz7IsO4wEyB",
    "outputId": "d2cdedc6-5680-4c79-94a5-6de9f008dde0"
   },
   "outputs": [],
   "source": [
    "s, p = stats.ttest_ind(hcvDataG_healthy_ALP_noLog, hcvDataG_ill_ALP_noLog, nan_policy='omit')\n",
    "\n",
    "print('t-test for log(ALP) in healthy and ill people')\n",
    "print('  test statistics: {0:.4f}'.format(s))\n",
    "print('  p-value: {0:.4f}'.format(p))"
   ]
  },
  {
   "cell_type": "markdown",
   "metadata": {
    "colab_type": "text",
    "id": "2XlbPq6LwEyE"
   },
   "source": [
    "**More correct option would be to use Welch test, which is just t-test modified so that it can accommodate unequal variances**\n",
    "\n",
    "Let's do it on log-transformed data."
   ]
  },
  {
   "cell_type": "code",
   "execution_count": null,
   "metadata": {
    "colab": {},
    "colab_type": "code",
    "id": "J2eOTFZgwEyE",
    "outputId": "258cd03e-2397-49f8-f06e-70543acb78b3"
   },
   "outputs": [],
   "source": [
    "s, p = stats.ttest_ind(hcvDataG_healthy_ALP, hcvDataG_ill_ALP, nan_policy='omit', equal_var=False)\n",
    "\n",
    "print('t-test for ALP in healthy and ill people')\n",
    "print('  test statistics: {0:.4f}'.format(s))\n",
    "print('  p-value: {0:.4f}'.format(p))"
   ]
  },
  {
   "cell_type": "markdown",
   "metadata": {
    "colab_type": "text",
    "id": "R-CsnzvowEyF"
   },
   "source": [
    "**Try to modify the code above to:**\n",
    "* Compare bilirubin between men and women\n",
    "* Compare white blood cells between healthy and ill people"
   ]
  },
  {
   "cell_type": "markdown",
   "metadata": {
    "colab_type": "text",
    "id": "NTuyk6eXwEyG"
   },
   "source": [
    "## Differences between 3 or more independent groups"
   ]
  },
  {
   "cell_type": "markdown",
   "metadata": {
    "colab_type": "text",
    "id": "9upbxvz5wEyG"
   },
   "source": [
    "**Check if patients in different groups (Category) have different albumin (ALB)**"
   ]
  },
  {
   "cell_type": "markdown",
   "metadata": {
    "colab_type": "text",
    "id": "qZagYcrIwEyG"
   },
   "source": [
    "Start by verification of assumptions for ANOVA"
   ]
  },
  {
   "cell_type": "code",
   "execution_count": null,
   "metadata": {
    "colab": {},
    "colab_type": "code",
    "id": "NX-u520UwEyH",
    "outputId": "e2d8f6ce-8933-4a44-e1d7-dbf336e3bdea"
   },
   "outputs": [],
   "source": [
    "hcvDataG_by_cat = hcvDataG.groupby('Category')\n",
    "varName = 'ALP'\n",
    "\n",
    "for group in hcvDataG_by_cat:\n",
    "    groupName = group[0]\n",
    "    groupData = hcvDataG_by_cat.get_group(groupName)\n",
    "    \n",
    "    s, p = stats.shapiro(groupData.loc[:, varName].dropna())\n",
    "    \n",
    "    print('Group: {0:s}'.format(groupName))\n",
    "    print('  test statistics: {0:.4f}'.format(s))\n",
    "    print('  p-value: {0:.4f}'.format(p))\n",
    "    print()"
   ]
  },
  {
   "cell_type": "markdown",
   "metadata": {
    "colab_type": "text",
    "id": "XmqWKZfawEyJ"
   },
   "source": [
    "Normality assumption is not met, so let's use Kruskal-Wallis test to compare the groups."
   ]
  },
  {
   "cell_type": "code",
   "execution_count": null,
   "metadata": {
    "colab": {},
    "colab_type": "code",
    "id": "mgpwEl0twEyJ",
    "outputId": "e1cad7ca-d35d-4a7e-9e01-6f87cd68f1d9"
   },
   "outputs": [],
   "source": [
    "hcvDonors = hcvDataG_by_cat.get_group('Blood Donor').loc[:, varName]\n",
    "hcvCirrhosis = hcvDataG_by_cat.get_group('Cirrhosis').loc[:, varName]\n",
    "hcvFibrosis = hcvDataG_by_cat.get_group('Fibrosis').loc[:, varName]\n",
    "hcvHepatitis = hcvDataG_by_cat.get_group('Hepatitis').loc[:, varName]\n",
    "\n",
    "s, p = stats.kruskal(hcvDonors, hcvCirrhosis, hcvFibrosis, hcvHepatitis, nan_policy = 'omit')\n",
    "\n",
    "print('test statistics: {0:.4f}'.format(s))\n",
    "print('p-value: {0:.4f}'.format(p))"
   ]
  },
  {
   "cell_type": "markdown",
   "metadata": {
    "colab_type": "text",
    "id": "t9rkGXJbwEyL"
   },
   "source": [
    "**Which pairs of groups differ?**"
   ]
  },
  {
   "cell_type": "code",
   "execution_count": null,
   "metadata": {
    "colab": {},
    "colab_type": "code",
    "id": "TBp9_iOqwEyM",
    "outputId": "91741d6f-48b5-4aa0-8cff-64bae714d7df"
   },
   "outputs": [],
   "source": [
    "post_hoc_results = posthocs.posthoc_dunn(hcvDataG, val_col = varName, group_col = 'Category')\n",
    "post_hoc_results"
   ]
  },
  {
   "cell_type": "markdown",
   "metadata": {
    "colab_type": "text",
    "id": "bm8e_RNCwEyQ"
   },
   "source": [
    "Finally, let's look at the differences"
   ]
  },
  {
   "cell_type": "code",
   "execution_count": null,
   "metadata": {
    "colab": {},
    "colab_type": "code",
    "id": "xzjbOAK9wEyQ",
    "outputId": "0395a6a2-0d49-4788-b303-c0990a614a06"
   },
   "outputs": [],
   "source": [
    "_ = hcvDataG.boxplot(column = varName, by='Category', figsize=(7,6), grid=False)\n"
   ]
  },
  {
   "cell_type": "markdown",
   "metadata": {
    "colab_type": "text",
    "id": "szqGo13twEyU"
   },
   "source": [
    "**What would happen with ANOVA applied to the task?**"
   ]
  },
  {
   "cell_type": "code",
   "execution_count": null,
   "metadata": {
    "colab": {},
    "colab_type": "code",
    "id": "Fvgfxam-wEyU",
    "outputId": "672401d2-4ba7-4453-8fc8-e4ffb1469160"
   },
   "outputs": [],
   "source": [
    "s, p = stats.f_oneway(\n",
    "    hcvDonors.dropna(),\n",
    "    hcvCirrhosis.dropna(),\n",
    "    hcvFibrosis.dropna(),\n",
    "    hcvHepatitis.dropna(),\n",
    ")\n",
    "\n",
    "print('test statistics: {0:.4f}'.format(s))\n",
    "print('p-value: {0:.4f}'.format(p))"
   ]
  },
  {
   "cell_type": "code",
   "execution_count": null,
   "metadata": {
    "colab": {},
    "colab_type": "code",
    "id": "Nm_FrdyfwEyW",
    "outputId": "35666fe5-c9a1-4061-844c-5a79a236eb83"
   },
   "outputs": [],
   "source": [
    "post_hoc_results = posthocs.posthoc_tukey(hcvDataG, val_col=varName, group_col='Category')\n",
    "post_hoc_results"
   ]
  },
  {
   "cell_type": "markdown",
   "metadata": {
    "colab_type": "text",
    "id": "KS9zaPvtwEya"
   },
   "source": [
    "**If you want to practice more:**\n",
    "* Repeat the analysis for red blood cells (RBC).\n",
    "* Try modifying the code so that you can get analysis for more than one variable at the same time."
   ]
  },
  {
   "cell_type": "markdown",
   "metadata": {
    "colab_type": "text",
    "id": "eCus-eD3wEyb"
   },
   "source": [
    "## Differences between 2 dependent groups"
   ]
  },
  {
   "cell_type": "markdown",
   "metadata": {
    "colab_type": "text",
    "id": "kL0nkRX1wEyc"
   },
   "source": [
    "**Now, we will move to the second (Egyptian) dataset.**\n",
    "\n",
    "**Check is amount of viral RNA changed between the baseline (RNA Base) and end of treatment (RNA EOT)**"
   ]
  },
  {
   "cell_type": "markdown",
   "metadata": {
    "colab_type": "text",
    "id": "ud2D-CTuwEyc"
   },
   "source": [
    "Start checking assumptions of parametric (t-test for related/dependent)."
   ]
  },
  {
   "cell_type": "code",
   "execution_count": null,
   "metadata": {
    "colab": {},
    "colab_type": "code",
    "id": "qDx3uMPjwEyd"
   },
   "outputs": [],
   "source": [
    "varNames = ['RNA Base', 'RNA EOT']\n",
    "hcvRNA = hcvDataE.loc[:, varNames].dropna(axis='index', how='any')"
   ]
  },
  {
   "cell_type": "code",
   "execution_count": null,
   "metadata": {
    "colab": {},
    "colab_type": "code",
    "id": "IfLLEXdrwEyf",
    "outputId": "ad549109-3cf0-4f38-ec15-de50cb1267b1"
   },
   "outputs": [],
   "source": [
    "for varName in varNames:\n",
    "    s, p = stats.shapiro(hcvRNA.loc[:, varName])\n",
    "\n",
    "    print('Group: {0:s}'.format(varName))\n",
    "    print('  test statistics: {0:.4f}'.format(s))\n",
    "    print('  p-value: {0:.4f}'.format(p))\n",
    "    print()"
   ]
  },
  {
   "cell_type": "markdown",
   "metadata": {
    "colab_type": "text",
    "id": "mdstA7BkwEyh"
   },
   "source": [
    "At this point, you can check if logarithmic transformation of values makes distribution normal (but here it doesn't).\n",
    "\n",
    "To analyze the changes in viral RNA, we will use non-parametric test: Wilcoxon test."
   ]
  },
  {
   "cell_type": "code",
   "execution_count": null,
   "metadata": {
    "colab": {},
    "colab_type": "code",
    "id": "Ml5DsUZKwEyh",
    "outputId": "5dbcd546-2513-4c0a-aa10-bea81ec81f2c"
   },
   "outputs": [],
   "source": [
    "s, p = stats.wilcoxon(hcvRNA.loc[:, 'RNA Base'], hcvRNA.loc[:, 'RNA EOT'])\n",
    "\n",
    "print('test statistics: {0:.4f}'.format(s))\n",
    "print('p-value: {0:.4f}'.format(p))"
   ]
  },
  {
   "cell_type": "markdown",
   "metadata": {
    "colab_type": "text",
    "id": "VDwaiq8SwEyl"
   },
   "source": [
    "Amount of viral DNA changes during treatment, so try to visualize it."
   ]
  },
  {
   "cell_type": "code",
   "execution_count": null,
   "metadata": {
    "colab": {},
    "colab_type": "code",
    "id": "I6HGpGWfwEyl",
    "outputId": "51ee985e-510a-4c57-b95b-4404011e2808"
   },
   "outputs": [],
   "source": [
    "_ = hcvRNA.boxplot(column = varNames, figsize=(7,5), grid=False)"
   ]
  },
  {
   "cell_type": "markdown",
   "metadata": {
    "colab_type": "text",
    "id": "Wm5q8_XEwEyn"
   },
   "source": [
    "**What if we used t-test instead?**"
   ]
  },
  {
   "cell_type": "code",
   "execution_count": null,
   "metadata": {
    "colab": {},
    "colab_type": "code",
    "id": "gKK5RXI8wEyn",
    "outputId": "5bef380b-da5b-4403-d81e-df992b54fb97"
   },
   "outputs": [],
   "source": [
    "s, p = stats.ttest_rel(hcvRNA.loc[:, 'RNA Base'], hcvRNA.loc[:, 'RNA EOT'])\n",
    "\n",
    "print('test statistics: {0:.4f}'.format(s))\n",
    "print('p-value: {0:.4f}'.format(p))"
   ]
  },
  {
   "cell_type": "markdown",
   "metadata": {
    "colab_type": "text",
    "id": "rm7oGfoqwEyp"
   },
   "source": [
    "## Differences between 3 or more related measurements"
   ]
  },
  {
   "cell_type": "markdown",
   "metadata": {
    "colab_type": "text",
    "id": "oXd1JGtZwEyr"
   },
   "source": [
    "**Analyze changes in amounts viral RNA along the treatment**\n",
    "\n",
    "We check normality of distribution at baseline at and at the end of treatment, so we know that assumptions for ANOVA are not met. We can move directly to Friedman test."
   ]
  },
  {
   "cell_type": "code",
   "execution_count": null,
   "metadata": {
    "colab": {},
    "colab_type": "code",
    "id": "JWao91vSwEyr"
   },
   "outputs": [],
   "source": [
    "varNames = ['RNA Base', 'RNA 4', 'RNA 12', 'RNA EOT']\n",
    "hcvRNA = hcvDataE.loc[:, varNames].dropna(axis='index', how='any')"
   ]
  },
  {
   "cell_type": "code",
   "execution_count": null,
   "metadata": {
    "colab": {},
    "colab_type": "code",
    "id": "F3q931mKwEys",
    "outputId": "ffa3f21e-bd6c-4f7f-ff77-90808c7dd979"
   },
   "outputs": [],
   "source": [
    "s, p = stats.friedmanchisquare(\n",
    "    hcvRNA.loc[:, 'RNA Base'],\n",
    "    hcvRNA.loc[:, 'RNA 4'],\n",
    "    hcvRNA.loc[:, 'RNA 12'],\n",
    "    hcvRNA.loc[:, 'RNA EOT'],\n",
    ")\n",
    "\n",
    "print('test statistics: {0:.4f}'.format(s))\n",
    "print('p-value: {0:.4f}'.format(p))"
   ]
  },
  {
   "cell_type": "code",
   "execution_count": null,
   "metadata": {
    "colab": {},
    "colab_type": "code",
    "id": "W8ODcvAHwEyv",
    "outputId": "f318d557-c77d-4ed0-f016-5c701177a473"
   },
   "outputs": [],
   "source": [
    "post_hoc_results = posthocs.posthoc_nemenyi_friedman(hcvRNA, y_col=varNames)\n",
    "post_hoc_results.loc[varNames, varNames]"
   ]
  },
  {
   "cell_type": "code",
   "execution_count": null,
   "metadata": {
    "colab": {},
    "colab_type": "code",
    "id": "YZqFG8mdwEyw",
    "outputId": "8a1bcdc7-48b5-40aa-ba5d-9148e90f036d"
   },
   "outputs": [],
   "source": [
    "fig = plt.figure(figsize=(7,5))\n",
    "ax = fig.add_subplot(111)\n",
    "_ = hcvRNA.boxplot(column = varNames, ax=ax, grid=False)\n",
    "_ = ax.set_ylim(top=15*10**5)"
   ]
  },
  {
   "cell_type": "markdown",
   "metadata": {
    "colab_type": "text",
    "id": "iuGXcpZSwEyx"
   },
   "source": [
    "**Let's try another option of visualization, so calles cases' profiles**\n",
    "\n",
    "First, we transform our array, so that one column contains patient's IDs, other timepoints and the last amount of RNA."
   ]
  },
  {
   "cell_type": "code",
   "execution_count": null,
   "metadata": {
    "colab": {},
    "colab_type": "code",
    "id": "gkWAK6-hwEyy",
    "outputId": "c0fac5bd-146a-472a-d9ac-8eca6eb1bd60"
   },
   "outputs": [],
   "source": [
    "hcvRNA.loc[:, 'Patient'] = hcvRNA.index\n",
    "hcvRNAmelted = pd.melt(hcvRNA, id_vars = 'Patient', value_vars = varNames, var_name = 'Timepoint', value_name = 'RNA')\n",
    "hcvRNAmelted"
   ]
  },
  {
   "cell_type": "markdown",
   "metadata": {
    "colab_type": "text",
    "id": "aflkswFTwEy0"
   },
   "source": [
    "Let's plot the profiles for 10 random patients."
   ]
  },
  {
   "cell_type": "code",
   "execution_count": null,
   "metadata": {
    "colab": {},
    "colab_type": "code",
    "id": "6gUxOj_QwEy1",
    "outputId": "a7d03772-8cc8-4053-b5c8-2f42276f8600"
   },
   "outputs": [],
   "source": [
    "nPatients = 10\n",
    "patientIDs = np.unique(hcvRNAmelted['Patient'])\n",
    "selectedPatientIds = np.random.choice(patientIDs, size=nPatients, replace=False)\n",
    "\n",
    "selectedRows = [id in list(selectedPatientIds) for id in hcvRNAmelted['Patient']]\n",
    "\n",
    "hcvRNAmelted_some_patients = hcvRNAmelted.loc[selectedRows,:]\n",
    "hcvRNAmelted_some_patients\n",
    "\n",
    "ax = sns.pointplot(data=hcvRNAmelted_some_patients, x='Timepoint', y='RNA', hue='Patient', palette='colorblind',\n",
    "                  legend=False)\n",
    "ax.get_legend().remove()"
   ]
  },
  {
   "cell_type": "markdown",
   "metadata": {
    "colab_type": "text",
    "id": "UgwYDBLdwEy3"
   },
   "source": [
    "**Would the conclusion change if we applied ANOVA for repeated measurements?**"
   ]
  },
  {
   "cell_type": "code",
   "execution_count": null,
   "metadata": {
    "colab": {},
    "colab_type": "code",
    "id": "NOVkcz2iwEy3",
    "outputId": "ae5d193a-8125-4649-f597-48f45b88010a"
   },
   "outputs": [],
   "source": [
    "anova_rm_rna = AnovaRM(hcvRNAmelted, depvar = 'RNA', subject = 'Patient', within = ['Timepoint'])\n",
    "anova_rm_rna_res = anova_rm_rna.fit()\n",
    "\n",
    "print(anova_rm_rna_res)"
   ]
  },
  {
   "cell_type": "code",
   "execution_count": null,
   "metadata": {
    "colab": {},
    "colab_type": "code",
    "id": "FvZmjtaNwEy5",
    "outputId": "1a05aa13-f6a5-4af1-8627-f9812e058fca"
   },
   "outputs": [],
   "source": [
    "post_hoc_res = pairwise_tukeyhsd(hcvRNAmelted.loc[:, 'RNA'], groups = hcvRNAmelted.loc[:, 'Timepoint'])\n",
    "post_hoc_res.summary()"
   ]
  },
  {
   "cell_type": "markdown",
   "metadata": {
    "colab_type": "text",
    "id": "Z_kgkNOqwEy7"
   },
   "source": [
    "# Correlations"
   ]
  },
  {
   "cell_type": "markdown",
   "metadata": {
    "colab_type": "text",
    "id": "ahQRG_YjwEy7"
   },
   "source": [
    "**Go back to German data set.**\n",
    "**Check if following laboratory measurements are correlated:**\n",
    "* ALB\n",
    "* ALP\n",
    "* BIL\n",
    "* PROT"
   ]
  },
  {
   "cell_type": "code",
   "execution_count": null,
   "metadata": {
    "colab": {},
    "colab_type": "code",
    "id": "Kx0mvcUYwEy7",
    "outputId": "f8eeb69c-0010-4b5b-b316-0aae5699ee73"
   },
   "outputs": [],
   "source": [
    "varNames = ['ALB', 'ALP', 'BIL', 'PROT']\n",
    "hcvLab = hcvDataG.loc[:, varNames]\n",
    "display(hcvLab)"
   ]
  },
  {
   "cell_type": "code",
   "execution_count": null,
   "metadata": {
    "colab": {},
    "colab_type": "code",
    "id": "Qx-hIpI3wEy9",
    "outputId": "9fb857fa-9b8b-4c4e-9605-9a71a616087c"
   },
   "outputs": [],
   "source": [
    "hcvLab.corr(method='spearman')"
   ]
  },
  {
   "cell_type": "code",
   "execution_count": null,
   "metadata": {
    "colab": {},
    "colab_type": "code",
    "id": "q8Ydoot-wEy_",
    "outputId": "f325b688-e3f5-485f-b79d-7aaeffd5aa69"
   },
   "outputs": [],
   "source": [
    "hcvLab.corr(method='pearson')"
   ]
  },
  {
   "cell_type": "markdown",
   "metadata": {
    "colab_type": "text",
    "id": "tfkzuTaPwEzB"
   },
   "source": [
    "**If you want also p-values, you need scipy**"
   ]
  },
  {
   "cell_type": "code",
   "execution_count": null,
   "metadata": {
    "colab": {},
    "colab_type": "code",
    "id": "D3MrAPSewEzB",
    "outputId": "154330dc-4ff7-4d63-b15f-8b7ae6eabfd6"
   },
   "outputs": [],
   "source": [
    "r, p = stats.spearmanr(hcvLab, nan_policy='omit')\n",
    "\n",
    "display(pd.DataFrame(r, index=varNames, columns=varNames))\n",
    "\n",
    "display(pd.DataFrame(p, index=varNames, columns=varNames))"
   ]
  },
  {
   "cell_type": "markdown",
   "metadata": {
    "colab_type": "text",
    "id": "MlXkALnpwEzD"
   },
   "source": [
    "But the same doesn't work with Pearson correlation, because it doesn't take 2D array and neither it has omit_nan :(."
   ]
  },
  {
   "cell_type": "code",
   "execution_count": null,
   "metadata": {
    "colab": {},
    "colab_type": "code",
    "id": "ief_cI83wEzE",
    "outputId": "157ee68d-ade1-4d12-b14d-6e8ffc7a33d6"
   },
   "outputs": [],
   "source": [
    "r = pd.DataFrame(np.zeros([len(varNames),len(varNames)]), columns=varNames, index=varNames)\n",
    "p = pd.DataFrame(np.zeros([len(varNames),len(varNames)]), columns=varNames, index=varNames)\n",
    "\n",
    "for comb in itertools.combinations(varNames, r=2):\n",
    "    names = list(comb)\n",
    "    name1 = names[0]\n",
    "    name2 = names[1]\n",
    "    hcvLabCurrent = hcvLab.loc[:, [name1, name2]].dropna()\n",
    "    cr, cp = stats.pearsonr(hcvLabCurrent.loc[:, name1], hcvLabCurrent.loc[:, name2])\n",
    "    r.loc[name1, name2] = r.loc[name2, name1] = cr\n",
    "    p.loc[name1, name2] = p.loc[name2, name1] = cp\n",
    "\n",
    "display(r)\n",
    "\n",
    "display(p)"
   ]
  },
  {
   "cell_type": "markdown",
   "metadata": {
    "colab_type": "text",
    "id": "m-FZN9hZwEzF"
   },
   "source": [
    "Let's visualize the correlation ALB and ALP"
   ]
  },
  {
   "cell_type": "code",
   "execution_count": null,
   "metadata": {
    "colab": {},
    "colab_type": "code",
    "id": "BdrnFISbwEzI",
    "outputId": "e5c490cd-b52e-40ef-d78d-6f10864a2914"
   },
   "outputs": [],
   "source": [
    "_ = hcvLab.plot.scatter(x='ALB', y='PROT')"
   ]
  },
  {
   "cell_type": "markdown",
   "metadata": {
    "colab_type": "text",
    "id": "kFiAc_70wEzK"
   },
   "source": [
    "Let's look at all correlations at once"
   ]
  },
  {
   "cell_type": "code",
   "execution_count": null,
   "metadata": {
    "colab": {},
    "colab_type": "code",
    "id": "MNImcsYCwEzK",
    "outputId": "3752f228-4b5a-4d05-ca9d-6d23f2b92aac",
    "scrolled": false
   },
   "outputs": [],
   "source": [
    "_ = sns.pairplot(hcvLab)"
   ]
  },
  {
   "cell_type": "markdown",
   "metadata": {
    "colab_type": "text",
    "id": "0dlxI50vwEzM"
   },
   "source": [
    "For training, repeat this type of analysis for viral RNA variables in Egyptian dataset. Don't forget the plots.\n",
    "\n",
    "Can you tell what is wrong in that analysis? (Hint: beware of outliers)."
   ]
  },
  {
   "cell_type": "markdown",
   "metadata": {
    "colab_type": "text",
    "id": "bTyF8GgHwEzM"
   },
   "source": [
    "# Statistical tests for nominal variables"
   ]
  },
  {
   "cell_type": "markdown",
   "metadata": {
    "colab_type": "text",
    "id": "VM4v2CmHwEzM"
   },
   "source": [
    "**Using Egyptian dataset, check if Nausea/Vomiting is equally common in patients with and without Epigastric pain**\n",
    "\n",
    "We start creating contingency table."
   ]
  },
  {
   "cell_type": "code",
   "execution_count": null,
   "metadata": {
    "colab": {},
    "colab_type": "code",
    "id": "he7ws_6FwEzN",
    "outputId": "9a0be21e-658a-4cb7-fd94-4e584fd4a332"
   },
   "outputs": [],
   "source": [
    "table1 = pd.crosstab(hcvDataE['Epigastric pain'], hcvDataE['Nausea/Vomiting'])\n",
    "table1"
   ]
  },
  {
   "cell_type": "markdown",
   "metadata": {
    "colab_type": "text",
    "id": "E0bGh4JiwEzO"
   },
   "source": [
    "For readability, we can calculate percentages in rows and columns (but the tests won't need them)."
   ]
  },
  {
   "cell_type": "code",
   "execution_count": null,
   "metadata": {
    "colab": {},
    "colab_type": "code",
    "id": "AQeE5eJNwEzP",
    "outputId": "ba81e353-b402-437d-bcb9-8b0017cd5f34"
   },
   "outputs": [],
   "source": [
    "table1_percent_rows = table1.apply(lambda r: r/r.sum()*100, axis=1)\n",
    "table1_percent_rows"
   ]
  },
  {
   "cell_type": "code",
   "execution_count": null,
   "metadata": {
    "colab": {},
    "colab_type": "code",
    "id": "KHAlXRMcwEzR",
    "outputId": "16d465aa-b591-4ac2-8353-26ddcf374313"
   },
   "outputs": [],
   "source": [
    "table1_percent_cols = table1.apply(lambda r: r/r.sum()*100, axis=0)\n",
    "table1_percent_cols"
   ]
  },
  {
   "cell_type": "code",
   "execution_count": null,
   "metadata": {
    "colab": {},
    "colab_type": "code",
    "id": "O6GQVv9TwEzS",
    "outputId": "3d7c644a-edc0-46e5-cdfd-6154a02030f1"
   },
   "outputs": [],
   "source": [
    "s, p, _, _ = stats.chi2_contingency(table1, correction=False)\n",
    "OR, pf = stats.fisher_exact(table1)\n",
    "print('p-value from chi-square test: {0:.04f}:'.format(p))\n",
    "print('p-value from Fisher exact test: {0:.04f}'.format(pf))"
   ]
  },
  {
   "cell_type": "markdown",
   "metadata": {
    "colab_type": "text",
    "id": "YLN74bXJwEzU"
   },
   "source": [
    "**Now, check if presence of Epigastric pain is related to Baseline histological staging**"
   ]
  },
  {
   "cell_type": "code",
   "execution_count": null,
   "metadata": {
    "colab": {},
    "colab_type": "code",
    "id": "aytC40fUwEzU",
    "outputId": "46b8064a-ff94-4da4-8f0b-2644564781c4"
   },
   "outputs": [],
   "source": [
    "table2 = pd.crosstab(hcvDataE['Baseline histological staging'], hcvDataE['Epigastric pain'])\n",
    "display(table2)\n",
    "s, p, _, _ = stats.chi2_contingency(table2)\n",
    "print('p-value from chi-square test: {0:.4f}'.format(p))"
   ]
  },
  {
   "cell_type": "markdown",
   "metadata": {
    "colab_type": "text",
    "id": "JGPOuQSwwEzV"
   },
   "source": [
    "**Can you add percentages on your own?**"
   ]
  },
  {
   "cell_type": "code",
   "execution_count": null,
   "metadata": {
    "colab": {},
    "colab_type": "code",
    "id": "96XiZHmRwEzV",
    "outputId": "9be033b3-6baa-4d6f-eaef-b536d16e60b8"
   },
   "outputs": [],
   "source": [
    "table2_percent_rows = table2.apply(lambda r: r/r.sum()*100, axis=1)\n",
    "table2_percent_rows"
   ]
  },
  {
   "cell_type": "code",
   "execution_count": null,
   "metadata": {
    "colab": {},
    "colab_type": "code",
    "id": "sekdxA6pwEzY",
    "outputId": "4d295607-3a33-4345-c71d-660522440e45"
   },
   "outputs": [],
   "source": [
    "table2_percent_cols = table2.apply(lambda r: r/r.sum()*100, axis=0)\n",
    "table2_percent_cols"
   ]
  },
  {
   "cell_type": "markdown",
   "metadata": {
    "colab_type": "text",
    "id": "CjTaA_qpwEzZ"
   },
   "source": [
    "# Multiple testing"
   ]
  },
  {
   "cell_type": "markdown",
   "metadata": {
    "colab_type": "text",
    "id": "yaUf9-3FwEzZ"
   },
   "source": [
    "**At the beginning, we need to read the last dataset.**\n",
    "\n",
    "By the way, it comes from our [article](https://www.mdpi.com/2072-6694/12/6/1525/htm).\n",
    "\n",
    "**It is organized in a different way that previous two:**\n",
    "* variables are in rows.\n",
    "* cases in columns.\n",
    "\n",
    "Variables are expression values for >20k rat's genes. They were measured by hybridization microarrays and here are already log-transformed.\n",
    "\n",
    "Cases are 12 rats:\n",
    "* 3 healthy (wild type).\n",
    "* 3 with heterozygous knock-out of TP53 (they have only one correct copy, instead of 2).\n",
    "* 3 with homozygous knock-out of TP53 (they have no normal copy of TP53 gene).\n",
    "* 3 with homozygous knock-out of TP53 that have already developed sarcoma.\n",
    "\n",
    "Our task is to compare expression of all genes between 3 groups. We will perform >20k test, so we really need multiple comparison corrections.\n",
    "\n",
    "Let's look at data!"
   ]
  },
  {
   "cell_type": "code",
   "execution_count": null,
   "metadata": {
    "colab": {},
    "colab_type": "code",
    "id": "1E0fXCXWwEza"
   },
   "outputs": [],
   "source": [
    "if IN_COLAB:\n",
    "    fname = 'https://raw.githubusercontent.com/UlaSmycz/NGSeminar_biostatistics/master/rats_ngseminar.csv'\n",
    "else:\n",
    "    fname = 'rats_ngseminar.csv'\n",
    "\n",
    "ratsData = pd.read_csv(fname, sep=';', index_col=0, header=[0,1])"
   ]
  },
  {
   "cell_type": "code",
   "execution_count": null,
   "metadata": {
    "colab": {},
    "colab_type": "code",
    "id": "GOelTDR6wEzd",
    "outputId": "9201bed0-d540-4111-b9ec-42a4e2a60fd3"
   },
   "outputs": [],
   "source": [
    "display(ratsData)"
   ]
  },
  {
   "cell_type": "markdown",
   "metadata": {
    "colab_type": "text",
    "id": "Mc6BnQy2wEze"
   },
   "source": [
    "**Group the rats and calculate mean expression of each gene per group.**"
   ]
  },
  {
   "cell_type": "code",
   "execution_count": null,
   "metadata": {
    "colab": {},
    "colab_type": "code",
    "id": "WOw2DgeFwEzf",
    "outputId": "1ae8f417-6bb0-4a46-9b94-8aa1b4338485"
   },
   "outputs": [],
   "source": [
    "ratsDataGrouped = ratsData.groupby(level=['Group'], axis=1)\n",
    "ratsDataResults = ratsDataGrouped.apply(np.mean, axis=1) \n",
    "display(ratsDataResults)"
   ]
  },
  {
   "cell_type": "markdown",
   "metadata": {
    "colab_type": "text",
    "id": "V5Uqesx7wEzh"
   },
   "source": [
    "**Now compare the groups by ANOVA**\n",
    "\n",
    "Here, we omit assumption verification, because it wouldn't be reliable with 3 samples per group. Additionally, with so few samples non-parametric test wouldn't be very effective too (but you can easily substitute test and check why)."
   ]
  },
  {
   "cell_type": "code",
   "execution_count": null,
   "metadata": {
    "colab": {},
    "colab_type": "code",
    "id": "nNu8hNScwEzh",
    "outputId": "ffcd32f2-efa3-40c8-844b-b63ef13c3bd6"
   },
   "outputs": [],
   "source": [
    "healthy = ratsDataGrouped.get_group('healthy')\n",
    "het = ratsDataGrouped.get_group('ko')\n",
    "ko = ratsDataGrouped.get_group('het')\n",
    "sarcoma = ratsDataGrouped.get_group('sarcoma')\n",
    "\n",
    "s, p = stats.f_oneway(healthy, ko, het, sarcoma, axis=1)\n",
    "\n",
    "ratsDataResults.loc[:, 'p'] = p\n",
    "\n",
    "display(ratsDataResults.sort_values(by='p'))"
   ]
  },
  {
   "cell_type": "markdown",
   "metadata": {
    "colab_type": "text",
    "id": "U3eqTzySwEzi"
   },
   "source": [
    "**How many p-values below 0.05 do we have?**"
   ]
  },
  {
   "cell_type": "code",
   "execution_count": null,
   "metadata": {
    "colab": {},
    "colab_type": "code",
    "id": "7Y7yzvM7wEzi",
    "outputId": "c56dc452-d9f1-4f9b-afca-ed1cf3dfb34d"
   },
   "outputs": [],
   "source": [
    "sigP = (ratsDataResults.loc[:, 'p']<0.05).sum()\n",
    "sigP_percent = sigP/ratsDataResults.shape[0]*100\n",
    "\n",
    "print('Number of p-values below 0.05: {0:d}'.format(sigP))\n",
    "print('It is {0:.1f}% of all genes.'.format(sigP_percent))"
   ]
  },
  {
   "cell_type": "markdown",
   "metadata": {
    "colab_type": "text",
    "id": "dOjriUCQwEzl"
   },
   "source": [
    "**Let's apply FDR and FWER correction**"
   ]
  },
  {
   "cell_type": "code",
   "execution_count": null,
   "metadata": {
    "colab": {},
    "colab_type": "code",
    "id": "6M6sQjxowEzl"
   },
   "outputs": [],
   "source": [
    "fdr = multipletests(ratsDataResults.loc[:, 'p'], alpha=0.05, method='fdr_bh')\n",
    "ratsDataResults['FDR'] = fdr[1]"
   ]
  },
  {
   "cell_type": "code",
   "execution_count": null,
   "metadata": {
    "colab": {},
    "colab_type": "code",
    "id": "uo7rQUYzwEzn"
   },
   "outputs": [],
   "source": [
    "fwer = multipletests(ratsDataResults.loc[:, 'p'], alpha=0.05, method='bonferroni')\n",
    "ratsDataResults['FWER'] = fwer[1]"
   ]
  },
  {
   "cell_type": "code",
   "execution_count": null,
   "metadata": {},
   "outputs": [],
   "source": [
    "display(ratsDataResults)"
   ]
  },
  {
   "cell_type": "code",
   "execution_count": null,
   "metadata": {
    "colab": {},
    "colab_type": "code",
    "id": "PKOZoVnnwEzy",
    "outputId": "7b9a1dd1-682e-4279-edc6-98c143096d18"
   },
   "outputs": [],
   "source": [
    "sigFDR = (ratsDataResults.loc[:, 'FDR']<0.05).sum()\n",
    "sigFDR_percent = sigFDR/ratsDataResults.shape[0]*100\n",
    "\n",
    "print('Number of FDR-corrected p-values below 0.05: {0:d}'.format(sigFDR))\n",
    "print('It is {0:.1f}% of all genes.'.format(sigFDR_percent))\n",
    "\n",
    "sigFWER = (ratsDataResults.loc[:, 'FWER']<0.05).sum()\n",
    "sigFWER_percent = sigFWER/ratsDataResults.shape[0]*100\n",
    "\n",
    "print()\n",
    "print('Number of FWER-corrected p-values below 0.05: {0:d}'.format(sigFWER))\n",
    "print('It is {0:.1f}% of all genes.'.format(sigFWER_percent))"
   ]
  }
 ],
 "metadata": {
  "colab": {
   "name": "NGSeminar - Introduction to biostatistics.ipynb",
   "provenance": [],
   "toc_visible": true
  },
  "kernelspec": {
   "display_name": "ngseminar",
   "language": "python",
   "name": "ngseminar"
  },
  "language_info": {
   "codemirror_mode": {
    "name": "ipython",
    "version": 3
   },
   "file_extension": ".py",
   "mimetype": "text/x-python",
   "name": "python",
   "nbconvert_exporter": "python",
   "pygments_lexer": "ipython3",
   "version": "3.7.4"
  },
  "toc": {
   "base_numbering": 1,
   "nav_menu": {},
   "number_sections": true,
   "sideBar": true,
   "skip_h1_title": false,
   "title_cell": "Table of Contents",
   "title_sidebar": "Contents",
   "toc_cell": false,
   "toc_position": {
    "height": "calc(100% - 180px)",
    "left": "10px",
    "top": "150px",
    "width": "241.55px"
   },
   "toc_section_display": true,
   "toc_window_display": true
  }
 },
 "nbformat": 4,
 "nbformat_minor": 1
}
