{
 "cells": [
  {
   "cell_type": "markdown",
   "metadata": {},
   "source": [
    "# Import needed modules"
   ]
  },
  {
   "cell_type": "code",
   "execution_count": null,
   "metadata": {},
   "outputs": [],
   "source": [
    "%matplotlib inline\n",
    "import numpy as np\n",
    "import pandas as pd\n",
    "pd.options.display.float_format = '{:,.4f}'.format\n",
    "import matplotlib.pyplot as plt\n",
    "from scipy import stats\n",
    "import scikit_posthocs as posthocs\n",
    "from statsmodels.stats.anova import AnovaRM\n",
    "from statsmodels.stats.multicomp import pairwise_tukeyhsd\n",
    "import itertools\n",
    "import seaborn as sns"
   ]
  },
  {
   "cell_type": "markdown",
   "metadata": {},
   "source": [
    "# Read HCV_Data_Germany_ngseminar dataset"
   ]
  },
  {
   "cell_type": "code",
   "execution_count": null,
   "metadata": {},
   "outputs": [],
   "source": [
    "hcvDataG = pd.read_csv('HCV_Data_Germany_ngseminar.csv', header = 0, index_col = 0)\n",
    "display(hcvDataG)"
   ]
  },
  {
   "cell_type": "code",
   "execution_count": null,
   "metadata": {},
   "outputs": [],
   "source": [
    "for el in np.unique(hcvDataG.loc[:, 'Category']):\n",
    "    print(el)"
   ]
  },
  {
   "cell_type": "code",
   "execution_count": null,
   "metadata": {},
   "outputs": [],
   "source": [
    "for colname in hcvDataG.columns:\n",
    "    print(colname)"
   ]
  },
  {
   "cell_type": "markdown",
   "metadata": {},
   "source": [
    "# Read another dataset: HCV_Data_Egypt_ngseminar"
   ]
  },
  {
   "cell_type": "code",
   "execution_count": null,
   "metadata": {},
   "outputs": [],
   "source": [
    "hcvDataE = pd.read_csv('HCV_Data_Egypt_ngseminar.csv', header = 0, index_col = 0)\n",
    "hcvDataE"
   ]
  },
  {
   "cell_type": "code",
   "execution_count": null,
   "metadata": {},
   "outputs": [],
   "source": [
    "for colname in hcvDataE.columns:\n",
    "    print(colname)"
   ]
  },
  {
   "cell_type": "markdown",
   "metadata": {},
   "source": [
    "# Descriptive statistics"
   ]
  },
  {
   "cell_type": "markdown",
   "metadata": {},
   "source": [
    "**We'll start with Germany dataset**\n",
    "\n",
    "**Check how many cases and variables are in our dataset**"
   ]
  },
  {
   "cell_type": "code",
   "execution_count": null,
   "metadata": {},
   "outputs": [],
   "source": [
    "nrows, ncolumns = hcvDataG.shape\n",
    "print('Number of cases (rows): {0:d}'.format(nrows))\n",
    "print('Number of variables (columns): {0:d}'.format(ncolumns))"
   ]
  },
  {
   "cell_type": "markdown",
   "metadata": {},
   "source": [
    "**Calculate descriptive statistics for age**"
   ]
  },
  {
   "cell_type": "code",
   "execution_count": null,
   "metadata": {},
   "outputs": [],
   "source": [
    "hcvDataG.loc[:, 'Age'].describe()"
   ]
  },
  {
   "cell_type": "markdown",
   "metadata": {},
   "source": [
    "**Reapeat calculation dividing patients by gender**"
   ]
  },
  {
   "cell_type": "code",
   "execution_count": null,
   "metadata": {},
   "outputs": [],
   "source": [
    "hcvDataG.loc[:, 'Age'].groupby(hcvDataG.loc[:, 'Sex']).describe()"
   ]
  },
  {
   "cell_type": "markdown",
   "metadata": {},
   "source": [
    "**Now describe 2 variable at a time: Age and CHOL, divide patients by gender**"
   ]
  },
  {
   "cell_type": "code",
   "execution_count": null,
   "metadata": {},
   "outputs": [],
   "source": [
    "hcvDataG.loc[:, ['Age', 'CHOL']].groupby(hcvDataG.loc[:, 'Sex']).describe()"
   ]
  },
  {
   "cell_type": "markdown",
   "metadata": {},
   "source": [
    "## Distributions"
   ]
  },
  {
   "cell_type": "markdown",
   "metadata": {},
   "source": [
    "**Examine visually distribution of CHOL**"
   ]
  },
  {
   "cell_type": "code",
   "execution_count": null,
   "metadata": {},
   "outputs": [],
   "source": [
    "fig = plt.figure(figsize=(7,5))\n",
    "ax = fig.add_subplot(111)\n",
    "pd.DataFrame.hist(data = hcvDataG, column = 'CHOL', ax = ax)\n",
    "ax.grid(False)"
   ]
  },
  {
   "cell_type": "markdown",
   "metadata": {},
   "source": [
    "Now divide patients by sex"
   ]
  },
  {
   "cell_type": "code",
   "execution_count": null,
   "metadata": {},
   "outputs": [],
   "source": [
    "pd.DataFrame.hist(data = hcvDataG, column = 'CHOL', by='Sex', figsize=(14,5))"
   ]
  },
  {
   "cell_type": "markdown",
   "metadata": {},
   "source": [
    "**Let's repeat the same with BIL**"
   ]
  },
  {
   "cell_type": "code",
   "execution_count": null,
   "metadata": {},
   "outputs": [],
   "source": [
    "fig = plt.figure(figsize=(7,5))\n",
    "ax = fig.add_subplot(111)\n",
    "pd.DataFrame.hist(data = hcvDataG, column = 'BIL', ax = ax)\n",
    "ax.grid(False)"
   ]
  },
  {
   "cell_type": "code",
   "execution_count": null,
   "metadata": {},
   "outputs": [],
   "source": [
    "pd.DataFrame.hist(data = hcvDataG, column = 'BIL', by='Sex', figsize=(14,5))"
   ]
  },
  {
   "cell_type": "markdown",
   "metadata": {},
   "source": [
    "**Try to do the same wit ALB dividing patients by Category**"
   ]
  },
  {
   "cell_type": "code",
   "execution_count": null,
   "metadata": {},
   "outputs": [],
   "source": [
    "_ = pd.DataFrame.hist(data = hcvDataG, column = 'ALB', by='Category', layout=(2,2), figsize=(10,10))"
   ]
  },
  {
   "cell_type": "markdown",
   "metadata": {},
   "source": [
    "# Statistical tests for continous variables"
   ]
  },
  {
   "cell_type": "markdown",
   "metadata": {},
   "source": [
    "## Normality of distribution"
   ]
  },
  {
   "cell_type": "markdown",
   "metadata": {},
   "source": [
    "**Check if age of patients is normally distributed in our dataset**"
   ]
  },
  {
   "cell_type": "code",
   "execution_count": null,
   "metadata": {},
   "outputs": [],
   "source": [
    "s, p = stats.shapiro(hcvDataG.loc[:, 'Age'])\n",
    "print('test statistics: {0:.4f}'.format(s))\n",
    "print('p-value: {0:.4f}'.format(p))"
   ]
  },
  {
   "cell_type": "markdown",
   "metadata": {},
   "source": [
    "**Repeat the test grouping patients by gender**"
   ]
  },
  {
   "cell_type": "code",
   "execution_count": null,
   "metadata": {},
   "outputs": [],
   "source": [
    "hcvDataG_by_gender = hcvDataG.groupby('Sex')\n",
    "\n",
    "for group in hcvDataG_by_gender:\n",
    "    groupName = group[0]\n",
    "    groupData = hcvDataG_by_gender.get_group(groupName)\n",
    "    \n",
    "    s, p = stats.shapiro(groupData.loc[:, 'Age'])\n",
    "    \n",
    "    print('Group: {0:s}'.format(groupName))\n",
    "    print('  test statistics: {0:.4f}'.format(s))\n",
    "    print('  tp-value: {0:.4f}'.format(p))\n",
    "    print()"
   ]
  },
  {
   "cell_type": "markdown",
   "metadata": {},
   "source": [
    "**Now let's check ALB, ALP, CHOL and CREA, dividing patients by sex**"
   ]
  },
  {
   "cell_type": "code",
   "execution_count": null,
   "metadata": {},
   "outputs": [],
   "source": [
    "hcvDataG_by_stage = hcvDataG.groupby('Sex')\n",
    "variablesForAnalysis = ['ALB', 'ALP', 'CHOL', 'CREA']\n",
    "\n",
    "for variable in variablesForAnalysis:\n",
    "    print(variable)\n",
    "    for group in hcvDataG_by_stage:\n",
    "        groupName = group[0]\n",
    "        groupData = hcvDataG_by_stage.get_group(groupName)\n",
    "\n",
    "        s, p = stats.shapiro(groupData.loc[:, variable].dropna())\n",
    "\n",
    "        print('  Group: {0:s}'.format(str(groupName)))\n",
    "        print('    test statistics: {0:.4f}'.format(s))\n",
    "        print('    p-value: {0:.4f}'.format(p))\n",
    "        \n",
    "    print()"
   ]
  },
  {
   "cell_type": "markdown",
   "metadata": {},
   "source": [
    "## Difference between 2 independent groups"
   ]
  },
  {
   "cell_type": "markdown",
   "metadata": {},
   "source": [
    "**Compare ALP between healthy and ill people. Who has higher ALP?**"
   ]
  },
  {
   "cell_type": "markdown",
   "metadata": {},
   "source": [
    "First, check the assumption for t-test:\n",
    "* normality of distribution in both groups\n",
    "* homogeneity of variance (basically equal varience in both groups)"
   ]
  },
  {
   "cell_type": "code",
   "execution_count": null,
   "metadata": {},
   "outputs": [],
   "source": [
    "hcvDataG_by_health = hcvDataG.groupby('Healthy')\n",
    "\n",
    "for group in hcvDataG_by_health:\n",
    "    groupName = group[0]\n",
    "    groupData = hcvDataG_by_health.get_group(groupName)\n",
    "    \n",
    "    s, p = stats.shapiro(groupData.loc[:, 'ALP'].dropna())\n",
    "    \n",
    "    print('Group: {0:s}'.format(groupName))\n",
    "    print('  test statistics: {0:.4f}'.format(s))\n",
    "    print('  p-value: {0:.4f}'.format(p))\n",
    "    print()"
   ]
  },
  {
   "cell_type": "markdown",
   "metadata": {},
   "source": [
    "Let's try logarithm of ALP"
   ]
  },
  {
   "cell_type": "code",
   "execution_count": null,
   "metadata": {},
   "outputs": [],
   "source": [
    "hcvDataG_by_health = hcvDataG.groupby('Healthy')\n",
    "\n",
    "for group in hcvDataG_by_health:\n",
    "    groupName = group[0]\n",
    "    groupData = hcvDataG_by_health.get_group(groupName)\n",
    "    \n",
    "    s, p = stats.shapiro(np.log(groupData.loc[:, 'ALP'].dropna()))\n",
    "    \n",
    "    print('Group: {0:s}'.format(groupName))\n",
    "    print('  test statistics: {0:.4f}'.format(s))\n",
    "    print('  p-value: {0:.4f}'.format(p))\n",
    "    print()"
   ]
  },
  {
   "cell_type": "markdown",
   "metadata": {},
   "source": [
    "Now, it's fine, we cen move to the next assumption - equal variances.\n",
    "\n",
    "But before, let's add log ALP as a new variable to our data frame, we will need it."
   ]
  },
  {
   "cell_type": "code",
   "execution_count": null,
   "metadata": {},
   "outputs": [],
   "source": [
    "hcvDataG.loc[:, 'log ALP'] = np.log(hcvDataG.loc[:, 'ALP'] )"
   ]
  },
  {
   "cell_type": "code",
   "execution_count": null,
   "metadata": {},
   "outputs": [],
   "source": [
    "hcvDataG_by_health = hcvDataG.groupby('Healthy')\n",
    "  \n",
    "hcvDataG_healthy_ALP = hcvDataG_by_health.get_group('YES').loc[:, 'log ALP'].dropna()\n",
    "hcvDataG_ill_ALP = hcvDataG_by_health.get_group('NO').loc[:, 'log ALP'].dropna()\n",
    "\n",
    "s, p = stats.bartlett(hcvDataG_healthy_ALP, hcvDataG_ill_ALP)\n",
    "\n",
    "print('test statistics: {0:.4f}'.format(s))\n",
    "print('p-value: {0:.4f}'.format(p))\n",
    "print()"
   ]
  },
  {
   "cell_type": "markdown",
   "metadata": {},
   "source": [
    "Second assumption is not met, so let's check the difference with Mann-Whithey test."
   ]
  },
  {
   "cell_type": "code",
   "execution_count": null,
   "metadata": {},
   "outputs": [],
   "source": [
    "s, p = stats.mannwhitneyu(hcvDataG_healthy_ALP, hcvDataG_ill_ALP, use_continuity = True, alternative='two-sided')\n",
    "\n",
    "print('Mann-Whitney test for ALP in healthy and ill people')\n",
    "print('  test statistics: {0:.4f}'.format(s))\n",
    "print('  p-value: {0:.4f}'.format(p))"
   ]
  },
  {
   "cell_type": "markdown",
   "metadata": {},
   "source": [
    "Would the conclusion change if we didn't use log-transform?"
   ]
  },
  {
   "cell_type": "code",
   "execution_count": null,
   "metadata": {},
   "outputs": [],
   "source": [
    "hcvDataG_healthy_ALP_noLog = hcvDataG_by_health.get_group('YES').loc[:, 'ALP'].dropna()\n",
    "hcvDataG_ill_ALP_noLog = hcvDataG_by_health.get_group('NO').loc[:, 'ALP'].dropna()\n",
    "\n",
    "s, p = stats.mannwhitneyu(hcvDataG_healthy_ALP_noLog, hcvDataG_ill_ALP_noLog, \n",
    "        use_continuity = True, alternative='two-sided')\n",
    "\n",
    "print('Mann-Whitney test for ALP in healthy and ill people')\n",
    "print('  test statistics: {0:.4f}'.format(s))\n",
    "print('  p-value: {0:.4f}'.format(p))"
   ]
  },
  {
   "cell_type": "markdown",
   "metadata": {},
   "source": [
    "**It's exactly the same. Why?**\n",
    "\n",
    "**And finally, let's see who has higher ALP.**"
   ]
  },
  {
   "cell_type": "code",
   "execution_count": null,
   "metadata": {},
   "outputs": [],
   "source": [
    "fig = plt.figure(figsize=(7,5))\n",
    "ax = fig.add_subplot(111)\n",
    "hcvDataG.boxplot(column = 'ALP', by='Healthy', ax=ax, grid=False)"
   ]
  },
  {
   "cell_type": "markdown",
   "metadata": {},
   "source": [
    "**Would the conclusion change if we used t-test instead?**"
   ]
  },
  {
   "cell_type": "code",
   "execution_count": null,
   "metadata": {},
   "outputs": [],
   "source": [
    "s, p = stats.ttest_ind(hcvDataG_healthy_ALP, hcvDataG_ill_ALP, nan_policy='omit')\n",
    "\n",
    "print('Mann-Whitney test for ALP in healthy and ill people')\n",
    "print('  test statistics: {0:.4f}'.format(s))\n",
    "print('  p-value: {0:.4f}'.format(p))"
   ]
  },
  {
   "cell_type": "code",
   "execution_count": null,
   "metadata": {},
   "outputs": [],
   "source": [
    "s, p = stats.ttest_ind(hcvDataG_healthy_ALP_noLog, hcvDataG_ill_ALP_noLog, nan_policy='omit')\n",
    "\n",
    "print('Mann-Whitney test for ALP in healthy and ill people')\n",
    "print('  test statistics: {0:.4f}'.format(s))\n",
    "print('  p-value: {0:.4f}'.format(p))"
   ]
  },
  {
   "cell_type": "markdown",
   "metadata": {},
   "source": [
    "## Differences between 3 or more independent groups"
   ]
  },
  {
   "cell_type": "markdown",
   "metadata": {},
   "source": [
    "**Check if patients with different 'Category' have differnt ALB**"
   ]
  },
  {
   "cell_type": "markdown",
   "metadata": {},
   "source": [
    "Start by verification of assumptions for ANOVA"
   ]
  },
  {
   "cell_type": "code",
   "execution_count": null,
   "metadata": {},
   "outputs": [],
   "source": [
    "hcvDataG_by_cat = hcvDataG.groupby('Category')\n",
    "varName = 'ALP'\n",
    "\n",
    "for group in hcvDataG_by_cat:\n",
    "    groupName = group[0]\n",
    "    groupData = hcvDataG_by_cat.get_group(groupName)\n",
    "    \n",
    "    s, p = stats.shapiro(groupData.loc[:, varName].dropna())\n",
    "    \n",
    "    print('Group: {0:s}'.format(groupName))\n",
    "    print('  test statistics: {0:.4f}'.format(s))\n",
    "    print('  p-value: {0:.4f}'.format(p))\n",
    "    print()"
   ]
  },
  {
   "cell_type": "markdown",
   "metadata": {},
   "source": [
    "Normality assumption is not met, so let's use Kruskal-Wallis test to compare the groups."
   ]
  },
  {
   "cell_type": "code",
   "execution_count": null,
   "metadata": {},
   "outputs": [],
   "source": [
    "hcvDonors = hcvDataG_by_cat.get_group('Blood Donor').loc[:, varName]\n",
    "hcvCirrhosis = hcvDataG_by_cat.get_group('Cirrhosis').loc[:, varName]\n",
    "hcvFibrosis = hcvDataG_by_cat.get_group('Fibrosis').loc[:, varName]\n",
    "hcvHepatitis = hcvDataG_by_cat.get_group('Hepatitis').loc[:, varName]\n",
    "\n",
    "s, p = stats.kruskal(hcvDonors, hcvCirrhosis, hcvFibrosis, hcvHepatitis, nan_policy = 'omit')\n",
    "\n",
    "print('test statistics: {0:.4f}'.format(s))\n",
    "print('p-value: {0:.4f}'.format(p))"
   ]
  },
  {
   "cell_type": "markdown",
   "metadata": {},
   "source": [
    "Which pairs of groups differ?"
   ]
  },
  {
   "cell_type": "code",
   "execution_count": null,
   "metadata": {},
   "outputs": [],
   "source": [
    "post_hoc_results = posthocs.posthoc_dunn(hcvDataG, val_col = varName, group_col = 'Category')\n",
    "post_hoc_results"
   ]
  },
  {
   "cell_type": "code",
   "execution_count": null,
   "metadata": {},
   "outputs": [],
   "source": [
    "group_names = list(np.unique(hcvDataG.loc[:, 'Category']))\n",
    "\n",
    "for comb in itertools.combinations(group_names, r=2):\n",
    "    names = list(comb)\n",
    "    print('{0:s} vs {1:s}: p={2:.4f}'.format(names[0], names[1], post_hoc_results.loc[names[0], names[1]]))"
   ]
  },
  {
   "cell_type": "markdown",
   "metadata": {},
   "source": [
    "Finally, let's look at the differences"
   ]
  },
  {
   "cell_type": "code",
   "execution_count": null,
   "metadata": {},
   "outputs": [],
   "source": [
    "fig = plt.figure(figsize=(7,5))\n",
    "ax = fig.add_subplot(111)\n",
    "hcvDataG.boxplot(column = varName, by='Category', ax=ax, grid=False)\n",
    "# ax.set_ylim(15,65)"
   ]
  },
  {
   "cell_type": "markdown",
   "metadata": {},
   "source": [
    "**What would happen with ANOVA applied to the task?**"
   ]
  },
  {
   "cell_type": "code",
   "execution_count": null,
   "metadata": {},
   "outputs": [],
   "source": [
    "s, p = stats.f_oneway(\n",
    "    hcvDonors.dropna(),\n",
    "    hcvCirrhosis.dropna(),\n",
    "    hcvFibrosis.dropna(),\n",
    "    hcvHepatitis.dropna(),\n",
    ")\n",
    "\n",
    "print('test statistics: {0:.4f}'.format(s))\n",
    "print('p-value: {0:.4f}'.format(p))"
   ]
  },
  {
   "cell_type": "code",
   "execution_count": null,
   "metadata": {},
   "outputs": [],
   "source": [
    "post_hoc_results = posthocs.posthoc_tukey(hcvDataG, val_col=varName, group_col='Category')\n",
    "post_hoc_results"
   ]
  },
  {
   "cell_type": "code",
   "execution_count": null,
   "metadata": {},
   "outputs": [],
   "source": [
    "group_names = list(np.unique(hcvDataG.loc[:, 'Category']))\n",
    "\n",
    "for comb in itertools.combinations(group_names, r=2):\n",
    "    names = list(comb)\n",
    "    print('{0:s} vs {1:s}: p={2:.4f}'.format(names[0], names[1], post_hoc_results.loc[names[0], names[1]]))"
   ]
  },
  {
   "cell_type": "markdown",
   "metadata": {},
   "source": [
    "## Differences between 2 dependent groups"
   ]
  },
  {
   "cell_type": "markdown",
   "metadata": {},
   "source": [
    "**Now, we will move to the segond (Egyptian) dataset.**\n",
    "\n",
    "**Check is amount of viral RNA changed between the baseline (RNA Base) and end of treatment (RNA EOT)**"
   ]
  },
  {
   "cell_type": "markdown",
   "metadata": {},
   "source": [
    "Start checking assumptions of parametric (t-test for related/dependant)."
   ]
  },
  {
   "cell_type": "code",
   "execution_count": null,
   "metadata": {},
   "outputs": [],
   "source": [
    "varNames = ['RNA Base', 'RNA EOT']\n",
    "hcvRNA = hcvDataE.loc[:, varNames].dropna(axis='index', how='any')"
   ]
  },
  {
   "cell_type": "code",
   "execution_count": null,
   "metadata": {},
   "outputs": [],
   "source": [
    "for varName in varNames:\n",
    "    s, p = stats.shapiro(hcvRNA.loc[:, varName])\n",
    "\n",
    "    print('Group: {0:s}'.format(varName))\n",
    "    print('  test statistics: {0:.4f}'.format(s))\n",
    "    print('  p-value: {0:.4f}'.format(p))\n",
    "    print()"
   ]
  },
  {
   "cell_type": "markdown",
   "metadata": {},
   "source": [
    "At this point, you can check if logarithmic transformation of values makes distribution normal (buyt here it doesn't).\n",
    "\n",
    "To analyze the changes in viral RNA, we will use non-parametric test: Wilcoxon test."
   ]
  },
  {
   "cell_type": "code",
   "execution_count": null,
   "metadata": {},
   "outputs": [],
   "source": [
    "s, p = stats.wilcoxon(hcvRNA.loc[:, 'RNA Base'], hcvRNA.loc[:, 'RNA EOT'])\n",
    "\n",
    "print('test statistics: {0:.4f}'.format(s))\n",
    "print('p-value: {0:.4f}'.format(p))"
   ]
  },
  {
   "cell_type": "markdown",
   "metadata": {},
   "source": [
    "Amount of viral DNA changes during treatment, so try to visualize it."
   ]
  },
  {
   "cell_type": "code",
   "execution_count": null,
   "metadata": {},
   "outputs": [],
   "source": [
    "fig = plt.figure(figsize=(7,5))\n",
    "ax = fig.add_subplot(111)\n",
    "hcvRNA.boxplot(column = varNames, ax=ax, grid=False)"
   ]
  },
  {
   "cell_type": "markdown",
   "metadata": {},
   "source": [
    "**What if we used t-test instead?**"
   ]
  },
  {
   "cell_type": "code",
   "execution_count": null,
   "metadata": {},
   "outputs": [],
   "source": [
    "s, p = stats.ttest_rel(hcvRNA.loc[:, 'RNA Base'], hcvRNA.loc[:, 'RNA EOT'])\n",
    "\n",
    "print('test statistics: {0:.4f}'.format(s))\n",
    "print('p-value: {0:.4f}'.format(p))"
   ]
  },
  {
   "cell_type": "markdown",
   "metadata": {},
   "source": [
    "## Differences between 3 or more related measurments"
   ]
  },
  {
   "cell_type": "markdown",
   "metadata": {},
   "source": [
    "**Analyse changes in amounts viral RNA along the treatment**\n",
    "\n",
    "We check normality of distribution at baseline at and at the end of treatment, so we know that assumptions for ANOVA are not met. We can move directly to Friedman test."
   ]
  },
  {
   "cell_type": "code",
   "execution_count": null,
   "metadata": {},
   "outputs": [],
   "source": [
    "varNames = ['RNA Base', 'RNA 4', 'RNA 12', 'RNA EOT']\n",
    "hcvRNA = hcvDataE.loc[:, varNames].dropna(axis='index', how='any')"
   ]
  },
  {
   "cell_type": "code",
   "execution_count": null,
   "metadata": {},
   "outputs": [],
   "source": [
    "s, p = stats.friedmanchisquare(\n",
    "    hcvRNA.loc[:, 'RNA Base'],\n",
    "    hcvRNA.loc[:, 'RNA 4'],\n",
    "    hcvRNA.loc[:, 'RNA 12'],\n",
    "    hcvRNA.loc[:, 'RNA EOT'],\n",
    ")\n",
    "\n",
    "print('test statistics: {0:.4f}'.format(s))\n",
    "print('p-value: {0:.4f}'.format(p))"
   ]
  },
  {
   "cell_type": "code",
   "execution_count": null,
   "metadata": {},
   "outputs": [],
   "source": [
    "post_hoc_results = posthocs.posthoc_nemenyi_friedman(hcvRNA, y_col=varNames)\n",
    "post_hoc_results.loc[varNames, varNames]"
   ]
  },
  {
   "cell_type": "code",
   "execution_count": null,
   "metadata": {},
   "outputs": [],
   "source": [
    "fig = plt.figure(figsize=(7,5))\n",
    "ax = fig.add_subplot(111)\n",
    "_ = hcvRNA.boxplot(column = varNames, ax=ax, grid=False)\n",
    "_ = ax.set_ylim(top=15*10**5)"
   ]
  },
  {
   "cell_type": "code",
   "execution_count": null,
   "metadata": {},
   "outputs": [],
   "source": []
  },
  {
   "cell_type": "code",
   "execution_count": null,
   "metadata": {},
   "outputs": [],
   "source": [
    "hcvRNA.loc[:, 'Patient'] = hcvRNA.index\n",
    "hcvRNAmelted = pd.melt(hcvRNA, id_vars = 'Patient', value_vars = varNames, var_name = 'Timepoint', value_name = 'RNA')\n",
    "hcvRNAmelted"
   ]
  },
  {
   "cell_type": "code",
   "execution_count": null,
   "metadata": {},
   "outputs": [],
   "source": [
    "patientIDs = np.unique(hcvRNAmelted['Patient'])\n",
    "selectedPatientIds = np.random.choice(patientIDs, size=10, replace=False)\n",
    "\n",
    "selectedRows = [id in list(selectedPatientIds) for id in hcvRNAmelted['Patient']]\n",
    "\n",
    "hcvRNAmelted_some_patients = hcvRNAmelted.loc[selectedRows,:]\n",
    "hcvRNAmelted_some_patients\n",
    "\n",
    "ax = sns.pointplot(data=hcvRNAmelted_some_patients, x='Timepoint', y='RNA', hue='Patient', palette='colorblind',\n",
    "                  legend=False)\n",
    "ax.get_legend().remove()"
   ]
  },
  {
   "cell_type": "markdown",
   "metadata": {},
   "source": [
    "**Would the conclusion change if we applied ANOVA for repeated measurments?**"
   ]
  },
  {
   "cell_type": "code",
   "execution_count": null,
   "metadata": {},
   "outputs": [],
   "source": [
    "anova_rm_rna = AnovaRM(hcvRNAmelted, depvar = 'RNA', subject = 'Patient', within = ['Timepoint'])\n",
    "anova_rm_rna_res = anova_rm_rna.fit()\n",
    "\n",
    "print(anova_rm_rna_res)"
   ]
  },
  {
   "cell_type": "code",
   "execution_count": null,
   "metadata": {},
   "outputs": [],
   "source": [
    "post_hoc_res = pairwise_tukeyhsd(hcvRNAmelted.loc[:, 'RNA'], groups = hcvRNAmelted.loc[:, 'Timepoint'])\n",
    "post_hoc_res.summary()"
   ]
  },
  {
   "cell_type": "markdown",
   "metadata": {},
   "source": [
    "# Correlations"
   ]
  },
  {
   "cell_type": "markdown",
   "metadata": {},
   "source": [
    "**Check if laboratory results at different timepoints are correlated**\n",
    "\n",
    "TODO: choose only some of them!!!"
   ]
  },
  {
   "cell_type": "code",
   "execution_count": null,
   "metadata": {},
   "outputs": [],
   "source": [
    "varNames = ['ALB', 'ALP', 'ALT', 'AST', 'BIL', 'CHE', 'CHOL', 'CREA', 'GGT', 'PROT']\n",
    "hcvLab = hcvDataG.loc[:, varNames]\n",
    "# hcvRNA = hcvDataE.loc[:, varNames].dropna(axis='index', how='any')"
   ]
  },
  {
   "cell_type": "code",
   "execution_count": null,
   "metadata": {},
   "outputs": [],
   "source": [
    "hcvLab.corr(method='spearman')"
   ]
  },
  {
   "cell_type": "code",
   "execution_count": null,
   "metadata": {},
   "outputs": [],
   "source": [
    "hcvLab.corr(method='pearson')"
   ]
  },
  {
   "cell_type": "code",
   "execution_count": null,
   "metadata": {},
   "outputs": [],
   "source": [
    "hcvLab"
   ]
  },
  {
   "cell_type": "markdown",
   "metadata": {},
   "source": [
    "**If you want also p-values, you need scipy**"
   ]
  },
  {
   "cell_type": "code",
   "execution_count": null,
   "metadata": {},
   "outputs": [],
   "source": [
    "r, p = stats.spearmanr(hcvLab, nan_policy='omit')\n",
    "\n",
    "display(pd.DataFrame(r, index=varNames, columns=varNames))\n",
    "\n",
    "display(pd.DataFrame(p, index=varNames, columns=varNames))"
   ]
  },
  {
   "cell_type": "markdown",
   "metadata": {},
   "source": [
    "But the same doesn't work with Pearson correlation..."
   ]
  },
  {
   "cell_type": "code",
   "execution_count": null,
   "metadata": {},
   "outputs": [],
   "source": [
    "r = pd.DataFrame(np.zeros([len(varNames),len(varNames)]), columns=varNames, index=varNames)\n",
    "p = pd.DataFrame(np.zeros([len(varNames),len(varNames)]), columns=varNames, index=varNames)\n",
    "\n",
    "for comb in itertools.combinations(varNames, r=2):\n",
    "    names = list(comb)\n",
    "    name1 = names[0]\n",
    "    name2 = names[1]\n",
    "    hcvLabCurrent = hcvLab.loc[:, [name1, name2]].dropna()\n",
    "    cr, cp = stats.pearsonr(hcvLabCurrent.loc[:, name1], hcvLabCurrent.loc[:, name2])\n",
    "    r.loc[name1, name2] = r.loc[name2, name1] = cr\n",
    "    p.loc[name1, name2] = p.loc[name2, name1] = cp\n",
    "\n",
    "display(r)\n",
    "\n",
    "display(p)"
   ]
  },
  {
   "cell_type": "markdown",
   "metadata": {},
   "source": [
    "Let's visualize the correlation between CHOL and ALT"
   ]
  },
  {
   "cell_type": "code",
   "execution_count": null,
   "metadata": {},
   "outputs": [],
   "source": [
    "hcvLab.plot.scatter(x='CHOL', y='PROT')"
   ]
  },
  {
   "cell_type": "markdown",
   "metadata": {},
   "source": [
    "Let's look at all correlations at once"
   ]
  },
  {
   "cell_type": "code",
   "execution_count": null,
   "metadata": {
    "scrolled": true
   },
   "outputs": [],
   "source": [
    "_ = sns.pairplot(hcvLab)"
   ]
  },
  {
   "cell_type": "code",
   "execution_count": null,
   "metadata": {},
   "outputs": [],
   "source": [
    "help(sns.pairplot)"
   ]
  },
  {
   "cell_type": "markdown",
   "metadata": {},
   "source": [
    "Repeat this type of analysis for viral RNA variables in Egyptian dataset. Don't forget the plots.\n",
    "\n",
    "Can you tell what is wrong in that analysis?"
   ]
  },
  {
   "cell_type": "markdown",
   "metadata": {},
   "source": [
    "# Statistical tests for nominal variables"
   ]
  },
  {
   "cell_type": "markdown",
   "metadata": {},
   "source": [
    "**Using Egyptian dataset, check if Nausea/Vomiting is equaly common in patients with and without Epigastric pain**"
   ]
  },
  {
   "cell_type": "code",
   "execution_count": null,
   "metadata": {},
   "outputs": [],
   "source": [
    "hcvDataE.columns"
   ]
  },
  {
   "cell_type": "code",
   "execution_count": null,
   "metadata": {},
   "outputs": [],
   "source": [
    "table1 = pd.crosstab(hcvDataE['Epigastric pain'], hcvDataE['Nausea/Vomiting'])\n",
    "table1"
   ]
  },
  {
   "cell_type": "code",
   "execution_count": null,
   "metadata": {},
   "outputs": [],
   "source": [
    "table1_percent_rows = table1.apply(lambda r: r/r.sum()*100, axis=1)\n",
    "table1_percent_rows"
   ]
  },
  {
   "cell_type": "code",
   "execution_count": null,
   "metadata": {},
   "outputs": [],
   "source": [
    "table1_percent_cols = table1.apply(lambda r: r/r.sum()*100, axis=0)\n",
    "table1_percent_cols"
   ]
  },
  {
   "cell_type": "code",
   "execution_count": null,
   "metadata": {},
   "outputs": [],
   "source": [
    "s, p, _, _ = stats.chi2_contingency(table1)\n",
    "OR, pf = stats.fisher_exact(table1)\n",
    "print(p)\n",
    "print(pf)\n",
    "print()"
   ]
  },
  {
   "cell_type": "markdown",
   "metadata": {},
   "source": [
    "**Now, check if presence of Epigastric pain is related to Baseline histological staging**"
   ]
  },
  {
   "cell_type": "code",
   "execution_count": null,
   "metadata": {},
   "outputs": [],
   "source": [
    "table2 = pd.crosstab(hcvDataE['Baseline histological staging'], hcvDataE['Epigastric pain'])\n",
    "display(table2)\n",
    "s, p, _, _ = stats.chi2_contingency(table2)\n",
    "print(p)\n",
    "print()"
   ]
  },
  {
   "cell_type": "code",
   "execution_count": null,
   "metadata": {},
   "outputs": [],
   "source": [
    "table2_percent_rows = table2.apply(lambda r: r/r.sum()*100, axis=1)\n",
    "table2_percent_rows"
   ]
  },
  {
   "cell_type": "code",
   "execution_count": null,
   "metadata": {},
   "outputs": [],
   "source": [
    "table2_percent_cols = table2.apply(lambda r: r/r.sum()*100, axis=0)\n",
    "table2_percent_cols"
   ]
  },
  {
   "cell_type": "markdown",
   "metadata": {},
   "source": [
    "# Multiple testing"
   ]
  },
  {
   "cell_type": "code",
   "execution_count": null,
   "metadata": {},
   "outputs": [],
   "source": []
  },
  {
   "cell_type": "code",
   "execution_count": null,
   "metadata": {},
   "outputs": [],
   "source": []
  }
 ],
 "metadata": {
  "kernelspec": {
   "display_name": "BasicPython",
   "language": "python",
   "name": "basicpython"
  },
  "language_info": {
   "codemirror_mode": {
    "name": "ipython",
    "version": 3
   },
   "file_extension": ".py",
   "mimetype": "text/x-python",
   "name": "python",
   "nbconvert_exporter": "python",
   "pygments_lexer": "ipython3",
   "version": "3.7.4"
  },
  "toc": {
   "base_numbering": 1,
   "nav_menu": {},
   "number_sections": true,
   "sideBar": true,
   "skip_h1_title": false,
   "title_cell": "Table of Contents",
   "title_sidebar": "Contents",
   "toc_cell": false,
   "toc_position": {
    "height": "calc(100% - 180px)",
    "left": "10px",
    "top": "150px",
    "width": "317.383px"
   },
   "toc_section_display": true,
   "toc_window_display": true
  }
 },
 "nbformat": 4,
 "nbformat_minor": 2
}
