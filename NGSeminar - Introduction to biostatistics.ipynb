{
 "cells": [
  {
   "cell_type": "markdown",
   "metadata": {},
   "source": [
    "# Import needed modules"
   ]
  },
  {
   "cell_type": "code",
   "execution_count": 1,
   "metadata": {},
   "outputs": [],
   "source": [
    "%matplotlib inline\n",
    "import numpy as np\n",
    "import pandas as pd\n",
    "pd.options.display.float_format = '{:,.4f}'.format\n",
    "import matplotlib.pyplot as plt\n",
    "from scipy import stats\n",
    "import scikit_posthocs as posthocs\n",
    "from statsmodels.stats.anova import AnovaRM\n",
    "from statsmodels.stats.multicomp import pairwise_tukeyhsd\n",
    "from statsmodels.stats.multitest import multipletests\n",
    "import itertools\n",
    "import seaborn as sns"
   ]
  },
  {
   "cell_type": "markdown",
   "metadata": {},
   "source": [
    "# Read *HCV_Data_Germany_ngseminar* dataset"
   ]
  },
  {
   "attachments": {},
   "cell_type": "markdown",
   "metadata": {},
   "source": [
    "It contains data of patients with HCV and healthy people (blood donor).\n",
    "\n",
    "[Dataset](http://archive.ics.uci.edu/ml/datasets/HCV+data) was downloaded from UCI [Machine Learning Repository](http://archive.ics.uci.edu/ml/datasets/HCV+data).\n",
    "\n",
    "It was slightly modified by me for this seminar :).\n",
    "\n",
    "It contains following variables:\n",
    "* **Category** (nominal): \n",
    "    * Blood Donor\n",
    "    * Fibrosis\n",
    "    * Cirrhosis - very advanced, late fibrosis\n",
    "    * Hepatitis - inflamation of liver tissue.\n",
    "* **Healthy** (nominal, that's what I added to have nominal variables with 2 groups):\n",
    "    * YES - for Category: Blood Donor\n",
    "    * NO - for all other case\n",
    "* **Age** (continous, but here it is rounded to integers)\n",
    "* **Sex** (nominal): \n",
    "    * m - man\n",
    "    * f - woman\n",
    "* **ALB** (continous) - albumin. Albumins are globular, water-soluble proteins, commonly found in blood plasma.\n",
    "* **ALP** (continous) - alkaline phosphatase; dephosphorylating enzyme, elevated levels of ALP are often found in patients with liver disease.\n",
    "* **ALT** (continous) - alanine amino-transferase, alanine transaminase; enzyme involved in amino acids metabolism. Elevated ALT indicates health problems, often with liver (hepatitis, liver damage, bile duct problems).\n",
    "* **AST** (continous) - aspartate amino-transferase, aspartate transaminase; enzyme involved in amino acids metabolism. Used to assess liver function, also together with ALT as AST/ALT ratio.\n",
    "* **BIL** (continous) - bilirubin; metabolite produced as a result of breakdown of aged or abnormal red blood cells. It is responsible for yellow discoloration in jaundice. Elevated in patients with hepatitis.\n",
    "* **CHE** (continous) - choline esterase; an enzyme. One of its types is produced mainly in liver and it may be lower in patients liver disease.\n",
    "* **CHOL** (continous) - cholesterol.\n",
    "* **CREA** (continous) - creatinine; metabolite, produced by muscle metabolism, used as marker of kindney function.\n",
    "* **GGT** (continous) – gamma-glutamyl transferase; an enzyme involed, among the others, in xenobiotic detoxification. GGT is elevated in patients with liver disease (or after excess alcohol consumption).\n",
    "* **PROT** (continous) – total protein.\n",
    "\n",
    "We will use only some of them, but explanation for all doesn't harm."
   ]
  },
  {
   "cell_type": "code",
   "execution_count": 2,
   "metadata": {},
   "outputs": [
    {
     "data": {
      "text/html": [
       "<div>\n",
       "<style scoped>\n",
       "    .dataframe tbody tr th:only-of-type {\n",
       "        vertical-align: middle;\n",
       "    }\n",
       "\n",
       "    .dataframe tbody tr th {\n",
       "        vertical-align: top;\n",
       "    }\n",
       "\n",
       "    .dataframe thead th {\n",
       "        text-align: right;\n",
       "    }\n",
       "</style>\n",
       "<table border=\"1\" class=\"dataframe\">\n",
       "  <thead>\n",
       "    <tr style=\"text-align: right;\">\n",
       "      <th></th>\n",
       "      <th>Category</th>\n",
       "      <th>Healthy</th>\n",
       "      <th>Age</th>\n",
       "      <th>Sex</th>\n",
       "      <th>ALB</th>\n",
       "      <th>ALP</th>\n",
       "      <th>ALT</th>\n",
       "      <th>AST</th>\n",
       "      <th>BIL</th>\n",
       "      <th>CHE</th>\n",
       "      <th>CHOL</th>\n",
       "      <th>CREA</th>\n",
       "      <th>GGT</th>\n",
       "      <th>PROT</th>\n",
       "    </tr>\n",
       "    <tr>\n",
       "      <th>ID</th>\n",
       "      <th></th>\n",
       "      <th></th>\n",
       "      <th></th>\n",
       "      <th></th>\n",
       "      <th></th>\n",
       "      <th></th>\n",
       "      <th></th>\n",
       "      <th></th>\n",
       "      <th></th>\n",
       "      <th></th>\n",
       "      <th></th>\n",
       "      <th></th>\n",
       "      <th></th>\n",
       "      <th></th>\n",
       "    </tr>\n",
       "  </thead>\n",
       "  <tbody>\n",
       "    <tr>\n",
       "      <td>1</td>\n",
       "      <td>Blood Donor</td>\n",
       "      <td>YES</td>\n",
       "      <td>32</td>\n",
       "      <td>m</td>\n",
       "      <td>38.5000</td>\n",
       "      <td>52.5000</td>\n",
       "      <td>7.7000</td>\n",
       "      <td>22.1000</td>\n",
       "      <td>7.5000</td>\n",
       "      <td>6.9300</td>\n",
       "      <td>3.2300</td>\n",
       "      <td>106.0000</td>\n",
       "      <td>12.1000</td>\n",
       "      <td>69.0000</td>\n",
       "    </tr>\n",
       "    <tr>\n",
       "      <td>2</td>\n",
       "      <td>Blood Donor</td>\n",
       "      <td>YES</td>\n",
       "      <td>32</td>\n",
       "      <td>m</td>\n",
       "      <td>38.5000</td>\n",
       "      <td>70.3000</td>\n",
       "      <td>18.0000</td>\n",
       "      <td>24.7000</td>\n",
       "      <td>3.9000</td>\n",
       "      <td>11.1700</td>\n",
       "      <td>4.8000</td>\n",
       "      <td>74.0000</td>\n",
       "      <td>15.6000</td>\n",
       "      <td>76.5000</td>\n",
       "    </tr>\n",
       "    <tr>\n",
       "      <td>3</td>\n",
       "      <td>Blood Donor</td>\n",
       "      <td>YES</td>\n",
       "      <td>32</td>\n",
       "      <td>m</td>\n",
       "      <td>46.9000</td>\n",
       "      <td>74.7000</td>\n",
       "      <td>36.2000</td>\n",
       "      <td>52.6000</td>\n",
       "      <td>6.1000</td>\n",
       "      <td>8.8400</td>\n",
       "      <td>5.2000</td>\n",
       "      <td>86.0000</td>\n",
       "      <td>33.2000</td>\n",
       "      <td>79.3000</td>\n",
       "    </tr>\n",
       "    <tr>\n",
       "      <td>4</td>\n",
       "      <td>Blood Donor</td>\n",
       "      <td>YES</td>\n",
       "      <td>32</td>\n",
       "      <td>m</td>\n",
       "      <td>43.2000</td>\n",
       "      <td>52.0000</td>\n",
       "      <td>30.6000</td>\n",
       "      <td>22.6000</td>\n",
       "      <td>18.9000</td>\n",
       "      <td>7.3300</td>\n",
       "      <td>4.7400</td>\n",
       "      <td>80.0000</td>\n",
       "      <td>33.8000</td>\n",
       "      <td>75.7000</td>\n",
       "    </tr>\n",
       "    <tr>\n",
       "      <td>5</td>\n",
       "      <td>Blood Donor</td>\n",
       "      <td>YES</td>\n",
       "      <td>32</td>\n",
       "      <td>m</td>\n",
       "      <td>39.2000</td>\n",
       "      <td>74.1000</td>\n",
       "      <td>32.6000</td>\n",
       "      <td>24.8000</td>\n",
       "      <td>9.6000</td>\n",
       "      <td>9.1500</td>\n",
       "      <td>4.3200</td>\n",
       "      <td>76.0000</td>\n",
       "      <td>29.9000</td>\n",
       "      <td>68.7000</td>\n",
       "    </tr>\n",
       "    <tr>\n",
       "      <td>...</td>\n",
       "      <td>...</td>\n",
       "      <td>...</td>\n",
       "      <td>...</td>\n",
       "      <td>...</td>\n",
       "      <td>...</td>\n",
       "      <td>...</td>\n",
       "      <td>...</td>\n",
       "      <td>...</td>\n",
       "      <td>...</td>\n",
       "      <td>...</td>\n",
       "      <td>...</td>\n",
       "      <td>...</td>\n",
       "      <td>...</td>\n",
       "      <td>...</td>\n",
       "    </tr>\n",
       "    <tr>\n",
       "      <td>610</td>\n",
       "      <td>Cirrhosis</td>\n",
       "      <td>NO</td>\n",
       "      <td>59</td>\n",
       "      <td>f</td>\n",
       "      <td>39.0000</td>\n",
       "      <td>51.3000</td>\n",
       "      <td>19.6000</td>\n",
       "      <td>285.8000</td>\n",
       "      <td>40.0000</td>\n",
       "      <td>5.7700</td>\n",
       "      <td>4.5100</td>\n",
       "      <td>136.1000</td>\n",
       "      <td>101.1000</td>\n",
       "      <td>70.5000</td>\n",
       "    </tr>\n",
       "    <tr>\n",
       "      <td>612</td>\n",
       "      <td>Cirrhosis</td>\n",
       "      <td>NO</td>\n",
       "      <td>64</td>\n",
       "      <td>f</td>\n",
       "      <td>24.0000</td>\n",
       "      <td>102.8000</td>\n",
       "      <td>2.9000</td>\n",
       "      <td>44.4000</td>\n",
       "      <td>20.0000</td>\n",
       "      <td>1.5400</td>\n",
       "      <td>3.0200</td>\n",
       "      <td>63.0000</td>\n",
       "      <td>35.9000</td>\n",
       "      <td>71.3000</td>\n",
       "    </tr>\n",
       "    <tr>\n",
       "      <td>613</td>\n",
       "      <td>Cirrhosis</td>\n",
       "      <td>NO</td>\n",
       "      <td>64</td>\n",
       "      <td>f</td>\n",
       "      <td>29.0000</td>\n",
       "      <td>87.3000</td>\n",
       "      <td>3.5000</td>\n",
       "      <td>99.0000</td>\n",
       "      <td>48.0000</td>\n",
       "      <td>1.6600</td>\n",
       "      <td>3.6300</td>\n",
       "      <td>66.7000</td>\n",
       "      <td>64.2000</td>\n",
       "      <td>82.0000</td>\n",
       "    </tr>\n",
       "    <tr>\n",
       "      <td>614</td>\n",
       "      <td>Cirrhosis</td>\n",
       "      <td>NO</td>\n",
       "      <td>46</td>\n",
       "      <td>f</td>\n",
       "      <td>33.0000</td>\n",
       "      <td>nan</td>\n",
       "      <td>39.0000</td>\n",
       "      <td>62.0000</td>\n",
       "      <td>20.0000</td>\n",
       "      <td>3.5600</td>\n",
       "      <td>4.2000</td>\n",
       "      <td>52.0000</td>\n",
       "      <td>50.0000</td>\n",
       "      <td>71.0000</td>\n",
       "    </tr>\n",
       "    <tr>\n",
       "      <td>615</td>\n",
       "      <td>Cirrhosis</td>\n",
       "      <td>NO</td>\n",
       "      <td>59</td>\n",
       "      <td>f</td>\n",
       "      <td>36.0000</td>\n",
       "      <td>nan</td>\n",
       "      <td>100.0000</td>\n",
       "      <td>80.0000</td>\n",
       "      <td>12.0000</td>\n",
       "      <td>9.0700</td>\n",
       "      <td>5.3000</td>\n",
       "      <td>67.0000</td>\n",
       "      <td>34.0000</td>\n",
       "      <td>68.0000</td>\n",
       "    </tr>\n",
       "  </tbody>\n",
       "</table>\n",
       "<p>614 rows × 14 columns</p>\n",
       "</div>"
      ],
      "text/plain": [
       "        Category Healthy  Age Sex     ALB      ALP      ALT      AST     BIL  \\\n",
       "ID                                                                             \n",
       "1    Blood Donor     YES   32   m 38.5000  52.5000   7.7000  22.1000  7.5000   \n",
       "2    Blood Donor     YES   32   m 38.5000  70.3000  18.0000  24.7000  3.9000   \n",
       "3    Blood Donor     YES   32   m 46.9000  74.7000  36.2000  52.6000  6.1000   \n",
       "4    Blood Donor     YES   32   m 43.2000  52.0000  30.6000  22.6000 18.9000   \n",
       "5    Blood Donor     YES   32   m 39.2000  74.1000  32.6000  24.8000  9.6000   \n",
       "..           ...     ...  ...  ..     ...      ...      ...      ...     ...   \n",
       "610    Cirrhosis      NO   59   f 39.0000  51.3000  19.6000 285.8000 40.0000   \n",
       "612    Cirrhosis      NO   64   f 24.0000 102.8000   2.9000  44.4000 20.0000   \n",
       "613    Cirrhosis      NO   64   f 29.0000  87.3000   3.5000  99.0000 48.0000   \n",
       "614    Cirrhosis      NO   46   f 33.0000      nan  39.0000  62.0000 20.0000   \n",
       "615    Cirrhosis      NO   59   f 36.0000      nan 100.0000  80.0000 12.0000   \n",
       "\n",
       "        CHE   CHOL     CREA      GGT    PROT  \n",
       "ID                                            \n",
       "1    6.9300 3.2300 106.0000  12.1000 69.0000  \n",
       "2   11.1700 4.8000  74.0000  15.6000 76.5000  \n",
       "3    8.8400 5.2000  86.0000  33.2000 79.3000  \n",
       "4    7.3300 4.7400  80.0000  33.8000 75.7000  \n",
       "5    9.1500 4.3200  76.0000  29.9000 68.7000  \n",
       "..      ...    ...      ...      ...     ...  \n",
       "610  5.7700 4.5100 136.1000 101.1000 70.5000  \n",
       "612  1.5400 3.0200  63.0000  35.9000 71.3000  \n",
       "613  1.6600 3.6300  66.7000  64.2000 82.0000  \n",
       "614  3.5600 4.2000  52.0000  50.0000 71.0000  \n",
       "615  9.0700 5.3000  67.0000  34.0000 68.0000  \n",
       "\n",
       "[614 rows x 14 columns]"
      ]
     },
     "metadata": {},
     "output_type": "display_data"
    }
   ],
   "source": [
    "hcvDataG = pd.read_csv('HCV_Data_Germany_ngseminar.csv', header = 0, index_col = 0)\n",
    "display(hcvDataG)"
   ]
  },
  {
   "cell_type": "markdown",
   "metadata": {},
   "source": [
    "**Print unique categories**"
   ]
  },
  {
   "cell_type": "code",
   "execution_count": 3,
   "metadata": {},
   "outputs": [
    {
     "name": "stdout",
     "output_type": "stream",
     "text": [
      "Blood Donor\n",
      "Cirrhosis\n",
      "Fibrosis\n",
      "Hepatitis\n"
     ]
    }
   ],
   "source": [
    "for el in np.unique(hcvDataG.loc[:, 'Category']):\n",
    "    print(el)"
   ]
  },
  {
   "cell_type": "markdown",
   "metadata": {},
   "source": [
    "**Print columns' names and check if variables are correctly listed above**"
   ]
  },
  {
   "cell_type": "code",
   "execution_count": 4,
   "metadata": {},
   "outputs": [
    {
     "name": "stdout",
     "output_type": "stream",
     "text": [
      "Category\n",
      "Healthy\n",
      "Age\n",
      "Sex\n",
      "ALB\n",
      "ALP\n",
      "ALT\n",
      "AST\n",
      "BIL\n",
      "CHE\n",
      "CHOL\n",
      "CREA\n",
      "GGT\n",
      "PROT\n"
     ]
    }
   ],
   "source": [
    "for colname in hcvDataG.columns:\n",
    "    print(colname)"
   ]
  },
  {
   "cell_type": "markdown",
   "metadata": {},
   "source": [
    "# Read another dataset: *HCV_Data_Egypt_ngseminar*"
   ]
  },
  {
   "attachments": {},
   "cell_type": "markdown",
   "metadata": {},
   "source": [
    "It contains data of patients with HCV from Egypt.\n",
    "\n",
    "[This dataset](http://archive.ics.uci.edu/ml/datasets/Hepatitis+C+Virus+%28HCV%29+for+Egyptian+patients) was downloaded from UCI [Machine Learning Repository](http://archive.ics.uci.edu/ml/datasets/HCV+data).\n",
    "\n",
    "And it was also somehow modified by me for this seminar, so please use provided version rahter than original one :).\n",
    "\n",
    "It contains more variables than the first (German) dataset:\n",
    "* **Age** (continous, but here it is again rounded to integers)\n",
    "* **Gender** (nominal, and yes, it is the same as Sex in previous example, but in medicine you're lucky, when one thing has only 2 names): \n",
    "    * M - man\n",
    "    * F - woman\n",
    "* **Fever** - just prescence (YES) or absence (NO) of fever. (Originally, it was coded as 1 for NO and 2 for YES, buy I've thought is too much for introduction to statistics ;).\n",
    "* **Nausea/Vomiting** - works like fever variable and the same applies to a few next variables.\n",
    "* **Headache**\n",
    "* **Diarrhea**\n",
    "* **Fatigue & generalized bone ache**\n",
    "* **Jaundice**\n",
    "* **Epigastric pain**\n",
    "* **WBS** - white blood cells.\n",
    "* **RBC** - red blood cells.\n",
    "* **Plat** - platlets.\n",
    "* **AST 1** - aspartate transaminase, measured at week 1.\n",
    "* **ALT** -  alanine amino-transferase:\n",
    "    * **ALT 1** - measured in week 1 (probably some time around the beginning of treatment).\n",
    "    * **ALT 4** - at week 4.\n",
    "    * **ALT 12** - at week 12.\n",
    "    * **ALT 24** - at week 24.\n",
    "    * **ALT 36** - at week 36.\n",
    "    * **ALT 48** - at week 48.\n",
    "* **RNA** - amount of viral RNA from HCV:\n",
    "    * **RNA Base** - at baseline, before treatment.\n",
    "    * **RNA 4** - at week 4.\n",
    "    * **RNA 12** - at week 12.\n",
    "    * **RNA EOT** - at the end of treatment.\n",
    "* **RNA EF** - RNA Elongation Factor; a protein that plays important role in translation and has also some other function. It can be also exploited by viruses for their replication.\n",
    "* **Baseline histological Grading** - there are a few systems of histologic grading for hepatitis; they can produce scores in ranges like 0-22 or 0-18. They are complex and pathologist needs to assess many features of tissue, like presence of inflammation, necrosis and fibrosis.\n",
    "* **Baseline histological staging** - it describes level of liver fibrosis, the higher the score the more advanced fibrosis:\n",
    "    * **0** - no fibsosis, but also no such case in our dataset.\n",
    "    * **1** - mild fibrosis.\n",
    "    * **2** - moderate fibrosis.\n",
    "    * **3** - severe fibrosis.\n",
    "    * **4** - cirrhosis (very advanced fibrosis)."
   ]
  },
  {
   "cell_type": "code",
   "execution_count": 5,
   "metadata": {},
   "outputs": [
    {
     "data": {
      "text/html": [
       "<div>\n",
       "<style scoped>\n",
       "    .dataframe tbody tr th:only-of-type {\n",
       "        vertical-align: middle;\n",
       "    }\n",
       "\n",
       "    .dataframe tbody tr th {\n",
       "        vertical-align: top;\n",
       "    }\n",
       "\n",
       "    .dataframe thead th {\n",
       "        text-align: right;\n",
       "    }\n",
       "</style>\n",
       "<table border=\"1\" class=\"dataframe\">\n",
       "  <thead>\n",
       "    <tr style=\"text-align: right;\">\n",
       "      <th></th>\n",
       "      <th>Age</th>\n",
       "      <th>Gender</th>\n",
       "      <th>BMI</th>\n",
       "      <th>Fever</th>\n",
       "      <th>Nausea/Vomiting</th>\n",
       "      <th>Headache</th>\n",
       "      <th>Diarrhea</th>\n",
       "      <th>Fatigue &amp; generalized bone ache</th>\n",
       "      <th>Jaundice</th>\n",
       "      <th>Epigastric pain</th>\n",
       "      <th>...</th>\n",
       "      <th>ALT 36</th>\n",
       "      <th>ALT 48</th>\n",
       "      <th>ALT after 24 w</th>\n",
       "      <th>RNA Base</th>\n",
       "      <th>RNA 4</th>\n",
       "      <th>RNA 12</th>\n",
       "      <th>RNA EOT</th>\n",
       "      <th>RNA EF</th>\n",
       "      <th>Baseline histological Grading</th>\n",
       "      <th>Baseline histological staging</th>\n",
       "    </tr>\n",
       "    <tr>\n",
       "      <th>ID</th>\n",
       "      <th></th>\n",
       "      <th></th>\n",
       "      <th></th>\n",
       "      <th></th>\n",
       "      <th></th>\n",
       "      <th></th>\n",
       "      <th></th>\n",
       "      <th></th>\n",
       "      <th></th>\n",
       "      <th></th>\n",
       "      <th></th>\n",
       "      <th></th>\n",
       "      <th></th>\n",
       "      <th></th>\n",
       "      <th></th>\n",
       "      <th></th>\n",
       "      <th></th>\n",
       "      <th></th>\n",
       "      <th></th>\n",
       "      <th></th>\n",
       "      <th></th>\n",
       "    </tr>\n",
       "  </thead>\n",
       "  <tbody>\n",
       "    <tr>\n",
       "      <td>1</td>\n",
       "      <td>56</td>\n",
       "      <td>M</td>\n",
       "      <td>35</td>\n",
       "      <td>YES</td>\n",
       "      <td>NO</td>\n",
       "      <td>NO</td>\n",
       "      <td>NO</td>\n",
       "      <td>YES</td>\n",
       "      <td>YES</td>\n",
       "      <td>YES</td>\n",
       "      <td>...</td>\n",
       "      <td>5</td>\n",
       "      <td>5</td>\n",
       "      <td>5</td>\n",
       "      <td>655330</td>\n",
       "      <td>634536</td>\n",
       "      <td>288194</td>\n",
       "      <td>5</td>\n",
       "      <td>5</td>\n",
       "      <td>13</td>\n",
       "      <td>2</td>\n",
       "    </tr>\n",
       "    <tr>\n",
       "      <td>2</td>\n",
       "      <td>46</td>\n",
       "      <td>M</td>\n",
       "      <td>29</td>\n",
       "      <td>NO</td>\n",
       "      <td>YES</td>\n",
       "      <td>YES</td>\n",
       "      <td>NO</td>\n",
       "      <td>YES</td>\n",
       "      <td>YES</td>\n",
       "      <td>NO</td>\n",
       "      <td>...</td>\n",
       "      <td>57</td>\n",
       "      <td>123</td>\n",
       "      <td>44</td>\n",
       "      <td>40620</td>\n",
       "      <td>538635</td>\n",
       "      <td>637056</td>\n",
       "      <td>336804</td>\n",
       "      <td>31085</td>\n",
       "      <td>4</td>\n",
       "      <td>2</td>\n",
       "    </tr>\n",
       "    <tr>\n",
       "      <td>3</td>\n",
       "      <td>57</td>\n",
       "      <td>M</td>\n",
       "      <td>33</td>\n",
       "      <td>YES</td>\n",
       "      <td>YES</td>\n",
       "      <td>YES</td>\n",
       "      <td>YES</td>\n",
       "      <td>NO</td>\n",
       "      <td>NO</td>\n",
       "      <td>NO</td>\n",
       "      <td>...</td>\n",
       "      <td>5</td>\n",
       "      <td>5</td>\n",
       "      <td>5</td>\n",
       "      <td>571148</td>\n",
       "      <td>661346</td>\n",
       "      <td>5</td>\n",
       "      <td>735945</td>\n",
       "      <td>558829</td>\n",
       "      <td>4</td>\n",
       "      <td>4</td>\n",
       "    </tr>\n",
       "    <tr>\n",
       "      <td>4</td>\n",
       "      <td>49</td>\n",
       "      <td>F</td>\n",
       "      <td>33</td>\n",
       "      <td>NO</td>\n",
       "      <td>YES</td>\n",
       "      <td>NO</td>\n",
       "      <td>YES</td>\n",
       "      <td>NO</td>\n",
       "      <td>YES</td>\n",
       "      <td>NO</td>\n",
       "      <td>...</td>\n",
       "      <td>48</td>\n",
       "      <td>77</td>\n",
       "      <td>33</td>\n",
       "      <td>1041941</td>\n",
       "      <td>449939</td>\n",
       "      <td>585688</td>\n",
       "      <td>744463</td>\n",
       "      <td>582301</td>\n",
       "      <td>10</td>\n",
       "      <td>3</td>\n",
       "    </tr>\n",
       "    <tr>\n",
       "      <td>5</td>\n",
       "      <td>59</td>\n",
       "      <td>M</td>\n",
       "      <td>32</td>\n",
       "      <td>NO</td>\n",
       "      <td>NO</td>\n",
       "      <td>YES</td>\n",
       "      <td>NO</td>\n",
       "      <td>YES</td>\n",
       "      <td>YES</td>\n",
       "      <td>YES</td>\n",
       "      <td>...</td>\n",
       "      <td>94</td>\n",
       "      <td>90</td>\n",
       "      <td>30</td>\n",
       "      <td>660410</td>\n",
       "      <td>738756</td>\n",
       "      <td>3731527</td>\n",
       "      <td>338946</td>\n",
       "      <td>242861</td>\n",
       "      <td>11</td>\n",
       "      <td>1</td>\n",
       "    </tr>\n",
       "    <tr>\n",
       "      <td>...</td>\n",
       "      <td>...</td>\n",
       "      <td>...</td>\n",
       "      <td>...</td>\n",
       "      <td>...</td>\n",
       "      <td>...</td>\n",
       "      <td>...</td>\n",
       "      <td>...</td>\n",
       "      <td>...</td>\n",
       "      <td>...</td>\n",
       "      <td>...</td>\n",
       "      <td>...</td>\n",
       "      <td>...</td>\n",
       "      <td>...</td>\n",
       "      <td>...</td>\n",
       "      <td>...</td>\n",
       "      <td>...</td>\n",
       "      <td>...</td>\n",
       "      <td>...</td>\n",
       "      <td>...</td>\n",
       "      <td>...</td>\n",
       "      <td>...</td>\n",
       "    </tr>\n",
       "    <tr>\n",
       "      <td>1381</td>\n",
       "      <td>44</td>\n",
       "      <td>M</td>\n",
       "      <td>29</td>\n",
       "      <td>NO</td>\n",
       "      <td>YES</td>\n",
       "      <td>YES</td>\n",
       "      <td>YES</td>\n",
       "      <td>NO</td>\n",
       "      <td>NO</td>\n",
       "      <td>NO</td>\n",
       "      <td>...</td>\n",
       "      <td>63</td>\n",
       "      <td>44</td>\n",
       "      <td>45</td>\n",
       "      <td>387795</td>\n",
       "      <td>55938</td>\n",
       "      <td>5</td>\n",
       "      <td>5</td>\n",
       "      <td>5</td>\n",
       "      <td>15</td>\n",
       "      <td>4</td>\n",
       "    </tr>\n",
       "    <tr>\n",
       "      <td>1382</td>\n",
       "      <td>55</td>\n",
       "      <td>M</td>\n",
       "      <td>34</td>\n",
       "      <td>NO</td>\n",
       "      <td>YES</td>\n",
       "      <td>YES</td>\n",
       "      <td>NO</td>\n",
       "      <td>NO</td>\n",
       "      <td>NO</td>\n",
       "      <td>NO</td>\n",
       "      <td>...</td>\n",
       "      <td>97</td>\n",
       "      <td>64</td>\n",
       "      <td>41</td>\n",
       "      <td>481378</td>\n",
       "      <td>152961</td>\n",
       "      <td>393339</td>\n",
       "      <td>73574</td>\n",
       "      <td>236273</td>\n",
       "      <td>10</td>\n",
       "      <td>2</td>\n",
       "    </tr>\n",
       "    <tr>\n",
       "      <td>1383</td>\n",
       "      <td>42</td>\n",
       "      <td>M</td>\n",
       "      <td>26</td>\n",
       "      <td>YES</td>\n",
       "      <td>YES</td>\n",
       "      <td>NO</td>\n",
       "      <td>NO</td>\n",
       "      <td>NO</td>\n",
       "      <td>YES</td>\n",
       "      <td>NO</td>\n",
       "      <td>...</td>\n",
       "      <td>87</td>\n",
       "      <td>39</td>\n",
       "      <td>24</td>\n",
       "      <td>612664</td>\n",
       "      <td>572756</td>\n",
       "      <td>806109</td>\n",
       "      <td>343719</td>\n",
       "      <td>160457</td>\n",
       "      <td>6</td>\n",
       "      <td>2</td>\n",
       "    </tr>\n",
       "    <tr>\n",
       "      <td>1384</td>\n",
       "      <td>52</td>\n",
       "      <td>M</td>\n",
       "      <td>29</td>\n",
       "      <td>YES</td>\n",
       "      <td>NO</td>\n",
       "      <td>NO</td>\n",
       "      <td>YES</td>\n",
       "      <td>YES</td>\n",
       "      <td>YES</td>\n",
       "      <td>NO</td>\n",
       "      <td>...</td>\n",
       "      <td>48</td>\n",
       "      <td>81</td>\n",
       "      <td>43</td>\n",
       "      <td>139872</td>\n",
       "      <td>76161</td>\n",
       "      <td>515730</td>\n",
       "      <td>2460</td>\n",
       "      <td>696074</td>\n",
       "      <td>15</td>\n",
       "      <td>3</td>\n",
       "    </tr>\n",
       "    <tr>\n",
       "      <td>1385</td>\n",
       "      <td>55</td>\n",
       "      <td>F</td>\n",
       "      <td>26</td>\n",
       "      <td>NO</td>\n",
       "      <td>YES</td>\n",
       "      <td>YES</td>\n",
       "      <td>YES</td>\n",
       "      <td>NO</td>\n",
       "      <td>YES</td>\n",
       "      <td>NO</td>\n",
       "      <td>...</td>\n",
       "      <td>64</td>\n",
       "      <td>71</td>\n",
       "      <td>34</td>\n",
       "      <td>1190577</td>\n",
       "      <td>628730</td>\n",
       "      <td>5</td>\n",
       "      <td>5</td>\n",
       "      <td>5</td>\n",
       "      <td>13</td>\n",
       "      <td>3</td>\n",
       "    </tr>\n",
       "  </tbody>\n",
       "</table>\n",
       "<p>1385 rows × 29 columns</p>\n",
       "</div>"
      ],
      "text/plain": [
       "      Age Gender  BMI Fever Nausea/Vomiting Headache Diarrhea  \\\n",
       "ID                                                              \n",
       "1      56      M   35   YES              NO       NO       NO   \n",
       "2      46      M   29    NO             YES      YES       NO   \n",
       "3      57      M   33   YES             YES      YES      YES   \n",
       "4      49      F   33    NO             YES       NO      YES   \n",
       "5      59      M   32    NO              NO      YES       NO   \n",
       "...   ...    ...  ...   ...             ...      ...      ...   \n",
       "1381   44      M   29    NO             YES      YES      YES   \n",
       "1382   55      M   34    NO             YES      YES       NO   \n",
       "1383   42      M   26   YES             YES       NO       NO   \n",
       "1384   52      M   29   YES              NO       NO      YES   \n",
       "1385   55      F   26    NO             YES      YES      YES   \n",
       "\n",
       "     Fatigue & generalized bone ache Jaundice Epigastric pain  ...  ALT 36  \\\n",
       "ID                                                             ...           \n",
       "1                                YES      YES             YES  ...       5   \n",
       "2                                YES      YES              NO  ...      57   \n",
       "3                                 NO       NO              NO  ...       5   \n",
       "4                                 NO      YES              NO  ...      48   \n",
       "5                                YES      YES             YES  ...      94   \n",
       "...                              ...      ...             ...  ...     ...   \n",
       "1381                              NO       NO              NO  ...      63   \n",
       "1382                              NO       NO              NO  ...      97   \n",
       "1383                              NO      YES              NO  ...      87   \n",
       "1384                             YES      YES              NO  ...      48   \n",
       "1385                              NO      YES              NO  ...      64   \n",
       "\n",
       "      ALT 48  ALT after 24 w  RNA Base   RNA 4   RNA 12  RNA EOT  RNA EF  \\\n",
       "ID                                                                         \n",
       "1          5               5    655330  634536   288194        5       5   \n",
       "2        123              44     40620  538635   637056   336804   31085   \n",
       "3          5               5    571148  661346        5   735945  558829   \n",
       "4         77              33   1041941  449939   585688   744463  582301   \n",
       "5         90              30    660410  738756  3731527   338946  242861   \n",
       "...      ...             ...       ...     ...      ...      ...     ...   \n",
       "1381      44              45    387795   55938        5        5       5   \n",
       "1382      64              41    481378  152961   393339    73574  236273   \n",
       "1383      39              24    612664  572756   806109   343719  160457   \n",
       "1384      81              43    139872   76161   515730     2460  696074   \n",
       "1385      71              34   1190577  628730        5        5       5   \n",
       "\n",
       "      Baseline histological Grading  Baseline histological staging  \n",
       "ID                                                                  \n",
       "1                                13                              2  \n",
       "2                                 4                              2  \n",
       "3                                 4                              4  \n",
       "4                                10                              3  \n",
       "5                                11                              1  \n",
       "...                             ...                            ...  \n",
       "1381                             15                              4  \n",
       "1382                             10                              2  \n",
       "1383                              6                              2  \n",
       "1384                             15                              3  \n",
       "1385                             13                              3  \n",
       "\n",
       "[1385 rows x 29 columns]"
      ]
     },
     "execution_count": 5,
     "metadata": {},
     "output_type": "execute_result"
    }
   ],
   "source": [
    "hcvDataE = pd.read_csv('HCV_Data_Egypt_ngseminar.csv', header = 0, index_col = 0)\n",
    "hcvDataE"
   ]
  },
  {
   "cell_type": "code",
   "execution_count": 6,
   "metadata": {},
   "outputs": [
    {
     "name": "stdout",
     "output_type": "stream",
     "text": [
      "Age\n",
      "Gender\n",
      "BMI\n",
      "Fever\n",
      "Nausea/Vomiting\n",
      "Headache\n",
      "Diarrhea\n",
      "Fatigue & generalized bone ache\n",
      "Jaundice\n",
      "Epigastric pain\n",
      "WBC\n",
      "RBC\n",
      "HGB\n",
      "Plat\n",
      "AST 1\n",
      "ALT 1\n",
      "ALT 4\n",
      "ALT 12\n",
      "ALT 24\n",
      "ALT 36\n",
      "ALT 48\n",
      "ALT after 24 w\n",
      "RNA Base\n",
      "RNA 4\n",
      "RNA 12\n",
      "RNA EOT\n",
      "RNA EF\n",
      "Baseline histological Grading\n",
      "Baseline histological staging\n"
     ]
    }
   ],
   "source": [
    "for colname in hcvDataE.columns:\n",
    "    print(colname)"
   ]
  },
  {
   "cell_type": "markdown",
   "metadata": {},
   "source": [
    "# Descriptive statistics"
   ]
  },
  {
   "cell_type": "markdown",
   "metadata": {},
   "source": [
    "**We'll start with Germany dataset**\n",
    "\n",
    "**Check how many cases and variables are in our dataset**"
   ]
  },
  {
   "cell_type": "code",
   "execution_count": null,
   "metadata": {},
   "outputs": [],
   "source": [
    "nrows, ncolumns = hcvDataG.shape\n",
    "print('Number of cases (rows): {0:d}'.format(nrows))\n",
    "print('Number of variables (columns): {0:d}'.format(ncolumns))"
   ]
  },
  {
   "cell_type": "markdown",
   "metadata": {},
   "source": [
    "**Calculate descriptive statistics for age**"
   ]
  },
  {
   "cell_type": "code",
   "execution_count": null,
   "metadata": {},
   "outputs": [],
   "source": [
    "hcvDataG.loc[:, 'Age'].describe()"
   ]
  },
  {
   "cell_type": "markdown",
   "metadata": {},
   "source": [
    "**Reapeat calculation dividing patients by gender**"
   ]
  },
  {
   "cell_type": "code",
   "execution_count": null,
   "metadata": {},
   "outputs": [],
   "source": [
    "hcvDataG.loc[:, 'Age'].groupby(hcvDataG.loc[:, 'Sex']).describe()"
   ]
  },
  {
   "cell_type": "markdown",
   "metadata": {},
   "source": [
    "**Now describe 2 variable at a time: Age and CHOL, divide patients by gender**"
   ]
  },
  {
   "cell_type": "code",
   "execution_count": null,
   "metadata": {},
   "outputs": [],
   "source": [
    "hcvDataG.loc[:, ['Age', 'CHOL']].groupby(hcvDataG.loc[:, 'Sex']).describe()"
   ]
  },
  {
   "cell_type": "markdown",
   "metadata": {},
   "source": [
    "## Distributions"
   ]
  },
  {
   "cell_type": "markdown",
   "metadata": {},
   "source": [
    "**Examine visually distribution of CHOL**"
   ]
  },
  {
   "cell_type": "code",
   "execution_count": null,
   "metadata": {},
   "outputs": [],
   "source": [
    "fig = plt.figure(figsize=(7,5))\n",
    "ax = fig.add_subplot(111)\n",
    "pd.DataFrame.hist(data = hcvDataG, column = 'CHOL', ax = ax)\n",
    "ax.grid(False)"
   ]
  },
  {
   "cell_type": "markdown",
   "metadata": {},
   "source": [
    "Now divide patients by sex"
   ]
  },
  {
   "cell_type": "code",
   "execution_count": null,
   "metadata": {},
   "outputs": [],
   "source": [
    "pd.DataFrame.hist(data = hcvDataG, column = 'CHOL', by='Sex', figsize=(14,5))"
   ]
  },
  {
   "cell_type": "markdown",
   "metadata": {},
   "source": [
    "**Let's repeat the same with BIL**"
   ]
  },
  {
   "cell_type": "code",
   "execution_count": null,
   "metadata": {},
   "outputs": [],
   "source": [
    "fig = plt.figure(figsize=(7,5))\n",
    "ax = fig.add_subplot(111)\n",
    "pd.DataFrame.hist(data = hcvDataG, column = 'BIL', ax = ax)\n",
    "ax.grid(False)"
   ]
  },
  {
   "cell_type": "code",
   "execution_count": null,
   "metadata": {},
   "outputs": [],
   "source": [
    "pd.DataFrame.hist(data = hcvDataG, column = 'BIL', by='Sex', figsize=(14,5))"
   ]
  },
  {
   "cell_type": "markdown",
   "metadata": {},
   "source": [
    "**Try to do the same wit ALB dividing patients by Category**"
   ]
  },
  {
   "cell_type": "code",
   "execution_count": null,
   "metadata": {},
   "outputs": [],
   "source": [
    "_ = pd.DataFrame.hist(data = hcvDataG, column = 'ALB', by='Category', layout=(2,2), figsize=(10,10))"
   ]
  },
  {
   "cell_type": "markdown",
   "metadata": {},
   "source": [
    "# Statistical tests for continous variables"
   ]
  },
  {
   "cell_type": "markdown",
   "metadata": {},
   "source": [
    "## Normality of distribution"
   ]
  },
  {
   "cell_type": "markdown",
   "metadata": {},
   "source": [
    "**Check if age of patients is normally distributed in our dataset**"
   ]
  },
  {
   "cell_type": "code",
   "execution_count": null,
   "metadata": {},
   "outputs": [],
   "source": [
    "s, p = stats.shapiro(hcvDataG.loc[:, 'Age'])\n",
    "print('test statistics: {0:.4f}'.format(s))\n",
    "print('p-value: {0:.4f}'.format(p))"
   ]
  },
  {
   "cell_type": "markdown",
   "metadata": {},
   "source": [
    "**Repeat the test grouping patients by gender**"
   ]
  },
  {
   "cell_type": "code",
   "execution_count": null,
   "metadata": {},
   "outputs": [],
   "source": [
    "hcvDataG_by_gender = hcvDataG.groupby('Sex')\n",
    "\n",
    "for group in hcvDataG_by_gender:\n",
    "    groupName = group[0]\n",
    "    groupData = hcvDataG_by_gender.get_group(groupName)\n",
    "    \n",
    "    s, p = stats.shapiro(groupData.loc[:, 'Age'])\n",
    "    \n",
    "    print('Group: {0:s}'.format(groupName))\n",
    "    print('  test statistics: {0:.4f}'.format(s))\n",
    "    print('  tp-value: {0:.4f}'.format(p))\n",
    "    print()"
   ]
  },
  {
   "cell_type": "markdown",
   "metadata": {},
   "source": [
    "**Now let's check ALB, ALP, CHOL and CREA, dividing patients by sex**"
   ]
  },
  {
   "cell_type": "code",
   "execution_count": null,
   "metadata": {},
   "outputs": [],
   "source": [
    "hcvDataG_by_stage = hcvDataG.groupby('Sex')\n",
    "variablesForAnalysis = ['ALB', 'ALP', 'CHOL', 'CREA']\n",
    "\n",
    "for variable in variablesForAnalysis:\n",
    "    print(variable)\n",
    "    for group in hcvDataG_by_stage:\n",
    "        groupName = group[0]\n",
    "        groupData = hcvDataG_by_stage.get_group(groupName)\n",
    "\n",
    "        s, p = stats.shapiro(groupData.loc[:, variable].dropna())\n",
    "\n",
    "        print('  Group: {0:s}'.format(str(groupName)))\n",
    "        print('    test statistics: {0:.4f}'.format(s))\n",
    "        print('    p-value: {0:.4f}'.format(p))\n",
    "        \n",
    "    print()"
   ]
  },
  {
   "cell_type": "markdown",
   "metadata": {},
   "source": [
    "## Difference between 2 independent groups"
   ]
  },
  {
   "cell_type": "markdown",
   "metadata": {},
   "source": [
    "**Compare ALP between healthy and ill people. Who has higher ALP?**"
   ]
  },
  {
   "cell_type": "markdown",
   "metadata": {},
   "source": [
    "First, check the assumption for t-test:\n",
    "* normality of distribution in both groups\n",
    "* homogeneity of variance (basically equal varience in both groups)"
   ]
  },
  {
   "cell_type": "code",
   "execution_count": null,
   "metadata": {},
   "outputs": [],
   "source": [
    "hcvDataG_by_health = hcvDataG.groupby('Healthy')\n",
    "\n",
    "for group in hcvDataG_by_health:\n",
    "    groupName = group[0]\n",
    "    groupData = hcvDataG_by_health.get_group(groupName)\n",
    "    \n",
    "    s, p = stats.shapiro(groupData.loc[:, 'ALP'].dropna())\n",
    "    \n",
    "    print('Group: {0:s}'.format(groupName))\n",
    "    print('  test statistics: {0:.4f}'.format(s))\n",
    "    print('  p-value: {0:.4f}'.format(p))\n",
    "    print()"
   ]
  },
  {
   "cell_type": "markdown",
   "metadata": {},
   "source": [
    "Let's try logarithm of ALP"
   ]
  },
  {
   "cell_type": "code",
   "execution_count": null,
   "metadata": {},
   "outputs": [],
   "source": [
    "hcvDataG_by_health = hcvDataG.groupby('Healthy')\n",
    "\n",
    "for group in hcvDataG_by_health:\n",
    "    groupName = group[0]\n",
    "    groupData = hcvDataG_by_health.get_group(groupName)\n",
    "    \n",
    "    s, p = stats.shapiro(np.log(groupData.loc[:, 'ALP'].dropna()))\n",
    "    \n",
    "    print('Group: {0:s}'.format(groupName))\n",
    "    print('  test statistics: {0:.4f}'.format(s))\n",
    "    print('  p-value: {0:.4f}'.format(p))\n",
    "    print()"
   ]
  },
  {
   "cell_type": "markdown",
   "metadata": {},
   "source": [
    "Now, it's fine, we cen move to the next assumption - equal variances.\n",
    "\n",
    "But before, let's add log ALP as a new variable to our data frame, we will need it."
   ]
  },
  {
   "cell_type": "code",
   "execution_count": null,
   "metadata": {},
   "outputs": [],
   "source": [
    "hcvDataG.loc[:, 'log ALP'] = np.log(hcvDataG.loc[:, 'ALP'] )"
   ]
  },
  {
   "cell_type": "code",
   "execution_count": null,
   "metadata": {},
   "outputs": [],
   "source": [
    "hcvDataG_by_health = hcvDataG.groupby('Healthy')\n",
    "  \n",
    "hcvDataG_healthy_ALP = hcvDataG_by_health.get_group('YES').loc[:, 'log ALP'].dropna()\n",
    "hcvDataG_ill_ALP = hcvDataG_by_health.get_group('NO').loc[:, 'log ALP'].dropna()\n",
    "\n",
    "s, p = stats.bartlett(hcvDataG_healthy_ALP, hcvDataG_ill_ALP)\n",
    "\n",
    "print('test statistics: {0:.4f}'.format(s))\n",
    "print('p-value: {0:.4f}'.format(p))\n",
    "print()"
   ]
  },
  {
   "cell_type": "markdown",
   "metadata": {},
   "source": [
    "Second assumption is not met, so let's check the difference with Mann-Whithey test."
   ]
  },
  {
   "cell_type": "code",
   "execution_count": null,
   "metadata": {},
   "outputs": [],
   "source": [
    "s, p = stats.mannwhitneyu(hcvDataG_healthy_ALP, hcvDataG_ill_ALP, use_continuity = True, alternative='two-sided')\n",
    "\n",
    "print('Mann-Whitney test for ALP in healthy and ill people')\n",
    "print('  test statistics: {0:.4f}'.format(s))\n",
    "print('  p-value: {0:.4f}'.format(p))"
   ]
  },
  {
   "cell_type": "markdown",
   "metadata": {},
   "source": [
    "Would the conclusion change if we didn't use log-transform?"
   ]
  },
  {
   "cell_type": "code",
   "execution_count": null,
   "metadata": {},
   "outputs": [],
   "source": [
    "hcvDataG_healthy_ALP_noLog = hcvDataG_by_health.get_group('YES').loc[:, 'ALP'].dropna()\n",
    "hcvDataG_ill_ALP_noLog = hcvDataG_by_health.get_group('NO').loc[:, 'ALP'].dropna()\n",
    "\n",
    "s, p = stats.mannwhitneyu(hcvDataG_healthy_ALP_noLog, hcvDataG_ill_ALP_noLog, \n",
    "        use_continuity = True, alternative='two-sided')\n",
    "\n",
    "print('Mann-Whitney test for ALP in healthy and ill people')\n",
    "print('  test statistics: {0:.4f}'.format(s))\n",
    "print('  p-value: {0:.4f}'.format(p))"
   ]
  },
  {
   "cell_type": "markdown",
   "metadata": {},
   "source": [
    "**It's exactly the same. Why?**\n",
    "\n",
    "**And finally, let's see who has higher ALP.**"
   ]
  },
  {
   "cell_type": "code",
   "execution_count": null,
   "metadata": {},
   "outputs": [],
   "source": [
    "fig = plt.figure(figsize=(7,5))\n",
    "ax = fig.add_subplot(111)\n",
    "hcvDataG.boxplot(column = 'ALP', by='Healthy', ax=ax, grid=False)"
   ]
  },
  {
   "cell_type": "markdown",
   "metadata": {},
   "source": [
    "**Would the conclusion change if we used t-test instead?**"
   ]
  },
  {
   "cell_type": "code",
   "execution_count": null,
   "metadata": {},
   "outputs": [],
   "source": [
    "s, p = stats.ttest_ind(hcvDataG_healthy_ALP, hcvDataG_ill_ALP, nan_policy='omit')\n",
    "\n",
    "print('Mann-Whitney test for ALP in healthy and ill people')\n",
    "print('  test statistics: {0:.4f}'.format(s))\n",
    "print('  p-value: {0:.4f}'.format(p))"
   ]
  },
  {
   "cell_type": "code",
   "execution_count": null,
   "metadata": {},
   "outputs": [],
   "source": [
    "s, p = stats.ttest_ind(hcvDataG_healthy_ALP_noLog, hcvDataG_ill_ALP_noLog, nan_policy='omit')\n",
    "\n",
    "print('Mann-Whitney test for ALP in healthy and ill people')\n",
    "print('  test statistics: {0:.4f}'.format(s))\n",
    "print('  p-value: {0:.4f}'.format(p))"
   ]
  },
  {
   "cell_type": "markdown",
   "metadata": {},
   "source": [
    "## Differences between 3 or more independent groups"
   ]
  },
  {
   "cell_type": "markdown",
   "metadata": {},
   "source": [
    "**Check if patients with different 'Category' have differnt ALB**"
   ]
  },
  {
   "cell_type": "markdown",
   "metadata": {},
   "source": [
    "Start by verification of assumptions for ANOVA"
   ]
  },
  {
   "cell_type": "code",
   "execution_count": null,
   "metadata": {},
   "outputs": [],
   "source": [
    "hcvDataG_by_cat = hcvDataG.groupby('Category')\n",
    "varName = 'ALP'\n",
    "\n",
    "for group in hcvDataG_by_cat:\n",
    "    groupName = group[0]\n",
    "    groupData = hcvDataG_by_cat.get_group(groupName)\n",
    "    \n",
    "    s, p = stats.shapiro(groupData.loc[:, varName].dropna())\n",
    "    \n",
    "    print('Group: {0:s}'.format(groupName))\n",
    "    print('  test statistics: {0:.4f}'.format(s))\n",
    "    print('  p-value: {0:.4f}'.format(p))\n",
    "    print()"
   ]
  },
  {
   "cell_type": "markdown",
   "metadata": {},
   "source": [
    "Normality assumption is not met, so let's use Kruskal-Wallis test to compare the groups."
   ]
  },
  {
   "cell_type": "code",
   "execution_count": null,
   "metadata": {},
   "outputs": [],
   "source": [
    "hcvDonors = hcvDataG_by_cat.get_group('Blood Donor').loc[:, varName]\n",
    "hcvCirrhosis = hcvDataG_by_cat.get_group('Cirrhosis').loc[:, varName]\n",
    "hcvFibrosis = hcvDataG_by_cat.get_group('Fibrosis').loc[:, varName]\n",
    "hcvHepatitis = hcvDataG_by_cat.get_group('Hepatitis').loc[:, varName]\n",
    "\n",
    "s, p = stats.kruskal(hcvDonors, hcvCirrhosis, hcvFibrosis, hcvHepatitis, nan_policy = 'omit')\n",
    "\n",
    "print('test statistics: {0:.4f}'.format(s))\n",
    "print('p-value: {0:.4f}'.format(p))"
   ]
  },
  {
   "cell_type": "markdown",
   "metadata": {},
   "source": [
    "Which pairs of groups differ?"
   ]
  },
  {
   "cell_type": "code",
   "execution_count": null,
   "metadata": {},
   "outputs": [],
   "source": [
    "post_hoc_results = posthocs.posthoc_dunn(hcvDataG, val_col = varName, group_col = 'Category')\n",
    "post_hoc_results"
   ]
  },
  {
   "cell_type": "code",
   "execution_count": null,
   "metadata": {},
   "outputs": [],
   "source": [
    "group_names = list(np.unique(hcvDataG.loc[:, 'Category']))\n",
    "\n",
    "for comb in itertools.combinations(group_names, r=2):\n",
    "    names = list(comb)\n",
    "    print('{0:s} vs {1:s}: p={2:.4f}'.format(names[0], names[1], post_hoc_results.loc[names[0], names[1]]))"
   ]
  },
  {
   "cell_type": "markdown",
   "metadata": {},
   "source": [
    "Finally, let's look at the differences"
   ]
  },
  {
   "cell_type": "code",
   "execution_count": null,
   "metadata": {},
   "outputs": [],
   "source": [
    "fig = plt.figure(figsize=(7,5))\n",
    "ax = fig.add_subplot(111)\n",
    "hcvDataG.boxplot(column = varName, by='Category', ax=ax, grid=False)\n",
    "# ax.set_ylim(15,65)"
   ]
  },
  {
   "cell_type": "markdown",
   "metadata": {},
   "source": [
    "**What would happen with ANOVA applied to the task?**"
   ]
  },
  {
   "cell_type": "code",
   "execution_count": null,
   "metadata": {},
   "outputs": [],
   "source": [
    "s, p = stats.f_oneway(\n",
    "    hcvDonors.dropna(),\n",
    "    hcvCirrhosis.dropna(),\n",
    "    hcvFibrosis.dropna(),\n",
    "    hcvHepatitis.dropna(),\n",
    ")\n",
    "\n",
    "print('test statistics: {0:.4f}'.format(s))\n",
    "print('p-value: {0:.4f}'.format(p))"
   ]
  },
  {
   "cell_type": "code",
   "execution_count": null,
   "metadata": {},
   "outputs": [],
   "source": [
    "post_hoc_results = posthocs.posthoc_tukey(hcvDataG, val_col=varName, group_col='Category')\n",
    "post_hoc_results"
   ]
  },
  {
   "cell_type": "code",
   "execution_count": null,
   "metadata": {},
   "outputs": [],
   "source": [
    "group_names = list(np.unique(hcvDataG.loc[:, 'Category']))\n",
    "\n",
    "for comb in itertools.combinations(group_names, r=2):\n",
    "    names = list(comb)\n",
    "    print('{0:s} vs {1:s}: p={2:.4f}'.format(names[0], names[1], post_hoc_results.loc[names[0], names[1]]))"
   ]
  },
  {
   "cell_type": "markdown",
   "metadata": {},
   "source": [
    "## Differences between 2 dependent groups"
   ]
  },
  {
   "cell_type": "markdown",
   "metadata": {},
   "source": [
    "**Now, we will move to the segond (Egyptian) dataset.**\n",
    "\n",
    "**Check is amount of viral RNA changed between the baseline (RNA Base) and end of treatment (RNA EOT)**"
   ]
  },
  {
   "cell_type": "markdown",
   "metadata": {},
   "source": [
    "Start checking assumptions of parametric (t-test for related/dependant)."
   ]
  },
  {
   "cell_type": "code",
   "execution_count": null,
   "metadata": {},
   "outputs": [],
   "source": [
    "varNames = ['RNA Base', 'RNA EOT']\n",
    "hcvRNA = hcvDataE.loc[:, varNames].dropna(axis='index', how='any')"
   ]
  },
  {
   "cell_type": "code",
   "execution_count": null,
   "metadata": {},
   "outputs": [],
   "source": [
    "for varName in varNames:\n",
    "    s, p = stats.shapiro(hcvRNA.loc[:, varName])\n",
    "\n",
    "    print('Group: {0:s}'.format(varName))\n",
    "    print('  test statistics: {0:.4f}'.format(s))\n",
    "    print('  p-value: {0:.4f}'.format(p))\n",
    "    print()"
   ]
  },
  {
   "cell_type": "markdown",
   "metadata": {},
   "source": [
    "At this point, you can check if logarithmic transformation of values makes distribution normal (buyt here it doesn't).\n",
    "\n",
    "To analyze the changes in viral RNA, we will use non-parametric test: Wilcoxon test."
   ]
  },
  {
   "cell_type": "code",
   "execution_count": null,
   "metadata": {},
   "outputs": [],
   "source": [
    "s, p = stats.wilcoxon(hcvRNA.loc[:, 'RNA Base'], hcvRNA.loc[:, 'RNA EOT'])\n",
    "\n",
    "print('test statistics: {0:.4f}'.format(s))\n",
    "print('p-value: {0:.4f}'.format(p))"
   ]
  },
  {
   "cell_type": "markdown",
   "metadata": {},
   "source": [
    "Amount of viral DNA changes during treatment, so try to visualize it."
   ]
  },
  {
   "cell_type": "code",
   "execution_count": null,
   "metadata": {},
   "outputs": [],
   "source": [
    "fig = plt.figure(figsize=(7,5))\n",
    "ax = fig.add_subplot(111)\n",
    "hcvRNA.boxplot(column = varNames, ax=ax, grid=False)"
   ]
  },
  {
   "cell_type": "markdown",
   "metadata": {},
   "source": [
    "**What if we used t-test instead?**"
   ]
  },
  {
   "cell_type": "code",
   "execution_count": null,
   "metadata": {},
   "outputs": [],
   "source": [
    "s, p = stats.ttest_rel(hcvRNA.loc[:, 'RNA Base'], hcvRNA.loc[:, 'RNA EOT'])\n",
    "\n",
    "print('test statistics: {0:.4f}'.format(s))\n",
    "print('p-value: {0:.4f}'.format(p))"
   ]
  },
  {
   "cell_type": "markdown",
   "metadata": {},
   "source": [
    "## Differences between 3 or more related measurments"
   ]
  },
  {
   "cell_type": "markdown",
   "metadata": {},
   "source": [
    "**Analyse changes in amounts viral RNA along the treatment**\n",
    "\n",
    "We check normality of distribution at baseline at and at the end of treatment, so we know that assumptions for ANOVA are not met. We can move directly to Friedman test."
   ]
  },
  {
   "cell_type": "code",
   "execution_count": null,
   "metadata": {},
   "outputs": [],
   "source": [
    "varNames = ['RNA Base', 'RNA 4', 'RNA 12', 'RNA EOT']\n",
    "hcvRNA = hcvDataE.loc[:, varNames].dropna(axis='index', how='any')"
   ]
  },
  {
   "cell_type": "code",
   "execution_count": null,
   "metadata": {},
   "outputs": [],
   "source": [
    "s, p = stats.friedmanchisquare(\n",
    "    hcvRNA.loc[:, 'RNA Base'],\n",
    "    hcvRNA.loc[:, 'RNA 4'],\n",
    "    hcvRNA.loc[:, 'RNA 12'],\n",
    "    hcvRNA.loc[:, 'RNA EOT'],\n",
    ")\n",
    "\n",
    "print('test statistics: {0:.4f}'.format(s))\n",
    "print('p-value: {0:.4f}'.format(p))"
   ]
  },
  {
   "cell_type": "code",
   "execution_count": null,
   "metadata": {},
   "outputs": [],
   "source": [
    "post_hoc_results = posthocs.posthoc_nemenyi_friedman(hcvRNA, y_col=varNames)\n",
    "post_hoc_results.loc[varNames, varNames]"
   ]
  },
  {
   "cell_type": "code",
   "execution_count": null,
   "metadata": {},
   "outputs": [],
   "source": [
    "fig = plt.figure(figsize=(7,5))\n",
    "ax = fig.add_subplot(111)\n",
    "_ = hcvRNA.boxplot(column = varNames, ax=ax, grid=False)\n",
    "_ = ax.set_ylim(top=15*10**5)"
   ]
  },
  {
   "cell_type": "code",
   "execution_count": null,
   "metadata": {},
   "outputs": [],
   "source": []
  },
  {
   "cell_type": "code",
   "execution_count": null,
   "metadata": {},
   "outputs": [],
   "source": [
    "hcvRNA.loc[:, 'Patient'] = hcvRNA.index\n",
    "hcvRNAmelted = pd.melt(hcvRNA, id_vars = 'Patient', value_vars = varNames, var_name = 'Timepoint', value_name = 'RNA')\n",
    "hcvRNAmelted"
   ]
  },
  {
   "cell_type": "code",
   "execution_count": null,
   "metadata": {},
   "outputs": [],
   "source": [
    "patientIDs = np.unique(hcvRNAmelted['Patient'])\n",
    "selectedPatientIds = np.random.choice(patientIDs, size=10, replace=False)\n",
    "\n",
    "selectedRows = [id in list(selectedPatientIds) for id in hcvRNAmelted['Patient']]\n",
    "\n",
    "hcvRNAmelted_some_patients = hcvRNAmelted.loc[selectedRows,:]\n",
    "hcvRNAmelted_some_patients\n",
    "\n",
    "ax = sns.pointplot(data=hcvRNAmelted_some_patients, x='Timepoint', y='RNA', hue='Patient', palette='colorblind',\n",
    "                  legend=False)\n",
    "ax.get_legend().remove()"
   ]
  },
  {
   "cell_type": "markdown",
   "metadata": {},
   "source": [
    "**Would the conclusion change if we applied ANOVA for repeated measurments?**"
   ]
  },
  {
   "cell_type": "code",
   "execution_count": null,
   "metadata": {},
   "outputs": [],
   "source": [
    "anova_rm_rna = AnovaRM(hcvRNAmelted, depvar = 'RNA', subject = 'Patient', within = ['Timepoint'])\n",
    "anova_rm_rna_res = anova_rm_rna.fit()\n",
    "\n",
    "print(anova_rm_rna_res)"
   ]
  },
  {
   "cell_type": "code",
   "execution_count": null,
   "metadata": {},
   "outputs": [],
   "source": [
    "post_hoc_res = pairwise_tukeyhsd(hcvRNAmelted.loc[:, 'RNA'], groups = hcvRNAmelted.loc[:, 'Timepoint'])\n",
    "post_hoc_res.summary()"
   ]
  },
  {
   "cell_type": "markdown",
   "metadata": {},
   "source": [
    "# Correlations"
   ]
  },
  {
   "cell_type": "markdown",
   "metadata": {},
   "source": [
    "**Check if laboratory results at different timepoints are correlated**\n",
    "\n",
    "TODO: choose only some of them!!!"
   ]
  },
  {
   "cell_type": "code",
   "execution_count": null,
   "metadata": {},
   "outputs": [],
   "source": [
    "varNames = ['ALB', 'ALP', 'ALT', 'AST', 'BIL', 'CHE', 'CHOL', 'CREA', 'GGT', 'PROT']\n",
    "hcvLab = hcvDataG.loc[:, varNames]\n",
    "# hcvRNA = hcvDataE.loc[:, varNames].dropna(axis='index', how='any')"
   ]
  },
  {
   "cell_type": "code",
   "execution_count": null,
   "metadata": {},
   "outputs": [],
   "source": [
    "hcvLab.corr(method='spearman')"
   ]
  },
  {
   "cell_type": "code",
   "execution_count": null,
   "metadata": {},
   "outputs": [],
   "source": [
    "hcvLab.corr(method='pearson')"
   ]
  },
  {
   "cell_type": "code",
   "execution_count": null,
   "metadata": {},
   "outputs": [],
   "source": [
    "hcvLab"
   ]
  },
  {
   "cell_type": "markdown",
   "metadata": {},
   "source": [
    "**If you want also p-values, you need scipy**"
   ]
  },
  {
   "cell_type": "code",
   "execution_count": null,
   "metadata": {},
   "outputs": [],
   "source": [
    "r, p = stats.spearmanr(hcvLab, nan_policy='omit')\n",
    "\n",
    "display(pd.DataFrame(r, index=varNames, columns=varNames))\n",
    "\n",
    "display(pd.DataFrame(p, index=varNames, columns=varNames))"
   ]
  },
  {
   "cell_type": "markdown",
   "metadata": {},
   "source": [
    "But the same doesn't work with Pearson correlation..."
   ]
  },
  {
   "cell_type": "code",
   "execution_count": null,
   "metadata": {},
   "outputs": [],
   "source": [
    "r = pd.DataFrame(np.zeros([len(varNames),len(varNames)]), columns=varNames, index=varNames)\n",
    "p = pd.DataFrame(np.zeros([len(varNames),len(varNames)]), columns=varNames, index=varNames)\n",
    "\n",
    "for comb in itertools.combinations(varNames, r=2):\n",
    "    names = list(comb)\n",
    "    name1 = names[0]\n",
    "    name2 = names[1]\n",
    "    hcvLabCurrent = hcvLab.loc[:, [name1, name2]].dropna()\n",
    "    cr, cp = stats.pearsonr(hcvLabCurrent.loc[:, name1], hcvLabCurrent.loc[:, name2])\n",
    "    r.loc[name1, name2] = r.loc[name2, name1] = cr\n",
    "    p.loc[name1, name2] = p.loc[name2, name1] = cp\n",
    "\n",
    "display(r)\n",
    "\n",
    "display(p)"
   ]
  },
  {
   "cell_type": "markdown",
   "metadata": {},
   "source": [
    "Let's visualize the correlation between CHOL and ALT"
   ]
  },
  {
   "cell_type": "code",
   "execution_count": null,
   "metadata": {},
   "outputs": [],
   "source": [
    "hcvLab.plot.scatter(x='CHOL', y='PROT')"
   ]
  },
  {
   "cell_type": "markdown",
   "metadata": {},
   "source": [
    "Let's look at all correlations at once"
   ]
  },
  {
   "cell_type": "code",
   "execution_count": null,
   "metadata": {
    "scrolled": true
   },
   "outputs": [],
   "source": [
    "_ = sns.pairplot(hcvLab)"
   ]
  },
  {
   "cell_type": "code",
   "execution_count": null,
   "metadata": {},
   "outputs": [],
   "source": [
    "help(sns.pairplot)"
   ]
  },
  {
   "cell_type": "markdown",
   "metadata": {},
   "source": [
    "Repeat this type of analysis for viral RNA variables in Egyptian dataset. Don't forget the plots.\n",
    "\n",
    "Can you tell what is wrong in that analysis?"
   ]
  },
  {
   "cell_type": "markdown",
   "metadata": {},
   "source": [
    "# Statistical tests for nominal variables"
   ]
  },
  {
   "cell_type": "markdown",
   "metadata": {},
   "source": [
    "**Using Egyptian dataset, check if Nausea/Vomiting is equaly common in patients with and without Epigastric pain**"
   ]
  },
  {
   "cell_type": "code",
   "execution_count": null,
   "metadata": {},
   "outputs": [],
   "source": [
    "hcvDataE.columns"
   ]
  },
  {
   "cell_type": "code",
   "execution_count": null,
   "metadata": {},
   "outputs": [],
   "source": [
    "table1 = pd.crosstab(hcvDataE['Epigastric pain'], hcvDataE['Nausea/Vomiting'])\n",
    "table1"
   ]
  },
  {
   "cell_type": "code",
   "execution_count": null,
   "metadata": {},
   "outputs": [],
   "source": [
    "table1_percent_rows = table1.apply(lambda r: r/r.sum()*100, axis=1)\n",
    "table1_percent_rows"
   ]
  },
  {
   "cell_type": "code",
   "execution_count": null,
   "metadata": {},
   "outputs": [],
   "source": [
    "table1_percent_cols = table1.apply(lambda r: r/r.sum()*100, axis=0)\n",
    "table1_percent_cols"
   ]
  },
  {
   "cell_type": "code",
   "execution_count": null,
   "metadata": {},
   "outputs": [],
   "source": [
    "s, p, _, _ = stats.chi2_contingency(table1)\n",
    "OR, pf = stats.fisher_exact(table1)\n",
    "print(p)\n",
    "print(pf)\n",
    "print()"
   ]
  },
  {
   "cell_type": "markdown",
   "metadata": {},
   "source": [
    "**Now, check if presence of Epigastric pain is related to Baseline histological staging**"
   ]
  },
  {
   "cell_type": "code",
   "execution_count": null,
   "metadata": {},
   "outputs": [],
   "source": [
    "table2 = pd.crosstab(hcvDataE['Baseline histological staging'], hcvDataE['Epigastric pain'])\n",
    "display(table2)\n",
    "s, p, _, _ = stats.chi2_contingency(table2)\n",
    "print(p)\n",
    "print()"
   ]
  },
  {
   "cell_type": "code",
   "execution_count": null,
   "metadata": {},
   "outputs": [],
   "source": [
    "table2_percent_rows = table2.apply(lambda r: r/r.sum()*100, axis=1)\n",
    "table2_percent_rows"
   ]
  },
  {
   "cell_type": "code",
   "execution_count": null,
   "metadata": {},
   "outputs": [],
   "source": [
    "table2_percent_cols = table2.apply(lambda r: r/r.sum()*100, axis=0)\n",
    "table2_percent_cols"
   ]
  },
  {
   "cell_type": "markdown",
   "metadata": {},
   "source": [
    "# Multiple testing"
   ]
  },
  {
   "cell_type": "code",
   "execution_count": null,
   "metadata": {},
   "outputs": [],
   "source": [
    "ratsData = pd.read_csv('rats_ngseminar.csv', sep=';', index_col=0, header=[0,1])"
   ]
  },
  {
   "cell_type": "code",
   "execution_count": null,
   "metadata": {},
   "outputs": [],
   "source": [
    "display(ratsData)"
   ]
  },
  {
   "cell_type": "code",
   "execution_count": null,
   "metadata": {},
   "outputs": [],
   "source": [
    "ratsDataGrouped = ratsData.groupby(level=['Group'], axis=1)\n",
    "ratsDataResults = ratsDataGrouped.apply(np.mean, axis=1) \n",
    "display(ratsDataResults)"
   ]
  },
  {
   "cell_type": "code",
   "execution_count": null,
   "metadata": {},
   "outputs": [],
   "source": [
    "healthy = ratsDataGrouped.get_group('healthy')\n",
    "het = ratsDataGrouped.get_group('ko')\n",
    "ko = ratsDataGrouped.get_group('het')\n",
    "sarcoma = ratsDataGrouped.get_group('sarcoma')\n",
    "\n",
    "s, p = stats.stats.f_oneway(healthy, ko, het, sarcoma, axis=1)\n",
    "\n",
    "ratsDataResults.loc[:, 'p'] = p\n",
    "\n",
    "display(ratsDataResults.sort_values(by='p'))"
   ]
  },
  {
   "cell_type": "markdown",
   "metadata": {},
   "source": [
    "**How many p-values below 0.05 do we have?**"
   ]
  },
  {
   "cell_type": "code",
   "execution_count": null,
   "metadata": {},
   "outputs": [],
   "source": [
    "sigP = (ratsDataResults.loc[:, 'p']<0.05).sum()\n",
    "sigP_percent = sigP/ratsDataResults.shape[0]*100\n",
    "\n",
    "print('Number of p-values below 0.05: {0:d}'.format(sigP))\n",
    "print('It is {0:.1f}% of all genes.'.format(sigP_percent))"
   ]
  },
  {
   "cell_type": "markdown",
   "metadata": {},
   "source": [
    "**Let's apply FDR and FWER correction**"
   ]
  },
  {
   "cell_type": "code",
   "execution_count": null,
   "metadata": {},
   "outputs": [],
   "source": [
    "fdr = multipletests(ratsDataResults.loc[:, 'p'], alpha=0.05, method='fdr_bh')\n",
    "ratsDataResults['FDR'] = fdr[1]"
   ]
  },
  {
   "cell_type": "code",
   "execution_count": null,
   "metadata": {},
   "outputs": [],
   "source": [
    "fwer = multipletests(ratsDataResults.loc[:, 'p'], alpha=0.05, method='bonferroni')\n",
    "ratsDataResults['FWER'] = fwer[1]"
   ]
  },
  {
   "cell_type": "code",
   "execution_count": null,
   "metadata": {},
   "outputs": [],
   "source": [
    "sigFDR = (ratsDataResults.loc[:, 'FDR']<0.05).sum()\n",
    "sigFDR_percent = sigFDR/ratsDataResults.shape[0]*100\n",
    "\n",
    "print('Number of FDR-corrected p-values below 0.05: {0:d}'.format(sigFDR))\n",
    "print('It is {0:.1f}% of all genes.'.format(sigFDR_percent))\n",
    "\n",
    "sigFWER = (ratsDataResults.loc[:, 'FWER']<0.05).sum()\n",
    "sigFWER_percent = sigFWER/ratsDataResults.shape[0]*100\n",
    "\n",
    "print()\n",
    "print('Number of FWER-corrected p-values below 0.05: {0:d}'.format(sigFWER))\n",
    "print('It is {0:.1f}% of all genes.'.format(sigFWER_percent))"
   ]
  },
  {
   "cell_type": "code",
   "execution_count": null,
   "metadata": {},
   "outputs": [],
   "source": []
  }
 ],
 "metadata": {
  "kernelspec": {
   "display_name": "BasicPython",
   "language": "python",
   "name": "basicpython"
  },
  "language_info": {
   "codemirror_mode": {
    "name": "ipython",
    "version": 3
   },
   "file_extension": ".py",
   "mimetype": "text/x-python",
   "name": "python",
   "nbconvert_exporter": "python",
   "pygments_lexer": "ipython3",
   "version": "3.7.4"
  },
  "toc": {
   "base_numbering": 1,
   "nav_menu": {},
   "number_sections": true,
   "sideBar": true,
   "skip_h1_title": false,
   "title_cell": "Table of Contents",
   "title_sidebar": "Contents",
   "toc_cell": false,
   "toc_position": {
    "height": "calc(100% - 180px)",
    "left": "10px",
    "top": "150px",
    "width": "241.55px"
   },
   "toc_section_display": true,
   "toc_window_display": true
  }
 },
 "nbformat": 4,
 "nbformat_minor": 2
}
